{
 "cells": [
  {
   "cell_type": "markdown",
   "metadata": {
    "toc": true
   },
   "source": [
    "<h1>Содержание<span class=\"tocSkip\"></span></h1>\n",
    "<div class=\"toc\"><ul class=\"toc-item\"><li><span><a href=\"#Подготовка-данных\" data-toc-modified-id=\"Подготовка-данных-1\"><span class=\"toc-item-num\">1&nbsp;&nbsp;</span>Подготовка данных</a></span><ul class=\"toc-item\"><li><span><a href=\"#Вывод\" data-toc-modified-id=\"Вывод-1.1\"><span class=\"toc-item-num\">1.1&nbsp;&nbsp;</span>Вывод</a></span></li><li><span><a href=\"#Вывод\" data-toc-modified-id=\"Вывод-1.2\"><span class=\"toc-item-num\">1.2&nbsp;&nbsp;</span>Вывод</a></span></li><li><span><a href=\"#Вывод\" data-toc-modified-id=\"Вывод-1.3\"><span class=\"toc-item-num\">1.3&nbsp;&nbsp;</span>Вывод</a></span></li></ul></li><li><span><a href=\"#Анализ-данных\" data-toc-modified-id=\"Анализ-данных-2\"><span class=\"toc-item-num\">2&nbsp;&nbsp;</span>Анализ данных</a></span><ul class=\"toc-item\"><li><span><a href=\"#Вывод\" data-toc-modified-id=\"Вывод-2.1\"><span class=\"toc-item-num\">2.1&nbsp;&nbsp;</span>Вывод</a></span></li><li><span><a href=\"#Вывод\" data-toc-modified-id=\"Вывод-2.2\"><span class=\"toc-item-num\">2.2&nbsp;&nbsp;</span>Вывод</a></span></li></ul></li><li><span><a href=\"#Модель\" data-toc-modified-id=\"Модель-3\"><span class=\"toc-item-num\">3&nbsp;&nbsp;</span>Модель</a></span><ul class=\"toc-item\"><li><span><a href=\"#Исследование-моделей.\" data-toc-modified-id=\"Исследование-моделей.-3.1\"><span class=\"toc-item-num\">3.1&nbsp;&nbsp;</span>Исследование моделей.</a></span></li><li><span><a href=\"#Вывод\" data-toc-modified-id=\"Вывод-3.2\"><span class=\"toc-item-num\">3.2&nbsp;&nbsp;</span>Вывод</a></span></li><li><span><a href=\"#Проверка-модели\" data-toc-modified-id=\"Проверка-модели-3.3\"><span class=\"toc-item-num\">3.3&nbsp;&nbsp;</span>Проверка модели</a></span></li><li><span><a href=\"#Вывод\" data-toc-modified-id=\"Вывод-3.4\"><span class=\"toc-item-num\">3.4&nbsp;&nbsp;</span>Вывод</a></span></li></ul></li><li><span><a href=\"#Чек-лист-готовности-проекта\" data-toc-modified-id=\"Чек-лист-готовности-проекта-4\"><span class=\"toc-item-num\">4&nbsp;&nbsp;</span>Чек-лист готовности проекта</a></span></li></ul></div>"
   ]
  },
  {
   "cell_type": "markdown",
   "metadata": {},
   "source": [
    "# Восстановление золота из руды"
   ]
  },
  {
   "cell_type": "markdown",
   "metadata": {},
   "source": [
    "## Подготовка данных"
   ]
  },
  {
   "cell_type": "code",
   "execution_count": 1,
   "metadata": {},
   "outputs": [
    {
     "name": "stdout",
     "output_type": "stream",
     "text": [
      "[[ 10   2  72]\n",
      " [  3   5 111]\n",
      " [ 15   3  50]\n",
      " [ 27   0  76]\n",
      " [  7   1  85]]\n",
      "76\n",
      "[[ 1  2  3]\n",
      " [ 4  5  6]\n",
      " [ 7  8  9]\n",
      " [10 11 12]]\n",
      "Строка 0: [1 2 3]\n",
      "Столбец 2: [ 3  6  9 12]\n"
     ]
    }
   ],
   "source": [
    "import pandas as pd\n",
    "import numpy as np\n",
    "from sklearn.metrics import mean_absolute_error,  make_scorer\n",
    "import collections\n",
    "import seaborn as sns\n",
    "import matplotlib.pyplot as plt\n",
    "from sklearn.preprocessing import StandardScaler\n",
    "from sklearn.linear_model import LinearRegression\n",
    "from sklearn.ensemble import RandomForestRegressor\n",
    "from sklearn.tree import DecisionTreeRegressor\n",
    "from sklearn.model_selection import RandomizedSearchCV, cross_val_score\n",
    "from sklearn.dummy import DummyRegressor\n",
    "from warnings import simplefilter\n",
    "monday_df = pd.DataFrame({'Минуты': [10, 3, 15, 27, 7], \n",
    "                          'СМС': [2, 5, 3, 0, 1], \n",
    "                          'Мбайты': [72, 111, 50, 76, 85]}) \n",
    " \n",
    "monday = monday_df.values\n",
    "print(monday)\n",
    "print(monday[3][2])\n",
    "matrix = np.array([\n",
    "    [1, 2, 3], \n",
    "    [4, 5, 6],\n",
    "    [7, 8, 9],\n",
    "    [10,11,12]])\n",
    "print(matrix)\n",
    "\n",
    "print('Строка 0:', matrix[0, :])\n",
    "print('Столбец 2:', matrix[:, 2]) "
   ]
  },
  {
   "cell_type": "code",
   "execution_count": 2,
   "metadata": {},
   "outputs": [],
   "source": [
    "simplefilter(action='ignore', category=FutureWarning)"
   ]
  },
  {
   "cell_type": "code",
   "execution_count": 3,
   "metadata": {},
   "outputs": [],
   "source": [
    "train = pd.read_csv('/datasets/gold_recovery_train.csv')\n",
    "test = pd.read_csv('/datasets/gold_recovery_test.csv')\n",
    "df_full = pd.read_csv('/datasets/gold_recovery_full.csv')"
   ]
  },
  {
   "cell_type": "code",
   "execution_count": 4,
   "metadata": {},
   "outputs": [
    {
     "name": "stdout",
     "output_type": "stream",
     "text": [
      "30320 пропусков\n",
      "2360 пропусков\n",
      "36587 пропусков\n"
     ]
    }
   ],
   "source": [
    "dfs = [train,test,df_full]\n",
    "for df in dfs:\n",
    "    print(df.isna().sum().sum(),'пропусков')\n",
    "    #display(df.head())\n",
    "    #display(df.info())"
   ]
  },
  {
   "cell_type": "code",
   "execution_count": 5,
   "metadata": {},
   "outputs": [
    {
     "name": "stdout",
     "output_type": "stream",
     "text": [
      "8.00350954615662e-15\n"
     ]
    }
   ],
   "source": [
    "C = train['rougher.output.concentrate_au']\n",
    "F = train['rougher.input.feed_au']\n",
    "T = train['rougher.output.tail_au']\n",
    "train[\"rougher.output.recovery.calculated\"] = (C * (F - T)) / (F * (C - T)) * 100\n",
    "#mae = mean_absolute_error(train[\"rougher.output.recovery.calculated\"],train['rougher.output.recovery'])\n",
    "mae = (train[\"rougher.output.recovery.calculated\"] - train[\"rougher.output.recovery\"]).abs().sum() / len(train)\n",
    "print(mae)"
   ]
  },
  {
   "cell_type": "markdown",
   "metadata": {},
   "source": [
    "### Вывод\n",
    "Ознакомились с данными. В выборках есть некоторое количетсво пропусков, которое будет необходимо обработать.  \n",
    "Значение mae очень мало, значит наши расчёты близки к реальным показателям rougher.output.recovery."
   ]
  },
  {
   "cell_type": "code",
   "execution_count": 6,
   "metadata": {},
   "outputs": [
    {
     "data": {
      "text/plain": [
       "['final.output.concentrate_ag',\n",
       " 'final.output.concentrate_pb',\n",
       " 'final.output.concentrate_sol',\n",
       " 'final.output.concentrate_au',\n",
       " 'final.output.recovery',\n",
       " 'final.output.tail_ag',\n",
       " 'final.output.tail_pb',\n",
       " 'final.output.tail_sol',\n",
       " 'final.output.tail_au',\n",
       " 'primary_cleaner.output.concentrate_ag',\n",
       " 'primary_cleaner.output.concentrate_pb',\n",
       " 'primary_cleaner.output.concentrate_sol',\n",
       " 'primary_cleaner.output.concentrate_au',\n",
       " 'primary_cleaner.output.tail_ag',\n",
       " 'primary_cleaner.output.tail_pb',\n",
       " 'primary_cleaner.output.tail_sol',\n",
       " 'primary_cleaner.output.tail_au',\n",
       " 'rougher.calculation.sulfate_to_au_concentrate',\n",
       " 'rougher.calculation.floatbank10_sulfate_to_au_feed',\n",
       " 'rougher.calculation.floatbank11_sulfate_to_au_feed',\n",
       " 'rougher.calculation.au_pb_ratio',\n",
       " 'rougher.output.concentrate_ag',\n",
       " 'rougher.output.concentrate_pb',\n",
       " 'rougher.output.concentrate_sol',\n",
       " 'rougher.output.concentrate_au',\n",
       " 'rougher.output.recovery',\n",
       " 'rougher.output.tail_ag',\n",
       " 'rougher.output.tail_pb',\n",
       " 'rougher.output.tail_sol',\n",
       " 'rougher.output.tail_au',\n",
       " 'secondary_cleaner.output.tail_ag',\n",
       " 'secondary_cleaner.output.tail_pb',\n",
       " 'secondary_cleaner.output.tail_sol',\n",
       " 'secondary_cleaner.output.tail_au',\n",
       " 'rougher.output.recovery.calculated']"
      ]
     },
     "metadata": {},
     "output_type": "display_data"
    },
    {
     "data": {
      "text/plain": [
       "(Counter({'final': 9,\n",
       "          'primary_cleaner': 8,\n",
       "          'rougher': 14,\n",
       "          'secondary_cleaner': 4}),\n",
       " '\\n',\n",
       " Counter({'output': 31, 'calculation': 4}),\n",
       " '\\n',\n",
       " Counter({'concentrate_ag': 3,\n",
       "          'concentrate_pb': 3,\n",
       "          'concentrate_sol': 3,\n",
       "          'concentrate_au': 3,\n",
       "          'recovery': 3,\n",
       "          'tail_ag': 4,\n",
       "          'tail_pb': 4,\n",
       "          'tail_sol': 4,\n",
       "          'tail_au': 4,\n",
       "          'sulfate_to_au_concentrate': 1,\n",
       "          'floatbank10_sulfate_to_au_feed': 1,\n",
       "          'floatbank11_sulfate_to_au_feed': 1,\n",
       "          'au_pb_ratio': 1}))"
      ]
     },
     "execution_count": 6,
     "metadata": {},
     "output_type": "execute_result"
    }
   ],
   "source": [
    "stage = collections.Counter()\n",
    "parameter_type = collections.Counter()\n",
    "parameter_name = collections.Counter()\n",
    "columns = [i for i in train.columns if i not in test.columns]\n",
    "for column in columns:\n",
    "    features = list(map(str,column.split('.')))\n",
    "    stage[features[0]] += 1\n",
    "    parameter_type[features[1]] += 1\n",
    "    parameter_name[features[2]] += 1\n",
    "display(columns)\n",
    "stage,\"\\n\",parameter_type,\"\\n\",parameter_name"
   ]
  },
  {
   "cell_type": "code",
   "execution_count": 7,
   "metadata": {},
   "outputs": [
    {
     "data": {
      "text/plain": [
       "(12679, 55)"
      ]
     },
     "execution_count": 7,
     "metadata": {},
     "output_type": "execute_result"
    }
   ],
   "source": [
    "train_columns = list(test.columns) + ['final.output.recovery', 'rougher.output.recovery']\n",
    "train = train[train_columns].dropna()\n",
    "train.shape"
   ]
  },
  {
   "cell_type": "markdown",
   "metadata": {},
   "source": [
    "### Вывод  \n",
    "Нашли признаки, которые недоступны в тестовой выборке из-за того, что замеряются и/или рассчитываются значительно позже. Более подробно изучили информацию об отсутсвующих столбцах.  \n",
    "1) Всего пропущено 35 столбцов. Один из них rougher.output.recovery.calculated, которыймы ввели, как вспомогательный для расчета mae, здесь его можно не учитывать.  \n",
    "2) Итак, из 34 пропущенных столбцов 30 это параметры, а 4 это расчётные характеристики.  "
   ]
  },
  {
   "cell_type": "code",
   "execution_count": 8,
   "metadata": {},
   "outputs": [],
   "source": [
    "test = test.dropna()\n",
    "train = train.dropna()\n",
    "df_full = df_full.dropna()"
   ]
  },
  {
   "cell_type": "code",
   "execution_count": 9,
   "metadata": {},
   "outputs": [
    {
     "name": "stdout",
     "output_type": "stream",
     "text": [
      "0 пропусков\n",
      "0 пропусков\n",
      "0 пропусков\n"
     ]
    }
   ],
   "source": [
    "dfs = [train,test,df_full]\n",
    "for df in dfs:\n",
    "    print(df.isna().sum().sum(),'пропусков')\n",
    "    #display(df.head())\n",
    "    #display(df.info())"
   ]
  },
  {
   "cell_type": "code",
   "execution_count": 10,
   "metadata": {},
   "outputs": [],
   "source": [
    "df_full_merge = df_full[[\"date\", \"rougher.output.recovery\", \"final.output.recovery\"]]\n",
    "\n",
    "test = test.merge(df_full_merge, on=\"date\", how=\"left\")\n",
    "df_full_merge = df_full_merge.drop(['date', 'rougher.output.recovery', 'final.output.recovery'], axis=1)"
   ]
  },
  {
   "cell_type": "code",
   "execution_count": 11,
   "metadata": {},
   "outputs": [],
   "source": [
    "train = train.drop(\"date\", axis=1)\n",
    "test = test.drop(\"date\", axis=1)\n",
    "df_full = df_full.drop(\"date\", axis=1)"
   ]
  },
  {
   "cell_type": "markdown",
   "metadata": {},
   "source": [
    "### Вывод  \n",
    "Удалили пропущенные значения. Добавили к тестовой выборке необходимые столбцы. Удалили лишние столбцы."
   ]
  },
  {
   "cell_type": "code",
   "execution_count": 12,
   "metadata": {},
   "outputs": [
    {
     "data": {
      "text/plain": [
       "(5383, 54)"
      ]
     },
     "execution_count": 12,
     "metadata": {},
     "output_type": "execute_result"
    }
   ],
   "source": [
    "test.shape"
   ]
  },
  {
   "cell_type": "markdown",
   "metadata": {},
   "source": [
    "## Анализ данных"
   ]
  },
  {
   "cell_type": "code",
   "execution_count": 13,
   "metadata": {},
   "outputs": [
    {
     "data": {
      "image/png": "[encoded data removed]",
      "text/plain": [
       "<Figure size 720x1440 with 3 Axes>"
      ]
     },
     "metadata": {
      "needs_background": "light"
     },
     "output_type": "display_data"
    }
   ],
   "source": [
    "metal_au = df_full[[\"rougher.input.feed_au\", \"rougher.output.concentrate_au\", \n",
    "                      \"primary_cleaner.output.concentrate_au\", \"final.output.concentrate_au\"]]\n",
    "metal_ag = df_full[[\"rougher.input.feed_ag\", \"rougher.output.concentrate_ag\", \n",
    "                      \"primary_cleaner.output.concentrate_ag\", \"final.output.concentrate_ag\"]]\n",
    "metal_pb = df_full[[\"rougher.input.feed_pb\", \"rougher.output.concentrate_pb\", \n",
    "                      \"primary_cleaner.output.concentrate_pb\", \"final.output.concentrate_pb\"]]\n",
    "metals = [metal_au, metal_ag, metal_pb]\n",
    "metals_name = ['Gold', 'Silver', 'Lead']\n",
    "fig, axes = plt.subplots(3, 1, figsize=(10, 20))\n",
    "i = 0\n",
    "for metal,metal_name in zip(metals, metals_name):\n",
    "    for column in list(metal):\n",
    "        sns.distplot(metal[column], ax=axes[i], kde=False)\n",
    "        axes[i].set(title=metal_name, xlabel=\"Concentration %\", ylabel=\"Amount\")\n",
    "    fig.suptitle(\"Metal Concentraions at Purification Stages\")\n",
    "    fig.legend([\"rougher.input.feed\", \"rougher.output.concentrate\", \"primary.cleaner.output concentrate\", \"final.output.concentrate\",])\n",
    "    fig.show()\n",
    "    i +=1"
   ]
  },
  {
   "cell_type": "markdown",
   "metadata": {},
   "source": [
    "### Вывод  \n",
    "Проверили как изменяется концентарация металлов на различных этапах очистки.  \n",
    "Концентрация золота и свинца к конечному этапу увеличивается, а вот с серебром наоборот, концентрация на финальном этапе меньше, чем на первом."
   ]
  },
  {
   "cell_type": "code",
   "execution_count": 14,
   "metadata": {},
   "outputs": [
    {
     "data": {
      "image/png": "[encoded data removed]",
      "text/plain": [
       "<Figure size 720x1080 with 2 Axes>"
      ]
     },
     "metadata": {
      "needs_background": "light"
     },
     "output_type": "display_data"
    }
   ],
   "source": [
    "stages = ['primary_cleaner.input.feed_size', 'rougher.input.feed_size']\n",
    "selections = [train, test]\n",
    "i = 0\n",
    "fig, axes = plt.subplots(2,1, figsize=(10, 15))\n",
    "for stage in stages:\n",
    "    for selection in selections:\n",
    "        axes[i].hist(selection[stage], density = True, alpha=0.3, bins=50)\n",
    "        axes[i].set(title=stage, xlabel=\"Amount\", ylabel=\"Size\")\n",
    "    i += 1\n",
    "    fig.suptitle(\"Feed Particle Size Distribution\")\n",
    "    fig.legend([\"Train Set\", \"Test Set\"])\n",
    "    fig.show()"
   ]
  },
  {
   "cell_type": "markdown",
   "metadata": {},
   "source": [
    " ### Вывод  \n",
    " Размеры гранул сырья в выборках отличаются не сильно. Можно работать дальше."
   ]
  },
  {
   "cell_type": "code",
   "execution_count": null,
   "metadata": {},
   "outputs": [],
   "source": []
  },
  {
   "cell_type": "code",
   "execution_count": 15,
   "metadata": {},
   "outputs": [
    {
     "data": {
      "text/html": [
       "<div>\n",
       "<style scoped>\n",
       "    .dataframe tbody tr th:only-of-type {\n",
       "        vertical-align: middle;\n",
       "    }\n",
       "\n",
       "    .dataframe tbody tr th {\n",
       "        vertical-align: top;\n",
       "    }\n",
       "\n",
       "    .dataframe thead th {\n",
       "        text-align: right;\n",
       "    }\n",
       "</style>\n",
       "<table border=\"1\" class=\"dataframe\">\n",
       "  <thead>\n",
       "    <tr style=\"text-align: right;\">\n",
       "      <th></th>\n",
       "      <th>rougher.input.feed</th>\n",
       "      <th>rougher.output.concentrate</th>\n",
       "      <th>final.output.concentrate</th>\n",
       "    </tr>\n",
       "  </thead>\n",
       "  <tbody>\n",
       "    <tr>\n",
       "      <td>0</td>\n",
       "      <td>14.871440</td>\n",
       "      <td>38.395653</td>\n",
       "      <td>58.137072</td>\n",
       "    </tr>\n",
       "    <tr>\n",
       "      <td>1</td>\n",
       "      <td>14.905729</td>\n",
       "      <td>38.945647</td>\n",
       "      <td>58.699942</td>\n",
       "    </tr>\n",
       "    <tr>\n",
       "      <td>2</td>\n",
       "      <td>14.638299</td>\n",
       "      <td>38.649756</td>\n",
       "      <td>58.927421</td>\n",
       "    </tr>\n",
       "    <tr>\n",
       "      <td>3</td>\n",
       "      <td>14.199305</td>\n",
       "      <td>38.411473</td>\n",
       "      <td>58.714815</td>\n",
       "    </tr>\n",
       "    <tr>\n",
       "      <td>4</td>\n",
       "      <td>13.511497</td>\n",
       "      <td>38.867359</td>\n",
       "      <td>59.065251</td>\n",
       "    </tr>\n",
       "  </tbody>\n",
       "</table>\n",
       "</div>"
      ],
      "text/plain": [
       "   rougher.input.feed  rougher.output.concentrate  final.output.concentrate\n",
       "0           14.871440                   38.395653                 58.137072\n",
       "1           14.905729                   38.945647                 58.699942\n",
       "2           14.638299                   38.649756                 58.927421\n",
       "3           14.199305                   38.411473                 58.714815\n",
       "4           13.511497                   38.867359                 59.065251"
      ]
     },
     "metadata": {},
     "output_type": "display_data"
    },
    {
     "data": {
      "image/png": "[encoded data removed]",
      "text/plain": [
       "<Figure size 504x360 with 1 Axes>"
      ]
     },
     "metadata": {
      "needs_background": "light"
     },
     "output_type": "display_data"
    }
   ],
   "source": [
    "def feed(data):\n",
    "    return data[\"rougher.input.feed_au\"] + data[\"rougher.input.feed_ag\"] + data[\"rougher.input.feed_pb\"]\n",
    "\n",
    "def rougher_concentrate(data):\n",
    "    return data['rougher.output.concentrate_au'] + data['rougher.output.concentrate_ag'] + data['rougher.output.concentrate_pb']\n",
    "\n",
    "def final_concentrate(data):\n",
    "    return data[\"final.output.concentrate_au\"] + data[\"final.output.concentrate_ag\"] + data[\"final.output.concentrate_pb\"]\n",
    "\n",
    "df_full[\"rougher.input.feed\"] = feed(df_full)\n",
    "df_full[\"rougher.output.concentrate\"] = rougher_concentrate(df_full)\n",
    "df_full[\"final.output.concentrate\"] = final_concentrate(df_full)\n",
    "summ_concentrate = df_full[[\"rougher.input.feed\", \"rougher.output.concentrate\", \"final.output.concentrate\"]]\n",
    "display(summ_concentrate.head())\n",
    "concentrates = [\"rougher.input.feed\", \"rougher.output.concentrate\", \"final.output.concentrate\"]\n",
    "\n",
    "\n",
    "fig = plt.figure(figsize=(7, 5))\n",
    "for concentrate in concentrates:\n",
    "    sns.distplot(df_full[concentrate], kde = False)\n",
    "plt.legend(list(concentrates))\n",
    "plt.title(\"Total Concentration at Stages\")\n",
    "plt.xlabel(\"Concentration %\")\n",
    "plt.ylabel(\"Amount\")\n",
    "fig.show()"
   ]
  },
  {
   "cell_type": "code",
   "execution_count": 16,
   "metadata": {},
   "outputs": [],
   "source": [
    "train = train[(train['rougher.input.feed_size'] > 20) & (train['rougher.input.feed_size'] < 100)]\n",
    "test = test[(test['rougher.input.feed_size'] > 20) & (test['rougher.input.feed_size'] < 100)]"
   ]
  },
  {
   "cell_type": "code",
   "execution_count": 17,
   "metadata": {},
   "outputs": [
    {
     "data": {
      "text/plain": [
       "(12543, 54)"
      ]
     },
     "execution_count": 17,
     "metadata": {},
     "output_type": "execute_result"
    }
   ],
   "source": [
    "train.shape"
   ]
  },
  {
   "cell_type": "markdown",
   "metadata": {},
   "source": [
    "## Модель"
   ]
  },
  {
   "cell_type": "markdown",
   "metadata": {},
   "source": [
    "Подготовим функцию для расчёта sMAPE\n"
   ]
  },
  {
   "cell_type": "code",
   "execution_count": 18,
   "metadata": {},
   "outputs": [],
   "source": [
    "def smape(target, predictions):\n",
    "    y_calc = abs(target - predictions) / ((abs(target) + abs(predictions)) / 2) * 100\n",
    "    result = y_calc.sum() / len(target)\n",
    "    return result\n",
    "def final_smape(sample_true, sample_pred):\n",
    "    rougher = smape(sample_true.iloc[:, 0], sample_pred[:,0])\n",
    "    cleaner = smape(sample_true.iloc[:, 1], sample_pred[:,1])\n",
    "    return 0.25 * rougher + 0.75 * cleaner\n",
    "\n",
    "features_train = train.drop([\"rougher.output.recovery\", \"final.output.recovery\"], axis=1)\n",
    "target_train = train[[\"rougher.output.recovery\", \"final.output.recovery\"]]\n",
    "features_test = test.drop([\"rougher.output.recovery\", \"final.output.recovery\"], axis=1)\n",
    "target_test = test[[\"rougher.output.recovery\", \"final.output.recovery\"]]\n",
    "#print(target_test.shape)\n",
    "#print(target_train.shape)"
   ]
  },
  {
   "cell_type": "code",
   "execution_count": 19,
   "metadata": {},
   "outputs": [
    {
     "data": {
      "text/plain": [
       "((12543, 52), (5282, 52))"
      ]
     },
     "execution_count": 19,
     "metadata": {},
     "output_type": "execute_result"
    }
   ],
   "source": [
    "features_train.shape, features_test.shape"
   ]
  },
  {
   "cell_type": "code",
   "execution_count": 20,
   "metadata": {},
   "outputs": [],
   "source": [
    "feature_scaler = StandardScaler()\n",
    "features_train = feature_scaler.fit_transform(features_train)"
   ]
  },
  {
   "cell_type": "code",
   "execution_count": 21,
   "metadata": {},
   "outputs": [],
   "source": [
    "def smape_cv(model, features, target):\n",
    "    return np.abs(np.average(cross_validate(model, features, target, scoring=smape_scorer)[\"test_score\"]))\n",
    "#print(target_test)\n",
    "features_test = feature_scaler.transform(features_test)"
   ]
  },
  {
   "cell_type": "markdown",
   "metadata": {},
   "source": [
    "при помощи make_scorer создадим оценщик для кросс валидации."
   ]
  },
  {
   "cell_type": "code",
   "execution_count": 22,
   "metadata": {},
   "outputs": [],
   "source": [
    "smape_scorer = make_scorer(final_smape, greater_is_better=False)"
   ]
  },
  {
   "cell_type": "markdown",
   "metadata": {},
   "source": [
    "### Исследование моделей.  \n",
    "Начнем с модели решающего древа. Используем метод случайного поиска для подбори гиперпараметров."
   ]
  },
  {
   "cell_type": "code",
   "execution_count": 23,
   "metadata": {},
   "outputs": [
    {
     "name": "stdout",
     "output_type": "stream",
     "text": [
      "Лучший результат:\n",
      "{'min_samples_split': 7, 'min_samples_leaf': 16, 'max_depth': 3}\n",
      "\n",
      "sMAPE:\n",
      "10.278383934330073\n",
      "\n"
     ]
    }
   ],
   "source": [
    "model1 = DecisionTreeRegressor(random_state=1)\n",
    "\n",
    "params = {\n",
    "    'max_depth':[x for x in range(1, 20, 1)], \n",
    "    'min_samples_leaf':[x for x in range(2, 20, 1)],\n",
    "    'min_samples_split':[x for x in range(2, 20, 1)],\n",
    "}\n",
    "\n",
    "grid = RandomizedSearchCV(model1, params, scoring=smape_scorer, n_iter=10, random_state=1, cv=5)\n",
    "grid.fit(features_train, target_train)\n",
    "\n",
    "print('Лучший результат:')\n",
    "print(grid.best_params_)\n",
    "print('\\nsMAPE:')\n",
    "print(grid.best_score_ * (-1))\n",
    "print()"
   ]
  },
  {
   "cell_type": "markdown",
   "metadata": {},
   "source": [
    "Проверим модель линейной регресии"
   ]
  },
  {
   "cell_type": "code",
   "execution_count": 24,
   "metadata": {},
   "outputs": [
    {
     "data": {
      "text/plain": [
       "10.80538384230763"
      ]
     },
     "execution_count": 24,
     "metadata": {},
     "output_type": "execute_result"
    }
   ],
   "source": [
    "model2 = LinearRegression()\n",
    "scores = cross_val_score(model2, features_train, target_train, cv=5, scoring=smape_scorer)\n",
    "scores.mean() * (-1)"
   ]
  },
  {
   "cell_type": "markdown",
   "metadata": {},
   "source": [
    "А теперь случайный лес"
   ]
  },
  {
   "cell_type": "code",
   "execution_count": 25,
   "metadata": {},
   "outputs": [
    {
     "name": "stdout",
     "output_type": "stream",
     "text": [
      "Лучший результат: {'n_estimators': 60, 'min_samples_split': 9, 'min_samples_leaf': 4, 'max_depth': 6}\n",
      "sMAPE: 9.450823007329902\n"
     ]
    }
   ],
   "source": [
    "model3 = RandomForestRegressor(random_state=1)\n",
    "\n",
    "params = {\n",
    "    'n_estimators':[x for x in range(60, 61, 10)],\n",
    "    'max_depth':[x for x in range(6, 7, 1)], \n",
    "    'min_samples_leaf':[x for x in range(4, 5, 1)],\n",
    "    'min_samples_split':[x for x in range(9, 10, 1)],\n",
    "}\n",
    "\n",
    "grid = RandomizedSearchCV(model3, params, scoring=smape_scorer, n_iter=1, random_state=1, cv=5)\n",
    "grid.fit(features_train, target_train)\n",
    "\n",
    "print('Лучший результат:', grid.best_params_)\n",
    "print('sMAPE:', grid.best_score_ * (-1) )"
   ]
  },
  {
   "cell_type": "markdown",
   "metadata": {},
   "source": [
    "### Вывод\n",
    "Наименьший smape показала модель линейной регресии, ее и будем использовать для финальной проверки."
   ]
  },
  {
   "cell_type": "markdown",
   "metadata": {},
   "source": [
    "### Проверка модели"
   ]
  },
  {
   "cell_type": "code",
   "execution_count": 26,
   "metadata": {},
   "outputs": [],
   "source": [
    "model3 = grid.best_estimator_"
   ]
  },
  {
   "cell_type": "code",
   "execution_count": 27,
   "metadata": {},
   "outputs": [
    {
     "data": {
      "text/plain": [
       "8.233207982444068"
      ]
     },
     "execution_count": 27,
     "metadata": {},
     "output_type": "execute_result"
    }
   ],
   "source": [
    "predictions = model3.predict(features_test)\n",
    "final_smape(target_test, predictions)"
   ]
  },
  {
   "cell_type": "markdown",
   "metadata": {},
   "source": [
    "Воспользуемся простой моделью, чтобы проверить насколько точна наша."
   ]
  },
  {
   "cell_type": "code",
   "execution_count": 28,
   "metadata": {},
   "outputs": [
    {
     "data": {
      "text/plain": [
       "8.657518718932277"
      ]
     },
     "execution_count": 28,
     "metadata": {},
     "output_type": "execute_result"
    }
   ],
   "source": [
    "dummy_model = DummyRegressor()\n",
    "dummy_model.fit(features_train, target_train)\n",
    "dummy_predict = dummy_model.predict(features_test)\n",
    "\n",
    "final_smape(target_test, dummy_predict)"
   ]
  },
  {
   "cell_type": "markdown",
   "metadata": {},
   "source": [
    "### Вывод  \n",
    "sMAPE на простой модели немного выше, чем на нашей, но оба значения довольно близки."
   ]
  },
  {
   "cell_type": "markdown",
   "metadata": {},
   "source": [
    "# Вывод  \n",
    "Исследовали несколько моделей. Лучший результат на тренировочной выборке показала модель случайного леса, со значением sMAPE: 9.450823007329902 её и использовали для предсказания на тестовой выборке, там она показала результат 8.233207982444068, что довольно близко к простой модели."
   ]
  }
 ],
 "metadata": {
  "ExecuteTimeLog": [
   {
    "duration": 1107,
    "start_time": "2021-06-09T16:24:41.213Z"
   },
   {
    "duration": 878,
    "start_time": "2021-06-09T16:24:44.275Z"
   },
   {
    "duration": 16,
    "start_time": "2021-06-09T16:24:45.155Z"
   },
   {
    "duration": 20,
    "start_time": "2021-06-09T16:24:45.173Z"
   },
   {
    "duration": 10,
    "start_time": "2021-06-09T16:24:45.340Z"
   },
   {
    "duration": 40,
    "start_time": "2021-06-09T16:24:48.804Z"
   },
   {
    "duration": 15,
    "start_time": "2021-06-09T16:24:49.096Z"
   },
   {
    "duration": 16,
    "start_time": "2021-06-09T16:24:51.934Z"
   },
   {
    "duration": 23,
    "start_time": "2021-06-09T16:24:52.182Z"
   },
   {
    "duration": 1950,
    "start_time": "2021-06-09T16:24:53.273Z"
   },
   {
    "duration": 876,
    "start_time": "2021-06-09T16:24:55.224Z"
   },
   {
    "duration": 574,
    "start_time": "2021-06-09T16:24:56.103Z"
   },
   {
    "duration": 36,
    "start_time": "2021-06-09T16:42:51.660Z"
   },
   {
    "duration": 8,
    "start_time": "2021-06-09T16:42:55.017Z"
   },
   {
    "duration": 265,
    "start_time": "2021-06-09T16:42:56.140Z"
   },
   {
    "duration": 8,
    "start_time": "2021-06-09T16:43:02.914Z"
   },
   {
    "duration": 3,
    "start_time": "2021-06-09T16:43:03.828Z"
   },
   {
    "duration": 1031,
    "start_time": "2021-06-09T16:43:05.390Z"
   },
   {
    "duration": 11,
    "start_time": "2021-06-09T16:43:38.649Z"
   },
   {
    "duration": 2,
    "start_time": "2021-06-09T16:43:39.631Z"
   },
   {
    "duration": 1210,
    "start_time": "2021-06-09T16:43:40.543Z"
   },
   {
    "duration": 3,
    "start_time": "2021-06-09T16:44:02.537Z"
   },
   {
    "duration": 28617,
    "start_time": "2021-06-09T16:44:07.206Z"
   },
   {
    "duration": 2074,
    "start_time": "2021-06-09T16:46:04.312Z"
   },
   {
    "duration": 8,
    "start_time": "2021-06-09T16:46:16.025Z"
   },
   {
    "duration": 1155,
    "start_time": "2021-06-09T16:46:34.594Z"
   },
   {
    "duration": 852,
    "start_time": "2021-06-09T16:46:35.753Z"
   },
   {
    "duration": 16,
    "start_time": "2021-06-09T16:46:36.607Z"
   },
   {
    "duration": 9,
    "start_time": "2021-06-09T16:46:36.624Z"
   },
   {
    "duration": 10,
    "start_time": "2021-06-09T16:46:36.634Z"
   },
   {
    "duration": 67,
    "start_time": "2021-06-09T16:46:36.645Z"
   },
   {
    "duration": 13,
    "start_time": "2021-06-09T16:46:36.714Z"
   },
   {
    "duration": 14,
    "start_time": "2021-06-09T16:46:36.730Z"
   },
   {
    "duration": 14,
    "start_time": "2021-06-09T16:46:36.746Z"
   },
   {
    "duration": 1856,
    "start_time": "2021-06-09T16:46:36.762Z"
   },
   {
    "duration": 813,
    "start_time": "2021-06-09T16:46:38.620Z"
   },
   {
    "duration": 569,
    "start_time": "2021-06-09T16:46:39.434Z"
   },
   {
    "duration": 7,
    "start_time": "2021-06-09T16:46:40.005Z"
   },
   {
    "duration": 6,
    "start_time": "2021-06-09T16:46:40.014Z"
   },
   {
    "duration": 28811,
    "start_time": "2021-06-09T16:46:43.718Z"
   },
   {
    "duration": 1556,
    "start_time": "2021-06-09T16:47:12.531Z"
   },
   {
    "duration": 26,
    "start_time": "2021-06-09T16:47:46.296Z"
   },
   {
    "duration": 1533,
    "start_time": "2021-06-09T16:47:59.356Z"
   },
   {
    "duration": 4,
    "start_time": "2021-06-09T16:48:28.622Z"
   },
   {
    "duration": 843,
    "start_time": "2021-06-09T16:48:28.776Z"
   },
   {
    "duration": 17,
    "start_time": "2021-06-09T16:48:29.621Z"
   },
   {
    "duration": 7,
    "start_time": "2021-06-09T16:48:29.640Z"
   },
   {
    "duration": 9,
    "start_time": "2021-06-09T16:48:29.648Z"
   },
   {
    "duration": 30,
    "start_time": "2021-06-09T16:48:29.957Z"
   },
   {
    "duration": 17,
    "start_time": "2021-06-09T16:48:30.153Z"
   },
   {
    "duration": 16,
    "start_time": "2021-06-09T16:48:30.366Z"
   },
   {
    "duration": 12,
    "start_time": "2021-06-09T16:48:30.575Z"
   },
   {
    "duration": 1919,
    "start_time": "2021-06-09T16:48:31.874Z"
   },
   {
    "duration": 826,
    "start_time": "2021-06-09T16:48:33.795Z"
   },
   {
    "duration": 548,
    "start_time": "2021-06-09T16:48:34.623Z"
   },
   {
    "duration": 8,
    "start_time": "2021-06-09T16:48:36.564Z"
   },
   {
    "duration": 24,
    "start_time": "2021-06-09T16:48:37.135Z"
   },
   {
    "duration": 3,
    "start_time": "2021-06-09T16:48:38.283Z"
   },
   {
    "duration": 1967,
    "start_time": "2021-06-09T16:48:43.100Z"
   },
   {
    "duration": 8,
    "start_time": "2021-06-09T16:49:22.768Z"
   },
   {
    "duration": 23,
    "start_time": "2021-06-09T16:49:23.224Z"
   },
   {
    "duration": 3,
    "start_time": "2021-06-09T16:49:23.865Z"
   },
   {
    "duration": 28509,
    "start_time": "2021-06-09T16:49:24.752Z"
   },
   {
    "duration": 1630,
    "start_time": "2021-06-09T16:49:53.263Z"
   },
   {
    "duration": 94374,
    "start_time": "2021-06-09T16:52:38.574Z"
   },
   {
    "duration": 93648,
    "start_time": "2021-06-09T16:55:05.765Z"
   },
   {
    "duration": 1642,
    "start_time": "2021-06-09T17:02:55.344Z"
   },
   {
    "duration": 274,
    "start_time": "2021-06-09T17:04:00.306Z"
   },
   {
    "duration": 182,
    "start_time": "2021-06-09T17:04:08.302Z"
   },
   {
    "duration": 172,
    "start_time": "2021-06-09T17:04:09.974Z"
   },
   {
    "duration": 205,
    "start_time": "2021-06-09T17:04:41.280Z"
   },
   {
    "duration": 187,
    "start_time": "2021-06-09T17:06:25.912Z"
   },
   {
    "duration": 193,
    "start_time": "2021-06-09T17:08:35.502Z"
   },
   {
    "duration": 188,
    "start_time": "2021-06-09T17:12:32.068Z"
   },
   {
    "duration": 187,
    "start_time": "2021-06-09T17:14:12.566Z"
   },
   {
    "duration": 5,
    "start_time": "2021-06-09T17:15:26.249Z"
   },
   {
    "duration": 20,
    "start_time": "2021-06-09T17:16:17.453Z"
   },
   {
    "duration": 4,
    "start_time": "2021-06-09T17:16:22.096Z"
   },
   {
    "duration": 831,
    "start_time": "2021-06-09T17:16:22.237Z"
   },
   {
    "duration": 25,
    "start_time": "2021-06-09T17:16:23.070Z"
   },
   {
    "duration": 7,
    "start_time": "2021-06-09T17:16:23.098Z"
   },
   {
    "duration": 7,
    "start_time": "2021-06-09T17:16:23.107Z"
   },
   {
    "duration": 34,
    "start_time": "2021-06-09T17:16:23.156Z"
   },
   {
    "duration": 19,
    "start_time": "2021-06-09T17:16:23.293Z"
   },
   {
    "duration": 17,
    "start_time": "2021-06-09T17:16:23.460Z"
   },
   {
    "duration": 12,
    "start_time": "2021-06-09T17:16:23.599Z"
   },
   {
    "duration": 1745,
    "start_time": "2021-06-09T17:16:24.063Z"
   },
   {
    "duration": 793,
    "start_time": "2021-06-09T17:16:25.809Z"
   },
   {
    "duration": 669,
    "start_time": "2021-06-09T17:16:26.604Z"
   },
   {
    "duration": 20,
    "start_time": "2021-06-09T17:16:27.275Z"
   },
   {
    "duration": 8,
    "start_time": "2021-06-09T17:16:28.471Z"
   },
   {
    "duration": 27,
    "start_time": "2021-06-09T17:16:29.450Z"
   },
   {
    "duration": 2,
    "start_time": "2021-06-09T17:16:30.248Z"
   },
   {
    "duration": 28617,
    "start_time": "2021-06-09T17:16:31.581Z"
   },
   {
    "duration": 1143,
    "start_time": "2021-06-09T17:26:07.785Z"
   },
   {
    "duration": 816,
    "start_time": "2021-06-09T17:26:08.930Z"
   },
   {
    "duration": 16,
    "start_time": "2021-06-09T17:26:09.748Z"
   },
   {
    "duration": 19,
    "start_time": "2021-06-09T17:26:09.766Z"
   },
   {
    "duration": 8,
    "start_time": "2021-06-09T17:26:09.787Z"
   },
   {
    "duration": 38,
    "start_time": "2021-06-09T17:26:09.797Z"
   },
   {
    "duration": 12,
    "start_time": "2021-06-09T17:26:09.837Z"
   },
   {
    "duration": 38,
    "start_time": "2021-06-09T17:26:09.851Z"
   },
   {
    "duration": 16,
    "start_time": "2021-06-09T17:26:09.890Z"
   },
   {
    "duration": 1813,
    "start_time": "2021-06-09T17:26:09.908Z"
   },
   {
    "duration": 802,
    "start_time": "2021-06-09T17:26:11.723Z"
   },
   {
    "duration": 541,
    "start_time": "2021-06-09T17:26:12.527Z"
   },
   {
    "duration": 296,
    "start_time": "2021-06-09T17:26:13.070Z"
   },
   {
    "duration": 208,
    "start_time": "2021-06-09T17:26:13.160Z"
   },
   {
    "duration": 204,
    "start_time": "2021-06-09T17:26:13.165Z"
   },
   {
    "duration": 200,
    "start_time": "2021-06-09T17:26:13.170Z"
   },
   {
    "duration": 196,
    "start_time": "2021-06-09T17:26:13.175Z"
   },
   {
    "duration": 187,
    "start_time": "2021-06-09T17:26:13.185Z"
   },
   {
    "duration": 184,
    "start_time": "2021-06-09T17:26:13.188Z"
   },
   {
    "duration": 182,
    "start_time": "2021-06-09T17:26:13.191Z"
   },
   {
    "duration": 180,
    "start_time": "2021-06-09T17:26:13.779Z"
   },
   {
    "duration": 242,
    "start_time": "2021-06-09T17:26:13.718Z"
   },
   {
    "duration": 20,
    "start_time": "2021-06-09T17:26:52.962Z"
   },
   {
    "duration": 8,
    "start_time": "2021-06-09T17:26:55.773Z"
   },
   {
    "duration": 28,
    "start_time": "2021-06-09T17:26:56.851Z"
   },
   {
    "duration": 3,
    "start_time": "2021-06-09T17:26:57.855Z"
   },
   {
    "duration": 28463,
    "start_time": "2021-06-09T17:26:58.446Z"
   },
   {
    "duration": 93810,
    "start_time": "2021-06-09T17:27:26.912Z"
   },
   {
    "duration": 1862,
    "start_time": "2021-06-09T17:29:00.724Z"
   },
   {
    "duration": 9,
    "start_time": "2021-06-09T17:29:02.588Z"
   },
   {
    "duration": 261,
    "start_time": "2021-06-09T17:29:02.599Z"
   },
   {
    "duration": 235,
    "start_time": "2021-06-09T17:29:02.627Z"
   },
   {
    "duration": 176,
    "start_time": "2021-06-09T17:29:50.855Z"
   },
   {
    "duration": 190,
    "start_time": "2021-06-09T17:30:03.074Z"
   },
   {
    "duration": 185,
    "start_time": "2021-06-09T17:30:33.382Z"
   },
   {
    "duration": 13,
    "start_time": "2021-06-09T17:31:42.340Z"
   },
   {
    "duration": 175,
    "start_time": "2021-06-09T17:31:46.259Z"
   },
   {
    "duration": 191,
    "start_time": "2021-06-09T17:31:51.808Z"
   },
   {
    "duration": 361,
    "start_time": "2021-06-09T17:32:13.524Z"
   },
   {
    "duration": 188,
    "start_time": "2021-06-09T17:32:49.838Z"
   },
   {
    "duration": 1144,
    "start_time": "2021-06-09T17:33:14.883Z"
   },
   {
    "duration": 815,
    "start_time": "2021-06-09T17:33:16.028Z"
   },
   {
    "duration": 16,
    "start_time": "2021-06-09T17:33:16.846Z"
   },
   {
    "duration": 24,
    "start_time": "2021-06-09T17:33:16.864Z"
   },
   {
    "duration": 9,
    "start_time": "2021-06-09T17:33:16.890Z"
   },
   {
    "duration": 40,
    "start_time": "2021-06-09T17:33:16.901Z"
   },
   {
    "duration": 14,
    "start_time": "2021-06-09T17:33:16.943Z"
   },
   {
    "duration": 41,
    "start_time": "2021-06-09T17:33:16.959Z"
   },
   {
    "duration": 17,
    "start_time": "2021-06-09T17:33:17.101Z"
   },
   {
    "duration": 1801,
    "start_time": "2021-06-09T17:33:17.648Z"
   },
   {
    "duration": 802,
    "start_time": "2021-06-09T17:33:19.450Z"
   },
   {
    "duration": 545,
    "start_time": "2021-06-09T17:33:20.254Z"
   },
   {
    "duration": 17,
    "start_time": "2021-06-09T17:33:20.801Z"
   },
   {
    "duration": 7,
    "start_time": "2021-06-09T17:33:20.820Z"
   },
   {
    "duration": 29,
    "start_time": "2021-06-09T17:33:22.262Z"
   },
   {
    "duration": 3,
    "start_time": "2021-06-09T17:33:23.456Z"
   },
   {
    "duration": 1688,
    "start_time": "2021-06-09T17:33:26.398Z"
   },
   {
    "duration": 13,
    "start_time": "2021-06-09T17:33:32.633Z"
   },
   {
    "duration": 582,
    "start_time": "2021-06-09T17:33:35.215Z"
   },
   {
    "duration": 315,
    "start_time": "2021-06-09T17:33:46.841Z"
   },
   {
    "duration": 1095,
    "start_time": "2021-06-09T17:34:58.234Z"
   },
   {
    "duration": 872,
    "start_time": "2021-06-09T17:34:59.333Z"
   },
   {
    "duration": 15,
    "start_time": "2021-06-09T17:35:00.207Z"
   },
   {
    "duration": 8,
    "start_time": "2021-06-09T17:35:00.224Z"
   },
   {
    "duration": 12,
    "start_time": "2021-06-09T17:35:00.233Z"
   },
   {
    "duration": 62,
    "start_time": "2021-06-09T17:35:00.246Z"
   },
   {
    "duration": 14,
    "start_time": "2021-06-09T17:35:00.310Z"
   },
   {
    "duration": 2,
    "start_time": "2021-06-09T17:35:00.326Z"
   },
   {
    "duration": 15,
    "start_time": "2021-06-09T17:35:00.579Z"
   },
   {
    "duration": 1839,
    "start_time": "2021-06-09T17:35:01.701Z"
   },
   {
    "duration": 785,
    "start_time": "2021-06-09T17:35:03.542Z"
   },
   {
    "duration": 549,
    "start_time": "2021-06-09T17:35:04.329Z"
   },
   {
    "duration": 19,
    "start_time": "2021-06-09T17:35:04.880Z"
   },
   {
    "duration": 7,
    "start_time": "2021-06-09T17:35:04.901Z"
   },
   {
    "duration": 31,
    "start_time": "2021-06-09T17:35:05.684Z"
   },
   {
    "duration": 3,
    "start_time": "2021-06-09T17:35:06.600Z"
   },
   {
    "duration": 1606,
    "start_time": "2021-06-09T17:35:12.787Z"
   },
   {
    "duration": 273,
    "start_time": "2021-06-09T17:35:56.224Z"
   },
   {
    "duration": 204,
    "start_time": "2021-06-09T17:36:15.099Z"
   },
   {
    "duration": 3,
    "start_time": "2021-06-09T17:36:36.685Z"
   },
   {
    "duration": 801,
    "start_time": "2021-06-09T17:36:36.837Z"
   },
   {
    "duration": 16,
    "start_time": "2021-06-09T17:36:37.640Z"
   },
   {
    "duration": 7,
    "start_time": "2021-06-09T17:36:37.658Z"
   },
   {
    "duration": 24,
    "start_time": "2021-06-09T17:36:37.667Z"
   },
   {
    "duration": 37,
    "start_time": "2021-06-09T17:36:37.914Z"
   },
   {
    "duration": 14,
    "start_time": "2021-06-09T17:36:38.057Z"
   },
   {
    "duration": 2,
    "start_time": "2021-06-09T17:36:38.241Z"
   },
   {
    "duration": 2,
    "start_time": "2021-06-09T17:36:38.395Z"
   },
   {
    "duration": 1833,
    "start_time": "2021-06-09T17:36:38.904Z"
   },
   {
    "duration": 790,
    "start_time": "2021-06-09T17:36:40.739Z"
   },
   {
    "duration": 527,
    "start_time": "2021-06-09T17:36:41.531Z"
   },
   {
    "duration": 29,
    "start_time": "2021-06-09T17:36:42.060Z"
   },
   {
    "duration": 8,
    "start_time": "2021-06-09T17:36:42.091Z"
   },
   {
    "duration": 224,
    "start_time": "2021-06-09T17:36:42.375Z"
   },
   {
    "duration": 1162,
    "start_time": "2021-06-09T17:37:08.358Z"
   },
   {
    "duration": 827,
    "start_time": "2021-06-09T17:37:09.522Z"
   },
   {
    "duration": 17,
    "start_time": "2021-06-09T17:37:10.351Z"
   },
   {
    "duration": 16,
    "start_time": "2021-06-09T17:37:10.370Z"
   },
   {
    "duration": 9,
    "start_time": "2021-06-09T17:37:10.387Z"
   },
   {
    "duration": 41,
    "start_time": "2021-06-09T17:37:10.398Z"
   },
   {
    "duration": 14,
    "start_time": "2021-06-09T17:37:10.441Z"
   },
   {
    "duration": 28,
    "start_time": "2021-06-09T17:37:10.457Z"
   },
   {
    "duration": 2,
    "start_time": "2021-06-09T17:37:10.599Z"
   },
   {
    "duration": 1872,
    "start_time": "2021-06-09T17:37:12.313Z"
   },
   {
    "duration": 860,
    "start_time": "2021-06-09T17:37:14.186Z"
   },
   {
    "duration": 581,
    "start_time": "2021-06-09T17:37:15.048Z"
   },
   {
    "duration": 20,
    "start_time": "2021-06-09T17:37:15.631Z"
   },
   {
    "duration": 10,
    "start_time": "2021-06-09T17:37:16.977Z"
   },
   {
    "duration": 349,
    "start_time": "2021-06-09T17:37:17.900Z"
   },
   {
    "duration": 5,
    "start_time": "2021-06-09T17:37:37.290Z"
   },
   {
    "duration": 225,
    "start_time": "2021-06-09T17:37:42.136Z"
   },
   {
    "duration": 1089,
    "start_time": "2021-06-09T17:37:54.932Z"
   },
   {
    "duration": 826,
    "start_time": "2021-06-09T17:37:56.023Z"
   },
   {
    "duration": 19,
    "start_time": "2021-06-09T17:37:56.851Z"
   },
   {
    "duration": 9,
    "start_time": "2021-06-09T17:37:56.885Z"
   },
   {
    "duration": 10,
    "start_time": "2021-06-09T17:37:56.896Z"
   },
   {
    "duration": 40,
    "start_time": "2021-06-09T17:37:57.196Z"
   },
   {
    "duration": 16,
    "start_time": "2021-06-09T17:37:57.696Z"
   },
   {
    "duration": 2,
    "start_time": "2021-06-09T17:37:58.051Z"
   },
   {
    "duration": 7,
    "start_time": "2021-06-09T17:37:58.221Z"
   },
   {
    "duration": 1821,
    "start_time": "2021-06-09T17:37:59.050Z"
   },
   {
    "duration": 806,
    "start_time": "2021-06-09T17:38:00.873Z"
   },
   {
    "duration": 571,
    "start_time": "2021-06-09T17:38:01.681Z"
   },
   {
    "duration": 33,
    "start_time": "2021-06-09T17:38:02.254Z"
   },
   {
    "duration": 10,
    "start_time": "2021-06-09T17:38:03.104Z"
   },
   {
    "duration": 32,
    "start_time": "2021-06-09T17:38:04.507Z"
   },
   {
    "duration": 3,
    "start_time": "2021-06-09T17:38:08.688Z"
   },
   {
    "duration": 1450,
    "start_time": "2021-06-09T17:38:13.146Z"
   },
   {
    "duration": 5,
    "start_time": "2021-06-09T17:38:16.220Z"
   },
   {
    "duration": 316,
    "start_time": "2021-06-09T17:38:17.658Z"
   },
   {
    "duration": 34,
    "start_time": "2021-06-09T17:38:39.115Z"
   },
   {
    "duration": 183,
    "start_time": "2021-06-09T17:38:42.393Z"
   },
   {
    "duration": 1830,
    "start_time": "2021-06-09T17:39:16.056Z"
   },
   {
    "duration": 187,
    "start_time": "2021-06-09T17:39:22.007Z"
   },
   {
    "duration": 474,
    "start_time": "2021-06-09T17:41:50.529Z"
   },
   {
    "duration": 1810,
    "start_time": "2021-06-09T17:43:18.976Z"
   },
   {
    "duration": 5,
    "start_time": "2021-06-09T17:43:23.841Z"
   },
   {
    "duration": 33,
    "start_time": "2021-06-09T17:43:24.789Z"
   },
   {
    "duration": 451,
    "start_time": "2021-06-09T17:43:25.419Z"
   },
   {
    "duration": 1142,
    "start_time": "2021-06-09T17:43:35.587Z"
   },
   {
    "duration": 815,
    "start_time": "2021-06-09T17:43:36.731Z"
   },
   {
    "duration": 17,
    "start_time": "2021-06-09T17:43:37.549Z"
   },
   {
    "duration": 21,
    "start_time": "2021-06-09T17:43:37.568Z"
   },
   {
    "duration": 10,
    "start_time": "2021-06-09T17:43:37.591Z"
   },
   {
    "duration": 41,
    "start_time": "2021-06-09T17:43:37.603Z"
   },
   {
    "duration": 42,
    "start_time": "2021-06-09T17:43:37.646Z"
   },
   {
    "duration": 2,
    "start_time": "2021-06-09T17:43:37.691Z"
   },
   {
    "duration": 12,
    "start_time": "2021-06-09T17:43:37.695Z"
   },
   {
    "duration": 1824,
    "start_time": "2021-06-09T17:43:37.708Z"
   },
   {
    "duration": 794,
    "start_time": "2021-06-09T17:43:39.535Z"
   },
   {
    "duration": 539,
    "start_time": "2021-06-09T17:43:40.332Z"
   },
   {
    "duration": 27,
    "start_time": "2021-06-09T17:43:40.874Z"
   },
   {
    "duration": 10,
    "start_time": "2021-06-09T17:43:40.903Z"
   },
   {
    "duration": 44,
    "start_time": "2021-06-09T17:43:40.916Z"
   },
   {
    "duration": 3,
    "start_time": "2021-06-09T17:43:40.962Z"
   },
   {
    "duration": 28569,
    "start_time": "2021-06-09T17:43:41.084Z"
   },
   {
    "duration": 94066,
    "start_time": "2021-06-09T17:44:09.655Z"
   },
   {
    "duration": 2063,
    "start_time": "2021-06-09T17:45:43.723Z"
   },
   {
    "duration": 6,
    "start_time": "2021-06-09T17:45:45.788Z"
   },
   {
    "duration": 113,
    "start_time": "2021-06-09T17:45:45.796Z"
   },
   {
    "duration": 642,
    "start_time": "2021-06-09T17:45:45.910Z"
   },
   {
    "duration": 475,
    "start_time": "2021-06-09T17:47:21.095Z"
   },
   {
    "duration": 8,
    "start_time": "2021-06-09T17:51:52.391Z"
   },
   {
    "duration": 20,
    "start_time": "2021-06-09T17:51:53.169Z"
   },
   {
    "duration": 196,
    "start_time": "2021-06-09T17:59:27.543Z"
   },
   {
    "duration": 1108,
    "start_time": "2021-06-09T17:59:46.342Z"
   },
   {
    "duration": 869,
    "start_time": "2021-06-09T17:59:47.454Z"
   },
   {
    "duration": 19,
    "start_time": "2021-06-09T17:59:48.324Z"
   },
   {
    "duration": 8,
    "start_time": "2021-06-09T17:59:48.345Z"
   },
   {
    "duration": 30,
    "start_time": "2021-06-09T17:59:48.355Z"
   },
   {
    "duration": 48,
    "start_time": "2021-06-09T17:59:48.389Z"
   },
   {
    "duration": 14,
    "start_time": "2021-06-09T17:59:48.439Z"
   },
   {
    "duration": 36,
    "start_time": "2021-06-09T17:59:48.454Z"
   },
   {
    "duration": 9,
    "start_time": "2021-06-09T17:59:48.491Z"
   },
   {
    "duration": 1973,
    "start_time": "2021-06-09T17:59:48.579Z"
   },
   {
    "duration": 842,
    "start_time": "2021-06-09T17:59:50.554Z"
   },
   {
    "duration": 558,
    "start_time": "2021-06-09T17:59:51.399Z"
   },
   {
    "duration": 33,
    "start_time": "2021-06-09T17:59:51.959Z"
   },
   {
    "duration": 11,
    "start_time": "2021-06-09T17:59:52.798Z"
   },
   {
    "duration": 21,
    "start_time": "2021-06-09T17:59:55.239Z"
   },
   {
    "duration": 299,
    "start_time": "2021-06-09T17:59:57.510Z"
   },
   {
    "duration": 200,
    "start_time": "2021-06-09T18:00:14.313Z"
   },
   {
    "duration": 1121,
    "start_time": "2021-06-09T18:00:44.833Z"
   },
   {
    "duration": 870,
    "start_time": "2021-06-09T18:00:45.956Z"
   },
   {
    "duration": 16,
    "start_time": "2021-06-09T18:00:46.827Z"
   },
   {
    "duration": 7,
    "start_time": "2021-06-09T18:00:46.845Z"
   },
   {
    "duration": 31,
    "start_time": "2021-06-09T18:00:46.854Z"
   },
   {
    "duration": 46,
    "start_time": "2021-06-09T18:00:46.888Z"
   },
   {
    "duration": 13,
    "start_time": "2021-06-09T18:00:46.936Z"
   },
   {
    "duration": 14,
    "start_time": "2021-06-09T18:00:46.951Z"
   },
   {
    "duration": 39,
    "start_time": "2021-06-09T18:00:46.967Z"
   },
   {
    "duration": 1941,
    "start_time": "2021-06-09T18:00:47.064Z"
   },
   {
    "duration": 827,
    "start_time": "2021-06-09T18:00:49.008Z"
   },
   {
    "duration": 573,
    "start_time": "2021-06-09T18:00:49.837Z"
   },
   {
    "duration": 18,
    "start_time": "2021-06-09T18:00:50.412Z"
   },
   {
    "duration": 13,
    "start_time": "2021-06-09T18:00:50.433Z"
   },
   {
    "duration": 44,
    "start_time": "2021-06-09T18:00:50.447Z"
   },
   {
    "duration": 281,
    "start_time": "2021-06-09T18:00:50.493Z"
   },
   {
    "duration": 7,
    "start_time": "2021-06-09T18:04:21.012Z"
   },
   {
    "duration": 17,
    "start_time": "2021-06-09T18:04:47.010Z"
   },
   {
    "duration": 183,
    "start_time": "2021-06-09T18:05:46.612Z"
   },
   {
    "duration": 204,
    "start_time": "2021-06-09T18:05:55.470Z"
   },
   {
    "duration": 281,
    "start_time": "2021-06-09T18:06:10.241Z"
   },
   {
    "duration": 217,
    "start_time": "2021-06-09T18:06:37.822Z"
   },
   {
    "duration": 22,
    "start_time": "2021-06-09T18:06:47.039Z"
   },
   {
    "duration": 7,
    "start_time": "2021-06-09T18:06:55.027Z"
   },
   {
    "duration": 8,
    "start_time": "2021-06-09T18:06:55.708Z"
   },
   {
    "duration": 3,
    "start_time": "2021-06-09T18:07:03.598Z"
   },
   {
    "duration": 806,
    "start_time": "2021-06-09T18:07:03.756Z"
   },
   {
    "duration": 20,
    "start_time": "2021-06-09T18:07:04.564Z"
   },
   {
    "duration": 7,
    "start_time": "2021-06-09T18:07:04.586Z"
   },
   {
    "duration": 9,
    "start_time": "2021-06-09T18:07:04.595Z"
   },
   {
    "duration": 32,
    "start_time": "2021-06-09T18:07:04.692Z"
   },
   {
    "duration": 14,
    "start_time": "2021-06-09T18:07:04.836Z"
   },
   {
    "duration": 17,
    "start_time": "2021-06-09T18:07:05.006Z"
   },
   {
    "duration": 12,
    "start_time": "2021-06-09T18:07:05.154Z"
   },
   {
    "duration": 1866,
    "start_time": "2021-06-09T18:07:06.144Z"
   },
   {
    "duration": 821,
    "start_time": "2021-06-09T18:07:08.013Z"
   },
   {
    "duration": 545,
    "start_time": "2021-06-09T18:07:08.837Z"
   },
   {
    "duration": 17,
    "start_time": "2021-06-09T18:07:09.385Z"
   },
   {
    "duration": 149,
    "start_time": "2021-06-09T18:07:09.403Z"
   },
   {
    "duration": 6,
    "start_time": "2021-06-09T18:07:09.553Z"
   },
   {
    "duration": 9,
    "start_time": "2021-06-09T18:07:12.577Z"
   },
   {
    "duration": 177,
    "start_time": "2021-06-09T18:10:02.300Z"
   },
   {
    "duration": 3,
    "start_time": "2021-06-09T18:10:05.598Z"
   },
   {
    "duration": 190,
    "start_time": "2021-06-09T18:10:06.525Z"
   },
   {
    "duration": 7413,
    "start_time": "2021-06-09T18:10:28.954Z"
   },
   {
    "duration": 26945,
    "start_time": "2021-06-09T18:10:44.696Z"
   },
   {
    "duration": 743,
    "start_time": "2021-06-09T18:11:11.644Z"
   },
   {
    "duration": 26987,
    "start_time": "2021-06-09T18:13:14.198Z"
   },
   {
    "duration": 168,
    "start_time": "2021-06-09T18:14:47.147Z"
   },
   {
    "duration": 183,
    "start_time": "2021-06-09T18:15:01.415Z"
   },
   {
    "duration": 199,
    "start_time": "2021-06-09T18:15:21.141Z"
   },
   {
    "duration": 211,
    "start_time": "2021-06-09T18:15:51.565Z"
   },
   {
    "duration": 187,
    "start_time": "2021-06-09T18:15:56.803Z"
   },
   {
    "duration": 12,
    "start_time": "2021-06-09T18:17:05.267Z"
   },
   {
    "duration": 177,
    "start_time": "2021-06-09T18:17:06.797Z"
   },
   {
    "duration": 3,
    "start_time": "2021-06-09T18:18:32.388Z"
   },
   {
    "duration": 232,
    "start_time": "2021-06-09T18:18:34.148Z"
   },
   {
    "duration": 3,
    "start_time": "2021-06-09T18:26:03.924Z"
   },
   {
    "duration": 283,
    "start_time": "2021-06-09T18:26:06.091Z"
   },
   {
    "duration": 185,
    "start_time": "2021-06-09T18:26:27.386Z"
   },
   {
    "duration": 5543,
    "start_time": "2021-06-09T18:26:43.638Z"
   },
   {
    "duration": 3,
    "start_time": "2021-06-09T18:27:00.524Z"
   },
   {
    "duration": 5812,
    "start_time": "2021-06-09T18:27:00.790Z"
   },
   {
    "duration": 182,
    "start_time": "2021-06-09T18:28:04.179Z"
   },
   {
    "duration": 3,
    "start_time": "2021-06-09T18:28:11.745Z"
   },
   {
    "duration": 274,
    "start_time": "2021-06-09T18:28:21.876Z"
   },
   {
    "duration": 4,
    "start_time": "2021-06-09T18:28:31.410Z"
   },
   {
    "duration": 5,
    "start_time": "2021-06-09T18:30:04.982Z"
   },
   {
    "duration": 4,
    "start_time": "2021-06-09T18:30:10.867Z"
   },
   {
    "duration": 189,
    "start_time": "2021-06-09T18:31:28.361Z"
   },
   {
    "duration": 10,
    "start_time": "2021-06-09T18:33:13.370Z"
   },
   {
    "duration": 10,
    "start_time": "2021-06-09T18:33:30.371Z"
   },
   {
    "duration": 4,
    "start_time": "2021-06-09T18:35:29.789Z"
   },
   {
    "duration": 4,
    "start_time": "2021-06-09T18:37:14.432Z"
   },
   {
    "duration": 5,
    "start_time": "2021-06-09T18:37:25.031Z"
   },
   {
    "duration": 10,
    "start_time": "2021-06-09T18:38:33.977Z"
   },
   {
    "duration": 10,
    "start_time": "2021-06-09T18:38:55.482Z"
   },
   {
    "duration": 12,
    "start_time": "2021-06-09T18:40:15.104Z"
   },
   {
    "duration": 4,
    "start_time": "2021-06-09T18:40:25.143Z"
   },
   {
    "duration": 210,
    "start_time": "2021-06-09T18:40:55.591Z"
   },
   {
    "duration": 227,
    "start_time": "2021-06-09T18:41:18.648Z"
   },
   {
    "duration": 5833,
    "start_time": "2021-06-09T18:41:35.708Z"
   },
   {
    "duration": 5875,
    "start_time": "2021-06-09T18:41:52.432Z"
   },
   {
    "duration": 17,
    "start_time": "2021-06-09T18:42:17.547Z"
   },
   {
    "duration": 4,
    "start_time": "2021-06-09T18:43:51.918Z"
   },
   {
    "duration": 209,
    "start_time": "2021-06-09T18:43:52.480Z"
   },
   {
    "duration": 5401,
    "start_time": "2021-06-09T18:44:19.697Z"
   },
   {
    "duration": 688,
    "start_time": "2021-06-09T18:44:41.298Z"
   },
   {
    "duration": 26563,
    "start_time": "2021-06-09T18:44:44.893Z"
   },
   {
    "duration": 3,
    "start_time": "2021-06-09T18:45:33.159Z"
   },
   {
    "duration": 5500,
    "start_time": "2021-06-09T18:45:33.610Z"
   },
   {
    "duration": 3,
    "start_time": "2021-06-09T18:46:01.655Z"
   },
   {
    "duration": 5438,
    "start_time": "2021-06-09T18:46:02.491Z"
   },
   {
    "duration": 3,
    "start_time": "2021-06-09T18:46:45.754Z"
   },
   {
    "duration": 24,
    "start_time": "2021-06-09T18:46:46.882Z"
   },
   {
    "duration": 1144,
    "start_time": "2021-06-09T18:46:56.672Z"
   },
   {
    "duration": 815,
    "start_time": "2021-06-09T18:46:57.818Z"
   },
   {
    "duration": 15,
    "start_time": "2021-06-09T18:46:58.636Z"
   },
   {
    "duration": 8,
    "start_time": "2021-06-09T18:46:58.653Z"
   },
   {
    "duration": 25,
    "start_time": "2021-06-09T18:46:58.662Z"
   },
   {
    "duration": 38,
    "start_time": "2021-06-09T18:46:58.689Z"
   },
   {
    "duration": 13,
    "start_time": "2021-06-09T18:46:58.729Z"
   },
   {
    "duration": 15,
    "start_time": "2021-06-09T18:46:58.743Z"
   },
   {
    "duration": 17,
    "start_time": "2021-06-09T18:46:58.785Z"
   },
   {
    "duration": 1846,
    "start_time": "2021-06-09T18:46:58.804Z"
   },
   {
    "duration": 809,
    "start_time": "2021-06-09T18:47:00.652Z"
   },
   {
    "duration": 572,
    "start_time": "2021-06-09T18:47:01.464Z"
   },
   {
    "duration": 17,
    "start_time": "2021-06-09T18:47:02.038Z"
   },
   {
    "duration": 39,
    "start_time": "2021-06-09T18:47:02.057Z"
   },
   {
    "duration": 9,
    "start_time": "2021-06-09T18:47:02.098Z"
   },
   {
    "duration": 20,
    "start_time": "2021-06-09T18:47:02.108Z"
   },
   {
    "duration": 5,
    "start_time": "2021-06-09T18:47:02.130Z"
   },
   {
    "duration": 7,
    "start_time": "2021-06-09T18:47:02.137Z"
   },
   {
    "duration": 7348,
    "start_time": "2021-06-09T18:47:02.145Z"
   },
   {
    "duration": 791,
    "start_time": "2021-06-09T18:47:09.494Z"
   },
   {
    "duration": 26676,
    "start_time": "2021-06-09T18:47:10.288Z"
   },
   {
    "duration": 274,
    "start_time": "2021-06-09T18:47:36.966Z"
   },
   {
    "duration": 252,
    "start_time": "2021-06-09T18:47:36.990Z"
   },
   {
    "duration": 250,
    "start_time": "2021-06-09T18:47:36.993Z"
   },
   {
    "duration": 3,
    "start_time": "2021-06-09T18:47:50.463Z"
   },
   {
    "duration": 187,
    "start_time": "2021-06-09T18:47:51.669Z"
   },
   {
    "duration": 196,
    "start_time": "2021-06-09T18:49:03.943Z"
   },
   {
    "duration": 174,
    "start_time": "2021-06-09T18:49:17.984Z"
   },
   {
    "duration": 2,
    "start_time": "2021-06-09T18:53:15.791Z"
   },
   {
    "duration": 3,
    "start_time": "2021-06-09T18:54:02.336Z"
   },
   {
    "duration": 16,
    "start_time": "2021-06-09T18:54:04.592Z"
   },
   {
    "duration": 2,
    "start_time": "2021-06-09T18:55:02.370Z"
   },
   {
    "duration": 1663,
    "start_time": "2021-06-10T08:19:27.661Z"
   },
   {
    "duration": 1046,
    "start_time": "2021-06-10T08:19:32.540Z"
   },
   {
    "duration": 22,
    "start_time": "2021-06-10T08:19:34.600Z"
   },
   {
    "duration": 14,
    "start_time": "2021-06-10T08:19:36.704Z"
   },
   {
    "duration": 15,
    "start_time": "2021-06-10T08:19:58.979Z"
   },
   {
    "duration": 12,
    "start_time": "2021-06-10T08:20:19.447Z"
   },
   {
    "duration": 51,
    "start_time": "2021-06-10T08:20:22.598Z"
   },
   {
    "duration": 20,
    "start_time": "2021-06-10T08:20:23.700Z"
   },
   {
    "duration": 24,
    "start_time": "2021-06-10T08:20:27.618Z"
   },
   {
    "duration": 17,
    "start_time": "2021-06-10T08:20:28.187Z"
   },
   {
    "duration": 3699,
    "start_time": "2021-06-10T08:20:37.882Z"
   },
   {
    "duration": 1413,
    "start_time": "2021-06-10T08:21:00.475Z"
   },
   {
    "duration": 955,
    "start_time": "2021-06-10T08:21:09.034Z"
   },
   {
    "duration": 25,
    "start_time": "2021-06-10T08:21:10.021Z"
   },
   {
    "duration": 428,
    "start_time": "2021-06-10T08:22:28.685Z"
   },
   {
    "duration": 42,
    "start_time": "2021-06-10T08:22:35.119Z"
   },
   {
    "duration": 5,
    "start_time": "2021-06-10T08:22:43.411Z"
   },
   {
    "duration": 4,
    "start_time": "2021-06-10T08:22:44.095Z"
   },
   {
    "duration": 29,
    "start_time": "2021-06-10T08:22:48.999Z"
   },
   {
    "duration": 950,
    "start_time": "2021-06-10T08:25:30.776Z"
   },
   {
    "duration": 156,
    "start_time": "2021-06-10T08:25:32.082Z"
   },
   {
    "duration": 24,
    "start_time": "2021-06-10T08:25:38.542Z"
   },
   {
    "duration": 14,
    "start_time": "2021-06-10T08:25:40.591Z"
   },
   {
    "duration": 8,
    "start_time": "2021-06-10T08:25:41.181Z"
   },
   {
    "duration": 4,
    "start_time": "2021-06-10T08:25:50.211Z"
   },
   {
    "duration": 10619,
    "start_time": "2021-06-10T08:25:51.439Z"
   },
   {
    "duration": 1800,
    "start_time": "2021-06-10T08:26:02.061Z"
   },
   {
    "duration": 38338,
    "start_time": "2021-06-10T08:26:03.865Z"
   },
   {
    "duration": 3,
    "start_time": "2021-06-10T08:26:42.207Z"
   },
   {
    "duration": 23,
    "start_time": "2021-06-10T08:26:42.213Z"
   },
   {
    "duration": 46,
    "start_time": "2021-06-10T08:26:42.238Z"
   },
   {
    "duration": 2148,
    "start_time": "2021-06-10T08:27:50.461Z"
   },
   {
    "duration": 2282,
    "start_time": "2021-06-10T08:29:38.360Z"
   },
   {
    "duration": 2003,
    "start_time": "2021-06-10T08:29:57.600Z"
   },
   {
    "duration": 1695,
    "start_time": "2021-06-10T08:30:11.390Z"
   },
   {
    "duration": 5,
    "start_time": "2021-06-10T08:30:13.088Z"
   },
   {
    "duration": 1134,
    "start_time": "2021-06-10T08:30:13.097Z"
   },
   {
    "duration": 39,
    "start_time": "2021-06-10T08:30:14.234Z"
   },
   {
    "duration": 21,
    "start_time": "2021-06-10T08:30:14.276Z"
   },
   {
    "duration": 29,
    "start_time": "2021-06-10T08:30:14.300Z"
   },
   {
    "duration": 69,
    "start_time": "2021-06-10T08:30:14.361Z"
   },
   {
    "duration": 50,
    "start_time": "2021-06-10T08:30:14.433Z"
   },
   {
    "duration": 32,
    "start_time": "2021-06-10T08:30:14.489Z"
   },
   {
    "duration": 50,
    "start_time": "2021-06-10T08:30:14.525Z"
   },
   {
    "duration": 3354,
    "start_time": "2021-06-10T08:30:14.579Z"
   },
   {
    "duration": 1649,
    "start_time": "2021-06-10T08:30:17.938Z"
   },
   {
    "duration": 1034,
    "start_time": "2021-06-10T08:30:19.590Z"
   },
   {
    "duration": 63,
    "start_time": "2021-06-10T08:30:20.627Z"
   },
   {
    "duration": 18,
    "start_time": "2021-06-10T08:30:20.693Z"
   },
   {
    "duration": 49,
    "start_time": "2021-06-10T08:30:20.715Z"
   },
   {
    "duration": 9,
    "start_time": "2021-06-10T08:30:20.770Z"
   },
   {
    "duration": 10,
    "start_time": "2021-06-10T08:30:20.783Z"
   },
   {
    "duration": 10930,
    "start_time": "2021-06-10T08:30:20.796Z"
   },
   {
    "duration": 2427,
    "start_time": "2021-06-10T08:30:31.729Z"
   },
   {
    "duration": 38453,
    "start_time": "2021-06-10T08:30:34.161Z"
   },
   {
    "duration": 3,
    "start_time": "2021-06-10T08:31:12.617Z"
   },
   {
    "duration": 63,
    "start_time": "2021-06-10T08:31:12.623Z"
   },
   {
    "duration": 6,
    "start_time": "2021-06-10T08:31:12.689Z"
   },
   {
    "duration": 492,
    "start_time": "2021-06-10T08:31:12.697Z"
   },
   {
    "duration": 2172,
    "start_time": "2021-06-10T08:31:26.179Z"
   },
   {
    "duration": 728,
    "start_time": "2021-06-10T08:33:49.137Z"
   },
   {
    "duration": 16,
    "start_time": "2021-06-10T08:33:55.289Z"
   },
   {
    "duration": 34,
    "start_time": "2021-06-10T08:35:22.314Z"
   },
   {
    "duration": 1559,
    "start_time": "2021-06-11T05:42:39.218Z"
   },
   {
    "duration": 4,
    "start_time": "2021-06-11T05:42:40.779Z"
   },
   {
    "duration": 1039,
    "start_time": "2021-06-11T05:42:40.786Z"
   },
   {
    "duration": 22,
    "start_time": "2021-06-11T05:42:41.828Z"
   },
   {
    "duration": 16,
    "start_time": "2021-06-11T05:42:41.852Z"
   },
   {
    "duration": 16,
    "start_time": "2021-06-11T05:42:41.870Z"
   },
   {
    "duration": 86,
    "start_time": "2021-06-11T05:42:41.888Z"
   },
   {
    "duration": 19,
    "start_time": "2021-06-11T05:42:41.978Z"
   },
   {
    "duration": 45,
    "start_time": "2021-06-11T05:42:41.999Z"
   },
   {
    "duration": 21,
    "start_time": "2021-06-11T05:42:42.047Z"
   },
   {
    "duration": 3168,
    "start_time": "2021-06-11T05:42:42.805Z"
   },
   {
    "duration": 1362,
    "start_time": "2021-06-11T05:42:45.975Z"
   },
   {
    "duration": 909,
    "start_time": "2021-06-11T05:42:47.341Z"
   },
   {
    "duration": 34,
    "start_time": "2021-06-11T05:42:48.253Z"
   },
   {
    "duration": 13,
    "start_time": "2021-06-11T05:42:48.289Z"
   },
   {
    "duration": 12,
    "start_time": "2021-06-11T05:42:48.325Z"
   },
   {
    "duration": 6,
    "start_time": "2021-06-11T05:42:48.339Z"
   },
   {
    "duration": 4,
    "start_time": "2021-06-11T05:42:48.348Z"
   },
   {
    "duration": 10036,
    "start_time": "2021-06-11T05:42:52.573Z"
   },
   {
    "duration": 815,
    "start_time": "2021-06-11T05:43:02.612Z"
   },
   {
    "duration": 36334,
    "start_time": "2021-06-11T05:43:03.431Z"
   },
   {
    "duration": 5,
    "start_time": "2021-06-11T05:51:01.874Z"
   },
   {
    "duration": 6,
    "start_time": "2021-06-11T05:54:15.054Z"
   },
   {
    "duration": 6,
    "start_time": "2021-06-11T05:54:36.534Z"
   },
   {
    "duration": 6,
    "start_time": "2021-06-11T05:55:42.179Z"
   },
   {
    "duration": 1115,
    "start_time": "2021-06-11T07:11:24.407Z"
   },
   {
    "duration": 3,
    "start_time": "2021-06-11T07:11:25.524Z"
   },
   {
    "duration": 818,
    "start_time": "2021-06-11T07:11:25.528Z"
   },
   {
    "duration": 15,
    "start_time": "2021-06-11T07:11:26.348Z"
   },
   {
    "duration": 7,
    "start_time": "2021-06-11T07:11:26.386Z"
   },
   {
    "duration": 9,
    "start_time": "2021-06-11T07:11:27.609Z"
   },
   {
    "duration": 42,
    "start_time": "2021-06-11T07:11:29.016Z"
   },
   {
    "duration": 20,
    "start_time": "2021-06-11T07:11:29.489Z"
   },
   {
    "duration": 16,
    "start_time": "2021-06-11T07:11:30.493Z"
   },
   {
    "duration": 17,
    "start_time": "2021-06-11T07:11:30.819Z"
   },
   {
    "duration": 4,
    "start_time": "2021-06-11T07:11:31.603Z"
   },
   {
    "duration": 1871,
    "start_time": "2021-06-11T07:17:06.103Z"
   },
   {
    "duration": 837,
    "start_time": "2021-06-11T07:18:01.588Z"
   },
   {
    "duration": 565,
    "start_time": "2021-06-11T07:18:04.786Z"
   },
   {
    "duration": 4627,
    "start_time": "2021-06-11T07:18:05.411Z"
   },
   {
    "duration": -535,
    "start_time": "2021-06-11T07:18:10.575Z"
   },
   {
    "duration": 9,
    "start_time": "2021-06-11T07:22:31.715Z"
   },
   {
    "duration": 3,
    "start_time": "2021-06-11T07:22:33.639Z"
   },
   {
    "duration": 5,
    "start_time": "2021-06-11T07:22:57.471Z"
   },
   {
    "duration": 9,
    "start_time": "2021-06-11T07:22:59.905Z"
   },
   {
    "duration": 4,
    "start_time": "2021-06-11T07:23:02.877Z"
   },
   {
    "duration": 4,
    "start_time": "2021-06-11T07:23:39.075Z"
   },
   {
    "duration": 4,
    "start_time": "2021-06-11T07:23:42.663Z"
   },
   {
    "duration": 2,
    "start_time": "2021-06-11T07:23:42.824Z"
   },
   {
    "duration": 834,
    "start_time": "2021-06-11T07:23:42.970Z"
   },
   {
    "duration": 17,
    "start_time": "2021-06-11T07:23:43.805Z"
   },
   {
    "duration": 7,
    "start_time": "2021-06-11T07:23:43.824Z"
   },
   {
    "duration": 8,
    "start_time": "2021-06-11T07:23:43.941Z"
   },
   {
    "duration": 31,
    "start_time": "2021-06-11T07:23:44.442Z"
   },
   {
    "duration": 18,
    "start_time": "2021-06-11T07:23:44.604Z"
   },
   {
    "duration": 15,
    "start_time": "2021-06-11T07:23:44.957Z"
   },
   {
    "duration": 12,
    "start_time": "2021-06-11T07:23:45.118Z"
   },
   {
    "duration": 4,
    "start_time": "2021-06-11T07:23:45.441Z"
   },
   {
    "duration": 1833,
    "start_time": "2021-06-11T07:23:50.130Z"
   },
   {
    "duration": 774,
    "start_time": "2021-06-11T07:23:51.965Z"
   },
   {
    "duration": 513,
    "start_time": "2021-06-11T07:23:53.188Z"
   },
   {
    "duration": 3,
    "start_time": "2021-06-11T07:23:54.041Z"
   },
   {
    "duration": 9,
    "start_time": "2021-06-11T07:23:56.790Z"
   },
   {
    "duration": 4,
    "start_time": "2021-06-11T07:23:57.934Z"
   },
   {
    "duration": 58,
    "start_time": "2021-06-11T07:26:33.684Z"
   },
   {
    "duration": 118,
    "start_time": "2021-06-11T07:27:29.352Z"
   },
   {
    "duration": 4,
    "start_time": "2021-06-11T07:27:29.541Z"
   },
   {
    "duration": 24,
    "start_time": "2021-06-11T07:27:29.996Z"
   },
   {
    "duration": 211,
    "start_time": "2021-06-11T07:27:30.178Z"
   },
   {
    "duration": 3,
    "start_time": "2021-06-11T07:27:30.662Z"
   },
   {
    "duration": 3,
    "start_time": "2021-06-11T07:33:28.485Z"
   },
   {
    "duration": 2,
    "start_time": "2021-06-11T07:33:28.613Z"
   },
   {
    "duration": 808,
    "start_time": "2021-06-11T07:33:28.755Z"
   },
   {
    "duration": 23,
    "start_time": "2021-06-11T07:33:29.565Z"
   },
   {
    "duration": 7,
    "start_time": "2021-06-11T07:33:29.590Z"
   },
   {
    "duration": 8,
    "start_time": "2021-06-11T07:33:30.058Z"
   },
   {
    "duration": 3,
    "start_time": "2021-06-11T07:33:30.237Z"
   },
   {
    "duration": 34,
    "start_time": "2021-06-11T07:33:30.807Z"
   },
   {
    "duration": 170,
    "start_time": "2021-06-11T07:34:12.146Z"
   },
   {
    "duration": 13,
    "start_time": "2021-06-11T07:34:18.639Z"
   },
   {
    "duration": 3,
    "start_time": "2021-06-11T07:34:33.166Z"
   },
   {
    "duration": 186,
    "start_time": "2021-06-11T07:34:34.853Z"
   },
   {
    "duration": -479,
    "start_time": "2021-06-11T07:34:35.520Z"
   },
   {
    "duration": 256,
    "start_time": "2021-06-11T07:34:35.397Z"
   },
   {
    "duration": 4,
    "start_time": "2021-06-11T07:34:41.454Z"
   },
   {
    "duration": 2,
    "start_time": "2021-06-11T07:34:41.610Z"
   },
   {
    "duration": 756,
    "start_time": "2021-06-11T07:34:41.762Z"
   },
   {
    "duration": 18,
    "start_time": "2021-06-11T07:34:42.520Z"
   },
   {
    "duration": 8,
    "start_time": "2021-06-11T07:34:42.541Z"
   },
   {
    "duration": 9,
    "start_time": "2021-06-11T07:34:42.717Z"
   },
   {
    "duration": 18,
    "start_time": "2021-06-11T07:34:42.889Z"
   },
   {
    "duration": 22,
    "start_time": "2021-06-11T07:34:43.370Z"
   },
   {
    "duration": 13,
    "start_time": "2021-06-11T07:34:43.542Z"
   },
   {
    "duration": 15,
    "start_time": "2021-06-11T07:34:43.870Z"
   },
   {
    "duration": 12,
    "start_time": "2021-06-11T07:34:44.046Z"
   },
   {
    "duration": 4,
    "start_time": "2021-06-11T07:34:44.391Z"
   },
   {
    "duration": 1737,
    "start_time": "2021-06-11T07:34:45.064Z"
   },
   {
    "duration": 800,
    "start_time": "2021-06-11T07:34:46.803Z"
   },
   {
    "duration": 668,
    "start_time": "2021-06-11T07:34:47.605Z"
   },
   {
    "duration": 15,
    "start_time": "2021-06-11T07:34:48.275Z"
   },
   {
    "duration": 3,
    "start_time": "2021-06-11T07:34:48.292Z"
   },
   {
    "duration": 9,
    "start_time": "2021-06-11T07:34:48.297Z"
   },
   {
    "duration": 3,
    "start_time": "2021-06-11T07:34:49.410Z"
   },
   {
    "duration": 14,
    "start_time": "2021-06-11T07:34:49.758Z"
   },
   {
    "duration": 5,
    "start_time": "2021-06-11T07:34:49.941Z"
   },
   {
    "duration": 3,
    "start_time": "2021-06-11T07:34:51.114Z"
   },
   {
    "duration": 19782,
    "start_time": "2021-06-11T07:34:51.637Z"
   },
   {
    "duration": 968,
    "start_time": "2021-06-11T07:35:11.421Z"
   },
   {
    "duration": 64748,
    "start_time": "2021-06-11T07:35:12.392Z"
   },
   {
    "duration": 2,
    "start_time": "2021-06-11T07:36:17.142Z"
   },
   {
    "duration": 26,
    "start_time": "2021-06-11T07:36:17.146Z"
   },
   {
    "duration": 11,
    "start_time": "2021-06-11T07:36:17.174Z"
   },
   {
    "duration": 19232,
    "start_time": "2021-06-11T07:36:28.789Z"
   },
   {
    "duration": 966,
    "start_time": "2021-06-11T07:36:48.023Z"
   },
   {
    "duration": 64624,
    "start_time": "2021-06-11T07:36:48.991Z"
   },
   {
    "duration": 3,
    "start_time": "2021-06-11T07:38:10.629Z"
   },
   {
    "duration": 19,
    "start_time": "2021-06-11T07:38:11.041Z"
   },
   {
    "duration": 9,
    "start_time": "2021-06-11T07:38:17.538Z"
   },
   {
    "duration": 58,
    "start_time": "2021-06-11T07:41:17.724Z"
   },
   {
    "duration": 1563,
    "start_time": "2021-06-20T09:28:31.890Z"
   },
   {
    "duration": 9,
    "start_time": "2021-06-20T09:28:55.343Z"
   },
   {
    "duration": 11,
    "start_time": "2021-06-20T09:29:35.678Z"
   },
   {
    "duration": 112,
    "start_time": "2021-06-20T09:30:00.247Z"
   },
   {
    "duration": 14,
    "start_time": "2021-06-20T09:30:04.697Z"
   },
   {
    "duration": 1524,
    "start_time": "2021-10-02T16:10:22.340Z"
   },
   {
    "duration": 3,
    "start_time": "2021-10-02T16:10:23.867Z"
   },
   {
    "duration": 969,
    "start_time": "2021-10-02T16:10:23.874Z"
   },
   {
    "duration": 24,
    "start_time": "2021-10-02T16:10:24.846Z"
   },
   {
    "duration": 16,
    "start_time": "2021-10-02T16:10:24.873Z"
   },
   {
    "duration": 15,
    "start_time": "2021-10-02T16:10:24.892Z"
   },
   {
    "duration": 68,
    "start_time": "2021-10-02T16:10:24.909Z"
   },
   {
    "duration": 32,
    "start_time": "2021-10-02T16:10:24.981Z"
   },
   {
    "duration": 18,
    "start_time": "2021-10-02T16:10:25.016Z"
   },
   {
    "duration": 21,
    "start_time": "2021-10-02T16:10:25.058Z"
   },
   {
    "duration": 19,
    "start_time": "2021-10-02T16:10:25.081Z"
   },
   {
    "duration": 6,
    "start_time": "2021-10-02T16:10:25.102Z"
   },
   {
    "duration": 2959,
    "start_time": "2021-10-02T16:10:25.110Z"
   },
   {
    "duration": 1311,
    "start_time": "2021-10-02T16:10:28.072Z"
   },
   {
    "duration": 886,
    "start_time": "2021-10-02T16:10:29.385Z"
   },
   {
    "duration": 14,
    "start_time": "2021-10-02T16:10:30.274Z"
   },
   {
    "duration": 7,
    "start_time": "2021-10-02T16:10:30.291Z"
   },
   {
    "duration": 16,
    "start_time": "2021-10-02T16:10:30.301Z"
   },
   {
    "duration": 51,
    "start_time": "2021-10-02T16:10:30.320Z"
   },
   {
    "duration": 22,
    "start_time": "2021-10-02T16:10:30.375Z"
   },
   {
    "duration": 8,
    "start_time": "2021-10-02T16:10:30.400Z"
   },
   {
    "duration": 6,
    "start_time": "2021-10-02T16:10:30.410Z"
   },
   {
    "duration": 25012,
    "start_time": "2021-10-02T16:10:30.421Z"
   },
   {
    "duration": 1025,
    "start_time": "2021-10-02T16:10:55.435Z"
   },
   {
    "duration": 87706,
    "start_time": "2021-10-02T16:10:56.463Z"
   },
   {
    "duration": 4,
    "start_time": "2021-10-02T16:12:24.171Z"
   },
   {
    "duration": 84,
    "start_time": "2021-10-02T16:12:24.177Z"
   },
   {
    "duration": 14,
    "start_time": "2021-10-02T16:12:24.265Z"
   },
   {
    "duration": 1509,
    "start_time": "2021-10-02T16:24:02.462Z"
   },
   {
    "duration": 4,
    "start_time": "2021-10-02T16:24:03.974Z"
   },
   {
    "duration": 996,
    "start_time": "2021-10-02T16:24:03.981Z"
   },
   {
    "duration": 22,
    "start_time": "2021-10-02T16:24:04.979Z"
   },
   {
    "duration": 14,
    "start_time": "2021-10-02T16:24:05.004Z"
   },
   {
    "duration": 42,
    "start_time": "2021-10-02T16:24:05.021Z"
   },
   {
    "duration": 35,
    "start_time": "2021-10-02T16:24:05.066Z"
   },
   {
    "duration": 57,
    "start_time": "2021-10-02T16:24:05.105Z"
   },
   {
    "duration": 18,
    "start_time": "2021-10-02T16:24:05.165Z"
   },
   {
    "duration": 20,
    "start_time": "2021-10-02T16:24:05.186Z"
   },
   {
    "duration": 24,
    "start_time": "2021-10-02T16:24:05.209Z"
   },
   {
    "duration": 6,
    "start_time": "2021-10-02T16:24:05.258Z"
   },
   {
    "duration": 2911,
    "start_time": "2021-10-02T16:24:05.267Z"
   },
   {
    "duration": 1280,
    "start_time": "2021-10-02T16:24:08.180Z"
   },
   {
    "duration": 869,
    "start_time": "2021-10-02T16:24:09.463Z"
   },
   {
    "duration": 28,
    "start_time": "2021-10-02T16:24:10.334Z"
   },
   {
    "duration": 6,
    "start_time": "2021-10-02T16:24:10.364Z"
   },
   {
    "duration": 14,
    "start_time": "2021-10-02T16:24:10.373Z"
   },
   {
    "duration": 13,
    "start_time": "2021-10-02T16:24:10.389Z"
   },
   {
    "duration": 54,
    "start_time": "2021-10-02T16:24:10.404Z"
   },
   {
    "duration": 6,
    "start_time": "2021-10-02T16:24:10.461Z"
   },
   {
    "duration": 6,
    "start_time": "2021-10-02T16:24:10.470Z"
   },
   {
    "duration": 24817,
    "start_time": "2021-10-02T16:24:10.481Z"
   },
   {
    "duration": 1159,
    "start_time": "2021-10-02T16:24:35.301Z"
   },
   {
    "duration": 86110,
    "start_time": "2021-10-02T16:24:36.463Z"
   },
   {
    "duration": 3,
    "start_time": "2021-10-02T16:26:02.576Z"
   },
   {
    "duration": 42,
    "start_time": "2021-10-02T16:26:02.581Z"
   },
   {
    "duration": 13,
    "start_time": "2021-10-02T16:26:02.626Z"
   }
  ],
  "kernelspec": {
   "display_name": "Python 3",
   "language": "python",
   "name": "python3"
  },
  "language_info": {
   "codemirror_mode": {
    "name": "ipython",
    "version": 3
   },
   "file_extension": ".py",
   "mimetype": "text/x-python",
   "name": "python",
   "nbconvert_exporter": "python",
   "pygments_lexer": "ipython3",
   "version": "3.7.8"
  },
  "toc": {
   "base_numbering": 1,
   "nav_menu": {},
   "number_sections": true,
   "sideBar": true,
   "skip_h1_title": true,
   "title_cell": "Содержание",
   "title_sidebar": "Contents",
   "toc_cell": true,
   "toc_position": {
    "height": "calc(100% - 180px)",
    "left": "10px",
    "top": "150px",
    "width": "165px"
   },
   "toc_section_display": true,
   "toc_window_display": true
  }
 },
 "nbformat": 4,
 "nbformat_minor": 2
}
