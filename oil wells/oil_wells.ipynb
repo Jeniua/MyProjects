import pandas as pd
import numpy as np
import matplotlib.pyplot as plt
import seaborn as sns
import plotly.express as px
from sklearn.linear_model import LinearRegression
from sklearn.preprocessing import StandardScaler
from sklearn.metrics import r2_score
from sklearn.metrics import mean_absolute_error
from sklearn.metrics import mean_squared_error
from sklearn.model_selection import train_test_split
from sklearn.model_selection import cross_val_score
import warnings
warnings.filterwarnings("ignore")

BUDGET = 10**10
INCOME_PER_BARREL = 450000
POINTS = 500
PREDICT_POINTS = 200
LOSE_PROBABILITY =  0.025
VOLUME=BUDGET/(INCOME_PER_BARREL*PREDICT_POINTS)

**Read data** 

df0=pd.read_csv('/datasets/geo_data_0.csv')
df0.name='1 location'
df1=pd.read_csv('/datasets/geo_data_1.csv')
df1.name='2 location'
df2=pd.read_csv('/datasets/geo_data_2.csv')
df2.name='3 location'
dfs=[df0,df1,df2]
df0.head()
