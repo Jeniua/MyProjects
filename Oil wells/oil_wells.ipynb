# Выбор локации для скважины
## Загрузка и подготовка данных
**Import**

import pandas as pd
import numpy as np
import matplotlib.pyplot as plt
import seaborn as sns
import plotly.express as px
from sklearn.linear_model import LinearRegression
from sklearn.preprocessing import StandardScaler
from sklearn.metrics import r2_score
from sklearn.metrics import mean_absolute_error
from sklearn.metrics import mean_squared_error
from sklearn.model_selection import train_test_split
from sklearn.model_selection import cross_val_score
import warnings
warnings.filterwarnings("ignore")


BUDGET = 10**10
INCOME_PER_BARREL = 450000
POINTS = 500
PREDICT_POINTS = 200
LOSE_PROBABILITY =  0.025
VOLUME=BUDGET/(INCOME_PER_BARREL*PREDICT_POINTS)

df0=pd.read_csv('/datasets/geo_data_0.csv')
df0.name='1 location'
df1=pd.read_csv('/datasets/geo_data_1.csv')
df1.name='2 location'
df2=pd.read_csv('/datasets/geo_data_2.csv')
df2.name='3 location'
dfs=[df0,df1,df2]
df0.head()

def info(df):
    print(df.name)
    print('shape:', df.shape)
    print('Na:',df.isna().sum().sum())
    print('Duplicates:',df.duplicated().sum())
    print('Describe:')
    print(df.describe())

def hists(df):
    for column in df.columns[1:]:
        title = 'Распределение значений столбца ' + column 
        fig = px.histogram(df,
                           x = column,
                           marginal = 'box',
                           nbins=30,
                           width=600, height=300,
                           title = title)

        fig.show()

def split(df,test_size=0.25,random_state=12345,stratify=None):
    features = df.drop(['product','id'],axis=1)
    target = df['product']
    features_train, features_valid, target_train, target_valid = train_test_split(
    features, target, test_size=test_size, random_state=random_state,stratify = stratify)
    return features_train, features_valid, target_train, target_valid

def learn_model(features_train, features_valid, target_train, target_valid):
    scaler = StandardScaler()
    scaler.fit(features_train) 
    features_train = scaler.transform(features_train)
    features_valid = scaler.transform(features_valid)
    model = LinearRegression()
    model.fit(features_train, target_train)
    predicted_valid = model.predict(features_valid)
    mse = mean_squared_error(target_valid, predicted_valid)
    rmse = mse ** 0.5
    average = sum(predicted_valid) / len(predicted_valid)
    predicted_valid = pd.Series(predicted_valid)
    predicted_valid.index=target_valid.index
    return predicted_valid,rmse,average

def revenue(target, prediction,count):
    volume_predict = prediction.sort_values(ascending=False)[:count]
    volume_real = target[volume_predict.index]
    profit = volume_real.sum()*INCOME_PER_BARREL - BUDGET
    return profit

state=np.random.RandomState(12345)
def profit(target,prediction):
    profit_values=[]
    for i in range(1000):
        target_subsample = target.sample(n=POINTS, replace=True, random_state=state)
        predictions_subsample = prediction[target_subsample.index]
        profit_values.append(revenue(target_subsample,predictions_subsample,PREDICT_POINTS))
    profit_values = pd.Series(profit_values)
    confidence_interval = (profit_values.quantile(0.025),profit_values.quantile(0.975))
    mean = profit_values.mean()
    risk=(profit_values<0).mean()
    return confidence_interval,mean,risk

for df in dfs:
    info(df)
    print('-----------------------------------------------------')
1 location
shape: (100000, 5)
Na: 0
Duplicates: 0
Describe:
                  f0             f1             f2        product
count  100000.000000  100000.000000  100000.000000  100000.000000
mean        0.500419       0.250143       2.502647      92.500000
std         0.871832       0.504433       3.248248      44.288691
min        -1.408605      -0.848218     -12.088328       0.000000
25%        -0.072580      -0.200881       0.287748      56.497507
50%         0.502360       0.250252       2.515969      91.849972
75%         1.073581       0.700646       4.715088     128.564089
max         2.362331       1.343769      16.003790     185.364347
-----------------------------------------------------
2 location
shape: (100000, 5)
Na: 0
Duplicates: 0
Describe:
                  f0             f1             f2        product
count  100000.000000  100000.000000  100000.000000  100000.000000
mean        1.141296      -4.796579       2.494541      68.825000
std         8.965932       5.119872       1.703572      45.944423
min       -31.609576     -26.358598      -0.018144       0.000000
25%        -6.298551      -8.267985       1.000021      26.953261
50%         1.153055      -4.813172       2.011479      57.085625
75%         8.621015      -1.332816       3.999904     107.813044
max        29.421755      18.734063       5.019721     137.945408
-----------------------------------------------------
3 location
shape: (100000, 5)
Na: 0
Duplicates: 0
Describe:
                  f0             f1             f2        product
count  100000.000000  100000.000000  100000.000000  100000.000000
mean        0.002023      -0.002081       2.495128      95.000000
std         1.732045       1.730417       3.473445      44.749921
min        -8.760004      -7.084020     -11.970335       0.000000
25%        -1.162288      -1.174820       0.130359      59.450441
50%         0.009424      -0.009482       2.484236      94.925613
75%         1.158535       1.163678       4.858794     130.595027
max         7.238262       7.844801      16.739402     190.029838
-----------------------------------------------------
