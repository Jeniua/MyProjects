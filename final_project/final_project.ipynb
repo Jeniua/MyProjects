{
 "cells": [
  {
   "cell_type": "markdown",
   "metadata": {},
   "source": [
    "# Содержаиние\n",
    "1) [Импорт данных](#part1)  \n",
    "2) [Исследовательский анализ данных](#part2)  \n",
    "3) [План работы](#part3)  \n",
    "4) [Предобработка данных](#part4)  \n",
    "5) [Обучение моделей](#part5)  \n",
    "6) [Вывод](#part6)"
   ]
  },
  {
   "cell_type": "markdown",
   "metadata": {},
   "source": [
    "<a name=\"part1\"></a>\n",
    "## Импорт данных "
   ]
  },
  {
   "cell_type": "code",
   "execution_count": 1,
   "metadata": {},
   "outputs": [],
   "source": [
    "import pandas as pd\n",
    "import numpy as np\n",
    "import warnings\n",
    "import pandas as pd\n",
    "import matplotlib.pyplot as plt\n",
    "from sklearn.model_selection import train_test_split\n",
    "from sklearn.model_selection import GridSearchCV\n",
    "from sklearn.linear_model import LinearRegression\n",
    "from sklearn.model_selection import cross_val_score\n",
    "from xgboost import XGBRegressor\n",
    "from sklearn.ensemble import RandomForestRegressor\n",
    "from sklearn.metrics import mean_absolute_error"
   ]
  },
  {
   "cell_type": "code",
   "execution_count": 2,
   "metadata": {},
   "outputs": [],
   "source": [
    "warnings.filterwarnings('ignore')"
   ]
  },
  {
   "cell_type": "code",
   "execution_count": 3,
   "metadata": {},
   "outputs": [],
   "source": [
    "data_arc = pd.read_csv('/datasets/final_steel/data_arc.csv')\n",
    "data_bulk = pd.read_csv('/datasets/final_steel/data_bulk.csv')\n",
    "data_bulk_time = pd.read_csv('/datasets/final_steel/data_bulk_time.csv')\n",
    "data_gas = pd.read_csv('/datasets/final_steel/data_gas.csv')\n",
    "data_temp = pd.read_csv('/datasets/final_steel/data_temp.csv')\n",
    "data_wire = pd.read_csv('/datasets/final_steel/data_wire.csv')\n",
    "data_wire_time = pd.read_csv('/datasets/final_steel/data_wire_time.csv')"
   ]
  },
  {
   "cell_type": "code",
   "execution_count": 4,
   "metadata": {},
   "outputs": [],
   "source": [
    "#datasets = [data_arc, data_bulk, data_bulk_time, data_gas, data_temp, data_wire, data_wire_time]\n",
    "#descriptions = ['данные об электродах', \"данные о подаче сыпучих материалов (объём)\", \"данные о подаче сыпучих материалов (время)\", \n",
    "             # \"данные о продувке сплава газом\", \"результаты измерения температуры\", \"данные о проволочных материалах (объём)\",\n",
    "            # \"данные о проволочных материалах (время)\"]\n",
    "#for dataset, description  in zip(datasets, descriptions):\n",
    "    #print('--------------'*3,description,'--------------'*3)\n",
    "    #print(dataset.info())"
   ]
  },
  {
   "cell_type": "markdown",
   "metadata": {},
   "source": [
    "<a name=\"part2\"></a>\n",
    "## Исследовательский анализ данных "
   ]
  },
  {
   "cell_type": "markdown",
   "metadata": {},
   "source": [
    "### Данные об электродах"
   ]
  },
  {
   "cell_type": "code",
   "execution_count": 5,
   "metadata": {},
   "outputs": [
    {
     "name": "stdout",
     "output_type": "stream",
     "text": [
      "<class 'pandas.core.frame.DataFrame'>\n",
      "RangeIndex: 14876 entries, 0 to 14875\n",
      "Data columns (total 5 columns):\n",
      "key                     14876 non-null int64\n",
      "Начало нагрева дугой    14876 non-null object\n",
      "Конец нагрева дугой     14876 non-null object\n",
      "Активная мощность       14876 non-null float64\n",
      "Реактивная мощность     14876 non-null float64\n",
      "dtypes: float64(2), int64(1), object(2)\n",
      "memory usage: 581.2+ KB\n"
     ]
    },
    {
     "data": {
      "text/html": [
       "<div>\n",
       "<style scoped>\n",
       "    .dataframe tbody tr th:only-of-type {\n",
       "        vertical-align: middle;\n",
       "    }\n",
       "\n",
       "    .dataframe tbody tr th {\n",
       "        vertical-align: top;\n",
       "    }\n",
       "\n",
       "    .dataframe thead th {\n",
       "        text-align: right;\n",
       "    }\n",
       "</style>\n",
       "<table border=\"1\" class=\"dataframe\">\n",
       "  <thead>\n",
       "    <tr style=\"text-align: right;\">\n",
       "      <th></th>\n",
       "      <th>key</th>\n",
       "      <th>Начало нагрева дугой</th>\n",
       "      <th>Конец нагрева дугой</th>\n",
       "      <th>Активная мощность</th>\n",
       "      <th>Реактивная мощность</th>\n",
       "    </tr>\n",
       "  </thead>\n",
       "  <tbody>\n",
       "    <tr>\n",
       "      <td>0</td>\n",
       "      <td>1</td>\n",
       "      <td>2019-05-03 11:02:14</td>\n",
       "      <td>2019-05-03 11:06:02</td>\n",
       "      <td>0.976059</td>\n",
       "      <td>0.687084</td>\n",
       "    </tr>\n",
       "    <tr>\n",
       "      <td>1</td>\n",
       "      <td>1</td>\n",
       "      <td>2019-05-03 11:07:28</td>\n",
       "      <td>2019-05-03 11:10:33</td>\n",
       "      <td>0.805607</td>\n",
       "      <td>0.520285</td>\n",
       "    </tr>\n",
       "    <tr>\n",
       "      <td>2</td>\n",
       "      <td>1</td>\n",
       "      <td>2019-05-03 11:11:44</td>\n",
       "      <td>2019-05-03 11:14:36</td>\n",
       "      <td>0.744363</td>\n",
       "      <td>0.498805</td>\n",
       "    </tr>\n",
       "    <tr>\n",
       "      <td>3</td>\n",
       "      <td>1</td>\n",
       "      <td>2019-05-03 11:18:14</td>\n",
       "      <td>2019-05-03 11:24:19</td>\n",
       "      <td>1.659363</td>\n",
       "      <td>1.062669</td>\n",
       "    </tr>\n",
       "    <tr>\n",
       "      <td>4</td>\n",
       "      <td>1</td>\n",
       "      <td>2019-05-03 11:26:09</td>\n",
       "      <td>2019-05-03 11:28:37</td>\n",
       "      <td>0.692755</td>\n",
       "      <td>0.414397</td>\n",
       "    </tr>\n",
       "    <tr>\n",
       "      <td>5</td>\n",
       "      <td>2</td>\n",
       "      <td>2019-05-03 11:34:14</td>\n",
       "      <td>2019-05-03 11:36:31</td>\n",
       "      <td>0.438063</td>\n",
       "      <td>0.283043</td>\n",
       "    </tr>\n",
       "    <tr>\n",
       "      <td>6</td>\n",
       "      <td>2</td>\n",
       "      <td>2019-05-03 11:38:50</td>\n",
       "      <td>2019-05-03 11:44:28</td>\n",
       "      <td>1.296415</td>\n",
       "      <td>0.892914</td>\n",
       "    </tr>\n",
       "    <tr>\n",
       "      <td>7</td>\n",
       "      <td>2</td>\n",
       "      <td>2019-05-03 11:46:19</td>\n",
       "      <td>2019-05-03 11:48:25</td>\n",
       "      <td>0.490377</td>\n",
       "      <td>0.305281</td>\n",
       "    </tr>\n",
       "    <tr>\n",
       "      <td>8</td>\n",
       "      <td>2</td>\n",
       "      <td>2019-05-03 11:49:48</td>\n",
       "      <td>2019-05-03 11:53:18</td>\n",
       "      <td>0.827743</td>\n",
       "      <td>0.516874</td>\n",
       "    </tr>\n",
       "    <tr>\n",
       "      <td>9</td>\n",
       "      <td>3</td>\n",
       "      <td>2019-05-03 12:06:54</td>\n",
       "      <td>2019-05-03 12:11:34</td>\n",
       "      <td>1.062053</td>\n",
       "      <td>0.671494</td>\n",
       "    </tr>\n",
       "  </tbody>\n",
       "</table>\n",
       "</div>"
      ],
      "text/plain": [
       "   key Начало нагрева дугой  Конец нагрева дугой  Активная мощность  \\\n",
       "0    1  2019-05-03 11:02:14  2019-05-03 11:06:02           0.976059   \n",
       "1    1  2019-05-03 11:07:28  2019-05-03 11:10:33           0.805607   \n",
       "2    1  2019-05-03 11:11:44  2019-05-03 11:14:36           0.744363   \n",
       "3    1  2019-05-03 11:18:14  2019-05-03 11:24:19           1.659363   \n",
       "4    1  2019-05-03 11:26:09  2019-05-03 11:28:37           0.692755   \n",
       "5    2  2019-05-03 11:34:14  2019-05-03 11:36:31           0.438063   \n",
       "6    2  2019-05-03 11:38:50  2019-05-03 11:44:28           1.296415   \n",
       "7    2  2019-05-03 11:46:19  2019-05-03 11:48:25           0.490377   \n",
       "8    2  2019-05-03 11:49:48  2019-05-03 11:53:18           0.827743   \n",
       "9    3  2019-05-03 12:06:54  2019-05-03 12:11:34           1.062053   \n",
       "\n",
       "   Реактивная мощность  \n",
       "0             0.687084  \n",
       "1             0.520285  \n",
       "2             0.498805  \n",
       "3             1.062669  \n",
       "4             0.414397  \n",
       "5             0.283043  \n",
       "6             0.892914  \n",
       "7             0.305281  \n",
       "8             0.516874  \n",
       "9             0.671494  "
      ]
     },
     "metadata": {},
     "output_type": "display_data"
    },
    {
     "data": {
      "text/plain": [
       "None"
      ]
     },
     "metadata": {},
     "output_type": "display_data"
    }
   ],
   "source": [
    "display(data_arc.head(10), data_arc.info())"
   ]
  },
  {
   "cell_type": "code",
   "execution_count": 6,
   "metadata": {},
   "outputs": [
    {
     "name": "stdout",
     "output_type": "stream",
     "text": [
      "count    14876.000000\n",
      "mean         0.670441\n",
      "std          0.408159\n",
      "min          0.030002\n",
      "25%          0.395297\n",
      "50%          0.555517\n",
      "75%          0.857034\n",
      "max          3.731596\n",
      "Name: Активная мощность, dtype: float64\n"
     ]
    },
    {
     "data": {
      "text/plain": [
       "<matplotlib.axes._subplots.AxesSubplot at 0x7fd14ec26d90>"
      ]
     },
     "execution_count": 6,
     "metadata": {},
     "output_type": "execute_result"
    },
    {
     "data": {
      "image/png": "[encoded data removed]",
      "text/plain": [
       "<Figure size 864x720 with 1 Axes>"
      ]
     },
     "metadata": {
      "needs_background": "light"
     },
     "output_type": "display_data"
    }
   ],
   "source": [
    "print(data_arc['Активная мощность'].describe())\n",
    "data_arc['Активная мощность'].hist(bins = 130, figsize=(12,10))"
   ]
  },
  {
   "cell_type": "code",
   "execution_count": 7,
   "metadata": {},
   "outputs": [
    {
     "name": "stdout",
     "output_type": "stream",
     "text": [
      "0.003428340951868782\n"
     ]
    }
   ],
   "source": [
    "print(len(data_arc[data_arc['Активная мощность'] >= 2.5])/len(data_arc))"
   ]
  },
  {
   "cell_type": "code",
   "execution_count": 8,
   "metadata": {},
   "outputs": [
    {
     "data": {
      "text/plain": [
       "count    14876.000000\n",
       "mean         0.452592\n",
       "std          5.878702\n",
       "min       -715.504924\n",
       "25%          0.290991\n",
       "50%          0.415962\n",
       "75%          0.637371\n",
       "max          2.676388\n",
       "Name: Реактивная мощность, dtype: float64"
      ]
     },
     "metadata": {},
     "output_type": "display_data"
    },
    {
     "data": {
      "text/plain": [
       "count    14875.000000\n",
       "mean         0.500723\n",
       "std          0.310880\n",
       "min          0.020806\n",
       "25%          0.291003\n",
       "50%          0.415984\n",
       "75%          0.637403\n",
       "max          2.676388\n",
       "Name: Реактивная мощность, dtype: float64"
      ]
     },
     "metadata": {},
     "output_type": "display_data"
    },
    {
     "data": {
      "text/plain": [
       "<matplotlib.axes._subplots.AxesSubplot at 0x7fd14e826a10>"
      ]
     },
     "execution_count": 8,
     "metadata": {},
     "output_type": "execute_result"
    },
    {
     "data": {
      "image/png": "[encoded data removed]",
      "text/plain": [
       "<Figure size 864x720 with 1 Axes>"
      ]
     },
     "metadata": {
      "needs_background": "light"
     },
     "output_type": "display_data"
    }
   ],
   "source": [
    "display(data_arc['Реактивная мощность'].describe())\n",
    "data_arc = data_arc[data_arc['Реактивная мощность'] > 0]\n",
    "display(data_arc['Реактивная мощность'].describe())\n",
    "data_arc['Реактивная мощность'].hist(bins = 100, figsize = (12,10))"
   ]
  },
  {
   "cell_type": "code",
   "execution_count": 9,
   "metadata": {},
   "outputs": [
    {
     "name": "stdout",
     "output_type": "stream",
     "text": [
      "0.0017478991596638655\n"
     ]
    }
   ],
   "source": [
    "print(len(data_arc[data_arc['Реактивная мощность'] >= 2])/len(data_arc))"
   ]
  },
  {
   "cell_type": "markdown",
   "metadata": {},
   "source": [
    "### данные о подаче сыпучих материалов (объём)"
   ]
  },
  {
   "cell_type": "code",
   "execution_count": 10,
   "metadata": {},
   "outputs": [
    {
     "name": "stdout",
     "output_type": "stream",
     "text": [
      "<class 'pandas.core.frame.DataFrame'>\n",
      "RangeIndex: 3129 entries, 0 to 3128\n",
      "Data columns (total 16 columns):\n",
      "key        3129 non-null int64\n",
      "Bulk 1     252 non-null float64\n",
      "Bulk 2     22 non-null float64\n",
      "Bulk 3     1298 non-null float64\n",
      "Bulk 4     1014 non-null float64\n",
      "Bulk 5     77 non-null float64\n",
      "Bulk 6     576 non-null float64\n",
      "Bulk 7     25 non-null float64\n",
      "Bulk 8     1 non-null float64\n",
      "Bulk 9     19 non-null float64\n",
      "Bulk 10    176 non-null float64\n",
      "Bulk 11    177 non-null float64\n",
      "Bulk 12    2450 non-null float64\n",
      "Bulk 13    18 non-null float64\n",
      "Bulk 14    2806 non-null float64\n",
      "Bulk 15    2248 non-null float64\n",
      "dtypes: float64(15), int64(1)\n",
      "memory usage: 391.2 KB\n"
     ]
    },
    {
     "data": {
      "text/html": [
       "<div>\n",
       "<style scoped>\n",
       "    .dataframe tbody tr th:only-of-type {\n",
       "        vertical-align: middle;\n",
       "    }\n",
       "\n",
       "    .dataframe tbody tr th {\n",
       "        vertical-align: top;\n",
       "    }\n",
       "\n",
       "    .dataframe thead th {\n",
       "        text-align: right;\n",
       "    }\n",
       "</style>\n",
       "<table border=\"1\" class=\"dataframe\">\n",
       "  <thead>\n",
       "    <tr style=\"text-align: right;\">\n",
       "      <th></th>\n",
       "      <th>key</th>\n",
       "      <th>Bulk 1</th>\n",
       "      <th>Bulk 2</th>\n",
       "      <th>Bulk 3</th>\n",
       "      <th>Bulk 4</th>\n",
       "      <th>Bulk 5</th>\n",
       "      <th>Bulk 6</th>\n",
       "      <th>Bulk 7</th>\n",
       "      <th>Bulk 8</th>\n",
       "      <th>Bulk 9</th>\n",
       "      <th>Bulk 10</th>\n",
       "      <th>Bulk 11</th>\n",
       "      <th>Bulk 12</th>\n",
       "      <th>Bulk 13</th>\n",
       "      <th>Bulk 14</th>\n",
       "      <th>Bulk 15</th>\n",
       "    </tr>\n",
       "  </thead>\n",
       "  <tbody>\n",
       "    <tr>\n",
       "      <td>0</td>\n",
       "      <td>1</td>\n",
       "      <td>NaN</td>\n",
       "      <td>NaN</td>\n",
       "      <td>NaN</td>\n",
       "      <td>43.0</td>\n",
       "      <td>NaN</td>\n",
       "      <td>NaN</td>\n",
       "      <td>NaN</td>\n",
       "      <td>NaN</td>\n",
       "      <td>NaN</td>\n",
       "      <td>NaN</td>\n",
       "      <td>NaN</td>\n",
       "      <td>206.0</td>\n",
       "      <td>NaN</td>\n",
       "      <td>150.0</td>\n",
       "      <td>154.0</td>\n",
       "    </tr>\n",
       "    <tr>\n",
       "      <td>1</td>\n",
       "      <td>2</td>\n",
       "      <td>NaN</td>\n",
       "      <td>NaN</td>\n",
       "      <td>NaN</td>\n",
       "      <td>73.0</td>\n",
       "      <td>NaN</td>\n",
       "      <td>NaN</td>\n",
       "      <td>NaN</td>\n",
       "      <td>NaN</td>\n",
       "      <td>NaN</td>\n",
       "      <td>NaN</td>\n",
       "      <td>NaN</td>\n",
       "      <td>206.0</td>\n",
       "      <td>NaN</td>\n",
       "      <td>149.0</td>\n",
       "      <td>154.0</td>\n",
       "    </tr>\n",
       "    <tr>\n",
       "      <td>2</td>\n",
       "      <td>3</td>\n",
       "      <td>NaN</td>\n",
       "      <td>NaN</td>\n",
       "      <td>NaN</td>\n",
       "      <td>34.0</td>\n",
       "      <td>NaN</td>\n",
       "      <td>NaN</td>\n",
       "      <td>NaN</td>\n",
       "      <td>NaN</td>\n",
       "      <td>NaN</td>\n",
       "      <td>NaN</td>\n",
       "      <td>NaN</td>\n",
       "      <td>205.0</td>\n",
       "      <td>NaN</td>\n",
       "      <td>152.0</td>\n",
       "      <td>153.0</td>\n",
       "    </tr>\n",
       "    <tr>\n",
       "      <td>3</td>\n",
       "      <td>4</td>\n",
       "      <td>NaN</td>\n",
       "      <td>NaN</td>\n",
       "      <td>NaN</td>\n",
       "      <td>81.0</td>\n",
       "      <td>NaN</td>\n",
       "      <td>NaN</td>\n",
       "      <td>NaN</td>\n",
       "      <td>NaN</td>\n",
       "      <td>NaN</td>\n",
       "      <td>NaN</td>\n",
       "      <td>NaN</td>\n",
       "      <td>207.0</td>\n",
       "      <td>NaN</td>\n",
       "      <td>153.0</td>\n",
       "      <td>154.0</td>\n",
       "    </tr>\n",
       "    <tr>\n",
       "      <td>4</td>\n",
       "      <td>5</td>\n",
       "      <td>NaN</td>\n",
       "      <td>NaN</td>\n",
       "      <td>NaN</td>\n",
       "      <td>78.0</td>\n",
       "      <td>NaN</td>\n",
       "      <td>NaN</td>\n",
       "      <td>NaN</td>\n",
       "      <td>NaN</td>\n",
       "      <td>NaN</td>\n",
       "      <td>NaN</td>\n",
       "      <td>NaN</td>\n",
       "      <td>203.0</td>\n",
       "      <td>NaN</td>\n",
       "      <td>151.0</td>\n",
       "      <td>152.0</td>\n",
       "    </tr>\n",
       "    <tr>\n",
       "      <td>...</td>\n",
       "      <td>...</td>\n",
       "      <td>...</td>\n",
       "      <td>...</td>\n",
       "      <td>...</td>\n",
       "      <td>...</td>\n",
       "      <td>...</td>\n",
       "      <td>...</td>\n",
       "      <td>...</td>\n",
       "      <td>...</td>\n",
       "      <td>...</td>\n",
       "      <td>...</td>\n",
       "      <td>...</td>\n",
       "      <td>...</td>\n",
       "      <td>...</td>\n",
       "      <td>...</td>\n",
       "      <td>...</td>\n",
       "    </tr>\n",
       "    <tr>\n",
       "      <td>95</td>\n",
       "      <td>107</td>\n",
       "      <td>NaN</td>\n",
       "      <td>NaN</td>\n",
       "      <td>NaN</td>\n",
       "      <td>NaN</td>\n",
       "      <td>NaN</td>\n",
       "      <td>NaN</td>\n",
       "      <td>NaN</td>\n",
       "      <td>NaN</td>\n",
       "      <td>NaN</td>\n",
       "      <td>NaN</td>\n",
       "      <td>NaN</td>\n",
       "      <td>204.0</td>\n",
       "      <td>NaN</td>\n",
       "      <td>100.0</td>\n",
       "      <td>202.0</td>\n",
       "    </tr>\n",
       "    <tr>\n",
       "      <td>96</td>\n",
       "      <td>108</td>\n",
       "      <td>NaN</td>\n",
       "      <td>NaN</td>\n",
       "      <td>NaN</td>\n",
       "      <td>NaN</td>\n",
       "      <td>NaN</td>\n",
       "      <td>72.0</td>\n",
       "      <td>NaN</td>\n",
       "      <td>NaN</td>\n",
       "      <td>NaN</td>\n",
       "      <td>NaN</td>\n",
       "      <td>23.0</td>\n",
       "      <td>206.0</td>\n",
       "      <td>NaN</td>\n",
       "      <td>103.0</td>\n",
       "      <td>202.0</td>\n",
       "    </tr>\n",
       "    <tr>\n",
       "      <td>97</td>\n",
       "      <td>109</td>\n",
       "      <td>NaN</td>\n",
       "      <td>NaN</td>\n",
       "      <td>NaN</td>\n",
       "      <td>NaN</td>\n",
       "      <td>NaN</td>\n",
       "      <td>NaN</td>\n",
       "      <td>NaN</td>\n",
       "      <td>NaN</td>\n",
       "      <td>NaN</td>\n",
       "      <td>NaN</td>\n",
       "      <td>NaN</td>\n",
       "      <td>206.0</td>\n",
       "      <td>NaN</td>\n",
       "      <td>101.0</td>\n",
       "      <td>203.0</td>\n",
       "    </tr>\n",
       "    <tr>\n",
       "      <td>98</td>\n",
       "      <td>111</td>\n",
       "      <td>NaN</td>\n",
       "      <td>NaN</td>\n",
       "      <td>NaN</td>\n",
       "      <td>NaN</td>\n",
       "      <td>NaN</td>\n",
       "      <td>NaN</td>\n",
       "      <td>NaN</td>\n",
       "      <td>NaN</td>\n",
       "      <td>NaN</td>\n",
       "      <td>NaN</td>\n",
       "      <td>NaN</td>\n",
       "      <td>205.0</td>\n",
       "      <td>NaN</td>\n",
       "      <td>106.0</td>\n",
       "      <td>204.0</td>\n",
       "    </tr>\n",
       "    <tr>\n",
       "      <td>99</td>\n",
       "      <td>112</td>\n",
       "      <td>NaN</td>\n",
       "      <td>NaN</td>\n",
       "      <td>23.0</td>\n",
       "      <td>NaN</td>\n",
       "      <td>NaN</td>\n",
       "      <td>NaN</td>\n",
       "      <td>NaN</td>\n",
       "      <td>NaN</td>\n",
       "      <td>NaN</td>\n",
       "      <td>NaN</td>\n",
       "      <td>NaN</td>\n",
       "      <td>NaN</td>\n",
       "      <td>NaN</td>\n",
       "      <td>NaN</td>\n",
       "      <td>NaN</td>\n",
       "    </tr>\n",
       "  </tbody>\n",
       "</table>\n",
       "<p>100 rows × 16 columns</p>\n",
       "</div>"
      ],
      "text/plain": [
       "    key  Bulk 1  Bulk 2  Bulk 3  Bulk 4  Bulk 5  Bulk 6  Bulk 7  Bulk 8  \\\n",
       "0     1     NaN     NaN     NaN    43.0     NaN     NaN     NaN     NaN   \n",
       "1     2     NaN     NaN     NaN    73.0     NaN     NaN     NaN     NaN   \n",
       "2     3     NaN     NaN     NaN    34.0     NaN     NaN     NaN     NaN   \n",
       "3     4     NaN     NaN     NaN    81.0     NaN     NaN     NaN     NaN   \n",
       "4     5     NaN     NaN     NaN    78.0     NaN     NaN     NaN     NaN   \n",
       "..  ...     ...     ...     ...     ...     ...     ...     ...     ...   \n",
       "95  107     NaN     NaN     NaN     NaN     NaN     NaN     NaN     NaN   \n",
       "96  108     NaN     NaN     NaN     NaN     NaN    72.0     NaN     NaN   \n",
       "97  109     NaN     NaN     NaN     NaN     NaN     NaN     NaN     NaN   \n",
       "98  111     NaN     NaN     NaN     NaN     NaN     NaN     NaN     NaN   \n",
       "99  112     NaN     NaN    23.0     NaN     NaN     NaN     NaN     NaN   \n",
       "\n",
       "    Bulk 9  Bulk 10  Bulk 11  Bulk 12  Bulk 13  Bulk 14  Bulk 15  \n",
       "0      NaN      NaN      NaN    206.0      NaN    150.0    154.0  \n",
       "1      NaN      NaN      NaN    206.0      NaN    149.0    154.0  \n",
       "2      NaN      NaN      NaN    205.0      NaN    152.0    153.0  \n",
       "3      NaN      NaN      NaN    207.0      NaN    153.0    154.0  \n",
       "4      NaN      NaN      NaN    203.0      NaN    151.0    152.0  \n",
       "..     ...      ...      ...      ...      ...      ...      ...  \n",
       "95     NaN      NaN      NaN    204.0      NaN    100.0    202.0  \n",
       "96     NaN      NaN     23.0    206.0      NaN    103.0    202.0  \n",
       "97     NaN      NaN      NaN    206.0      NaN    101.0    203.0  \n",
       "98     NaN      NaN      NaN    205.0      NaN    106.0    204.0  \n",
       "99     NaN      NaN      NaN      NaN      NaN      NaN      NaN  \n",
       "\n",
       "[100 rows x 16 columns]"
      ]
     },
     "metadata": {},
     "output_type": "display_data"
    },
    {
     "data": {
      "text/plain": [
       "None"
      ]
     },
     "metadata": {},
     "output_type": "display_data"
    }
   ],
   "source": [
    "display(data_bulk.head(100), data_bulk.info())"
   ]
  },
  {
   "cell_type": "code",
   "execution_count": 11,
   "metadata": {
    "scrolled": false
   },
   "outputs": [
    {
     "name": "stdout",
     "output_type": "stream",
     "text": [
      "Bulk 1\n"
     ]
    },
    {
     "data": {
      "text/plain": [
       "count    252.000000\n",
       "mean      39.242063\n",
       "std       18.277654\n",
       "min       10.000000\n",
       "25%       27.000000\n",
       "50%       31.000000\n",
       "75%       46.000000\n",
       "max      185.000000\n",
       "Name: Bulk 1, dtype: float64"
      ]
     },
     "metadata": {},
     "output_type": "display_data"
    },
    {
     "name": "stdout",
     "output_type": "stream",
     "text": [
      "Bulk 2\n"
     ]
    },
    {
     "data": {
      "text/plain": [
       "count     22.000000\n",
       "mean     253.045455\n",
       "std       21.180578\n",
       "min      228.000000\n",
       "25%      242.000000\n",
       "50%      251.500000\n",
       "75%      257.750000\n",
       "max      325.000000\n",
       "Name: Bulk 2, dtype: float64"
      ]
     },
     "metadata": {},
     "output_type": "display_data"
    },
    {
     "name": "stdout",
     "output_type": "stream",
     "text": [
      "Bulk 3\n"
     ]
    },
    {
     "data": {
      "text/plain": [
       "count    1298.000000\n",
       "mean      113.879045\n",
       "std        75.483494\n",
       "min         6.000000\n",
       "25%        58.000000\n",
       "50%        97.500000\n",
       "75%       152.000000\n",
       "max       454.000000\n",
       "Name: Bulk 3, dtype: float64"
      ]
     },
     "metadata": {},
     "output_type": "display_data"
    },
    {
     "name": "stdout",
     "output_type": "stream",
     "text": [
      "Bulk 4\n"
     ]
    },
    {
     "data": {
      "text/plain": [
       "count    1014.000000\n",
       "mean      104.394477\n",
       "std        48.184126\n",
       "min        12.000000\n",
       "25%        72.000000\n",
       "50%       102.000000\n",
       "75%       133.000000\n",
       "max       281.000000\n",
       "Name: Bulk 4, dtype: float64"
      ]
     },
     "metadata": {},
     "output_type": "display_data"
    },
    {
     "name": "stdout",
     "output_type": "stream",
     "text": [
      "Bulk 5\n"
     ]
    },
    {
     "data": {
      "text/plain": [
       "count     77.000000\n",
       "mean     107.025974\n",
       "std       81.790646\n",
       "min       11.000000\n",
       "25%       70.000000\n",
       "50%       86.000000\n",
       "75%      132.000000\n",
       "max      603.000000\n",
       "Name: Bulk 5, dtype: float64"
      ]
     },
     "metadata": {},
     "output_type": "display_data"
    },
    {
     "name": "stdout",
     "output_type": "stream",
     "text": [
      "Bulk 6\n"
     ]
    },
    {
     "data": {
      "text/plain": [
       "count    576.000000\n",
       "mean     118.925347\n",
       "std       72.057776\n",
       "min       17.000000\n",
       "25%       69.750000\n",
       "50%      100.000000\n",
       "75%      157.000000\n",
       "max      503.000000\n",
       "Name: Bulk 6, dtype: float64"
      ]
     },
     "metadata": {},
     "output_type": "display_data"
    },
    {
     "name": "stdout",
     "output_type": "stream",
     "text": [
      "Bulk 7\n"
     ]
    },
    {
     "data": {
      "text/plain": [
       "count     25.000000\n",
       "mean     305.600000\n",
       "std      191.022904\n",
       "min       47.000000\n",
       "25%      155.000000\n",
       "50%      298.000000\n",
       "75%      406.000000\n",
       "max      772.000000\n",
       "Name: Bulk 7, dtype: float64"
      ]
     },
     "metadata": {},
     "output_type": "display_data"
    },
    {
     "name": "stdout",
     "output_type": "stream",
     "text": [
      "Bulk 8\n"
     ]
    },
    {
     "data": {
      "text/plain": [
       "count     1.0\n",
       "mean     49.0\n",
       "std       NaN\n",
       "min      49.0\n",
       "25%      49.0\n",
       "50%      49.0\n",
       "75%      49.0\n",
       "max      49.0\n",
       "Name: Bulk 8, dtype: float64"
      ]
     },
     "metadata": {},
     "output_type": "display_data"
    },
    {
     "name": "stdout",
     "output_type": "stream",
     "text": [
      "Bulk 9\n"
     ]
    },
    {
     "data": {
      "text/plain": [
       "count     19.000000\n",
       "mean      76.315789\n",
       "std       21.720581\n",
       "min       63.000000\n",
       "25%       66.000000\n",
       "50%       68.000000\n",
       "75%       70.500000\n",
       "max      147.000000\n",
       "Name: Bulk 9, dtype: float64"
      ]
     },
     "metadata": {},
     "output_type": "display_data"
    },
    {
     "name": "stdout",
     "output_type": "stream",
     "text": [
      "Bulk 10\n"
     ]
    },
    {
     "data": {
      "text/plain": [
       "count    176.000000\n",
       "mean      83.284091\n",
       "std       26.060347\n",
       "min       24.000000\n",
       "25%       64.000000\n",
       "50%       86.500000\n",
       "75%      102.000000\n",
       "max      159.000000\n",
       "Name: Bulk 10, dtype: float64"
      ]
     },
     "metadata": {},
     "output_type": "display_data"
    },
    {
     "name": "stdout",
     "output_type": "stream",
     "text": [
      "Bulk 11\n"
     ]
    },
    {
     "data": {
      "text/plain": [
       "count    177.000000\n",
       "mean      76.819209\n",
       "std       59.655365\n",
       "min        8.000000\n",
       "25%       25.000000\n",
       "50%       64.000000\n",
       "75%      106.000000\n",
       "max      313.000000\n",
       "Name: Bulk 11, dtype: float64"
      ]
     },
     "metadata": {},
     "output_type": "display_data"
    },
    {
     "name": "stdout",
     "output_type": "stream",
     "text": [
      "Bulk 12\n"
     ]
    },
    {
     "data": {
      "text/plain": [
       "count    2450.000000\n",
       "mean      260.471020\n",
       "std       120.649269\n",
       "min        53.000000\n",
       "25%       204.000000\n",
       "50%       208.000000\n",
       "75%       316.000000\n",
       "max      1849.000000\n",
       "Name: Bulk 12, dtype: float64"
      ]
     },
     "metadata": {},
     "output_type": "display_data"
    },
    {
     "name": "stdout",
     "output_type": "stream",
     "text": [
      "Bulk 13\n"
     ]
    },
    {
     "data": {
      "text/plain": [
       "count     18.000000\n",
       "mean     181.111111\n",
       "std       46.088009\n",
       "min      151.000000\n",
       "25%      153.250000\n",
       "50%      155.500000\n",
       "75%      203.500000\n",
       "max      305.000000\n",
       "Name: Bulk 13, dtype: float64"
      ]
     },
     "metadata": {},
     "output_type": "display_data"
    },
    {
     "name": "stdout",
     "output_type": "stream",
     "text": [
      "Bulk 14\n"
     ]
    },
    {
     "data": {
      "text/plain": [
       "count    2806.000000\n",
       "mean      170.284747\n",
       "std        65.868652\n",
       "min        16.000000\n",
       "25%       119.000000\n",
       "50%       151.000000\n",
       "75%       205.750000\n",
       "max       636.000000\n",
       "Name: Bulk 14, dtype: float64"
      ]
     },
     "metadata": {},
     "output_type": "display_data"
    },
    {
     "name": "stdout",
     "output_type": "stream",
     "text": [
      "Bulk 15\n"
     ]
    },
    {
     "data": {
      "text/plain": [
       "count    2248.000000\n",
       "mean      160.513345\n",
       "std        51.765319\n",
       "min         1.000000\n",
       "25%       105.000000\n",
       "50%       160.000000\n",
       "75%       205.000000\n",
       "max       405.000000\n",
       "Name: Bulk 15, dtype: float64"
      ]
     },
     "metadata": {},
     "output_type": "display_data"
    }
   ],
   "source": [
    "for column in data_bulk.columns:\n",
    "    if column[0] == 'B':\n",
    "        print(column)\n",
    "        display(data_bulk[column].describe())"
   ]
  },
  {
   "cell_type": "markdown",
   "metadata": {},
   "source": [
    "### данные о подаче сыпучих материалов (время)"
   ]
  },
  {
   "cell_type": "code",
   "execution_count": 12,
   "metadata": {},
   "outputs": [
    {
     "name": "stdout",
     "output_type": "stream",
     "text": [
      "<class 'pandas.core.frame.DataFrame'>\n",
      "RangeIndex: 3129 entries, 0 to 3128\n",
      "Data columns (total 16 columns):\n",
      "key        3129 non-null int64\n",
      "Bulk 1     252 non-null object\n",
      "Bulk 2     22 non-null object\n",
      "Bulk 3     1298 non-null object\n",
      "Bulk 4     1014 non-null object\n",
      "Bulk 5     77 non-null object\n",
      "Bulk 6     576 non-null object\n",
      "Bulk 7     25 non-null object\n",
      "Bulk 8     1 non-null object\n",
      "Bulk 9     19 non-null object\n",
      "Bulk 10    176 non-null object\n",
      "Bulk 11    177 non-null object\n",
      "Bulk 12    2450 non-null object\n",
      "Bulk 13    18 non-null object\n",
      "Bulk 14    2806 non-null object\n",
      "Bulk 15    2248 non-null object\n",
      "dtypes: int64(1), object(15)\n",
      "memory usage: 391.2+ KB\n"
     ]
    },
    {
     "data": {
      "text/html": [
       "<div>\n",
       "<style scoped>\n",
       "    .dataframe tbody tr th:only-of-type {\n",
       "        vertical-align: middle;\n",
       "    }\n",
       "\n",
       "    .dataframe tbody tr th {\n",
       "        vertical-align: top;\n",
       "    }\n",
       "\n",
       "    .dataframe thead th {\n",
       "        text-align: right;\n",
       "    }\n",
       "</style>\n",
       "<table border=\"1\" class=\"dataframe\">\n",
       "  <thead>\n",
       "    <tr style=\"text-align: right;\">\n",
       "      <th></th>\n",
       "      <th>key</th>\n",
       "      <th>Bulk 1</th>\n",
       "      <th>Bulk 2</th>\n",
       "      <th>Bulk 3</th>\n",
       "      <th>Bulk 4</th>\n",
       "      <th>Bulk 5</th>\n",
       "      <th>Bulk 6</th>\n",
       "      <th>Bulk 7</th>\n",
       "      <th>Bulk 8</th>\n",
       "      <th>Bulk 9</th>\n",
       "      <th>Bulk 10</th>\n",
       "      <th>Bulk 11</th>\n",
       "      <th>Bulk 12</th>\n",
       "      <th>Bulk 13</th>\n",
       "      <th>Bulk 14</th>\n",
       "      <th>Bulk 15</th>\n",
       "    </tr>\n",
       "  </thead>\n",
       "  <tbody>\n",
       "    <tr>\n",
       "      <td>0</td>\n",
       "      <td>1</td>\n",
       "      <td>NaN</td>\n",
       "      <td>NaN</td>\n",
       "      <td>NaN</td>\n",
       "      <td>2019-05-03 11:21:30</td>\n",
       "      <td>NaN</td>\n",
       "      <td>NaN</td>\n",
       "      <td>NaN</td>\n",
       "      <td>NaN</td>\n",
       "      <td>NaN</td>\n",
       "      <td>NaN</td>\n",
       "      <td>NaN</td>\n",
       "      <td>2019-05-03 11:03:52</td>\n",
       "      <td>NaN</td>\n",
       "      <td>2019-05-03 11:03:52</td>\n",
       "      <td>2019-05-03 11:03:52</td>\n",
       "    </tr>\n",
       "    <tr>\n",
       "      <td>1</td>\n",
       "      <td>2</td>\n",
       "      <td>NaN</td>\n",
       "      <td>NaN</td>\n",
       "      <td>NaN</td>\n",
       "      <td>2019-05-03 11:46:38</td>\n",
       "      <td>NaN</td>\n",
       "      <td>NaN</td>\n",
       "      <td>NaN</td>\n",
       "      <td>NaN</td>\n",
       "      <td>NaN</td>\n",
       "      <td>NaN</td>\n",
       "      <td>NaN</td>\n",
       "      <td>2019-05-03 11:40:20</td>\n",
       "      <td>NaN</td>\n",
       "      <td>2019-05-03 11:40:20</td>\n",
       "      <td>2019-05-03 11:40:20</td>\n",
       "    </tr>\n",
       "    <tr>\n",
       "      <td>2</td>\n",
       "      <td>3</td>\n",
       "      <td>NaN</td>\n",
       "      <td>NaN</td>\n",
       "      <td>NaN</td>\n",
       "      <td>2019-05-03 12:31:06</td>\n",
       "      <td>NaN</td>\n",
       "      <td>NaN</td>\n",
       "      <td>NaN</td>\n",
       "      <td>NaN</td>\n",
       "      <td>NaN</td>\n",
       "      <td>NaN</td>\n",
       "      <td>NaN</td>\n",
       "      <td>2019-05-03 12:09:40</td>\n",
       "      <td>NaN</td>\n",
       "      <td>2019-05-03 12:09:40</td>\n",
       "      <td>2019-05-03 12:09:40</td>\n",
       "    </tr>\n",
       "    <tr>\n",
       "      <td>3</td>\n",
       "      <td>4</td>\n",
       "      <td>NaN</td>\n",
       "      <td>NaN</td>\n",
       "      <td>NaN</td>\n",
       "      <td>2019-05-03 12:48:43</td>\n",
       "      <td>NaN</td>\n",
       "      <td>NaN</td>\n",
       "      <td>NaN</td>\n",
       "      <td>NaN</td>\n",
       "      <td>NaN</td>\n",
       "      <td>NaN</td>\n",
       "      <td>NaN</td>\n",
       "      <td>2019-05-03 12:41:24</td>\n",
       "      <td>NaN</td>\n",
       "      <td>2019-05-03 12:41:24</td>\n",
       "      <td>2019-05-03 12:41:24</td>\n",
       "    </tr>\n",
       "    <tr>\n",
       "      <td>4</td>\n",
       "      <td>5</td>\n",
       "      <td>NaN</td>\n",
       "      <td>NaN</td>\n",
       "      <td>NaN</td>\n",
       "      <td>2019-05-03 13:18:50</td>\n",
       "      <td>NaN</td>\n",
       "      <td>NaN</td>\n",
       "      <td>NaN</td>\n",
       "      <td>NaN</td>\n",
       "      <td>NaN</td>\n",
       "      <td>NaN</td>\n",
       "      <td>NaN</td>\n",
       "      <td>2019-05-03 13:12:56</td>\n",
       "      <td>NaN</td>\n",
       "      <td>2019-05-03 13:12:56</td>\n",
       "      <td>2019-05-03 13:12:56</td>\n",
       "    </tr>\n",
       "    <tr>\n",
       "      <td>5</td>\n",
       "      <td>6</td>\n",
       "      <td>NaN</td>\n",
       "      <td>NaN</td>\n",
       "      <td>NaN</td>\n",
       "      <td>2019-05-03 13:59:24</td>\n",
       "      <td>NaN</td>\n",
       "      <td>NaN</td>\n",
       "      <td>NaN</td>\n",
       "      <td>NaN</td>\n",
       "      <td>NaN</td>\n",
       "      <td>NaN</td>\n",
       "      <td>NaN</td>\n",
       "      <td>2019-05-03 13:53:27</td>\n",
       "      <td>NaN</td>\n",
       "      <td>2019-05-03 13:53:27</td>\n",
       "      <td>2019-05-03 13:53:27</td>\n",
       "    </tr>\n",
       "    <tr>\n",
       "      <td>6</td>\n",
       "      <td>7</td>\n",
       "      <td>NaN</td>\n",
       "      <td>NaN</td>\n",
       "      <td>NaN</td>\n",
       "      <td>2019-05-03 14:29:14</td>\n",
       "      <td>NaN</td>\n",
       "      <td>NaN</td>\n",
       "      <td>NaN</td>\n",
       "      <td>NaN</td>\n",
       "      <td>NaN</td>\n",
       "      <td>NaN</td>\n",
       "      <td>NaN</td>\n",
       "      <td>2019-05-03 14:22:19</td>\n",
       "      <td>NaN</td>\n",
       "      <td>2019-05-03 14:22:19</td>\n",
       "      <td>2019-05-03 14:22:19</td>\n",
       "    </tr>\n",
       "    <tr>\n",
       "      <td>7</td>\n",
       "      <td>8</td>\n",
       "      <td>NaN</td>\n",
       "      <td>NaN</td>\n",
       "      <td>NaN</td>\n",
       "      <td>2019-05-03 15:04:05</td>\n",
       "      <td>NaN</td>\n",
       "      <td>NaN</td>\n",
       "      <td>NaN</td>\n",
       "      <td>NaN</td>\n",
       "      <td>NaN</td>\n",
       "      <td>NaN</td>\n",
       "      <td>NaN</td>\n",
       "      <td>2019-05-03 14:55:46</td>\n",
       "      <td>NaN</td>\n",
       "      <td>2019-05-03 14:55:46</td>\n",
       "      <td>2019-05-03 14:55:46</td>\n",
       "    </tr>\n",
       "    <tr>\n",
       "      <td>8</td>\n",
       "      <td>9</td>\n",
       "      <td>NaN</td>\n",
       "      <td>NaN</td>\n",
       "      <td>NaN</td>\n",
       "      <td>2019-05-03 15:47:34</td>\n",
       "      <td>NaN</td>\n",
       "      <td>NaN</td>\n",
       "      <td>NaN</td>\n",
       "      <td>NaN</td>\n",
       "      <td>NaN</td>\n",
       "      <td>NaN</td>\n",
       "      <td>NaN</td>\n",
       "      <td>2019-05-03 15:41:00</td>\n",
       "      <td>NaN</td>\n",
       "      <td>2019-05-03 15:41:00</td>\n",
       "      <td>2019-05-03 15:41:00</td>\n",
       "    </tr>\n",
       "    <tr>\n",
       "      <td>9</td>\n",
       "      <td>10</td>\n",
       "      <td>NaN</td>\n",
       "      <td>NaN</td>\n",
       "      <td>NaN</td>\n",
       "      <td>NaN</td>\n",
       "      <td>NaN</td>\n",
       "      <td>NaN</td>\n",
       "      <td>NaN</td>\n",
       "      <td>NaN</td>\n",
       "      <td>NaN</td>\n",
       "      <td>NaN</td>\n",
       "      <td>NaN</td>\n",
       "      <td>2019-05-03 16:18:52</td>\n",
       "      <td>NaN</td>\n",
       "      <td>2019-05-03 16:18:52</td>\n",
       "      <td>2019-05-03 16:18:52</td>\n",
       "    </tr>\n",
       "  </tbody>\n",
       "</table>\n",
       "</div>"
      ],
      "text/plain": [
       "   key Bulk 1 Bulk 2 Bulk 3               Bulk 4 Bulk 5 Bulk 6 Bulk 7 Bulk 8  \\\n",
       "0    1    NaN    NaN    NaN  2019-05-03 11:21:30    NaN    NaN    NaN    NaN   \n",
       "1    2    NaN    NaN    NaN  2019-05-03 11:46:38    NaN    NaN    NaN    NaN   \n",
       "2    3    NaN    NaN    NaN  2019-05-03 12:31:06    NaN    NaN    NaN    NaN   \n",
       "3    4    NaN    NaN    NaN  2019-05-03 12:48:43    NaN    NaN    NaN    NaN   \n",
       "4    5    NaN    NaN    NaN  2019-05-03 13:18:50    NaN    NaN    NaN    NaN   \n",
       "5    6    NaN    NaN    NaN  2019-05-03 13:59:24    NaN    NaN    NaN    NaN   \n",
       "6    7    NaN    NaN    NaN  2019-05-03 14:29:14    NaN    NaN    NaN    NaN   \n",
       "7    8    NaN    NaN    NaN  2019-05-03 15:04:05    NaN    NaN    NaN    NaN   \n",
       "8    9    NaN    NaN    NaN  2019-05-03 15:47:34    NaN    NaN    NaN    NaN   \n",
       "9   10    NaN    NaN    NaN                  NaN    NaN    NaN    NaN    NaN   \n",
       "\n",
       "  Bulk 9 Bulk 10 Bulk 11              Bulk 12 Bulk 13              Bulk 14  \\\n",
       "0    NaN     NaN     NaN  2019-05-03 11:03:52     NaN  2019-05-03 11:03:52   \n",
       "1    NaN     NaN     NaN  2019-05-03 11:40:20     NaN  2019-05-03 11:40:20   \n",
       "2    NaN     NaN     NaN  2019-05-03 12:09:40     NaN  2019-05-03 12:09:40   \n",
       "3    NaN     NaN     NaN  2019-05-03 12:41:24     NaN  2019-05-03 12:41:24   \n",
       "4    NaN     NaN     NaN  2019-05-03 13:12:56     NaN  2019-05-03 13:12:56   \n",
       "5    NaN     NaN     NaN  2019-05-03 13:53:27     NaN  2019-05-03 13:53:27   \n",
       "6    NaN     NaN     NaN  2019-05-03 14:22:19     NaN  2019-05-03 14:22:19   \n",
       "7    NaN     NaN     NaN  2019-05-03 14:55:46     NaN  2019-05-03 14:55:46   \n",
       "8    NaN     NaN     NaN  2019-05-03 15:41:00     NaN  2019-05-03 15:41:00   \n",
       "9    NaN     NaN     NaN  2019-05-03 16:18:52     NaN  2019-05-03 16:18:52   \n",
       "\n",
       "               Bulk 15  \n",
       "0  2019-05-03 11:03:52  \n",
       "1  2019-05-03 11:40:20  \n",
       "2  2019-05-03 12:09:40  \n",
       "3  2019-05-03 12:41:24  \n",
       "4  2019-05-03 13:12:56  \n",
       "5  2019-05-03 13:53:27  \n",
       "6  2019-05-03 14:22:19  \n",
       "7  2019-05-03 14:55:46  \n",
       "8  2019-05-03 15:41:00  \n",
       "9  2019-05-03 16:18:52  "
      ]
     },
     "metadata": {},
     "output_type": "display_data"
    },
    {
     "data": {
      "text/plain": [
       "None"
      ]
     },
     "metadata": {},
     "output_type": "display_data"
    }
   ],
   "source": [
    "display(data_bulk_time.head(10), data_bulk_time.info())"
   ]
  },
  {
   "cell_type": "markdown",
   "metadata": {},
   "source": [
    "### данные о продувке сплава газом"
   ]
  },
  {
   "cell_type": "code",
   "execution_count": 13,
   "metadata": {},
   "outputs": [
    {
     "name": "stdout",
     "output_type": "stream",
     "text": [
      "<class 'pandas.core.frame.DataFrame'>\n",
      "RangeIndex: 3239 entries, 0 to 3238\n",
      "Data columns (total 2 columns):\n",
      "key      3239 non-null int64\n",
      "Газ 1    3239 non-null float64\n",
      "dtypes: float64(1), int64(1)\n",
      "memory usage: 50.7 KB\n"
     ]
    },
    {
     "data": {
      "text/html": [
       "<div>\n",
       "<style scoped>\n",
       "    .dataframe tbody tr th:only-of-type {\n",
       "        vertical-align: middle;\n",
       "    }\n",
       "\n",
       "    .dataframe tbody tr th {\n",
       "        vertical-align: top;\n",
       "    }\n",
       "\n",
       "    .dataframe thead th {\n",
       "        text-align: right;\n",
       "    }\n",
       "</style>\n",
       "<table border=\"1\" class=\"dataframe\">\n",
       "  <thead>\n",
       "    <tr style=\"text-align: right;\">\n",
       "      <th></th>\n",
       "      <th>key</th>\n",
       "      <th>Газ 1</th>\n",
       "    </tr>\n",
       "  </thead>\n",
       "  <tbody>\n",
       "    <tr>\n",
       "      <td>0</td>\n",
       "      <td>1</td>\n",
       "      <td>29.749986</td>\n",
       "    </tr>\n",
       "    <tr>\n",
       "      <td>1</td>\n",
       "      <td>2</td>\n",
       "      <td>12.555561</td>\n",
       "    </tr>\n",
       "    <tr>\n",
       "      <td>2</td>\n",
       "      <td>3</td>\n",
       "      <td>28.554793</td>\n",
       "    </tr>\n",
       "    <tr>\n",
       "      <td>3</td>\n",
       "      <td>4</td>\n",
       "      <td>18.841219</td>\n",
       "    </tr>\n",
       "    <tr>\n",
       "      <td>4</td>\n",
       "      <td>5</td>\n",
       "      <td>5.413692</td>\n",
       "    </tr>\n",
       "    <tr>\n",
       "      <td>5</td>\n",
       "      <td>6</td>\n",
       "      <td>11.273392</td>\n",
       "    </tr>\n",
       "    <tr>\n",
       "      <td>6</td>\n",
       "      <td>7</td>\n",
       "      <td>9.836267</td>\n",
       "    </tr>\n",
       "    <tr>\n",
       "      <td>7</td>\n",
       "      <td>8</td>\n",
       "      <td>15.171553</td>\n",
       "    </tr>\n",
       "    <tr>\n",
       "      <td>8</td>\n",
       "      <td>9</td>\n",
       "      <td>8.216623</td>\n",
       "    </tr>\n",
       "    <tr>\n",
       "      <td>9</td>\n",
       "      <td>10</td>\n",
       "      <td>6.529891</td>\n",
       "    </tr>\n",
       "  </tbody>\n",
       "</table>\n",
       "</div>"
      ],
      "text/plain": [
       "   key      Газ 1\n",
       "0    1  29.749986\n",
       "1    2  12.555561\n",
       "2    3  28.554793\n",
       "3    4  18.841219\n",
       "4    5   5.413692\n",
       "5    6  11.273392\n",
       "6    7   9.836267\n",
       "7    8  15.171553\n",
       "8    9   8.216623\n",
       "9   10   6.529891"
      ]
     },
     "metadata": {},
     "output_type": "display_data"
    },
    {
     "data": {
      "text/plain": [
       "None"
      ]
     },
     "metadata": {},
     "output_type": "display_data"
    }
   ],
   "source": [
    "display(data_gas.head(10), data_gas.info())"
   ]
  },
  {
   "cell_type": "code",
   "execution_count": 14,
   "metadata": {},
   "outputs": [
    {
     "name": "stdout",
     "output_type": "stream",
     "text": [
      "count    3239.000000\n",
      "mean       11.002062\n",
      "std         6.220327\n",
      "min         0.008399\n",
      "25%         7.043089\n",
      "50%         9.836267\n",
      "75%        13.769915\n",
      "max        77.995040\n",
      "Name: Газ 1, dtype: float64\n"
     ]
    },
    {
     "data": {
      "text/plain": [
       "<matplotlib.axes._subplots.AxesSubplot at 0x7fd145c8ec50>"
      ]
     },
     "execution_count": 14,
     "metadata": {},
     "output_type": "execute_result"
    },
    {
     "data": {
      "image/png": "[encoded data removed]",
      "text/plain": [
       "<Figure size 864x720 with 1 Axes>"
      ]
     },
     "metadata": {
      "needs_background": "light"
     },
     "output_type": "display_data"
    }
   ],
   "source": [
    "print(data_gas['Газ 1'].describe())\n",
    "data_gas['Газ 1'].hist(bins = 130,figsize = (12,10))"
   ]
  },
  {
   "cell_type": "code",
   "execution_count": null,
   "metadata": {},
   "outputs": [],
   "source": []
  },
  {
   "cell_type": "code",
   "execution_count": 15,
   "metadata": {},
   "outputs": [
    {
     "name": "stdout",
     "output_type": "stream",
     "text": [
      "0.004939796233405372\n"
     ]
    }
   ],
   "source": [
    "print(len(data_gas[data_gas['Газ 1'] >= 35])/len(data_gas))"
   ]
  },
  {
   "cell_type": "markdown",
   "metadata": {},
   "source": [
    "###  результаты измерения температуры"
   ]
  },
  {
   "cell_type": "code",
   "execution_count": 16,
   "metadata": {},
   "outputs": [
    {
     "name": "stdout",
     "output_type": "stream",
     "text": [
      "<class 'pandas.core.frame.DataFrame'>\n",
      "RangeIndex: 15907 entries, 0 to 15906\n",
      "Data columns (total 3 columns):\n",
      "key             15907 non-null int64\n",
      "Время замера    15907 non-null object\n",
      "Температура     13006 non-null float64\n",
      "dtypes: float64(1), int64(1), object(1)\n",
      "memory usage: 372.9+ KB\n"
     ]
    },
    {
     "data": {
      "text/html": [
       "<div>\n",
       "<style scoped>\n",
       "    .dataframe tbody tr th:only-of-type {\n",
       "        vertical-align: middle;\n",
       "    }\n",
       "\n",
       "    .dataframe tbody tr th {\n",
       "        vertical-align: top;\n",
       "    }\n",
       "\n",
       "    .dataframe thead th {\n",
       "        text-align: right;\n",
       "    }\n",
       "</style>\n",
       "<table border=\"1\" class=\"dataframe\">\n",
       "  <thead>\n",
       "    <tr style=\"text-align: right;\">\n",
       "      <th></th>\n",
       "      <th>key</th>\n",
       "      <th>Время замера</th>\n",
       "      <th>Температура</th>\n",
       "    </tr>\n",
       "  </thead>\n",
       "  <tbody>\n",
       "    <tr>\n",
       "      <td>0</td>\n",
       "      <td>1</td>\n",
       "      <td>2019-05-03 11:16:18</td>\n",
       "      <td>1571.0</td>\n",
       "    </tr>\n",
       "    <tr>\n",
       "      <td>1</td>\n",
       "      <td>1</td>\n",
       "      <td>2019-05-03 11:25:53</td>\n",
       "      <td>1604.0</td>\n",
       "    </tr>\n",
       "    <tr>\n",
       "      <td>2</td>\n",
       "      <td>1</td>\n",
       "      <td>2019-05-03 11:29:11</td>\n",
       "      <td>1618.0</td>\n",
       "    </tr>\n",
       "    <tr>\n",
       "      <td>3</td>\n",
       "      <td>1</td>\n",
       "      <td>2019-05-03 11:30:01</td>\n",
       "      <td>1601.0</td>\n",
       "    </tr>\n",
       "    <tr>\n",
       "      <td>4</td>\n",
       "      <td>1</td>\n",
       "      <td>2019-05-03 11:30:39</td>\n",
       "      <td>1613.0</td>\n",
       "    </tr>\n",
       "    <tr>\n",
       "      <td>5</td>\n",
       "      <td>2</td>\n",
       "      <td>2019-05-03 11:37:27</td>\n",
       "      <td>1581.0</td>\n",
       "    </tr>\n",
       "    <tr>\n",
       "      <td>6</td>\n",
       "      <td>2</td>\n",
       "      <td>2019-05-03 11:38:00</td>\n",
       "      <td>1577.0</td>\n",
       "    </tr>\n",
       "    <tr>\n",
       "      <td>7</td>\n",
       "      <td>2</td>\n",
       "      <td>2019-05-03 11:49:38</td>\n",
       "      <td>1589.0</td>\n",
       "    </tr>\n",
       "    <tr>\n",
       "      <td>8</td>\n",
       "      <td>2</td>\n",
       "      <td>2019-05-03 11:55:50</td>\n",
       "      <td>1604.0</td>\n",
       "    </tr>\n",
       "    <tr>\n",
       "      <td>9</td>\n",
       "      <td>2</td>\n",
       "      <td>2019-05-03 11:58:24</td>\n",
       "      <td>1608.0</td>\n",
       "    </tr>\n",
       "  </tbody>\n",
       "</table>\n",
       "</div>"
      ],
      "text/plain": [
       "   key         Время замера  Температура\n",
       "0    1  2019-05-03 11:16:18       1571.0\n",
       "1    1  2019-05-03 11:25:53       1604.0\n",
       "2    1  2019-05-03 11:29:11       1618.0\n",
       "3    1  2019-05-03 11:30:01       1601.0\n",
       "4    1  2019-05-03 11:30:39       1613.0\n",
       "5    2  2019-05-03 11:37:27       1581.0\n",
       "6    2  2019-05-03 11:38:00       1577.0\n",
       "7    2  2019-05-03 11:49:38       1589.0\n",
       "8    2  2019-05-03 11:55:50       1604.0\n",
       "9    2  2019-05-03 11:58:24       1608.0"
      ]
     },
     "metadata": {},
     "output_type": "display_data"
    },
    {
     "data": {
      "text/plain": [
       "None"
      ]
     },
     "metadata": {},
     "output_type": "display_data"
    }
   ],
   "source": [
    "display(data_temp.head(10), data_temp.info())"
   ]
  },
  {
   "cell_type": "code",
   "execution_count": 17,
   "metadata": {},
   "outputs": [
    {
     "name": "stdout",
     "output_type": "stream",
     "text": [
      "count    13006.000000\n",
      "mean      1591.840920\n",
      "std         21.375851\n",
      "min       1191.000000\n",
      "25%       1581.000000\n",
      "50%       1591.000000\n",
      "75%       1601.000000\n",
      "max       1705.000000\n",
      "Name: Температура, dtype: float64\n"
     ]
    },
    {
     "data": {
      "text/plain": [
       "<matplotlib.axes._subplots.AxesSubplot at 0x7fd145d7f290>"
      ]
     },
     "execution_count": 17,
     "metadata": {},
     "output_type": "execute_result"
    },
    {
     "data": {
      "image/png": "[encoded data removed]",
      "text/plain": [
       "<Figure size 864x720 with 1 Axes>"
      ]
     },
     "metadata": {
      "needs_background": "light"
     },
     "output_type": "display_data"
    }
   ],
   "source": [
    "print(data_temp['Температура'].describe())\n",
    "data_temp['Температура'].hist(bins = 130, figsize = (12,10))"
   ]
  },
  {
   "cell_type": "code",
   "execution_count": 18,
   "metadata": {},
   "outputs": [
    {
     "name": "stdout",
     "output_type": "stream",
     "text": [
      "0.0062865405167536305\n"
     ]
    }
   ],
   "source": [
    "print(len(data_temp[data_temp['Температура'] >= 1660])/len(data_temp))"
   ]
  },
  {
   "cell_type": "markdown",
   "metadata": {},
   "source": [
    "### данные о проволочных материалах (объём)"
   ]
  },
  {
   "cell_type": "code",
   "execution_count": 19,
   "metadata": {},
   "outputs": [
    {
     "name": "stdout",
     "output_type": "stream",
     "text": [
      "<class 'pandas.core.frame.DataFrame'>\n",
      "RangeIndex: 3081 entries, 0 to 3080\n",
      "Data columns (total 10 columns):\n",
      "key       3081 non-null int64\n",
      "Wire 1    3055 non-null float64\n",
      "Wire 2    1079 non-null float64\n",
      "Wire 3    63 non-null float64\n",
      "Wire 4    14 non-null float64\n",
      "Wire 5    1 non-null float64\n",
      "Wire 6    73 non-null float64\n",
      "Wire 7    11 non-null float64\n",
      "Wire 8    19 non-null float64\n",
      "Wire 9    29 non-null float64\n",
      "dtypes: float64(9), int64(1)\n",
      "memory usage: 240.8 KB\n"
     ]
    },
    {
     "data": {
      "text/html": [
       "<div>\n",
       "<style scoped>\n",
       "    .dataframe tbody tr th:only-of-type {\n",
       "        vertical-align: middle;\n",
       "    }\n",
       "\n",
       "    .dataframe tbody tr th {\n",
       "        vertical-align: top;\n",
       "    }\n",
       "\n",
       "    .dataframe thead th {\n",
       "        text-align: right;\n",
       "    }\n",
       "</style>\n",
       "<table border=\"1\" class=\"dataframe\">\n",
       "  <thead>\n",
       "    <tr style=\"text-align: right;\">\n",
       "      <th></th>\n",
       "      <th>key</th>\n",
       "      <th>Wire 1</th>\n",
       "      <th>Wire 2</th>\n",
       "      <th>Wire 3</th>\n",
       "      <th>Wire 4</th>\n",
       "      <th>Wire 5</th>\n",
       "      <th>Wire 6</th>\n",
       "      <th>Wire 7</th>\n",
       "      <th>Wire 8</th>\n",
       "      <th>Wire 9</th>\n",
       "    </tr>\n",
       "  </thead>\n",
       "  <tbody>\n",
       "    <tr>\n",
       "      <td>0</td>\n",
       "      <td>1</td>\n",
       "      <td>60.059998</td>\n",
       "      <td>NaN</td>\n",
       "      <td>NaN</td>\n",
       "      <td>NaN</td>\n",
       "      <td>NaN</td>\n",
       "      <td>NaN</td>\n",
       "      <td>NaN</td>\n",
       "      <td>NaN</td>\n",
       "      <td>NaN</td>\n",
       "    </tr>\n",
       "    <tr>\n",
       "      <td>1</td>\n",
       "      <td>2</td>\n",
       "      <td>96.052315</td>\n",
       "      <td>NaN</td>\n",
       "      <td>NaN</td>\n",
       "      <td>NaN</td>\n",
       "      <td>NaN</td>\n",
       "      <td>NaN</td>\n",
       "      <td>NaN</td>\n",
       "      <td>NaN</td>\n",
       "      <td>NaN</td>\n",
       "    </tr>\n",
       "    <tr>\n",
       "      <td>2</td>\n",
       "      <td>3</td>\n",
       "      <td>91.160157</td>\n",
       "      <td>NaN</td>\n",
       "      <td>NaN</td>\n",
       "      <td>NaN</td>\n",
       "      <td>NaN</td>\n",
       "      <td>NaN</td>\n",
       "      <td>NaN</td>\n",
       "      <td>NaN</td>\n",
       "      <td>NaN</td>\n",
       "    </tr>\n",
       "    <tr>\n",
       "      <td>3</td>\n",
       "      <td>4</td>\n",
       "      <td>89.063515</td>\n",
       "      <td>NaN</td>\n",
       "      <td>NaN</td>\n",
       "      <td>NaN</td>\n",
       "      <td>NaN</td>\n",
       "      <td>NaN</td>\n",
       "      <td>NaN</td>\n",
       "      <td>NaN</td>\n",
       "      <td>NaN</td>\n",
       "    </tr>\n",
       "    <tr>\n",
       "      <td>4</td>\n",
       "      <td>5</td>\n",
       "      <td>89.238236</td>\n",
       "      <td>9.114560</td>\n",
       "      <td>NaN</td>\n",
       "      <td>NaN</td>\n",
       "      <td>NaN</td>\n",
       "      <td>NaN</td>\n",
       "      <td>NaN</td>\n",
       "      <td>NaN</td>\n",
       "      <td>NaN</td>\n",
       "    </tr>\n",
       "    <tr>\n",
       "      <td>5</td>\n",
       "      <td>6</td>\n",
       "      <td>99.109917</td>\n",
       "      <td>9.114560</td>\n",
       "      <td>NaN</td>\n",
       "      <td>NaN</td>\n",
       "      <td>NaN</td>\n",
       "      <td>NaN</td>\n",
       "      <td>NaN</td>\n",
       "      <td>NaN</td>\n",
       "      <td>NaN</td>\n",
       "    </tr>\n",
       "    <tr>\n",
       "      <td>6</td>\n",
       "      <td>7</td>\n",
       "      <td>98.061600</td>\n",
       "      <td>NaN</td>\n",
       "      <td>NaN</td>\n",
       "      <td>NaN</td>\n",
       "      <td>NaN</td>\n",
       "      <td>NaN</td>\n",
       "      <td>NaN</td>\n",
       "      <td>NaN</td>\n",
       "      <td>NaN</td>\n",
       "    </tr>\n",
       "    <tr>\n",
       "      <td>7</td>\n",
       "      <td>8</td>\n",
       "      <td>155.282394</td>\n",
       "      <td>NaN</td>\n",
       "      <td>NaN</td>\n",
       "      <td>NaN</td>\n",
       "      <td>NaN</td>\n",
       "      <td>NaN</td>\n",
       "      <td>NaN</td>\n",
       "      <td>NaN</td>\n",
       "      <td>NaN</td>\n",
       "    </tr>\n",
       "    <tr>\n",
       "      <td>8</td>\n",
       "      <td>9</td>\n",
       "      <td>113.393279</td>\n",
       "      <td>9.143681</td>\n",
       "      <td>NaN</td>\n",
       "      <td>NaN</td>\n",
       "      <td>NaN</td>\n",
       "      <td>NaN</td>\n",
       "      <td>NaN</td>\n",
       "      <td>NaN</td>\n",
       "      <td>NaN</td>\n",
       "    </tr>\n",
       "    <tr>\n",
       "      <td>9</td>\n",
       "      <td>10</td>\n",
       "      <td>81.244796</td>\n",
       "      <td>12.376000</td>\n",
       "      <td>NaN</td>\n",
       "      <td>NaN</td>\n",
       "      <td>NaN</td>\n",
       "      <td>NaN</td>\n",
       "      <td>NaN</td>\n",
       "      <td>NaN</td>\n",
       "      <td>NaN</td>\n",
       "    </tr>\n",
       "  </tbody>\n",
       "</table>\n",
       "</div>"
      ],
      "text/plain": [
       "   key      Wire 1     Wire 2  Wire 3  Wire 4  Wire 5  Wire 6  Wire 7  Wire 8  \\\n",
       "0    1   60.059998        NaN     NaN     NaN     NaN     NaN     NaN     NaN   \n",
       "1    2   96.052315        NaN     NaN     NaN     NaN     NaN     NaN     NaN   \n",
       "2    3   91.160157        NaN     NaN     NaN     NaN     NaN     NaN     NaN   \n",
       "3    4   89.063515        NaN     NaN     NaN     NaN     NaN     NaN     NaN   \n",
       "4    5   89.238236   9.114560     NaN     NaN     NaN     NaN     NaN     NaN   \n",
       "5    6   99.109917   9.114560     NaN     NaN     NaN     NaN     NaN     NaN   \n",
       "6    7   98.061600        NaN     NaN     NaN     NaN     NaN     NaN     NaN   \n",
       "7    8  155.282394        NaN     NaN     NaN     NaN     NaN     NaN     NaN   \n",
       "8    9  113.393279   9.143681     NaN     NaN     NaN     NaN     NaN     NaN   \n",
       "9   10   81.244796  12.376000     NaN     NaN     NaN     NaN     NaN     NaN   \n",
       "\n",
       "   Wire 9  \n",
       "0     NaN  \n",
       "1     NaN  \n",
       "2     NaN  \n",
       "3     NaN  \n",
       "4     NaN  \n",
       "5     NaN  \n",
       "6     NaN  \n",
       "7     NaN  \n",
       "8     NaN  \n",
       "9     NaN  "
      ]
     },
     "metadata": {},
     "output_type": "display_data"
    },
    {
     "data": {
      "text/plain": [
       "None"
      ]
     },
     "metadata": {},
     "output_type": "display_data"
    }
   ],
   "source": [
    "display(data_wire.head(10), data_wire.info())"
   ]
  },
  {
   "cell_type": "code",
   "execution_count": 20,
   "metadata": {},
   "outputs": [
    {
     "name": "stdout",
     "output_type": "stream",
     "text": [
      "Wire 1\n"
     ]
    },
    {
     "data": {
      "text/plain": [
       "count    3055.000000\n",
       "mean      100.895853\n",
       "std        42.012518\n",
       "min         1.918800\n",
       "25%        72.115684\n",
       "50%       100.158234\n",
       "75%       126.060484\n",
       "max       330.314424\n",
       "Name: Wire 1, dtype: float64"
      ]
     },
     "metadata": {},
     "output_type": "display_data"
    },
    {
     "name": "stdout",
     "output_type": "stream",
     "text": [
      "Wire 2\n"
     ]
    },
    {
     "data": {
      "text/plain": [
       "count    1079.000000\n",
       "mean       50.577323\n",
       "std        39.320216\n",
       "min         0.030160\n",
       "25%        20.193680\n",
       "50%        40.142956\n",
       "75%        70.227558\n",
       "max       282.780152\n",
       "Name: Wire 2, dtype: float64"
      ]
     },
     "metadata": {},
     "output_type": "display_data"
    },
    {
     "name": "stdout",
     "output_type": "stream",
     "text": [
      "Wire 3\n"
     ]
    },
    {
     "data": {
      "text/plain": [
       "count     63.000000\n",
       "mean     189.482681\n",
       "std       99.513444\n",
       "min        0.144144\n",
       "25%       95.135044\n",
       "50%      235.194977\n",
       "75%      276.252014\n",
       "max      385.008668\n",
       "Name: Wire 3, dtype: float64"
      ]
     },
     "metadata": {},
     "output_type": "display_data"
    },
    {
     "name": "stdout",
     "output_type": "stream",
     "text": [
      "Wire 4\n"
     ]
    },
    {
     "data": {
      "text/plain": [
       "count     14.000000\n",
       "mean      57.442841\n",
       "std       28.824667\n",
       "min       24.148801\n",
       "25%       40.807002\n",
       "50%       45.234282\n",
       "75%       76.124619\n",
       "max      113.231044\n",
       "Name: Wire 4, dtype: float64"
      ]
     },
     "metadata": {},
     "output_type": "display_data"
    },
    {
     "name": "stdout",
     "output_type": "stream",
     "text": [
      "Wire 5\n"
     ]
    },
    {
     "data": {
      "text/plain": [
       "count     1.000\n",
       "mean     15.132\n",
       "std         NaN\n",
       "min      15.132\n",
       "25%      15.132\n",
       "50%      15.132\n",
       "75%      15.132\n",
       "max      15.132\n",
       "Name: Wire 5, dtype: float64"
      ]
     },
     "metadata": {},
     "output_type": "display_data"
    },
    {
     "name": "stdout",
     "output_type": "stream",
     "text": [
      "Wire 6\n"
     ]
    },
    {
     "data": {
      "text/plain": [
       "count     73.000000\n",
       "mean      48.016974\n",
       "std       33.919845\n",
       "min        0.034320\n",
       "25%       25.053600\n",
       "50%       42.076324\n",
       "75%       64.212723\n",
       "max      180.454575\n",
       "Name: Wire 6, dtype: float64"
      ]
     },
     "metadata": {},
     "output_type": "display_data"
    },
    {
     "name": "stdout",
     "output_type": "stream",
     "text": [
      "Wire 7\n"
     ]
    },
    {
     "data": {
      "text/plain": [
       "count    11.000000\n",
       "mean     10.039007\n",
       "std       8.610584\n",
       "min       0.234208\n",
       "25%       6.762756\n",
       "50%       9.017009\n",
       "75%      11.886057\n",
       "max      32.847674\n",
       "Name: Wire 7, dtype: float64"
      ]
     },
     "metadata": {},
     "output_type": "display_data"
    },
    {
     "name": "stdout",
     "output_type": "stream",
     "text": [
      "Wire 8\n"
     ]
    },
    {
     "data": {
      "text/plain": [
       "count     19.000000\n",
       "mean      53.625193\n",
       "std       16.881728\n",
       "min       45.076721\n",
       "25%       46.094879\n",
       "50%       46.279999\n",
       "75%       48.089603\n",
       "max      102.762401\n",
       "Name: Wire 8, dtype: float64"
      ]
     },
     "metadata": {},
     "output_type": "display_data"
    },
    {
     "name": "stdout",
     "output_type": "stream",
     "text": [
      "Wire 9\n"
     ]
    },
    {
     "data": {
      "text/plain": [
       "count    29.000000\n",
       "mean     34.155752\n",
       "std      19.931616\n",
       "min       4.622800\n",
       "25%      22.058401\n",
       "50%      30.066399\n",
       "75%      43.862003\n",
       "max      90.053604\n",
       "Name: Wire 9, dtype: float64"
      ]
     },
     "metadata": {},
     "output_type": "display_data"
    }
   ],
   "source": [
    "for column in data_wire.columns:\n",
    "    if column[0] == 'W':\n",
    "        print(column)\n",
    "        display(data_wire[column].describe())"
   ]
  },
  {
   "cell_type": "markdown",
   "metadata": {},
   "source": [
    "###  Данные о проволочных материалах (время)"
   ]
  },
  {
   "cell_type": "code",
   "execution_count": 21,
   "metadata": {},
   "outputs": [
    {
     "name": "stdout",
     "output_type": "stream",
     "text": [
      "<class 'pandas.core.frame.DataFrame'>\n",
      "RangeIndex: 3081 entries, 0 to 3080\n",
      "Data columns (total 10 columns):\n",
      "key       3081 non-null int64\n",
      "Wire 1    3055 non-null object\n",
      "Wire 2    1079 non-null object\n",
      "Wire 3    63 non-null object\n",
      "Wire 4    14 non-null object\n",
      "Wire 5    1 non-null object\n",
      "Wire 6    73 non-null object\n",
      "Wire 7    11 non-null object\n",
      "Wire 8    19 non-null object\n",
      "Wire 9    29 non-null object\n",
      "dtypes: int64(1), object(9)\n",
      "memory usage: 240.8+ KB\n"
     ]
    },
    {
     "data": {
      "text/html": [
       "<div>\n",
       "<style scoped>\n",
       "    .dataframe tbody tr th:only-of-type {\n",
       "        vertical-align: middle;\n",
       "    }\n",
       "\n",
       "    .dataframe tbody tr th {\n",
       "        vertical-align: top;\n",
       "    }\n",
       "\n",
       "    .dataframe thead th {\n",
       "        text-align: right;\n",
       "    }\n",
       "</style>\n",
       "<table border=\"1\" class=\"dataframe\">\n",
       "  <thead>\n",
       "    <tr style=\"text-align: right;\">\n",
       "      <th></th>\n",
       "      <th>key</th>\n",
       "      <th>Wire 1</th>\n",
       "      <th>Wire 2</th>\n",
       "      <th>Wire 3</th>\n",
       "      <th>Wire 4</th>\n",
       "      <th>Wire 5</th>\n",
       "      <th>Wire 6</th>\n",
       "      <th>Wire 7</th>\n",
       "      <th>Wire 8</th>\n",
       "      <th>Wire 9</th>\n",
       "    </tr>\n",
       "  </thead>\n",
       "  <tbody>\n",
       "    <tr>\n",
       "      <td>0</td>\n",
       "      <td>1</td>\n",
       "      <td>2019-05-03 11:11:41</td>\n",
       "      <td>NaN</td>\n",
       "      <td>NaN</td>\n",
       "      <td>NaN</td>\n",
       "      <td>NaN</td>\n",
       "      <td>NaN</td>\n",
       "      <td>NaN</td>\n",
       "      <td>NaN</td>\n",
       "      <td>NaN</td>\n",
       "    </tr>\n",
       "    <tr>\n",
       "      <td>1</td>\n",
       "      <td>2</td>\n",
       "      <td>2019-05-03 11:46:10</td>\n",
       "      <td>NaN</td>\n",
       "      <td>NaN</td>\n",
       "      <td>NaN</td>\n",
       "      <td>NaN</td>\n",
       "      <td>NaN</td>\n",
       "      <td>NaN</td>\n",
       "      <td>NaN</td>\n",
       "      <td>NaN</td>\n",
       "    </tr>\n",
       "    <tr>\n",
       "      <td>2</td>\n",
       "      <td>3</td>\n",
       "      <td>2019-05-03 12:13:47</td>\n",
       "      <td>NaN</td>\n",
       "      <td>NaN</td>\n",
       "      <td>NaN</td>\n",
       "      <td>NaN</td>\n",
       "      <td>NaN</td>\n",
       "      <td>NaN</td>\n",
       "      <td>NaN</td>\n",
       "      <td>NaN</td>\n",
       "    </tr>\n",
       "    <tr>\n",
       "      <td>3</td>\n",
       "      <td>4</td>\n",
       "      <td>2019-05-03 12:48:05</td>\n",
       "      <td>NaN</td>\n",
       "      <td>NaN</td>\n",
       "      <td>NaN</td>\n",
       "      <td>NaN</td>\n",
       "      <td>NaN</td>\n",
       "      <td>NaN</td>\n",
       "      <td>NaN</td>\n",
       "      <td>NaN</td>\n",
       "    </tr>\n",
       "    <tr>\n",
       "      <td>4</td>\n",
       "      <td>5</td>\n",
       "      <td>2019-05-03 13:18:15</td>\n",
       "      <td>2019-05-03 13:32:06</td>\n",
       "      <td>NaN</td>\n",
       "      <td>NaN</td>\n",
       "      <td>NaN</td>\n",
       "      <td>NaN</td>\n",
       "      <td>NaN</td>\n",
       "      <td>NaN</td>\n",
       "      <td>NaN</td>\n",
       "    </tr>\n",
       "    <tr>\n",
       "      <td>5</td>\n",
       "      <td>6</td>\n",
       "      <td>2019-05-03 13:59:02</td>\n",
       "      <td>2019-05-03 13:59:54</td>\n",
       "      <td>NaN</td>\n",
       "      <td>NaN</td>\n",
       "      <td>NaN</td>\n",
       "      <td>NaN</td>\n",
       "      <td>NaN</td>\n",
       "      <td>NaN</td>\n",
       "      <td>NaN</td>\n",
       "    </tr>\n",
       "    <tr>\n",
       "      <td>6</td>\n",
       "      <td>7</td>\n",
       "      <td>2019-05-03 14:28:46</td>\n",
       "      <td>NaN</td>\n",
       "      <td>NaN</td>\n",
       "      <td>NaN</td>\n",
       "      <td>NaN</td>\n",
       "      <td>NaN</td>\n",
       "      <td>NaN</td>\n",
       "      <td>NaN</td>\n",
       "      <td>NaN</td>\n",
       "    </tr>\n",
       "    <tr>\n",
       "      <td>7</td>\n",
       "      <td>8</td>\n",
       "      <td>2019-05-03 15:03:42</td>\n",
       "      <td>NaN</td>\n",
       "      <td>NaN</td>\n",
       "      <td>NaN</td>\n",
       "      <td>NaN</td>\n",
       "      <td>NaN</td>\n",
       "      <td>NaN</td>\n",
       "      <td>NaN</td>\n",
       "      <td>NaN</td>\n",
       "    </tr>\n",
       "    <tr>\n",
       "      <td>8</td>\n",
       "      <td>9</td>\n",
       "      <td>2019-05-03 15:42:43</td>\n",
       "      <td>2019-05-03 15:58:12</td>\n",
       "      <td>NaN</td>\n",
       "      <td>NaN</td>\n",
       "      <td>NaN</td>\n",
       "      <td>NaN</td>\n",
       "      <td>NaN</td>\n",
       "      <td>NaN</td>\n",
       "      <td>NaN</td>\n",
       "    </tr>\n",
       "    <tr>\n",
       "      <td>9</td>\n",
       "      <td>10</td>\n",
       "      <td>2019-05-03 16:20:25</td>\n",
       "      <td>2019-05-03 16:21:02</td>\n",
       "      <td>NaN</td>\n",
       "      <td>NaN</td>\n",
       "      <td>NaN</td>\n",
       "      <td>NaN</td>\n",
       "      <td>NaN</td>\n",
       "      <td>NaN</td>\n",
       "      <td>NaN</td>\n",
       "    </tr>\n",
       "  </tbody>\n",
       "</table>\n",
       "</div>"
      ],
      "text/plain": [
       "   key               Wire 1               Wire 2 Wire 3 Wire 4 Wire 5 Wire 6  \\\n",
       "0    1  2019-05-03 11:11:41                  NaN    NaN    NaN    NaN    NaN   \n",
       "1    2  2019-05-03 11:46:10                  NaN    NaN    NaN    NaN    NaN   \n",
       "2    3  2019-05-03 12:13:47                  NaN    NaN    NaN    NaN    NaN   \n",
       "3    4  2019-05-03 12:48:05                  NaN    NaN    NaN    NaN    NaN   \n",
       "4    5  2019-05-03 13:18:15  2019-05-03 13:32:06    NaN    NaN    NaN    NaN   \n",
       "5    6  2019-05-03 13:59:02  2019-05-03 13:59:54    NaN    NaN    NaN    NaN   \n",
       "6    7  2019-05-03 14:28:46                  NaN    NaN    NaN    NaN    NaN   \n",
       "7    8  2019-05-03 15:03:42                  NaN    NaN    NaN    NaN    NaN   \n",
       "8    9  2019-05-03 15:42:43  2019-05-03 15:58:12    NaN    NaN    NaN    NaN   \n",
       "9   10  2019-05-03 16:20:25  2019-05-03 16:21:02    NaN    NaN    NaN    NaN   \n",
       "\n",
       "  Wire 7 Wire 8 Wire 9  \n",
       "0    NaN    NaN    NaN  \n",
       "1    NaN    NaN    NaN  \n",
       "2    NaN    NaN    NaN  \n",
       "3    NaN    NaN    NaN  \n",
       "4    NaN    NaN    NaN  \n",
       "5    NaN    NaN    NaN  \n",
       "6    NaN    NaN    NaN  \n",
       "7    NaN    NaN    NaN  \n",
       "8    NaN    NaN    NaN  \n",
       "9    NaN    NaN    NaN  "
      ]
     },
     "metadata": {},
     "output_type": "display_data"
    },
    {
     "data": {
      "text/plain": [
       "None"
      ]
     },
     "metadata": {},
     "output_type": "display_data"
    }
   ],
   "source": [
    "display(data_wire_time.head(10),data_wire_time.info())"
   ]
  },
  {
   "cell_type": "markdown",
   "metadata": {},
   "source": [
    "<a name = 'part3'></a>\n",
    "## План работы \n",
    "1) Проведем предобработку данных. Удалим аномалии, заменим пропуски, приведем некоторые значения к нужным типам данных.  \n",
    "2) Отберем целевой признак( конечную температуру из данных по температуре для одной партии)\n",
    "3) Для обучения модели не будем использовать все предоставленные столбцы, с помощью матрицы корреляций найдем те, которые оказывают наибольшее влияние на целевой признак.  \n",
    "5) Проверим на мультиколлинеарность  \n",
    "4) Обучим несколько моделей ( линейная регрессия, XGBRegressor,RandomForestRegressor)  \n",
    "5) Протестируем их и выберем лучшую. "
   ]
  },
  {
   "cell_type": "markdown",
   "metadata": {},
   "source": [
    "<a name = 'part4'></a>\n",
    "## Предобработка данных"
   ]
  },
  {
   "cell_type": "code",
   "execution_count": 22,
   "metadata": {},
   "outputs": [],
   "source": [
    "data_temp = data_temp.rename(columns = {'Температура':'temp', 'Время замера':'measure_time'})\n",
    "data_arc.columns = ['key', 'start_time','end_time', 'active_power', 'reactive_power']\n",
    "data_arc['start_time'] = pd.to_datetime(data_arc['start_time'], format='%Y%m%d %H:%M:%S')\n",
    "data_arc['end_time'] = pd.to_datetime(data_arc['end_time'], format='%Y%m%d %H:%M:%S')\n",
    "data_temp['measure_time'] = pd.to_datetime(data_temp['measure_time'], format='%Y%m%d %H:%M:%S')"
   ]
  },
  {
   "cell_type": "code",
   "execution_count": 23,
   "metadata": {},
   "outputs": [],
   "source": [
    "#print(len(data_temp[data_temp['Температура'] >= 1660])/len(data_temp))\n",
    "#data_temp = data_temp.query('temp >= 1400')\n",
    "#data_temp['temp'].hist(bins = 100)"
   ]
  },
  {
   "cell_type": "markdown",
   "metadata": {},
   "source": [
    "Температура плавления стали 1450-1520 C°, значения ниже 1400 удалим."
   ]
  },
  {
   "cell_type": "markdown",
   "metadata": {},
   "source": [
    "Просуммируем активную и реактивную мощности по номеру партии."
   ]
  },
  {
   "cell_type": "code",
   "execution_count": 24,
   "metadata": {},
   "outputs": [
    {
     "name": "stdout",
     "output_type": "stream",
     "text": [
      "     active_power  reactive_power\n",
      "key                              \n",
      "1        4.878147        3.183241\n",
      "2        3.052598        1.998112\n",
      "3        2.525882        1.599076\n",
      "4        3.209250        2.060298\n",
      "5        3.347173        2.252643\n"
     ]
    }
   ],
   "source": [
    "sum_data_arc = data_arc.pivot_table(index = 'key', values = ['active_power', 'reactive_power'], aggfunc = np.sum)\n",
    "print(sum_data_arc.head())"
   ]
  },
  {
   "cell_type": "code",
   "execution_count": 25,
   "metadata": {},
   "outputs": [],
   "source": [
    "#print(data_temp.info())\n",
    "#print(data_temp.head())\n",
    "#print(data_arc.head())"
   ]
  },
  {
   "cell_type": "markdown",
   "metadata": {},
   "source": [
    "Выделим те партии, в которых последний замер температуры был до финального нагрева дугой."
   ]
  },
  {
   "cell_type": "code",
   "execution_count": 26,
   "metadata": {},
   "outputs": [],
   "source": [
    "conditions = []\n",
    "for key in list(data_temp['key'].unique()):\n",
    "    if ((data_temp[data_temp['key'] == key]['measure_time'].max() < \n",
    "        data_arc[data_arc['key'] == key]['end_time'].max())):\n",
    "            conditions.append(key)\n",
    "\n",
    "            \n",
    "#print(bad_keys, len(bad_keys))"
   ]
  },
  {
   "cell_type": "code",
   "execution_count": 27,
   "metadata": {},
   "outputs": [
    {
     "name": "stdout",
     "output_type": "stream",
     "text": [
      "<class 'pandas.core.frame.DataFrame'>\n",
      "RangeIndex: 15907 entries, 0 to 15906\n",
      "Data columns (total 3 columns):\n",
      "key             15907 non-null int64\n",
      "measure_time    15907 non-null datetime64[ns]\n",
      "temp            13006 non-null float64\n",
      "dtypes: datetime64[ns](1), float64(1), int64(1)\n",
      "memory usage: 372.9 KB\n",
      "None\n"
     ]
    }
   ],
   "source": [
    "print(data_temp.info())"
   ]
  },
  {
   "cell_type": "code",
   "execution_count": 28,
   "metadata": {},
   "outputs": [],
   "source": [
    "data_temp = data_temp.query('key not in @conditions')"
   ]
  },
  {
   "cell_type": "code",
   "execution_count": 29,
   "metadata": {},
   "outputs": [
    {
     "name": "stdout",
     "output_type": "stream",
     "text": [
      "<class 'pandas.core.frame.DataFrame'>\n",
      "Int64Index: 15178 entries, 0 to 15906\n",
      "Data columns (total 3 columns):\n",
      "key             15178 non-null int64\n",
      "measure_time    15178 non-null datetime64[ns]\n",
      "temp            12383 non-null float64\n",
      "dtypes: datetime64[ns](1), float64(1), int64(1)\n",
      "memory usage: 474.3 KB\n",
      "None\n"
     ]
    }
   ],
   "source": [
    "print(data_temp.info())"
   ]
  },
  {
   "cell_type": "code",
   "execution_count": 30,
   "metadata": {},
   "outputs": [],
   "source": [
    "data_temp = data_temp.dropna()"
   ]
  },
  {
   "cell_type": "code",
   "execution_count": 31,
   "metadata": {},
   "outputs": [
    {
     "name": "stdout",
     "output_type": "stream",
     "text": [
      "<class 'pandas.core.frame.DataFrame'>\n",
      "Int64Index: 12383 entries, 0 to 15902\n",
      "Data columns (total 3 columns):\n",
      "key             12383 non-null int64\n",
      "measure_time    12383 non-null datetime64[ns]\n",
      "temp            12383 non-null float64\n",
      "dtypes: datetime64[ns](1), float64(1), int64(1)\n",
      "memory usage: 387.0 KB\n",
      "None\n"
     ]
    }
   ],
   "source": [
    "print(data_temp.info())"
   ]
  },
  {
   "cell_type": "code",
   "execution_count": 32,
   "metadata": {},
   "outputs": [],
   "source": [
    "#data_temp['key'].value_counts()"
   ]
  },
  {
   "cell_type": "markdown",
   "metadata": {},
   "source": [
    "Так же удалим строки, где было сделано только одно измерение температуры."
   ]
  },
  {
   "cell_type": "code",
   "execution_count": 33,
   "metadata": {},
   "outputs": [],
   "source": [
    "once_measure_count = (data_temp['key'].value_counts() < 2).sum() \n",
    "good_keys = list(data_temp['key'].value_counts().index[:-once_measure_count])\n",
    "data_temp = data_temp.query('key in @good_keys')"
   ]
  },
  {
   "cell_type": "code",
   "execution_count": 34,
   "metadata": {},
   "outputs": [],
   "source": [
    "#print(data_temp.info())"
   ]
  },
  {
   "cell_type": "code",
   "execution_count": 35,
   "metadata": {},
   "outputs": [],
   "source": [
    "pivot_data_temp = data_temp.pivot_table(index= 'key', values = 'measure_time', aggfunc = {'measure_time' :[np.min, np.max]})"
   ]
  },
  {
   "cell_type": "code",
   "execution_count": 36,
   "metadata": {},
   "outputs": [
    {
     "data": {
      "text/html": [
       "<div>\n",
       "<style scoped>\n",
       "    .dataframe tbody tr th:only-of-type {\n",
       "        vertical-align: middle;\n",
       "    }\n",
       "\n",
       "    .dataframe tbody tr th {\n",
       "        vertical-align: top;\n",
       "    }\n",
       "\n",
       "    .dataframe thead th {\n",
       "        text-align: right;\n",
       "    }\n",
       "</style>\n",
       "<table border=\"1\" class=\"dataframe\">\n",
       "  <thead>\n",
       "    <tr style=\"text-align: right;\">\n",
       "      <th></th>\n",
       "      <th>amin</th>\n",
       "      <th>amax</th>\n",
       "    </tr>\n",
       "    <tr>\n",
       "      <th>key</th>\n",
       "      <th></th>\n",
       "      <th></th>\n",
       "    </tr>\n",
       "  </thead>\n",
       "  <tbody>\n",
       "    <tr>\n",
       "      <td>1</td>\n",
       "      <td>2019-05-03 11:16:18</td>\n",
       "      <td>2019-05-03 11:30:39</td>\n",
       "    </tr>\n",
       "    <tr>\n",
       "      <td>2</td>\n",
       "      <td>2019-05-03 11:37:27</td>\n",
       "      <td>2019-05-03 11:59:12</td>\n",
       "    </tr>\n",
       "    <tr>\n",
       "      <td>3</td>\n",
       "      <td>2019-05-03 12:13:17</td>\n",
       "      <td>2019-05-03 12:34:57</td>\n",
       "    </tr>\n",
       "    <tr>\n",
       "      <td>4</td>\n",
       "      <td>2019-05-03 12:52:57</td>\n",
       "      <td>2019-05-03 12:59:25</td>\n",
       "    </tr>\n",
       "    <tr>\n",
       "      <td>5</td>\n",
       "      <td>2019-05-03 13:23:19</td>\n",
       "      <td>2019-05-03 13:36:01</td>\n",
       "    </tr>\n",
       "  </tbody>\n",
       "</table>\n",
       "</div>"
      ],
      "text/plain": [
       "                   amin                amax\n",
       "key                                        \n",
       "1   2019-05-03 11:16:18 2019-05-03 11:30:39\n",
       "2   2019-05-03 11:37:27 2019-05-03 11:59:12\n",
       "3   2019-05-03 12:13:17 2019-05-03 12:34:57\n",
       "4   2019-05-03 12:52:57 2019-05-03 12:59:25\n",
       "5   2019-05-03 13:23:19 2019-05-03 13:36:01"
      ]
     },
     "execution_count": 36,
     "metadata": {},
     "output_type": "execute_result"
    }
   ],
   "source": [
    "pivot_data_temp = pivot_data_temp[['amin', 'amax']]\n",
    "pivot_data_temp.head()"
   ]
  },
  {
   "cell_type": "code",
   "execution_count": 37,
   "metadata": {},
   "outputs": [
    {
     "data": {
      "text/html": [
       "<div>\n",
       "<style scoped>\n",
       "    .dataframe tbody tr th:only-of-type {\n",
       "        vertical-align: middle;\n",
       "    }\n",
       "\n",
       "    .dataframe tbody tr th {\n",
       "        vertical-align: top;\n",
       "    }\n",
       "\n",
       "    .dataframe thead th {\n",
       "        text-align: right;\n",
       "    }\n",
       "</style>\n",
       "<table border=\"1\" class=\"dataframe\">\n",
       "  <thead>\n",
       "    <tr style=\"text-align: right;\">\n",
       "      <th></th>\n",
       "      <th>key</th>\n",
       "      <th>temp</th>\n",
       "    </tr>\n",
       "  </thead>\n",
       "  <tbody>\n",
       "    <tr>\n",
       "      <td>0</td>\n",
       "      <td>1</td>\n",
       "      <td>1571.0</td>\n",
       "    </tr>\n",
       "    <tr>\n",
       "      <td>5</td>\n",
       "      <td>2</td>\n",
       "      <td>1581.0</td>\n",
       "    </tr>\n",
       "    <tr>\n",
       "      <td>11</td>\n",
       "      <td>3</td>\n",
       "      <td>1596.0</td>\n",
       "    </tr>\n",
       "    <tr>\n",
       "      <td>16</td>\n",
       "      <td>4</td>\n",
       "      <td>1601.0</td>\n",
       "    </tr>\n",
       "    <tr>\n",
       "      <td>19</td>\n",
       "      <td>5</td>\n",
       "      <td>1576.0</td>\n",
       "    </tr>\n",
       "    <tr>\n",
       "      <td>...</td>\n",
       "      <td>...</td>\n",
       "      <td>...</td>\n",
       "    </tr>\n",
       "    <tr>\n",
       "      <td>12250</td>\n",
       "      <td>2495</td>\n",
       "      <td>1570.0</td>\n",
       "    </tr>\n",
       "    <tr>\n",
       "      <td>12253</td>\n",
       "      <td>2496</td>\n",
       "      <td>1554.0</td>\n",
       "    </tr>\n",
       "    <tr>\n",
       "      <td>12257</td>\n",
       "      <td>2497</td>\n",
       "      <td>1571.0</td>\n",
       "    </tr>\n",
       "    <tr>\n",
       "      <td>12259</td>\n",
       "      <td>2498</td>\n",
       "      <td>1591.0</td>\n",
       "    </tr>\n",
       "    <tr>\n",
       "      <td>12264</td>\n",
       "      <td>2499</td>\n",
       "      <td>1569.0</td>\n",
       "    </tr>\n",
       "  </tbody>\n",
       "</table>\n",
       "<p>2344 rows × 2 columns</p>\n",
       "</div>"
      ],
      "text/plain": [
       "        key    temp\n",
       "0         1  1571.0\n",
       "5         2  1581.0\n",
       "11        3  1596.0\n",
       "16        4  1601.0\n",
       "19        5  1576.0\n",
       "...     ...     ...\n",
       "12250  2495  1570.0\n",
       "12253  2496  1554.0\n",
       "12257  2497  1571.0\n",
       "12259  2498  1591.0\n",
       "12264  2499  1569.0\n",
       "\n",
       "[2344 rows x 2 columns]"
      ]
     },
     "execution_count": 37,
     "metadata": {},
     "output_type": "execute_result"
    }
   ],
   "source": [
    "data_temp_asc = data_temp.sort_values(by = ['measure_time'], ascending = True)\n",
    "data_temp_asc = data_temp_asc.drop_duplicates(subset=['key'])\n",
    "del data_temp_asc['measure_time']\n",
    "data_temp_asc"
   ]
  },
  {
   "cell_type": "code",
   "execution_count": 38,
   "metadata": {},
   "outputs": [
    {
     "data": {
      "text/html": [
       "<div>\n",
       "<style scoped>\n",
       "    .dataframe tbody tr th:only-of-type {\n",
       "        vertical-align: middle;\n",
       "    }\n",
       "\n",
       "    .dataframe tbody tr th {\n",
       "        vertical-align: top;\n",
       "    }\n",
       "\n",
       "    .dataframe thead th {\n",
       "        text-align: right;\n",
       "    }\n",
       "</style>\n",
       "<table border=\"1\" class=\"dataframe\">\n",
       "  <thead>\n",
       "    <tr style=\"text-align: right;\">\n",
       "      <th></th>\n",
       "      <th>key</th>\n",
       "      <th>temp</th>\n",
       "    </tr>\n",
       "  </thead>\n",
       "  <tbody>\n",
       "    <tr>\n",
       "      <td>12266</td>\n",
       "      <td>2499</td>\n",
       "      <td>1603.0</td>\n",
       "    </tr>\n",
       "    <tr>\n",
       "      <td>12263</td>\n",
       "      <td>2498</td>\n",
       "      <td>1594.0</td>\n",
       "    </tr>\n",
       "    <tr>\n",
       "      <td>12258</td>\n",
       "      <td>2497</td>\n",
       "      <td>1589.0</td>\n",
       "    </tr>\n",
       "    <tr>\n",
       "      <td>12256</td>\n",
       "      <td>2496</td>\n",
       "      <td>1591.0</td>\n",
       "    </tr>\n",
       "    <tr>\n",
       "      <td>12252</td>\n",
       "      <td>2495</td>\n",
       "      <td>1591.0</td>\n",
       "    </tr>\n",
       "    <tr>\n",
       "      <td>...</td>\n",
       "      <td>...</td>\n",
       "      <td>...</td>\n",
       "    </tr>\n",
       "    <tr>\n",
       "      <td>20</td>\n",
       "      <td>5</td>\n",
       "      <td>1602.0</td>\n",
       "    </tr>\n",
       "    <tr>\n",
       "      <td>18</td>\n",
       "      <td>4</td>\n",
       "      <td>1625.0</td>\n",
       "    </tr>\n",
       "    <tr>\n",
       "      <td>15</td>\n",
       "      <td>3</td>\n",
       "      <td>1599.0</td>\n",
       "    </tr>\n",
       "    <tr>\n",
       "      <td>10</td>\n",
       "      <td>2</td>\n",
       "      <td>1602.0</td>\n",
       "    </tr>\n",
       "    <tr>\n",
       "      <td>4</td>\n",
       "      <td>1</td>\n",
       "      <td>1613.0</td>\n",
       "    </tr>\n",
       "  </tbody>\n",
       "</table>\n",
       "<p>2344 rows × 2 columns</p>\n",
       "</div>"
      ],
      "text/plain": [
       "        key    temp\n",
       "12266  2499  1603.0\n",
       "12263  2498  1594.0\n",
       "12258  2497  1589.0\n",
       "12256  2496  1591.0\n",
       "12252  2495  1591.0\n",
       "...     ...     ...\n",
       "20        5  1602.0\n",
       "18        4  1625.0\n",
       "15        3  1599.0\n",
       "10        2  1602.0\n",
       "4         1  1613.0\n",
       "\n",
       "[2344 rows x 2 columns]"
      ]
     },
     "execution_count": 38,
     "metadata": {},
     "output_type": "execute_result"
    }
   ],
   "source": [
    "data_temp_desc = data_temp.sort_values(by = ['measure_time'], ascending = False)\n",
    "data_temp_desc = data_temp_desc.drop_duplicates(subset=['key'])\n",
    "del data_temp_desc['measure_time']\n",
    "data_temp_desc"
   ]
  },
  {
   "cell_type": "markdown",
   "metadata": {},
   "source": [
    "Создадим единую таблицу с необходимыми данными."
   ]
  },
  {
   "cell_type": "code",
   "execution_count": 39,
   "metadata": {},
   "outputs": [],
   "source": [
    "pivot_data_temp = pivot_data_temp.merge(data_temp_asc,on = 'key')\n",
    "pivot_data_temp = pivot_data_temp.merge(data_temp_desc,on = 'key')\n",
    "pivot_data_temp = pivot_data_temp.merge(sum_data_arc,on = 'key')\n",
    "pivot_data_temp = pivot_data_temp.merge(data_bulk,on = 'key')\n",
    "pivot_data_temp = pivot_data_temp.merge(data_gas ,on = 'key')\n",
    "pivot_data_temp = pivot_data_temp.merge(data_wire ,on = 'key')\n",
    "#pivot_data_temp = pivot_data_temp[['key', 'amin', 'amax','temp_x','temp_y']]\n",
    "#data_temp = data_temp.rename(columns = {'Температура':'temp', 'Время замера':'measure_time'})\\\n",
    "pivot_data_temp = pivot_data_temp.rename(columns = {'amin':'start_time', 'amax':'end_time','temp_x':'start_temp',\n",
    "                                                    'temp_y':'end_temp'})"
   ]
  },
  {
   "cell_type": "code",
   "execution_count": 40,
   "metadata": {},
   "outputs": [],
   "source": [
    "#pivot_data_temp"
   ]
  },
  {
   "cell_type": "markdown",
   "metadata": {},
   "source": [
    "Еще при знакомстве с данными можно было заметить, что слобец wire 5 имеет только одно ненулевое значение,поэтому этот столбец просто удалим. Номер партии удалим, так как он никак не влияет на ход процесса и конечную температуру. Так же удалим строки, где пропущено значение конечной температуры."
   ]
  },
  {
   "cell_type": "code",
   "execution_count": 41,
   "metadata": {},
   "outputs": [
    {
     "name": "stdout",
     "output_type": "stream",
     "text": [
      "<class 'pandas.core.frame.DataFrame'>\n",
      "Int64Index: 2210 entries, 0 to 2209\n",
      "Data columns (total 32 columns):\n",
      "key               2210 non-null int64\n",
      "start_time        2210 non-null datetime64[ns]\n",
      "end_time          2210 non-null datetime64[ns]\n",
      "start_temp        2210 non-null float64\n",
      "end_temp          2210 non-null float64\n",
      "active_power      2210 non-null float64\n",
      "reactive_power    2210 non-null float64\n",
      "Bulk 1            189 non-null float64\n",
      "Bulk 2            13 non-null float64\n",
      "Bulk 3            926 non-null float64\n",
      "Bulk 4            756 non-null float64\n",
      "Bulk 5            53 non-null float64\n",
      "Bulk 6            428 non-null float64\n",
      "Bulk 7            13 non-null float64\n",
      "Bulk 8            1 non-null float64\n",
      "Bulk 9            13 non-null float64\n",
      "Bulk 10           130 non-null float64\n",
      "Bulk 11           124 non-null float64\n",
      "Bulk 12           1730 non-null float64\n",
      "Bulk 13           13 non-null float64\n",
      "Bulk 14           1977 non-null float64\n",
      "Bulk 15           1619 non-null float64\n",
      "Газ 1             2210 non-null float64\n",
      "Wire 1            2188 non-null float64\n",
      "Wire 2            777 non-null float64\n",
      "Wire 3            39 non-null float64\n",
      "Wire 4            12 non-null float64\n",
      "Wire 5            0 non-null float64\n",
      "Wire 6            45 non-null float64\n",
      "Wire 7            4 non-null float64\n",
      "Wire 8            13 non-null float64\n",
      "Wire 9            22 non-null float64\n",
      "dtypes: datetime64[ns](2), float64(29), int64(1)\n",
      "memory usage: 569.8 KB\n"
     ]
    }
   ],
   "source": [
    "pivot_data_temp = pivot_data_temp.dropna(subset=['end_temp'])\n",
    "pivot_data_temp.info()\n",
    "pivot_data_temp = pivot_data_temp.drop(['Wire 5','key'],axis=1)"
   ]
  },
  {
   "cell_type": "markdown",
   "metadata": {},
   "source": [
    "Приведем температуру к целочисленному типу."
   ]
  },
  {
   "cell_type": "code",
   "execution_count": 42,
   "metadata": {},
   "outputs": [],
   "source": [
    "pivot_data_temp = pivot_data_temp.fillna(0)\n",
    "pivot_data_temp['start_temp'] = pd.to_numeric(pivot_data_temp['start_temp'], downcast='integer')\n",
    "pivot_data_temp['end_temp'] = pd.to_numeric(pivot_data_temp['end_temp'], downcast='integer')"
   ]
  },
  {
   "cell_type": "code",
   "execution_count": 43,
   "metadata": {},
   "outputs": [],
   "source": [
    "for column in pivot_data_temp.columns:\n",
    "    if column[0] == 'B':\n",
    "        pivot_data_temp[f'{column}'] = pd.to_numeric(pivot_data_temp[f'{column}'], downcast='integer')\n",
    "pivot_data_temp = pivot_data_temp.drop(['start_time', 'end_time'], axis=1)"
   ]
  },
  {
   "cell_type": "code",
   "execution_count": 44,
   "metadata": {},
   "outputs": [],
   "source": [
    "#pivot_data_temp.info()"
   ]
  },
  {
   "cell_type": "code",
   "execution_count": 45,
   "metadata": {},
   "outputs": [
    {
     "data": {
      "image/png": "[encoded data removed]",
      "text/plain": [
       "<Figure size 1440x1440 with 1 Axes>"
      ]
     },
     "metadata": {
      "needs_background": "light"
     },
     "output_type": "display_data"
    }
   ],
   "source": [
    "data_corr= pivot_data_temp.copy()\n",
    "corr_heatmap_data = pivot_data_temp.corr()\n",
    "\n",
    "fig, ax = plt.subplots(figsize=(20,20))\n",
    "ax.set_xticks(np.arange(len(corr_heatmap_data.index)))\n",
    "ax.set_yticks(np.arange(len(corr_heatmap_data.index)))\n",
    "\n",
    "ax.set_xticklabels(corr_heatmap_data.index)\n",
    "ax.set_yticklabels(corr_heatmap_data.index)\n",
    "\n",
    "plt.setp(ax.get_xticklabels(), rotation=45, ha=\"right\")\n",
    "\n",
    "data = corr_heatmap_data.values\n",
    "\n",
    "for i in range(len(corr_heatmap_data.index)):\n",
    "    for j in range(len(corr_heatmap_data.index)):\n",
    "        text = ax.text(j, i, '{:.2}'.format(data[i, j]),\n",
    "                       ha=\"center\", va=\"center\", color=\"w\")\n",
    "        \n",
    "im = ax.imshow(corr_heatmap_data.corr(), cmap='Oranges')"
   ]
  },
  {
   "cell_type": "code",
   "execution_count": 46,
   "metadata": {},
   "outputs": [],
   "source": [
    "data_corr = data_corr.drop(['reactive_power', 'Wire 8'], axis=1)"
   ]
  },
  {
   "cell_type": "code",
   "execution_count": 47,
   "metadata": {},
   "outputs": [
    {
     "data": {
      "text/plain": [
       "start_temp      0.248130\n",
       "end_temp        1.000000\n",
       "active_power    0.296778\n",
       "Bulk 1         -0.073769\n",
       "Bulk 2         -0.084983\n",
       "Bulk 3         -0.042118\n",
       "Bulk 4          0.195285\n",
       "Bulk 5         -0.030057\n",
       "Bulk 6         -0.199722\n",
       "Bulk 7         -0.110279\n",
       "Bulk 8         -0.027369\n",
       "Bulk 9         -0.017078\n",
       "Bulk 10         0.065526\n",
       "Bulk 11        -0.106113\n",
       "Bulk 12         0.275513\n",
       "Bulk 13        -0.006319\n",
       "Bulk 14         0.116903\n",
       "Bulk 15         0.271336\n",
       "Газ 1           0.060856\n",
       "Wire 1          0.323975\n",
       "Wire 2         -0.221737\n",
       "Wire 3         -0.049656\n",
       "Wire 4         -0.163896\n",
       "Wire 6         -0.086956\n",
       "Wire 7         -0.140621\n",
       "Wire 9         -0.032032\n",
       "Name: end_temp, dtype: float64"
      ]
     },
     "execution_count": 47,
     "metadata": {},
     "output_type": "execute_result"
    }
   ],
   "source": [
    "data_corr.corr()['end_temp']"
   ]
  },
  {
   "cell_type": "markdown",
   "metadata": {},
   "source": [
    "выделим те столбцы, которые больше всего влияют на конечную температуру."
   ]
  },
  {
   "cell_type": "code",
   "execution_count": 48,
   "metadata": {},
   "outputs": [
    {
     "name": "stdout",
     "output_type": "stream",
     "text": [
      "['start_temp', 'end_temp', 'active_power', 'Bulk 4', 'Bulk 12', 'Bulk 14', 'Bulk 15', 'Wire 1']\n"
     ]
    }
   ],
   "source": [
    "imp_features = []\n",
    "list_corr = dict(data_corr.corr()['end_temp'])\n",
    "#print(list_corr)\n",
    "for i in list_corr:\n",
    "    if list_corr[f'{i}'] >= 0.1:\n",
    "        imp_features.append(i)\n",
    "print(imp_features)"
   ]
  },
  {
   "cell_type": "code",
   "execution_count": 49,
   "metadata": {},
   "outputs": [],
   "source": [
    "#print(len(pivot_data_temp))"
   ]
  },
  {
   "cell_type": "markdown",
   "metadata": {},
   "source": []
  },
  {
   "cell_type": "markdown",
   "metadata": {},
   "source": [
    "<a name ='part5'></a>\n",
    "## Обучение моделей"
   ]
  },
  {
   "cell_type": "code",
   "execution_count": 50,
   "metadata": {},
   "outputs": [],
   "source": [
    "random_state = 12345\n",
    "\n",
    "features = pivot_data_temp.drop('end_temp', axis=1)\n",
    "target = pivot_data_temp['end_temp']\n",
    "\n",
    "features_train, features_test, target_train, target_test = train_test_split(\n",
    "                                                            features, \n",
    "                                                            target, \n",
    "                                                            test_size=0.25, \n",
    "                                                            random_state=random_state)\n",
    "cv_counts = 5"
   ]
  },
  {
   "cell_type": "markdown",
   "metadata": {},
   "source": [
    "### Линейная регрессия"
   ]
  },
  {
   "cell_type": "code",
   "execution_count": 51,
   "metadata": {},
   "outputs": [
    {
     "name": "stdout",
     "output_type": "stream",
     "text": [
      "Средний MAE  6.4038456434270525\n"
     ]
    }
   ],
   "source": [
    "regressor = LinearRegression()\n",
    "cv_MAE_LR = (cross_val_score(regressor, \n",
    "                             features_train, \n",
    "                             target_train, \n",
    "                             cv=cv_counts, \n",
    "                             scoring='neg_mean_absolute_error').mean() * -1)\n",
    "print('Средний MAE ', cv_MAE_LR)"
   ]
  },
  {
   "cell_type": "markdown",
   "metadata": {},
   "source": [
    "### XGBRegressor"
   ]
  },
  {
   "cell_type": "code",
   "execution_count": 52,
   "metadata": {},
   "outputs": [
    {
     "name": "stdout",
     "output_type": "stream",
     "text": [
      "Наиболее подходящие параметры:\n",
      "{'learning_rate': 0.18, 'random_state': 12345, 'silent': True}\n"
     ]
    }
   ],
   "source": [
    "regressor = XGBRegressor() \n",
    "hyperparams = [{'learning_rate':[x/100 for x in range(1, 51)],\n",
    "                'random_state':[random_state],\n",
    "               'silent':[True]}]\n",
    "\n",
    "clf = GridSearchCV(regressor, hyperparams, scoring='neg_mean_absolute_error', cv=cv_counts)\n",
    "clf.fit(features_train, target_train)\n",
    "print(\"Наиболее подходящие параметры:\")\n",
    "best_params_XGBR = clf.best_params_\n",
    "print(clf.best_params_)"
   ]
  },
  {
   "cell_type": "markdown",
   "metadata": {},
   "source": [
    "### RandomForestRegressor"
   ]
  },
  {
   "cell_type": "code",
   "execution_count": 53,
   "metadata": {},
   "outputs": [
    {
     "name": "stdout",
     "output_type": "stream",
     "text": [
      "Наиболее подходящие параметры:\n",
      "{'criterion': 'mse', 'n_estimators': 900, 'random_state': 12345}\n"
     ]
    }
   ],
   "source": [
    "regressor = RandomForestRegressor() \n",
    "hyperparams = [{'criterion':['mse'],\n",
    "                'n_estimators':[x for x in range(100, 1001, 50)], \n",
    "                'random_state':[random_state]}]\n",
    "\n",
    "clf = GridSearchCV(regressor, hyperparams, scoring='neg_mean_absolute_error', cv=cv_counts)\n",
    "clf.fit(features_train, target_train)\n",
    "print(\"Наиболее подходящие параметры:\")\n",
    "best_params_RFR = clf.best_params_\n",
    "print(clf.best_params_)"
   ]
  },
  {
   "cell_type": "markdown",
   "metadata": {},
   "source": [
    "### Проверка моделей"
   ]
  },
  {
   "cell_type": "code",
   "execution_count": 54,
   "metadata": {},
   "outputs": [],
   "source": [
    "import seaborn as sns\n",
    "def chart_feature_imp(model):\n",
    "    feature_imp = pd.Series(model.feature_importances_, index=features_test.columns).sort_values(ascending=False)\n",
    "\n",
    "    ax = sns.barplot(x=feature_imp, y=feature_imp.index)\n",
    "    label = ax.set(xlabel='Оценка важности признаков', ylabel='Признаки')\n",
    "    title = ax.set_title('Визуализация важности признаков')"
   ]
  },
  {
   "cell_type": "code",
   "execution_count": 60,
   "metadata": {},
   "outputs": [
    {
     "name": "stdout",
     "output_type": "stream",
     "text": [
      "MAE on test for LinearRegression = 6.51199595504234\n"
     ]
    },
    {
     "data": {
      "image/png": "[encoded data removed]",
      "text/plain": [
       "<Figure size 432x288 with 1 Axes>"
      ]
     },
     "metadata": {
      "needs_background": "light"
     },
     "output_type": "display_data"
    }
   ],
   "source": [
    "LR = LinearRegression()\n",
    "LR.fit(features_train, target_train)\n",
    "target_predict = LR.predict(features_test)\n",
    "test_MAE_LR = mean_absolute_error(target_predict, target_test)\n",
    "print('MAE on test for LinearRegression =', test_MAE_LR)\n",
    "feature_imprtnr = pd.Series(LR.coef_, index=features_test.columns).sort_values(ascending=False)\n",
    "ax_lr = sns.barplot(x=feature_imprtnr, y=feature_imprtnr.index)\n",
    "label_lr = ax.set(xlabel='Оценка важности признаков', ylabel='Признаки')\n",
    "title_lr = ax.set_title('Визуализация важности признаков')"
   ]
  },
  {
   "cell_type": "code",
   "execution_count": 56,
   "metadata": {},
   "outputs": [
    {
     "name": "stdout",
     "output_type": "stream",
     "text": [
      "Средний MAE  5.760421\n",
      "/bin/bash: -c: line 0: syntax error near unexpected token `attachment:image.png'\n",
      "/bin/bash: -c: line 0: `[image.png](attachment:image.png)'\n"
     ]
    },
    {
     "data": {
      "image/png": "[encoded data removed]",
      "text/plain": [
       "<Figure size 432x288 with 1 Axes>"
      ]
     },
     "metadata": {
      "needs_background": "light"
     },
     "output_type": "display_data"
    }
   ],
   "source": [
    "gxbregressor = XGBRegressor()\n",
    "gxbregressor.set_params(**best_params_XGBR)\n",
    "gxbregressor.fit(features_train, target_train)\n",
    "target_predict = gxbregressor.predict(features_test)\n",
    "test_MAE_XGBR = mean_absolute_error(target_predict, target_test)\n",
    "print('Средний MAE ', test_MAE_XGBR)\n",
    "chart_feature_imp(gxbregressor)\n",
    "![image.png](attachment:image.png)"
   ]
  },
  {
   "cell_type": "code",
   "execution_count": 57,
   "metadata": {},
   "outputs": [
    {
     "name": "stdout",
     "output_type": "stream",
     "text": [
      "MAE on test of RandomForestRegressor = 5.973934096845489\n",
      "/bin/bash: -c: line 0: syntax error near unexpected token `attachment:image.png'\n",
      "/bin/bash: -c: line 0: `[image.png](attachment:image.png)'\n"
     ]
    },
    {
     "data": {
      "image/png": "[encoded data removed]",
      "text/plain": [
       "<Figure size 432x288 with 1 Axes>"
      ]
     },
     "metadata": {
      "needs_background": "light"
     },
     "output_type": "display_data"
    }
   ],
   "source": [
    "random_forest = RandomForestRegressor()\n",
    "random_forest.set_params(**best_params_RFR)\n",
    "random_forest.fit(features_train, target_train)\n",
    "target_predict = random_forest.predict(features_test)\n",
    "test_MAE_RFR = mean_absolute_error(target_predict, target_test)\n",
    "print('MAE on test of RandomForestRegressor =', test_MAE_RFR)\n",
    "chart_feature_imp(random_forest)\n",
    "![image.png](attachment:image.png)"
   ]
  },
  {
   "cell_type": "code",
   "execution_count": null,
   "metadata": {},
   "outputs": [],
   "source": [
    "#import seaborn as sns\n",
    "'''def chart_feature_imp(model):\n",
    "    feature_imp = pd.Series(model.feature_importances_, index=features_valid.columns).sort_values(ascending=False)\n",
    "\n",
    "    ax = sns.barplot(x=feature_imp, y=feature_imp.index)\n",
    "    label = ax.set(xlabel='Оценка важности признаков', ylabel='Признаки')\n",
    "    title = ax.set_title('Визуализация важности признаков')'''\n",
    "\n",
    "#chart_feature_imp(RandomForestRegressor)\n",
    "#![image.png](attachment:image.png)"
   ]
  },
  {
   "cell_type": "markdown",
   "metadata": {},
   "source": [
    "<a name = 'part6'></a>\n",
    "# Вывод"
   ]
  },
  {
   "cell_type": "markdown",
   "metadata": {},
   "source": [
    "В ходе проекта ознакомился с предоставленными данными об обработке стали. Избавился от некорректных значений в некоторых столбцах. Проверил данные на мультиколлинеарность и нашел столбцы, которые больше всего влияют на конечную температуру. Обучил несколько моделей, подбор параметров осуществлял с помощью GridSearch. Наилучшую метрику показала модель XGBRegressor, ее MAE равень 5.7, значит модель ошибается в среднем на 5-6 градусов."
   ]
  }
 ],
 "metadata": {
  "ExecuteTimeLog": [
   {
    "duration": 736,
    "start_time": "2021-09-21T15:09:40.863Z"
   },
   {
    "duration": 546,
    "start_time": "2021-09-21T15:10:22.209Z"
   },
   {
    "duration": 604,
    "start_time": "2021-09-21T15:14:23.634Z"
   },
   {
    "duration": 49,
    "start_time": "2021-09-21T15:16:08.496Z"
   },
   {
    "duration": 39,
    "start_time": "2021-09-21T15:17:08.653Z"
   },
   {
    "duration": 433,
    "start_time": "2021-09-21T15:21:13.972Z"
   },
   {
    "duration": 46,
    "start_time": "2021-09-21T15:21:28.194Z"
   },
   {
    "duration": 44,
    "start_time": "2021-09-21T15:23:27.361Z"
   },
   {
    "duration": 4,
    "start_time": "2021-09-21T15:32:52.869Z"
   },
   {
    "duration": 23,
    "start_time": "2021-09-21T15:33:17.319Z"
   },
   {
    "duration": 21,
    "start_time": "2021-09-21T15:33:46.695Z"
   },
   {
    "duration": 11,
    "start_time": "2021-09-21T15:36:28.640Z"
   },
   {
    "duration": 416,
    "start_time": "2021-09-21T15:36:58.782Z"
   },
   {
    "duration": 539,
    "start_time": "2021-09-21T15:37:07.730Z"
   },
   {
    "duration": 841,
    "start_time": "2021-09-21T15:39:08.886Z"
   },
   {
    "duration": 868,
    "start_time": "2021-09-21T15:39:17.439Z"
   },
   {
    "duration": 857,
    "start_time": "2021-09-21T15:39:25.628Z"
   },
   {
    "duration": 118,
    "start_time": "2021-09-21T15:42:36.457Z"
   },
   {
    "duration": 105,
    "start_time": "2021-09-21T15:43:37.160Z"
   },
   {
    "duration": 110,
    "start_time": "2021-09-21T15:45:05.753Z"
   },
   {
    "duration": 9,
    "start_time": "2021-09-21T15:45:29.302Z"
   },
   {
    "duration": 24,
    "start_time": "2021-09-21T15:45:43.799Z"
   },
   {
    "duration": 10,
    "start_time": "2021-09-21T15:46:13.419Z"
   },
   {
    "duration": 120,
    "start_time": "2021-09-21T15:46:25.934Z"
   },
   {
    "duration": 6,
    "start_time": "2021-09-21T15:48:16.816Z"
   },
   {
    "duration": 6,
    "start_time": "2021-09-21T15:48:45.389Z"
   },
   {
    "duration": 6,
    "start_time": "2021-09-21T15:48:48.976Z"
   },
   {
    "duration": 6,
    "start_time": "2021-09-21T15:49:09.040Z"
   },
   {
    "duration": 6,
    "start_time": "2021-09-21T15:49:21.053Z"
   },
   {
    "duration": 7,
    "start_time": "2021-09-21T15:49:28.980Z"
   },
   {
    "duration": 9,
    "start_time": "2021-09-21T15:49:33.510Z"
   },
   {
    "duration": 8,
    "start_time": "2021-09-21T15:49:40.215Z"
   },
   {
    "duration": 386,
    "start_time": "2021-09-21T15:49:50.092Z"
   },
   {
    "duration": 8,
    "start_time": "2021-09-21T15:49:56.009Z"
   },
   {
    "duration": 8,
    "start_time": "2021-09-21T15:50:00.927Z"
   },
   {
    "duration": 6,
    "start_time": "2021-09-21T15:50:08.131Z"
   },
   {
    "duration": 12,
    "start_time": "2021-09-21T15:51:22.817Z"
   },
   {
    "duration": 788,
    "start_time": "2021-09-21T15:51:50.771Z"
   },
   {
    "duration": 905,
    "start_time": "2021-09-21T15:52:01.914Z"
   },
   {
    "duration": 1099,
    "start_time": "2021-09-21T15:52:37.678Z"
   },
   {
    "duration": 803,
    "start_time": "2021-09-21T15:52:49.876Z"
   },
   {
    "duration": 16,
    "start_time": "2021-09-21T15:53:59.258Z"
   },
   {
    "duration": 25,
    "start_time": "2021-09-21T15:54:36.001Z"
   },
   {
    "duration": 28,
    "start_time": "2021-09-21T15:54:58.971Z"
   },
   {
    "duration": 203,
    "start_time": "2021-09-21T15:55:07.563Z"
   },
   {
    "duration": 30,
    "start_time": "2021-09-21T15:55:10.505Z"
   },
   {
    "duration": 851,
    "start_time": "2021-09-21T15:56:31.709Z"
   },
   {
    "duration": 200,
    "start_time": "2021-09-21T15:57:09.311Z"
   },
   {
    "duration": 801,
    "start_time": "2021-09-21T15:57:11.662Z"
   },
   {
    "duration": 881,
    "start_time": "2021-09-21T15:57:33.477Z"
   },
   {
    "duration": 208,
    "start_time": "2021-09-21T16:00:07.566Z"
   },
   {
    "duration": 632,
    "start_time": "2021-09-21T16:00:10.161Z"
   },
   {
    "duration": 1403,
    "start_time": "2021-09-21T16:00:37.060Z"
   },
   {
    "duration": 11,
    "start_time": "2021-09-21T16:00:53.525Z"
   },
   {
    "duration": 199,
    "start_time": "2021-09-21T16:00:58.677Z"
   },
   {
    "duration": 809,
    "start_time": "2021-09-21T16:01:06.800Z"
   },
   {
    "duration": 7,
    "start_time": "2021-09-21T16:01:11.894Z"
   },
   {
    "duration": 15,
    "start_time": "2021-09-21T16:02:31.771Z"
   },
   {
    "duration": 22,
    "start_time": "2021-09-21T16:02:38.623Z"
   },
   {
    "duration": 4,
    "start_time": "2021-09-21T16:02:50.655Z"
   },
   {
    "duration": 204,
    "start_time": "2021-09-21T16:02:50.833Z"
   },
   {
    "duration": 3,
    "start_time": "2021-09-21T16:02:51.040Z"
   },
   {
    "duration": 21,
    "start_time": "2021-09-21T16:02:51.141Z"
   },
   {
    "duration": 918,
    "start_time": "2021-09-21T16:02:51.302Z"
   },
   {
    "duration": 7,
    "start_time": "2021-09-21T16:02:52.222Z"
   },
   {
    "duration": 35,
    "start_time": "2021-09-21T16:02:52.232Z"
   },
   {
    "duration": 1685,
    "start_time": "2021-09-21T16:03:20.454Z"
   },
   {
    "duration": 701,
    "start_time": "2021-09-21T16:03:30.246Z"
   },
   {
    "duration": 9,
    "start_time": "2021-09-21T16:04:00.477Z"
   },
   {
    "duration": 7,
    "start_time": "2021-09-21T16:04:06.251Z"
   },
   {
    "duration": 2156,
    "start_time": "2021-09-21T16:04:57.845Z"
   },
   {
    "duration": 4,
    "start_time": "2021-09-21T16:05:00.004Z"
   },
   {
    "duration": 36,
    "start_time": "2021-09-21T16:05:00.012Z"
   },
   {
    "duration": 831,
    "start_time": "2021-09-21T16:05:00.050Z"
   },
   {
    "duration": 7,
    "start_time": "2021-09-21T16:05:00.884Z"
   },
   {
    "duration": 940,
    "start_time": "2021-09-21T16:05:00.894Z"
   },
   {
    "duration": 34,
    "start_time": "2021-09-21T16:11:48.390Z"
   },
   {
    "duration": 36,
    "start_time": "2021-09-21T16:12:23.525Z"
   },
   {
    "duration": 9,
    "start_time": "2021-09-21T16:13:03.551Z"
   },
   {
    "duration": 8,
    "start_time": "2021-09-21T16:13:06.720Z"
   },
   {
    "duration": 8,
    "start_time": "2021-09-21T16:13:09.882Z"
   },
   {
    "duration": 8,
    "start_time": "2021-09-21T16:13:13.251Z"
   },
   {
    "duration": 8,
    "start_time": "2021-09-21T16:13:15.452Z"
   },
   {
    "duration": 8,
    "start_time": "2021-09-21T16:13:18.057Z"
   },
   {
    "duration": 7,
    "start_time": "2021-09-21T16:13:20.028Z"
   },
   {
    "duration": 8,
    "start_time": "2021-09-21T16:13:24.943Z"
   },
   {
    "duration": 6,
    "start_time": "2021-09-21T16:13:54.157Z"
   },
   {
    "duration": 5,
    "start_time": "2021-09-21T16:14:08.394Z"
   },
   {
    "duration": 8,
    "start_time": "2021-09-21T16:18:34.491Z"
   },
   {
    "duration": 7,
    "start_time": "2021-09-21T16:18:45.845Z"
   },
   {
    "duration": 10,
    "start_time": "2021-09-21T16:19:07.518Z"
   },
   {
    "duration": 9,
    "start_time": "2021-09-21T16:19:16.990Z"
   },
   {
    "duration": 8,
    "start_time": "2021-09-21T16:19:22.502Z"
   },
   {
    "duration": 10,
    "start_time": "2021-09-21T16:19:27.029Z"
   },
   {
    "duration": 9,
    "start_time": "2021-09-21T16:19:32.432Z"
   },
   {
    "duration": 8,
    "start_time": "2021-09-21T16:19:37.887Z"
   },
   {
    "duration": 9,
    "start_time": "2021-09-21T16:19:42.201Z"
   },
   {
    "duration": 37,
    "start_time": "2021-09-21T16:19:54.951Z"
   },
   {
    "duration": 9,
    "start_time": "2021-09-21T16:23:02.433Z"
   },
   {
    "duration": 8,
    "start_time": "2021-09-21T16:23:22.201Z"
   },
   {
    "duration": 102,
    "start_time": "2021-09-21T16:38:48.663Z"
   },
   {
    "duration": 36,
    "start_time": "2021-09-21T16:40:46.294Z"
   },
   {
    "duration": 17,
    "start_time": "2021-09-21T16:42:51.148Z"
   },
   {
    "duration": 10,
    "start_time": "2021-09-21T16:43:47.942Z"
   },
   {
    "duration": 773,
    "start_time": "2021-09-21T16:44:52.264Z"
   },
   {
    "duration": 821,
    "start_time": "2021-09-21T16:45:02.933Z"
   },
   {
    "duration": 7,
    "start_time": "2021-09-21T16:47:42.200Z"
   },
   {
    "duration": 6,
    "start_time": "2021-09-21T16:47:48.468Z"
   },
   {
    "duration": 8,
    "start_time": "2021-09-21T16:47:54.624Z"
   },
   {
    "duration": 19,
    "start_time": "2021-09-21T16:49:03.042Z"
   },
   {
    "duration": 11,
    "start_time": "2021-09-21T16:51:08.118Z"
   },
   {
    "duration": 805,
    "start_time": "2021-09-21T16:51:49.955Z"
   },
   {
    "duration": 784,
    "start_time": "2021-09-21T16:52:15.792Z"
   },
   {
    "duration": 8,
    "start_time": "2021-09-21T16:52:47.786Z"
   },
   {
    "duration": 7,
    "start_time": "2021-09-21T16:52:56.195Z"
   },
   {
    "duration": 7,
    "start_time": "2021-09-21T16:53:11.094Z"
   },
   {
    "duration": 6,
    "start_time": "2021-09-21T16:53:16.025Z"
   },
   {
    "duration": 7,
    "start_time": "2021-09-21T16:53:20.726Z"
   },
   {
    "duration": 7,
    "start_time": "2021-09-21T16:53:25.104Z"
   },
   {
    "duration": 26,
    "start_time": "2021-09-21T16:55:11.536Z"
   },
   {
    "duration": 86,
    "start_time": "2021-09-21T16:56:16.834Z"
   },
   {
    "duration": 387,
    "start_time": "2021-09-21T16:57:19.421Z"
   },
   {
    "duration": 28,
    "start_time": "2021-09-21T16:57:28.457Z"
   },
   {
    "duration": 20,
    "start_time": "2021-09-21T17:05:33.423Z"
   },
   {
    "duration": 19,
    "start_time": "2021-09-21T17:05:50.049Z"
   },
   {
    "duration": 598,
    "start_time": "2021-09-22T08:38:46.382Z"
   },
   {
    "duration": 187,
    "start_time": "2021-09-22T08:38:46.982Z"
   },
   {
    "duration": 24,
    "start_time": "2021-09-22T08:38:51.672Z"
   },
   {
    "duration": 515,
    "start_time": "2021-09-22T08:38:52.272Z"
   },
   {
    "duration": 6,
    "start_time": "2021-09-22T08:38:53.136Z"
   },
   {
    "duration": 457,
    "start_time": "2021-09-22T08:38:53.450Z"
   },
   {
    "duration": 6,
    "start_time": "2021-09-22T08:38:53.909Z"
   },
   {
    "duration": 26,
    "start_time": "2021-09-22T08:38:54.090Z"
   },
   {
    "duration": 136,
    "start_time": "2021-09-22T08:38:54.320Z"
   },
   {
    "duration": 22,
    "start_time": "2021-09-22T08:38:54.745Z"
   },
   {
    "duration": 11,
    "start_time": "2021-09-22T08:38:55.151Z"
   },
   {
    "duration": 705,
    "start_time": "2021-09-22T08:38:55.856Z"
   },
   {
    "duration": 6,
    "start_time": "2021-09-22T08:38:56.563Z"
   },
   {
    "duration": 17,
    "start_time": "2021-09-22T08:38:56.602Z"
   },
   {
    "duration": 680,
    "start_time": "2021-09-22T08:38:56.800Z"
   },
   {
    "duration": 4,
    "start_time": "2021-09-22T08:38:57.482Z"
   },
   {
    "duration": 19,
    "start_time": "2021-09-22T08:38:57.488Z"
   },
   {
    "duration": 48,
    "start_time": "2021-09-22T08:38:57.856Z"
   },
   {
    "duration": 23,
    "start_time": "2021-09-22T08:38:58.576Z"
   },
   {
    "duration": 815,
    "start_time": "2021-09-26T05:59:03.644Z"
   },
   {
    "duration": -741,
    "start_time": "2021-09-26T05:59:05.202Z"
   },
   {
    "duration": -744,
    "start_time": "2021-09-26T05:59:05.206Z"
   },
   {
    "duration": 173,
    "start_time": "2021-09-26T05:59:04.952Z"
   },
   {
    "duration": -737,
    "start_time": "2021-09-26T05:59:05.863Z"
   },
   {
    "duration": 174,
    "start_time": "2021-09-26T05:59:05.327Z"
   },
   {
    "duration": -729,
    "start_time": "2021-09-26T05:59:06.231Z"
   },
   {
    "duration": 175,
    "start_time": "2021-09-26T05:59:06.021Z"
   },
   {
    "duration": 170,
    "start_time": "2021-09-26T05:59:06.417Z"
   },
   {
    "duration": 168,
    "start_time": "2021-09-26T05:59:06.592Z"
   },
   {
    "duration": 659,
    "start_time": "2021-09-26T05:59:14.831Z"
   },
   {
    "duration": -726,
    "start_time": "2021-09-26T05:59:16.219Z"
   },
   {
    "duration": 3,
    "start_time": "2021-09-26T05:59:51.105Z"
   },
   {
    "duration": 498,
    "start_time": "2021-09-26T05:59:55.032Z"
   },
   {
    "duration": 2,
    "start_time": "2021-09-26T05:59:55.532Z"
   },
   {
    "duration": 19,
    "start_time": "2021-09-26T05:59:55.974Z"
   },
   {
    "duration": 493,
    "start_time": "2021-09-26T05:59:56.137Z"
   },
   {
    "duration": 5,
    "start_time": "2021-09-26T05:59:56.632Z"
   },
   {
    "duration": 445,
    "start_time": "2021-09-26T05:59:56.638Z"
   },
   {
    "duration": 14,
    "start_time": "2021-09-26T05:59:57.085Z"
   },
   {
    "duration": 24,
    "start_time": "2021-09-26T05:59:57.227Z"
   },
   {
    "duration": 124,
    "start_time": "2021-09-26T05:59:57.382Z"
   },
   {
    "duration": 20,
    "start_time": "2021-09-26T05:59:57.884Z"
   },
   {
    "duration": 10,
    "start_time": "2021-09-26T05:59:58.210Z"
   },
   {
    "duration": 502,
    "start_time": "2021-09-26T05:59:58.543Z"
   },
   {
    "duration": 5,
    "start_time": "2021-09-26T05:59:59.047Z"
   },
   {
    "duration": 12,
    "start_time": "2021-09-26T05:59:59.058Z"
   },
   {
    "duration": 540,
    "start_time": "2021-09-26T05:59:59.222Z"
   },
   {
    "duration": 5,
    "start_time": "2021-09-26T05:59:59.764Z"
   },
   {
    "duration": 37,
    "start_time": "2021-09-26T05:59:59.771Z"
   },
   {
    "duration": 42,
    "start_time": "2021-09-26T05:59:59.893Z"
   },
   {
    "duration": 18,
    "start_time": "2021-09-26T06:00:00.244Z"
   },
   {
    "duration": 223,
    "start_time": "2021-09-26T06:04:17.907Z"
   },
   {
    "duration": 205,
    "start_time": "2021-09-26T06:04:31.153Z"
   },
   {
    "duration": 175,
    "start_time": "2021-09-26T06:05:05.991Z"
   },
   {
    "duration": 174,
    "start_time": "2021-09-26T06:05:14.777Z"
   },
   {
    "duration": 10,
    "start_time": "2021-09-26T06:06:05.723Z"
   },
   {
    "duration": 183,
    "start_time": "2021-09-26T06:06:19.388Z"
   },
   {
    "duration": 347,
    "start_time": "2021-09-26T06:06:26.434Z"
   },
   {
    "duration": 351,
    "start_time": "2021-09-26T06:07:05.782Z"
   },
   {
    "duration": 177,
    "start_time": "2021-09-26T06:07:11.458Z"
   },
   {
    "duration": 348,
    "start_time": "2021-09-26T06:07:15.001Z"
   },
   {
    "duration": 200,
    "start_time": "2021-09-26T06:07:38.645Z"
   },
   {
    "duration": 215,
    "start_time": "2021-09-26T06:18:54.674Z"
   },
   {
    "duration": 5,
    "start_time": "2021-09-26T06:18:58.847Z"
   },
   {
    "duration": 8,
    "start_time": "2021-09-26T06:19:16.597Z"
   },
   {
    "duration": 218,
    "start_time": "2021-09-26T06:19:24.963Z"
   },
   {
    "duration": 4,
    "start_time": "2021-09-26T06:19:29.250Z"
   },
   {
    "duration": 242,
    "start_time": "2021-09-26T06:19:33.837Z"
   },
   {
    "duration": 212,
    "start_time": "2021-09-26T06:20:42.595Z"
   },
   {
    "duration": 193,
    "start_time": "2021-09-26T06:20:49.776Z"
   },
   {
    "duration": 201,
    "start_time": "2021-09-26T06:20:52.903Z"
   },
   {
    "duration": 214,
    "start_time": "2021-09-26T06:21:11.570Z"
   },
   {
    "duration": 4,
    "start_time": "2021-09-26T06:21:17.329Z"
   },
   {
    "duration": 6032,
    "start_time": "2021-09-26T06:21:18.414Z"
   },
   {
    "duration": 341,
    "start_time": "2021-09-26T06:21:31.713Z"
   },
   {
    "duration": 8,
    "start_time": "2021-09-26T06:21:48.801Z"
   },
   {
    "duration": 7,
    "start_time": "2021-09-26T06:23:20.695Z"
   },
   {
    "duration": 213,
    "start_time": "2021-09-26T06:23:22.373Z"
   },
   {
    "duration": 197,
    "start_time": "2021-09-26T06:23:30.789Z"
   },
   {
    "duration": 8,
    "start_time": "2021-09-26T06:23:36.539Z"
   },
   {
    "duration": 440,
    "start_time": "2021-09-26T06:23:37.203Z"
   },
   {
    "duration": 8,
    "start_time": "2021-09-26T06:27:44.590Z"
   },
   {
    "duration": 8,
    "start_time": "2021-09-26T06:27:49.284Z"
   },
   {
    "duration": 7,
    "start_time": "2021-09-26T06:29:54.960Z"
   },
   {
    "duration": 63,
    "start_time": "2021-09-26T06:33:57.692Z"
   },
   {
    "duration": 70,
    "start_time": "2021-09-26T06:35:20.550Z"
   },
   {
    "duration": 66,
    "start_time": "2021-09-26T06:35:29.950Z"
   },
   {
    "duration": 8,
    "start_time": "2021-09-26T06:35:45.858Z"
   },
   {
    "duration": 10,
    "start_time": "2021-09-26T06:36:03.345Z"
   },
   {
    "duration": 13,
    "start_time": "2021-09-26T06:37:30.895Z"
   },
   {
    "duration": 3,
    "start_time": "2021-09-26T06:40:43.587Z"
   },
   {
    "duration": 9,
    "start_time": "2021-09-26T06:45:06.970Z"
   },
   {
    "duration": 9,
    "start_time": "2021-09-26T07:04:08.442Z"
   },
   {
    "duration": 12,
    "start_time": "2021-09-26T07:04:23.918Z"
   },
   {
    "duration": 7,
    "start_time": "2021-09-26T07:05:03.945Z"
   },
   {
    "duration": 200,
    "start_time": "2021-09-26T07:12:24.452Z"
   },
   {
    "duration": 11,
    "start_time": "2021-09-26T07:12:57.709Z"
   },
   {
    "duration": 206,
    "start_time": "2021-09-26T07:13:04.389Z"
   },
   {
    "duration": 3,
    "start_time": "2021-09-26T07:13:09.777Z"
   },
   {
    "duration": 2,
    "start_time": "2021-09-26T07:13:10.071Z"
   },
   {
    "duration": 191,
    "start_time": "2021-09-26T07:13:10.245Z"
   },
   {
    "duration": 2,
    "start_time": "2021-09-26T07:13:10.438Z"
   },
   {
    "duration": 1040,
    "start_time": "2021-09-26T07:13:16.451Z"
   },
   {
    "duration": 2,
    "start_time": "2021-09-26T07:13:17.493Z"
   },
   {
    "duration": 195,
    "start_time": "2021-09-26T07:13:17.497Z"
   },
   {
    "duration": 2,
    "start_time": "2021-09-26T07:13:17.694Z"
   },
   {
    "duration": 22,
    "start_time": "2021-09-26T07:13:17.697Z"
   },
   {
    "duration": 488,
    "start_time": "2021-09-26T07:13:17.720Z"
   },
   {
    "duration": 5,
    "start_time": "2021-09-26T07:13:18.211Z"
   },
   {
    "duration": 447,
    "start_time": "2021-09-26T07:13:18.217Z"
   },
   {
    "duration": 5,
    "start_time": "2021-09-26T07:13:18.665Z"
   },
   {
    "duration": 36,
    "start_time": "2021-09-26T07:13:18.672Z"
   },
   {
    "duration": 104,
    "start_time": "2021-09-26T07:13:18.710Z"
   },
   {
    "duration": 22,
    "start_time": "2021-09-26T07:13:18.961Z"
   },
   {
    "duration": 11,
    "start_time": "2021-09-26T07:13:19.469Z"
   },
   {
    "duration": 505,
    "start_time": "2021-09-26T07:13:19.631Z"
   },
   {
    "duration": 4,
    "start_time": "2021-09-26T07:13:20.138Z"
   },
   {
    "duration": 13,
    "start_time": "2021-09-26T07:13:20.341Z"
   },
   {
    "duration": 563,
    "start_time": "2021-09-26T07:13:20.508Z"
   },
   {
    "duration": 5,
    "start_time": "2021-09-26T07:13:21.073Z"
   },
   {
    "duration": 31,
    "start_time": "2021-09-26T07:13:21.079Z"
   },
   {
    "duration": 44,
    "start_time": "2021-09-26T07:13:21.184Z"
   },
   {
    "duration": 16,
    "start_time": "2021-09-26T07:13:21.506Z"
   },
   {
    "duration": 18,
    "start_time": "2021-09-26T07:13:23.113Z"
   },
   {
    "duration": 267,
    "start_time": "2021-09-26T07:13:34.907Z"
   },
   {
    "duration": 260,
    "start_time": "2021-09-26T07:13:53.042Z"
   },
   {
    "duration": 707,
    "start_time": "2021-09-26T07:18:07.015Z"
   },
   {
    "duration": 11,
    "start_time": "2021-09-26T07:18:33.385Z"
   },
   {
    "duration": 12,
    "start_time": "2021-09-26T07:18:39.200Z"
   },
   {
    "duration": 195,
    "start_time": "2021-09-26T07:18:50.440Z"
   },
   {
    "duration": 8,
    "start_time": "2021-09-26T08:24:00.155Z"
   },
   {
    "duration": 4,
    "start_time": "2021-09-26T08:29:52.982Z"
   },
   {
    "duration": 5,
    "start_time": "2021-09-26T08:30:16.450Z"
   },
   {
    "duration": 204,
    "start_time": "2021-09-26T08:35:59.431Z"
   },
   {
    "duration": 3,
    "start_time": "2021-09-26T08:36:10.215Z"
   },
   {
    "duration": 11,
    "start_time": "2021-09-26T08:36:13.836Z"
   },
   {
    "duration": 12,
    "start_time": "2021-09-26T08:36:23.625Z"
   },
   {
    "duration": 3,
    "start_time": "2021-09-26T11:16:37.742Z"
   },
   {
    "duration": 5,
    "start_time": "2021-09-26T11:16:38.490Z"
   },
   {
    "duration": 4,
    "start_time": "2021-09-26T11:16:41.898Z"
   },
   {
    "duration": 4,
    "start_time": "2021-09-26T11:21:02.962Z"
   },
   {
    "duration": 5,
    "start_time": "2021-09-26T11:21:22.529Z"
   },
   {
    "duration": 12,
    "start_time": "2021-09-26T11:25:44.347Z"
   },
   {
    "duration": 7,
    "start_time": "2021-09-26T11:25:50.146Z"
   },
   {
    "duration": 18,
    "start_time": "2021-09-26T11:28:31.347Z"
   },
   {
    "duration": 9,
    "start_time": "2021-09-26T11:28:33.019Z"
   },
   {
    "duration": 6,
    "start_time": "2021-09-26T11:36:27.994Z"
   },
   {
    "duration": 2,
    "start_time": "2021-09-26T11:36:36.102Z"
   },
   {
    "duration": 8,
    "start_time": "2021-09-26T11:36:51.760Z"
   },
   {
    "duration": 5804,
    "start_time": "2021-09-26T11:37:59.303Z"
   },
   {
    "duration": 9,
    "start_time": "2021-09-26T11:38:15.019Z"
   },
   {
    "duration": 6,
    "start_time": "2021-09-26T11:38:24.081Z"
   },
   {
    "duration": 5,
    "start_time": "2021-09-26T11:39:05.389Z"
   },
   {
    "duration": 4,
    "start_time": "2021-09-26T11:39:15.766Z"
   },
   {
    "duration": 4691,
    "start_time": "2021-09-26T11:41:11.237Z"
   },
   {
    "duration": 182,
    "start_time": "2021-09-26T11:42:13.377Z"
   },
   {
    "duration": 4701,
    "start_time": "2021-09-26T11:42:26.519Z"
   },
   {
    "duration": 5,
    "start_time": "2021-09-26T11:42:33.207Z"
   },
   {
    "duration": 76,
    "start_time": "2021-09-26T11:43:56.472Z"
   },
   {
    "duration": 56,
    "start_time": "2021-09-26T11:44:11.717Z"
   },
   {
    "duration": 178,
    "start_time": "2021-09-26T11:44:28.959Z"
   },
   {
    "duration": 67,
    "start_time": "2021-09-26T11:44:36.318Z"
   },
   {
    "duration": 4,
    "start_time": "2021-09-26T11:46:56.623Z"
   },
   {
    "duration": 1556,
    "start_time": "2021-09-26T11:47:11.760Z"
   },
   {
    "duration": 224,
    "start_time": "2021-09-26T13:17:52.255Z"
   },
   {
    "duration": 4,
    "start_time": "2021-09-26T13:18:21.747Z"
   },
   {
    "duration": 209,
    "start_time": "2021-09-26T13:21:31.799Z"
   },
   {
    "duration": 214,
    "start_time": "2021-09-26T13:21:52.419Z"
   },
   {
    "duration": 4,
    "start_time": "2021-09-26T13:22:27.851Z"
   },
   {
    "duration": 3,
    "start_time": "2021-09-26T13:22:46.457Z"
   },
   {
    "duration": 247,
    "start_time": "2021-09-26T13:22:57.640Z"
   },
   {
    "duration": 236,
    "start_time": "2021-09-26T13:23:17.243Z"
   },
   {
    "duration": 7,
    "start_time": "2021-09-26T13:23:37.115Z"
   },
   {
    "duration": 225,
    "start_time": "2021-09-26T13:24:02.017Z"
   },
   {
    "duration": 3,
    "start_time": "2021-09-26T13:24:24.285Z"
   },
   {
    "duration": 2,
    "start_time": "2021-09-26T13:24:24.457Z"
   },
   {
    "duration": 185,
    "start_time": "2021-09-26T13:24:24.626Z"
   },
   {
    "duration": 3,
    "start_time": "2021-09-26T13:24:24.813Z"
   },
   {
    "duration": 17,
    "start_time": "2021-09-26T13:24:25.430Z"
   },
   {
    "duration": 512,
    "start_time": "2021-09-26T13:24:25.615Z"
   },
   {
    "duration": 5,
    "start_time": "2021-09-26T13:24:26.130Z"
   },
   {
    "duration": 464,
    "start_time": "2021-09-26T13:24:26.137Z"
   },
   {
    "duration": 6,
    "start_time": "2021-09-26T13:24:26.604Z"
   },
   {
    "duration": 29,
    "start_time": "2021-09-26T13:24:26.612Z"
   },
   {
    "duration": 113,
    "start_time": "2021-09-26T13:24:26.643Z"
   },
   {
    "duration": 22,
    "start_time": "2021-09-26T13:24:26.927Z"
   },
   {
    "duration": 12,
    "start_time": "2021-09-26T13:24:27.420Z"
   },
   {
    "duration": 509,
    "start_time": "2021-09-26T13:24:27.629Z"
   },
   {
    "duration": 5,
    "start_time": "2021-09-26T13:24:28.139Z"
   },
   {
    "duration": 13,
    "start_time": "2021-09-26T13:24:28.305Z"
   },
   {
    "duration": 589,
    "start_time": "2021-09-26T13:24:28.476Z"
   },
   {
    "duration": 4,
    "start_time": "2021-09-26T13:24:29.067Z"
   },
   {
    "duration": 34,
    "start_time": "2021-09-26T13:24:29.073Z"
   },
   {
    "duration": 43,
    "start_time": "2021-09-26T13:24:29.177Z"
   },
   {
    "duration": 17,
    "start_time": "2021-09-26T13:24:29.504Z"
   },
   {
    "duration": 18,
    "start_time": "2021-09-26T13:24:30.915Z"
   },
   {
    "duration": 344,
    "start_time": "2021-09-26T13:24:31.087Z"
   },
   {
    "duration": 14,
    "start_time": "2021-09-26T13:24:31.598Z"
   },
   {
    "duration": 3,
    "start_time": "2021-09-26T13:24:31.748Z"
   },
   {
    "duration": 6,
    "start_time": "2021-09-26T13:24:31.920Z"
   },
   {
    "duration": 2,
    "start_time": "2021-09-26T13:24:32.092Z"
   },
   {
    "duration": 3,
    "start_time": "2021-09-26T13:24:32.267Z"
   },
   {
    "duration": 12,
    "start_time": "2021-09-26T13:24:32.431Z"
   },
   {
    "duration": 7,
    "start_time": "2021-09-26T13:24:32.602Z"
   },
   {
    "duration": 4,
    "start_time": "2021-09-26T13:24:32.772Z"
   },
   {
    "duration": 195,
    "start_time": "2021-09-26T13:24:34.140Z"
   },
   {
    "duration": 12915,
    "start_time": "2021-09-26T13:24:39.729Z"
   },
   {
    "duration": 1056,
    "start_time": "2021-09-26T13:25:05.456Z"
   },
   {
    "duration": 2,
    "start_time": "2021-09-26T13:25:06.514Z"
   },
   {
    "duration": 1034,
    "start_time": "2021-09-26T13:25:15.566Z"
   },
   {
    "duration": 3,
    "start_time": "2021-09-26T13:25:16.601Z"
   },
   {
    "duration": 176,
    "start_time": "2021-09-26T13:25:16.606Z"
   },
   {
    "duration": 3,
    "start_time": "2021-09-26T13:25:16.783Z"
   },
   {
    "duration": 24,
    "start_time": "2021-09-26T13:25:16.787Z"
   },
   {
    "duration": 523,
    "start_time": "2021-09-26T13:25:16.812Z"
   },
   {
    "duration": 5,
    "start_time": "2021-09-26T13:25:17.336Z"
   },
   {
    "duration": 464,
    "start_time": "2021-09-26T13:25:17.343Z"
   },
   {
    "duration": 5,
    "start_time": "2021-09-26T13:25:17.809Z"
   },
   {
    "duration": 23,
    "start_time": "2021-09-26T13:25:17.816Z"
   },
   {
    "duration": 113,
    "start_time": "2021-09-26T13:25:17.840Z"
   },
   {
    "duration": 64,
    "start_time": "2021-09-26T13:25:17.955Z"
   },
   {
    "duration": 9,
    "start_time": "2021-09-26T13:25:18.021Z"
   },
   {
    "duration": 524,
    "start_time": "2021-09-26T13:25:18.032Z"
   },
   {
    "duration": 5,
    "start_time": "2021-09-26T13:25:18.557Z"
   },
   {
    "duration": 23,
    "start_time": "2021-09-26T13:25:18.563Z"
   },
   {
    "duration": 572,
    "start_time": "2021-09-26T13:25:18.588Z"
   },
   {
    "duration": 5,
    "start_time": "2021-09-26T13:25:19.161Z"
   },
   {
    "duration": 32,
    "start_time": "2021-09-26T13:25:19.167Z"
   },
   {
    "duration": 44,
    "start_time": "2021-09-26T13:25:19.201Z"
   },
   {
    "duration": 54,
    "start_time": "2021-09-26T13:25:19.247Z"
   },
   {
    "duration": 23,
    "start_time": "2021-09-26T13:25:19.303Z"
   },
   {
    "duration": 365,
    "start_time": "2021-09-26T13:25:19.329Z"
   },
   {
    "duration": 12,
    "start_time": "2021-09-26T13:25:19.696Z"
   },
   {
    "duration": 2,
    "start_time": "2021-09-26T13:25:19.710Z"
   },
   {
    "duration": 6,
    "start_time": "2021-09-26T13:25:19.713Z"
   },
   {
    "duration": 2,
    "start_time": "2021-09-26T13:25:19.721Z"
   },
   {
    "duration": 4,
    "start_time": "2021-09-26T13:25:19.725Z"
   },
   {
    "duration": 14,
    "start_time": "2021-09-26T13:25:19.730Z"
   },
   {
    "duration": 6,
    "start_time": "2021-09-26T13:25:19.746Z"
   },
   {
    "duration": 7,
    "start_time": "2021-09-26T13:25:19.754Z"
   },
   {
    "duration": 43,
    "start_time": "2021-09-26T13:25:19.762Z"
   },
   {
    "duration": 365,
    "start_time": "2021-09-26T13:25:19.806Z"
   },
   {
    "duration": -414,
    "start_time": "2021-09-26T13:25:20.587Z"
   },
   {
    "duration": -428,
    "start_time": "2021-09-26T13:25:20.602Z"
   },
   {
    "duration": 11163,
    "start_time": "2021-09-26T13:25:35.028Z"
   },
   {
    "duration": 184,
    "start_time": "2021-09-26T13:26:23.670Z"
   },
   {
    "duration": 12,
    "start_time": "2021-09-26T13:26:29.758Z"
   },
   {
    "duration": 11,
    "start_time": "2021-09-26T13:26:59.817Z"
   },
   {
    "duration": 199,
    "start_time": "2021-09-26T13:36:05.732Z"
   },
   {
    "duration": 62,
    "start_time": "2021-09-26T13:36:08.378Z"
   },
   {
    "duration": 60,
    "start_time": "2021-09-26T13:36:39.215Z"
   },
   {
    "duration": 69,
    "start_time": "2021-09-26T13:37:09.400Z"
   },
   {
    "duration": 3,
    "start_time": "2021-09-26T13:37:15.366Z"
   },
   {
    "duration": 394,
    "start_time": "2021-09-26T13:37:24.788Z"
   },
   {
    "duration": 10,
    "start_time": "2021-09-26T13:38:05.703Z"
   },
   {
    "duration": 7,
    "start_time": "2021-09-26T13:38:39.639Z"
   },
   {
    "duration": 3,
    "start_time": "2021-09-26T13:38:49.064Z"
   },
   {
    "duration": 1041,
    "start_time": "2021-09-26T13:41:43.519Z"
   },
   {
    "duration": 3,
    "start_time": "2021-09-26T13:41:44.561Z"
   },
   {
    "duration": 171,
    "start_time": "2021-09-26T13:41:44.567Z"
   },
   {
    "duration": 2,
    "start_time": "2021-09-26T13:41:44.740Z"
   },
   {
    "duration": 20,
    "start_time": "2021-09-26T13:41:44.744Z"
   },
   {
    "duration": 516,
    "start_time": "2021-09-26T13:41:44.766Z"
   },
   {
    "duration": 4,
    "start_time": "2021-09-26T13:41:45.284Z"
   },
   {
    "duration": 440,
    "start_time": "2021-09-26T13:41:45.301Z"
   },
   {
    "duration": 5,
    "start_time": "2021-09-26T13:41:45.743Z"
   },
   {
    "duration": 26,
    "start_time": "2021-09-26T13:41:45.750Z"
   },
   {
    "duration": 136,
    "start_time": "2021-09-26T13:41:45.778Z"
   },
   {
    "duration": 22,
    "start_time": "2021-09-26T13:41:45.916Z"
   },
   {
    "duration": 11,
    "start_time": "2021-09-26T13:41:45.939Z"
   },
   {
    "duration": 561,
    "start_time": "2021-09-26T13:41:45.952Z"
   },
   {
    "duration": 6,
    "start_time": "2021-09-26T13:41:46.515Z"
   },
   {
    "duration": 18,
    "start_time": "2021-09-26T13:41:46.523Z"
   },
   {
    "duration": 587,
    "start_time": "2021-09-26T13:41:46.543Z"
   },
   {
    "duration": 5,
    "start_time": "2021-09-26T13:41:47.133Z"
   },
   {
    "duration": 18,
    "start_time": "2021-09-26T13:41:47.139Z"
   },
   {
    "duration": 79,
    "start_time": "2021-09-26T13:41:47.159Z"
   },
   {
    "duration": 59,
    "start_time": "2021-09-26T13:41:47.240Z"
   },
   {
    "duration": 18,
    "start_time": "2021-09-26T13:41:47.301Z"
   },
   {
    "duration": 379,
    "start_time": "2021-09-26T13:41:47.322Z"
   },
   {
    "duration": 13,
    "start_time": "2021-09-26T13:41:47.703Z"
   },
   {
    "duration": 12,
    "start_time": "2021-09-26T13:41:47.717Z"
   },
   {
    "duration": 17,
    "start_time": "2021-09-26T13:41:47.731Z"
   },
   {
    "duration": 15,
    "start_time": "2021-09-26T13:41:47.749Z"
   },
   {
    "duration": 22,
    "start_time": "2021-09-26T13:41:47.766Z"
   },
   {
    "duration": 22,
    "start_time": "2021-09-26T13:41:47.790Z"
   },
   {
    "duration": 19,
    "start_time": "2021-09-26T13:41:47.813Z"
   },
   {
    "duration": 20,
    "start_time": "2021-09-26T13:41:47.834Z"
   },
   {
    "duration": 20,
    "start_time": "2021-09-26T13:41:47.856Z"
   },
   {
    "duration": 14,
    "start_time": "2021-09-26T13:41:47.877Z"
   },
   {
    "duration": 8,
    "start_time": "2021-09-26T13:41:47.893Z"
   },
   {
    "duration": 1023,
    "start_time": "2021-09-26T13:41:47.902Z"
   },
   {
    "duration": -419,
    "start_time": "2021-09-26T13:41:49.346Z"
   },
   {
    "duration": -421,
    "start_time": "2021-09-26T13:41:49.349Z"
   },
   {
    "duration": -423,
    "start_time": "2021-09-26T13:41:49.352Z"
   },
   {
    "duration": 214,
    "start_time": "2021-09-26T13:42:12.959Z"
   },
   {
    "duration": 186,
    "start_time": "2021-09-26T13:42:16.338Z"
   },
   {
    "duration": 9,
    "start_time": "2021-09-26T13:42:23.837Z"
   },
   {
    "duration": 14,
    "start_time": "2021-09-26T13:42:30.294Z"
   },
   {
    "duration": 11,
    "start_time": "2021-09-26T13:42:46.322Z"
   },
   {
    "duration": 15,
    "start_time": "2021-09-26T13:43:16.666Z"
   },
   {
    "duration": 9,
    "start_time": "2021-09-26T13:43:26.993Z"
   },
   {
    "duration": 19,
    "start_time": "2021-09-26T13:54:56.891Z"
   },
   {
    "duration": 68,
    "start_time": "2021-09-26T13:56:57.675Z"
   },
   {
    "duration": 506,
    "start_time": "2021-09-26T13:57:08.867Z"
   },
   {
    "duration": 200,
    "start_time": "2021-09-26T13:57:32.238Z"
   },
   {
    "duration": 8,
    "start_time": "2021-09-26T13:59:32.887Z"
   },
   {
    "duration": 8,
    "start_time": "2021-09-26T13:59:55.981Z"
   },
   {
    "duration": 7,
    "start_time": "2021-09-26T14:00:14.020Z"
   },
   {
    "duration": 8,
    "start_time": "2021-09-26T14:00:19.450Z"
   },
   {
    "duration": 9,
    "start_time": "2021-09-26T14:04:48.883Z"
   },
   {
    "duration": 379,
    "start_time": "2021-09-26T14:05:02.486Z"
   },
   {
    "duration": 634,
    "start_time": "2021-09-26T14:05:31.962Z"
   },
   {
    "duration": 485,
    "start_time": "2021-09-26T14:05:56.161Z"
   },
   {
    "duration": 9,
    "start_time": "2021-09-26T14:06:44.607Z"
   },
   {
    "duration": 185,
    "start_time": "2021-09-26T14:07:40.919Z"
   },
   {
    "duration": 9,
    "start_time": "2021-09-26T14:07:53.430Z"
   },
   {
    "duration": 8,
    "start_time": "2021-09-26T14:08:09.576Z"
   },
   {
    "duration": 548,
    "start_time": "2021-09-26T14:10:49.137Z"
   },
   {
    "duration": 440,
    "start_time": "2021-09-26T14:11:43.027Z"
   },
   {
    "duration": 438,
    "start_time": "2021-09-26T14:11:46.039Z"
   },
   {
    "duration": 7,
    "start_time": "2021-09-26T14:12:15.347Z"
   },
   {
    "duration": 1113,
    "start_time": "2021-09-26T14:14:17.195Z"
   },
   {
    "duration": 3,
    "start_time": "2021-09-26T14:14:18.310Z"
   },
   {
    "duration": 179,
    "start_time": "2021-09-26T14:14:18.315Z"
   },
   {
    "duration": 3,
    "start_time": "2021-09-26T14:14:18.495Z"
   },
   {
    "duration": 20,
    "start_time": "2021-09-26T14:14:18.499Z"
   },
   {
    "duration": 506,
    "start_time": "2021-09-26T14:14:18.521Z"
   },
   {
    "duration": 4,
    "start_time": "2021-09-26T14:14:19.029Z"
   },
   {
    "duration": 438,
    "start_time": "2021-09-26T14:14:19.035Z"
   },
   {
    "duration": 4,
    "start_time": "2021-09-26T14:14:19.476Z"
   },
   {
    "duration": 34,
    "start_time": "2021-09-26T14:14:19.482Z"
   },
   {
    "duration": 111,
    "start_time": "2021-09-26T14:14:19.518Z"
   },
   {
    "duration": 20,
    "start_time": "2021-09-26T14:14:19.631Z"
   },
   {
    "duration": 46,
    "start_time": "2021-09-26T14:14:19.653Z"
   },
   {
    "duration": 510,
    "start_time": "2021-09-26T14:14:19.701Z"
   },
   {
    "duration": 4,
    "start_time": "2021-09-26T14:14:20.213Z"
   },
   {
    "duration": 15,
    "start_time": "2021-09-26T14:14:20.218Z"
   },
   {
    "duration": 574,
    "start_time": "2021-09-26T14:14:20.235Z"
   },
   {
    "duration": 5,
    "start_time": "2021-09-26T14:14:20.810Z"
   },
   {
    "duration": 19,
    "start_time": "2021-09-26T14:14:20.816Z"
   },
   {
    "duration": 80,
    "start_time": "2021-09-26T14:14:20.836Z"
   },
   {
    "duration": 18,
    "start_time": "2021-09-26T14:14:20.918Z"
   },
   {
    "duration": 21,
    "start_time": "2021-09-26T14:14:20.938Z"
   },
   {
    "duration": 405,
    "start_time": "2021-09-26T14:14:20.960Z"
   },
   {
    "duration": 14,
    "start_time": "2021-09-26T14:14:21.368Z"
   },
   {
    "duration": 17,
    "start_time": "2021-09-26T14:14:21.383Z"
   },
   {
    "duration": 6,
    "start_time": "2021-09-26T14:14:21.401Z"
   },
   {
    "duration": 2,
    "start_time": "2021-09-26T14:14:21.410Z"
   },
   {
    "duration": 5,
    "start_time": "2021-09-26T14:14:21.414Z"
   },
   {
    "duration": 15,
    "start_time": "2021-09-26T14:14:21.420Z"
   },
   {
    "duration": 6,
    "start_time": "2021-09-26T14:14:21.437Z"
   },
   {
    "duration": 17,
    "start_time": "2021-09-26T14:14:21.445Z"
   },
   {
    "duration": 9,
    "start_time": "2021-09-26T14:14:21.463Z"
   },
   {
    "duration": 30,
    "start_time": "2021-09-26T14:14:21.473Z"
   },
   {
    "duration": 517,
    "start_time": "2021-09-26T14:14:21.505Z"
   },
   {
    "duration": -405,
    "start_time": "2021-09-26T14:14:22.429Z"
   },
   {
    "duration": -412,
    "start_time": "2021-09-26T14:14:22.437Z"
   },
   {
    "duration": 8,
    "start_time": "2021-09-26T14:15:53.074Z"
   },
   {
    "duration": 453,
    "start_time": "2021-09-26T14:15:56.274Z"
   },
   {
    "duration": 8,
    "start_time": "2021-09-26T14:16:24.820Z"
   },
   {
    "duration": 496,
    "start_time": "2021-09-26T14:18:16.687Z"
   },
   {
    "duration": 299,
    "start_time": "2021-09-26T14:18:46.101Z"
   },
   {
    "duration": 374,
    "start_time": "2021-09-26T14:19:16.001Z"
   },
   {
    "duration": 4,
    "start_time": "2021-09-26T14:19:33.196Z"
   },
   {
    "duration": 8,
    "start_time": "2021-09-26T14:19:44.690Z"
   },
   {
    "duration": 490,
    "start_time": "2021-09-26T14:20:52.686Z"
   },
   {
    "duration": 7,
    "start_time": "2021-09-26T14:21:09.479Z"
   },
   {
    "duration": 387,
    "start_time": "2021-09-26T14:21:11.079Z"
   },
   {
    "duration": 4,
    "start_time": "2021-09-26T14:21:51.346Z"
   },
   {
    "duration": 4,
    "start_time": "2021-09-26T14:21:55.422Z"
   },
   {
    "duration": 5,
    "start_time": "2021-09-26T14:21:59.091Z"
   },
   {
    "duration": 4,
    "start_time": "2021-09-26T14:23:07.512Z"
   },
   {
    "duration": 70,
    "start_time": "2021-09-26T14:23:54.732Z"
   },
   {
    "duration": 5,
    "start_time": "2021-09-26T14:23:59.076Z"
   },
   {
    "duration": 191,
    "start_time": "2021-09-26T14:24:09.737Z"
   },
   {
    "duration": 203,
    "start_time": "2021-09-26T14:24:14.913Z"
   },
   {
    "duration": 7,
    "start_time": "2021-09-26T14:24:37.800Z"
   },
   {
    "duration": 6,
    "start_time": "2021-09-26T14:24:43.337Z"
   },
   {
    "duration": 8,
    "start_time": "2021-09-26T14:24:53.244Z"
   },
   {
    "duration": 10,
    "start_time": "2021-09-26T14:26:00.150Z"
   },
   {
    "duration": 6,
    "start_time": "2021-09-26T14:26:07.917Z"
   },
   {
    "duration": 4,
    "start_time": "2021-09-26T14:26:24.307Z"
   },
   {
    "duration": 11,
    "start_time": "2021-09-26T14:28:46.649Z"
   },
   {
    "duration": 3,
    "start_time": "2021-09-26T14:29:13.058Z"
   },
   {
    "duration": 4,
    "start_time": "2021-09-26T14:29:43.447Z"
   },
   {
    "duration": 12,
    "start_time": "2021-09-26T14:29:47.784Z"
   },
   {
    "duration": 339,
    "start_time": "2021-09-26T14:30:56.588Z"
   },
   {
    "duration": 211,
    "start_time": "2021-09-26T14:31:08.241Z"
   },
   {
    "duration": 12,
    "start_time": "2021-09-26T14:31:16.200Z"
   },
   {
    "duration": 15,
    "start_time": "2021-09-26T14:32:03.310Z"
   },
   {
    "duration": 12,
    "start_time": "2021-09-26T14:32:36.230Z"
   },
   {
    "duration": 14,
    "start_time": "2021-09-26T14:32:55.981Z"
   },
   {
    "duration": 13,
    "start_time": "2021-09-26T14:33:01.907Z"
   },
   {
    "duration": 13,
    "start_time": "2021-09-26T14:33:19.107Z"
   },
   {
    "duration": 9,
    "start_time": "2021-09-26T14:35:17.520Z"
   },
   {
    "duration": 15,
    "start_time": "2021-09-26T14:35:23.098Z"
   },
   {
    "duration": 8,
    "start_time": "2021-09-26T14:37:42.809Z"
   },
   {
    "duration": 39,
    "start_time": "2021-09-26T14:37:48.976Z"
   },
   {
    "duration": 1119,
    "start_time": "2021-09-26T14:38:40.107Z"
   },
   {
    "duration": 3,
    "start_time": "2021-09-26T14:38:41.228Z"
   },
   {
    "duration": 162,
    "start_time": "2021-09-26T14:38:41.234Z"
   },
   {
    "duration": 2,
    "start_time": "2021-09-26T14:38:41.398Z"
   },
   {
    "duration": 27,
    "start_time": "2021-09-26T14:38:41.402Z"
   },
   {
    "duration": 526,
    "start_time": "2021-09-26T14:38:41.431Z"
   },
   {
    "duration": 5,
    "start_time": "2021-09-26T14:38:41.959Z"
   },
   {
    "duration": 475,
    "start_time": "2021-09-26T14:38:41.967Z"
   },
   {
    "duration": 5,
    "start_time": "2021-09-26T14:38:42.445Z"
   },
   {
    "duration": 25,
    "start_time": "2021-09-26T14:38:42.452Z"
   },
   {
    "duration": 143,
    "start_time": "2021-09-26T14:38:42.479Z"
   },
   {
    "duration": 21,
    "start_time": "2021-09-26T14:38:42.623Z"
   },
   {
    "duration": 9,
    "start_time": "2021-09-26T14:38:42.646Z"
   },
   {
    "duration": 530,
    "start_time": "2021-09-26T14:38:42.699Z"
   },
   {
    "duration": 5,
    "start_time": "2021-09-26T14:38:43.230Z"
   },
   {
    "duration": 13,
    "start_time": "2021-09-26T14:38:43.236Z"
   },
   {
    "duration": 586,
    "start_time": "2021-09-26T14:38:43.251Z"
   },
   {
    "duration": 5,
    "start_time": "2021-09-26T14:38:43.839Z"
   },
   {
    "duration": 20,
    "start_time": "2021-09-26T14:38:43.845Z"
   },
   {
    "duration": 65,
    "start_time": "2021-09-26T14:38:43.867Z"
   },
   {
    "duration": 15,
    "start_time": "2021-09-26T14:38:43.934Z"
   },
   {
    "duration": 56,
    "start_time": "2021-09-26T14:38:43.951Z"
   },
   {
    "duration": 360,
    "start_time": "2021-09-26T14:38:44.010Z"
   },
   {
    "duration": 13,
    "start_time": "2021-09-26T14:38:44.372Z"
   },
   {
    "duration": 2,
    "start_time": "2021-09-26T14:38:44.400Z"
   },
   {
    "duration": 7,
    "start_time": "2021-09-26T14:38:44.403Z"
   },
   {
    "duration": 2,
    "start_time": "2021-09-26T14:38:44.412Z"
   },
   {
    "duration": 4,
    "start_time": "2021-09-26T14:38:44.415Z"
   },
   {
    "duration": 15,
    "start_time": "2021-09-26T14:38:44.421Z"
   },
   {
    "duration": 7,
    "start_time": "2021-09-26T14:38:44.437Z"
   },
   {
    "duration": 5,
    "start_time": "2021-09-26T14:38:44.445Z"
   },
   {
    "duration": 6,
    "start_time": "2021-09-26T14:38:44.452Z"
   },
   {
    "duration": 8,
    "start_time": "2021-09-26T14:38:44.460Z"
   },
   {
    "duration": 6,
    "start_time": "2021-09-26T14:38:44.500Z"
   },
   {
    "duration": 6,
    "start_time": "2021-09-26T14:38:44.508Z"
   },
   {
    "duration": 2,
    "start_time": "2021-09-26T14:38:44.515Z"
   },
   {
    "duration": 18,
    "start_time": "2021-09-26T14:38:44.519Z"
   },
   {
    "duration": 2,
    "start_time": "2021-09-26T14:38:44.539Z"
   },
   {
    "duration": 288,
    "start_time": "2021-09-26T14:38:44.542Z"
   },
   {
    "duration": 22,
    "start_time": "2021-09-26T14:41:10.016Z"
   },
   {
    "duration": 24,
    "start_time": "2021-09-26T14:41:28.988Z"
   },
   {
    "duration": 1089,
    "start_time": "2021-09-26T14:41:34.708Z"
   },
   {
    "duration": 3,
    "start_time": "2021-09-26T14:41:35.799Z"
   },
   {
    "duration": 174,
    "start_time": "2021-09-26T14:41:35.804Z"
   },
   {
    "duration": 3,
    "start_time": "2021-09-26T14:41:35.980Z"
   },
   {
    "duration": 21,
    "start_time": "2021-09-26T14:41:35.985Z"
   },
   {
    "duration": 502,
    "start_time": "2021-09-26T14:41:36.008Z"
   },
   {
    "duration": 6,
    "start_time": "2021-09-26T14:41:36.512Z"
   },
   {
    "duration": 456,
    "start_time": "2021-09-26T14:41:36.521Z"
   },
   {
    "duration": 5,
    "start_time": "2021-09-26T14:41:36.979Z"
   },
   {
    "duration": 36,
    "start_time": "2021-09-26T14:41:36.985Z"
   },
   {
    "duration": 113,
    "start_time": "2021-09-26T14:41:37.022Z"
   },
   {
    "duration": 20,
    "start_time": "2021-09-26T14:41:37.137Z"
   },
   {
    "duration": 11,
    "start_time": "2021-09-26T14:41:37.199Z"
   },
   {
    "duration": 519,
    "start_time": "2021-09-26T14:41:37.211Z"
   },
   {
    "duration": 4,
    "start_time": "2021-09-26T14:41:37.732Z"
   },
   {
    "duration": 15,
    "start_time": "2021-09-26T14:41:37.738Z"
   },
   {
    "duration": 566,
    "start_time": "2021-09-26T14:41:37.755Z"
   },
   {
    "duration": 5,
    "start_time": "2021-09-26T14:41:38.322Z"
   },
   {
    "duration": 19,
    "start_time": "2021-09-26T14:41:38.329Z"
   },
   {
    "duration": 74,
    "start_time": "2021-09-26T14:41:38.350Z"
   },
   {
    "duration": 15,
    "start_time": "2021-09-26T14:41:38.426Z"
   },
   {
    "duration": 28,
    "start_time": "2021-09-26T14:41:38.443Z"
   },
   {
    "duration": 394,
    "start_time": "2021-09-26T14:41:38.474Z"
   },
   {
    "duration": 14,
    "start_time": "2021-09-26T14:41:38.871Z"
   },
   {
    "duration": 14,
    "start_time": "2021-09-26T14:41:38.886Z"
   },
   {
    "duration": 7,
    "start_time": "2021-09-26T14:41:38.902Z"
   },
   {
    "duration": 10,
    "start_time": "2021-09-26T14:41:38.910Z"
   },
   {
    "duration": 6,
    "start_time": "2021-09-26T14:41:38.922Z"
   },
   {
    "duration": 15,
    "start_time": "2021-09-26T14:41:38.930Z"
   },
   {
    "duration": 8,
    "start_time": "2021-09-26T14:41:38.947Z"
   },
   {
    "duration": 6,
    "start_time": "2021-09-26T14:41:38.957Z"
   },
   {
    "duration": 35,
    "start_time": "2021-09-26T14:41:38.965Z"
   },
   {
    "duration": 8,
    "start_time": "2021-09-26T14:41:39.002Z"
   },
   {
    "duration": 8,
    "start_time": "2021-09-26T14:41:39.012Z"
   },
   {
    "duration": 8,
    "start_time": "2021-09-26T14:41:39.021Z"
   },
   {
    "duration": 3,
    "start_time": "2021-09-26T14:41:39.030Z"
   },
   {
    "duration": 20,
    "start_time": "2021-09-26T14:41:39.035Z"
   },
   {
    "duration": 2,
    "start_time": "2021-09-26T14:41:39.057Z"
   },
   {
    "duration": 287,
    "start_time": "2021-09-26T14:41:39.099Z"
   },
   {
    "duration": 1090,
    "start_time": "2021-09-26T14:42:33.993Z"
   },
   {
    "duration": 3,
    "start_time": "2021-09-26T14:42:35.084Z"
   },
   {
    "duration": 176,
    "start_time": "2021-09-26T14:42:35.089Z"
   },
   {
    "duration": 2,
    "start_time": "2021-09-26T14:42:35.267Z"
   },
   {
    "duration": 22,
    "start_time": "2021-09-26T14:42:35.270Z"
   },
   {
    "duration": 473,
    "start_time": "2021-09-26T14:42:35.294Z"
   },
   {
    "duration": 5,
    "start_time": "2021-09-26T14:42:35.769Z"
   },
   {
    "duration": 449,
    "start_time": "2021-09-26T14:42:35.776Z"
   },
   {
    "duration": 5,
    "start_time": "2021-09-26T14:42:36.229Z"
   },
   {
    "duration": 24,
    "start_time": "2021-09-26T14:42:36.237Z"
   },
   {
    "duration": 155,
    "start_time": "2021-09-26T14:42:36.263Z"
   },
   {
    "duration": 21,
    "start_time": "2021-09-26T14:42:36.420Z"
   },
   {
    "duration": 12,
    "start_time": "2021-09-26T14:42:36.443Z"
   },
   {
    "duration": 510,
    "start_time": "2021-09-26T14:42:36.500Z"
   },
   {
    "duration": 4,
    "start_time": "2021-09-26T14:42:37.012Z"
   },
   {
    "duration": 15,
    "start_time": "2021-09-26T14:42:37.018Z"
   },
   {
    "duration": 578,
    "start_time": "2021-09-26T14:42:37.035Z"
   },
   {
    "duration": 5,
    "start_time": "2021-09-26T14:42:37.615Z"
   },
   {
    "duration": 20,
    "start_time": "2021-09-26T14:42:37.621Z"
   },
   {
    "duration": 79,
    "start_time": "2021-09-26T14:42:37.643Z"
   },
   {
    "duration": 17,
    "start_time": "2021-09-26T14:42:37.724Z"
   },
   {
    "duration": 20,
    "start_time": "2021-09-26T14:42:37.742Z"
   },
   {
    "duration": 389,
    "start_time": "2021-09-26T14:42:37.764Z"
   },
   {
    "duration": 13,
    "start_time": "2021-09-26T14:42:38.155Z"
   },
   {
    "duration": 3,
    "start_time": "2021-09-26T14:42:38.169Z"
   },
   {
    "duration": 8,
    "start_time": "2021-09-26T14:42:38.174Z"
   },
   {
    "duration": 2,
    "start_time": "2021-09-26T14:42:38.202Z"
   },
   {
    "duration": 6,
    "start_time": "2021-09-26T14:42:38.206Z"
   },
   {
    "duration": 15,
    "start_time": "2021-09-26T14:42:38.214Z"
   },
   {
    "duration": 7,
    "start_time": "2021-09-26T14:42:38.231Z"
   },
   {
    "duration": 5,
    "start_time": "2021-09-26T14:42:38.240Z"
   },
   {
    "duration": 5,
    "start_time": "2021-09-26T14:42:38.247Z"
   },
   {
    "duration": 10,
    "start_time": "2021-09-26T14:42:38.254Z"
   },
   {
    "duration": 7,
    "start_time": "2021-09-26T14:42:38.265Z"
   },
   {
    "duration": 32,
    "start_time": "2021-09-26T14:42:38.273Z"
   },
   {
    "duration": 2,
    "start_time": "2021-09-26T14:42:38.306Z"
   },
   {
    "duration": 21,
    "start_time": "2021-09-26T14:42:38.309Z"
   },
   {
    "duration": 2718,
    "start_time": "2021-09-26T14:45:09.086Z"
   },
   {
    "duration": 15,
    "start_time": "2021-09-26T14:45:12.158Z"
   },
   {
    "duration": 14,
    "start_time": "2021-09-26T14:45:42.307Z"
   },
   {
    "duration": 15,
    "start_time": "2021-09-26T14:45:43.483Z"
   },
   {
    "duration": 1086,
    "start_time": "2021-09-26T14:46:46.107Z"
   },
   {
    "duration": 7,
    "start_time": "2021-09-26T14:46:47.194Z"
   },
   {
    "duration": 169,
    "start_time": "2021-09-26T14:46:47.206Z"
   },
   {
    "duration": 2,
    "start_time": "2021-09-26T14:46:47.377Z"
   },
   {
    "duration": 24,
    "start_time": "2021-09-26T14:46:47.381Z"
   },
   {
    "duration": 493,
    "start_time": "2021-09-26T14:46:47.406Z"
   },
   {
    "duration": 4,
    "start_time": "2021-09-26T14:46:47.902Z"
   },
   {
    "duration": 464,
    "start_time": "2021-09-26T14:46:47.908Z"
   },
   {
    "duration": 5,
    "start_time": "2021-09-26T14:46:48.373Z"
   },
   {
    "duration": 31,
    "start_time": "2021-09-26T14:46:48.380Z"
   },
   {
    "duration": 106,
    "start_time": "2021-09-26T14:46:48.412Z"
   },
   {
    "duration": 20,
    "start_time": "2021-09-26T14:46:48.520Z"
   },
   {
    "duration": 11,
    "start_time": "2021-09-26T14:46:48.541Z"
   },
   {
    "duration": 549,
    "start_time": "2021-09-26T14:46:48.554Z"
   },
   {
    "duration": 4,
    "start_time": "2021-09-26T14:46:49.104Z"
   },
   {
    "duration": 13,
    "start_time": "2021-09-26T14:46:49.110Z"
   },
   {
    "duration": 562,
    "start_time": "2021-09-26T14:46:49.125Z"
   },
   {
    "duration": 13,
    "start_time": "2021-09-26T14:46:49.689Z"
   },
   {
    "duration": 17,
    "start_time": "2021-09-26T14:46:49.704Z"
   },
   {
    "duration": 79,
    "start_time": "2021-09-26T14:46:49.723Z"
   },
   {
    "duration": 17,
    "start_time": "2021-09-26T14:46:49.803Z"
   },
   {
    "duration": 19,
    "start_time": "2021-09-26T14:46:49.823Z"
   },
   {
    "duration": 377,
    "start_time": "2021-09-26T14:46:49.843Z"
   },
   {
    "duration": 13,
    "start_time": "2021-09-26T14:46:50.221Z"
   },
   {
    "duration": 2,
    "start_time": "2021-09-26T14:46:50.235Z"
   },
   {
    "duration": 8,
    "start_time": "2021-09-26T14:46:50.239Z"
   },
   {
    "duration": 2,
    "start_time": "2021-09-26T14:46:50.249Z"
   },
   {
    "duration": 4,
    "start_time": "2021-09-26T14:46:50.253Z"
   },
   {
    "duration": 14,
    "start_time": "2021-09-26T14:46:50.259Z"
   },
   {
    "duration": 26,
    "start_time": "2021-09-26T14:46:50.275Z"
   },
   {
    "duration": 9,
    "start_time": "2021-09-26T14:46:50.302Z"
   },
   {
    "duration": 6,
    "start_time": "2021-09-26T14:46:50.313Z"
   },
   {
    "duration": 2,
    "start_time": "2021-09-26T14:46:50.320Z"
   },
   {
    "duration": 17,
    "start_time": "2021-09-26T14:46:50.324Z"
   },
   {
    "duration": 11,
    "start_time": "2021-09-26T14:46:50.342Z"
   },
   {
    "duration": 875,
    "start_time": "2021-09-26T14:48:21.676Z"
   },
   {
    "duration": 1058,
    "start_time": "2021-09-26T14:48:32.840Z"
   },
   {
    "duration": 2,
    "start_time": "2021-09-26T14:48:33.900Z"
   },
   {
    "duration": 169,
    "start_time": "2021-09-26T14:48:33.904Z"
   },
   {
    "duration": 2,
    "start_time": "2021-09-26T14:48:34.075Z"
   },
   {
    "duration": 22,
    "start_time": "2021-09-26T14:48:34.078Z"
   },
   {
    "duration": 499,
    "start_time": "2021-09-26T14:48:34.102Z"
   },
   {
    "duration": 5,
    "start_time": "2021-09-26T14:48:34.603Z"
   },
   {
    "duration": 450,
    "start_time": "2021-09-26T14:48:34.611Z"
   },
   {
    "duration": 5,
    "start_time": "2021-09-26T14:48:35.063Z"
   },
   {
    "duration": 35,
    "start_time": "2021-09-26T14:48:35.069Z"
   },
   {
    "duration": 109,
    "start_time": "2021-09-26T14:48:35.106Z"
   },
   {
    "duration": 21,
    "start_time": "2021-09-26T14:48:35.216Z"
   },
   {
    "duration": 10,
    "start_time": "2021-09-26T14:48:35.238Z"
   },
   {
    "duration": 541,
    "start_time": "2021-09-26T14:48:35.249Z"
   },
   {
    "duration": 5,
    "start_time": "2021-09-26T14:48:35.799Z"
   },
   {
    "duration": 16,
    "start_time": "2021-09-26T14:48:35.805Z"
   },
   {
    "duration": 570,
    "start_time": "2021-09-26T14:48:35.822Z"
   },
   {
    "duration": 8,
    "start_time": "2021-09-26T14:48:36.393Z"
   },
   {
    "duration": 18,
    "start_time": "2021-09-26T14:48:36.402Z"
   },
   {
    "duration": 80,
    "start_time": "2021-09-26T14:48:36.421Z"
   },
   {
    "duration": 16,
    "start_time": "2021-09-26T14:48:36.503Z"
   },
   {
    "duration": 18,
    "start_time": "2021-09-26T14:48:36.520Z"
   },
   {
    "duration": 5,
    "start_time": "2021-09-26T14:48:36.541Z"
   },
   {
    "duration": 12,
    "start_time": "2021-09-26T14:48:36.548Z"
   },
   {
    "duration": 39,
    "start_time": "2021-09-26T14:48:36.561Z"
   },
   {
    "duration": 14,
    "start_time": "2021-09-26T14:48:36.602Z"
   },
   {
    "duration": 2,
    "start_time": "2021-09-26T14:48:36.618Z"
   },
   {
    "duration": 9,
    "start_time": "2021-09-26T14:48:36.622Z"
   },
   {
    "duration": 7,
    "start_time": "2021-09-26T14:48:36.633Z"
   },
   {
    "duration": 12,
    "start_time": "2021-09-26T14:48:36.641Z"
   },
   {
    "duration": 45,
    "start_time": "2021-09-26T14:48:36.655Z"
   },
   {
    "duration": 1090,
    "start_time": "2021-09-26T14:56:15.300Z"
   },
   {
    "duration": 2,
    "start_time": "2021-09-26T14:56:16.392Z"
   },
   {
    "duration": 169,
    "start_time": "2021-09-26T14:56:16.396Z"
   },
   {
    "duration": 2,
    "start_time": "2021-09-26T14:56:16.567Z"
   },
   {
    "duration": 21,
    "start_time": "2021-09-26T14:56:16.570Z"
   },
   {
    "duration": 496,
    "start_time": "2021-09-26T14:56:16.592Z"
   },
   {
    "duration": 10,
    "start_time": "2021-09-26T14:56:17.090Z"
   },
   {
    "duration": 445,
    "start_time": "2021-09-26T14:56:17.103Z"
   },
   {
    "duration": 5,
    "start_time": "2021-09-26T14:56:17.550Z"
   },
   {
    "duration": 23,
    "start_time": "2021-09-26T14:56:17.556Z"
   },
   {
    "duration": 107,
    "start_time": "2021-09-26T14:56:17.600Z"
   },
   {
    "duration": 19,
    "start_time": "2021-09-26T14:56:17.709Z"
   },
   {
    "duration": 10,
    "start_time": "2021-09-26T14:56:17.729Z"
   },
   {
    "duration": 531,
    "start_time": "2021-09-26T14:56:17.740Z"
   },
   {
    "duration": 4,
    "start_time": "2021-09-26T14:56:18.278Z"
   },
   {
    "duration": 22,
    "start_time": "2021-09-26T14:56:18.284Z"
   },
   {
    "duration": 557,
    "start_time": "2021-09-26T14:56:18.308Z"
   },
   {
    "duration": 4,
    "start_time": "2021-09-26T14:56:18.867Z"
   },
   {
    "duration": 30,
    "start_time": "2021-09-26T14:56:18.873Z"
   },
   {
    "duration": 41,
    "start_time": "2021-09-26T14:56:18.904Z"
   },
   {
    "duration": 54,
    "start_time": "2021-09-26T14:56:18.947Z"
   },
   {
    "duration": 18,
    "start_time": "2021-09-26T14:56:19.002Z"
   },
   {
    "duration": 6,
    "start_time": "2021-09-26T14:56:19.023Z"
   },
   {
    "duration": 17,
    "start_time": "2021-09-26T14:56:19.030Z"
   },
   {
    "duration": 6,
    "start_time": "2021-09-26T14:56:19.048Z"
   },
   {
    "duration": 14,
    "start_time": "2021-09-26T14:56:19.055Z"
   },
   {
    "duration": 28,
    "start_time": "2021-09-26T14:56:19.071Z"
   },
   {
    "duration": 14,
    "start_time": "2021-09-26T14:56:19.100Z"
   },
   {
    "duration": 6,
    "start_time": "2021-09-26T14:56:19.116Z"
   },
   {
    "duration": 280,
    "start_time": "2021-09-26T14:56:19.124Z"
   },
   {
    "duration": -402,
    "start_time": "2021-09-26T14:56:19.808Z"
   },
   {
    "duration": 1085,
    "start_time": "2021-09-26T14:56:45.978Z"
   },
   {
    "duration": 2,
    "start_time": "2021-09-26T14:56:47.065Z"
   },
   {
    "duration": 170,
    "start_time": "2021-09-26T14:56:47.070Z"
   },
   {
    "duration": 2,
    "start_time": "2021-09-26T14:56:47.242Z"
   },
   {
    "duration": 21,
    "start_time": "2021-09-26T14:56:47.246Z"
   },
   {
    "duration": 497,
    "start_time": "2021-09-26T14:56:47.269Z"
   },
   {
    "duration": 4,
    "start_time": "2021-09-26T14:56:47.768Z"
   },
   {
    "duration": 433,
    "start_time": "2021-09-26T14:56:47.775Z"
   },
   {
    "duration": 5,
    "start_time": "2021-09-26T14:56:48.210Z"
   },
   {
    "duration": 25,
    "start_time": "2021-09-26T14:56:48.217Z"
   },
   {
    "duration": 116,
    "start_time": "2021-09-26T14:56:48.244Z"
   },
   {
    "duration": 56,
    "start_time": "2021-09-26T14:56:48.362Z"
   },
   {
    "duration": 10,
    "start_time": "2021-09-26T14:56:48.420Z"
   },
   {
    "duration": 519,
    "start_time": "2021-09-26T14:56:48.432Z"
   },
   {
    "duration": 4,
    "start_time": "2021-09-26T14:56:48.953Z"
   },
   {
    "duration": 14,
    "start_time": "2021-09-26T14:56:48.958Z"
   },
   {
    "duration": 554,
    "start_time": "2021-09-26T14:56:48.973Z"
   },
   {
    "duration": 5,
    "start_time": "2021-09-26T14:56:49.528Z"
   },
   {
    "duration": 17,
    "start_time": "2021-09-26T14:56:49.534Z"
   },
   {
    "duration": 70,
    "start_time": "2021-09-26T14:56:49.553Z"
   },
   {
    "duration": 15,
    "start_time": "2021-09-26T14:56:49.625Z"
   },
   {
    "duration": 19,
    "start_time": "2021-09-26T14:56:49.641Z"
   },
   {
    "duration": 38,
    "start_time": "2021-09-26T14:56:49.663Z"
   },
   {
    "duration": 12,
    "start_time": "2021-09-26T14:56:49.702Z"
   },
   {
    "duration": 5,
    "start_time": "2021-09-26T14:56:49.716Z"
   },
   {
    "duration": 22,
    "start_time": "2021-09-26T14:56:49.722Z"
   },
   {
    "duration": 3,
    "start_time": "2021-09-26T14:56:49.746Z"
   },
   {
    "duration": 10,
    "start_time": "2021-09-26T14:56:49.751Z"
   },
   {
    "duration": 6,
    "start_time": "2021-09-26T14:56:49.763Z"
   },
   {
    "duration": 285,
    "start_time": "2021-09-26T14:56:49.770Z"
   },
   {
    "duration": -384,
    "start_time": "2021-09-26T14:56:50.441Z"
   },
   {
    "duration": 1092,
    "start_time": "2021-09-26T14:57:04.599Z"
   },
   {
    "duration": 3,
    "start_time": "2021-09-26T14:57:05.692Z"
   },
   {
    "duration": 180,
    "start_time": "2021-09-26T14:57:05.696Z"
   },
   {
    "duration": 3,
    "start_time": "2021-09-26T14:57:05.877Z"
   },
   {
    "duration": 20,
    "start_time": "2021-09-26T14:57:05.881Z"
   },
   {
    "duration": 516,
    "start_time": "2021-09-26T14:57:05.902Z"
   },
   {
    "duration": 4,
    "start_time": "2021-09-26T14:57:06.420Z"
   },
   {
    "duration": 460,
    "start_time": "2021-09-26T14:57:06.426Z"
   },
   {
    "duration": 13,
    "start_time": "2021-09-26T14:57:06.888Z"
   },
   {
    "duration": 38,
    "start_time": "2021-09-26T14:57:06.902Z"
   },
   {
    "duration": 90,
    "start_time": "2021-09-26T14:57:06.942Z"
   },
   {
    "duration": 20,
    "start_time": "2021-09-26T14:57:07.033Z"
   },
   {
    "duration": 47,
    "start_time": "2021-09-26T14:57:07.054Z"
   },
   {
    "duration": 519,
    "start_time": "2021-09-26T14:57:07.102Z"
   },
   {
    "duration": 5,
    "start_time": "2021-09-26T14:57:07.622Z"
   },
   {
    "duration": 15,
    "start_time": "2021-09-26T14:57:07.628Z"
   },
   {
    "duration": 562,
    "start_time": "2021-09-26T14:57:07.644Z"
   },
   {
    "duration": 4,
    "start_time": "2021-09-26T14:57:08.208Z"
   },
   {
    "duration": 35,
    "start_time": "2021-09-26T14:57:08.214Z"
   },
   {
    "duration": 64,
    "start_time": "2021-09-26T14:57:08.250Z"
   },
   {
    "duration": 18,
    "start_time": "2021-09-26T14:57:08.316Z"
   },
   {
    "duration": 19,
    "start_time": "2021-09-26T14:57:08.336Z"
   },
   {
    "duration": 7,
    "start_time": "2021-09-26T14:57:08.399Z"
   },
   {
    "duration": 26,
    "start_time": "2021-09-26T14:57:08.408Z"
   },
   {
    "duration": 14,
    "start_time": "2021-09-26T14:57:08.436Z"
   },
   {
    "duration": 28,
    "start_time": "2021-09-26T14:57:08.451Z"
   },
   {
    "duration": 6,
    "start_time": "2021-09-26T14:57:08.480Z"
   },
   {
    "duration": 11,
    "start_time": "2021-09-26T14:57:08.487Z"
   },
   {
    "duration": 13,
    "start_time": "2021-09-26T14:57:08.500Z"
   },
   {
    "duration": 16,
    "start_time": "2021-09-26T14:57:08.515Z"
   },
   {
    "duration": 10,
    "start_time": "2021-09-26T14:57:08.533Z"
   },
   {
    "duration": 1088,
    "start_time": "2021-09-26T14:58:55.619Z"
   },
   {
    "duration": 2,
    "start_time": "2021-09-26T14:58:56.709Z"
   },
   {
    "duration": 176,
    "start_time": "2021-09-26T14:58:56.714Z"
   },
   {
    "duration": 3,
    "start_time": "2021-09-26T14:58:56.892Z"
   },
   {
    "duration": 20,
    "start_time": "2021-09-26T14:58:56.897Z"
   },
   {
    "duration": 496,
    "start_time": "2021-09-26T14:58:56.919Z"
   },
   {
    "duration": 5,
    "start_time": "2021-09-26T14:58:57.417Z"
   },
   {
    "duration": 446,
    "start_time": "2021-09-26T14:58:57.425Z"
   },
   {
    "duration": 4,
    "start_time": "2021-09-26T14:58:57.874Z"
   },
   {
    "duration": 36,
    "start_time": "2021-09-26T14:58:57.879Z"
   },
   {
    "duration": 103,
    "start_time": "2021-09-26T14:58:57.916Z"
   },
   {
    "duration": 20,
    "start_time": "2021-09-26T14:58:58.020Z"
   },
   {
    "duration": 12,
    "start_time": "2021-09-26T14:58:58.041Z"
   },
   {
    "duration": 525,
    "start_time": "2021-09-26T14:58:58.054Z"
   },
   {
    "duration": 4,
    "start_time": "2021-09-26T14:58:58.581Z"
   },
   {
    "duration": 26,
    "start_time": "2021-09-26T14:58:58.587Z"
   },
   {
    "duration": 556,
    "start_time": "2021-09-26T14:58:58.615Z"
   },
   {
    "duration": 4,
    "start_time": "2021-09-26T14:58:59.173Z"
   },
   {
    "duration": 30,
    "start_time": "2021-09-26T14:58:59.179Z"
   },
   {
    "duration": 41,
    "start_time": "2021-09-26T14:58:59.211Z"
   },
   {
    "duration": 56,
    "start_time": "2021-09-26T14:58:59.254Z"
   },
   {
    "duration": 18,
    "start_time": "2021-09-26T14:58:59.312Z"
   },
   {
    "duration": 6,
    "start_time": "2021-09-26T14:58:59.333Z"
   },
   {
    "duration": 12,
    "start_time": "2021-09-26T14:58:59.341Z"
   },
   {
    "duration": 5,
    "start_time": "2021-09-26T14:58:59.354Z"
   },
   {
    "duration": 40,
    "start_time": "2021-09-26T14:58:59.360Z"
   },
   {
    "duration": 2,
    "start_time": "2021-09-26T14:58:59.402Z"
   },
   {
    "duration": 9,
    "start_time": "2021-09-26T14:58:59.405Z"
   },
   {
    "duration": 6,
    "start_time": "2021-09-26T14:58:59.416Z"
   },
   {
    "duration": 90,
    "start_time": "2021-09-26T14:58:59.424Z"
   },
   {
    "duration": -366,
    "start_time": "2021-09-26T14:58:59.882Z"
   },
   {
    "duration": 1107,
    "start_time": "2021-09-26T14:59:12.876Z"
   },
   {
    "duration": 3,
    "start_time": "2021-09-26T14:59:13.984Z"
   },
   {
    "duration": 173,
    "start_time": "2021-09-26T14:59:13.989Z"
   },
   {
    "duration": 2,
    "start_time": "2021-09-26T14:59:14.164Z"
   },
   {
    "duration": 22,
    "start_time": "2021-09-26T14:59:14.168Z"
   },
   {
    "duration": 508,
    "start_time": "2021-09-26T14:59:14.191Z"
   },
   {
    "duration": 4,
    "start_time": "2021-09-26T14:59:14.701Z"
   },
   {
    "duration": 440,
    "start_time": "2021-09-26T14:59:14.707Z"
   },
   {
    "duration": 5,
    "start_time": "2021-09-26T14:59:15.149Z"
   },
   {
    "duration": 49,
    "start_time": "2021-09-26T14:59:15.156Z"
   },
   {
    "duration": 66,
    "start_time": "2021-09-26T14:59:15.206Z"
   },
   {
    "duration": 44,
    "start_time": "2021-09-26T14:59:15.274Z"
   },
   {
    "duration": 9,
    "start_time": "2021-09-26T14:59:15.320Z"
   },
   {
    "duration": 577,
    "start_time": "2021-09-26T14:59:15.331Z"
   },
   {
    "duration": 4,
    "start_time": "2021-09-26T14:59:15.910Z"
   },
   {
    "duration": 17,
    "start_time": "2021-09-26T14:59:15.915Z"
   },
   {
    "duration": 555,
    "start_time": "2021-09-26T14:59:15.934Z"
   },
   {
    "duration": 5,
    "start_time": "2021-09-26T14:59:16.490Z"
   },
   {
    "duration": 16,
    "start_time": "2021-09-26T14:59:16.500Z"
   },
   {
    "duration": 41,
    "start_time": "2021-09-26T14:59:16.517Z"
   },
   {
    "duration": 19,
    "start_time": "2021-09-26T14:59:16.600Z"
   },
   {
    "duration": 18,
    "start_time": "2021-09-26T14:59:16.621Z"
   },
   {
    "duration": 7,
    "start_time": "2021-09-26T14:59:16.642Z"
   },
   {
    "duration": 13,
    "start_time": "2021-09-26T14:59:16.651Z"
   },
   {
    "duration": 6,
    "start_time": "2021-09-26T14:59:16.700Z"
   },
   {
    "duration": 21,
    "start_time": "2021-09-26T14:59:16.707Z"
   },
   {
    "duration": 2,
    "start_time": "2021-09-26T14:59:16.730Z"
   },
   {
    "duration": 13,
    "start_time": "2021-09-26T14:59:16.734Z"
   },
   {
    "duration": 6,
    "start_time": "2021-09-26T14:59:16.749Z"
   },
   {
    "duration": 43,
    "start_time": "2021-09-26T14:59:16.756Z"
   },
   {
    "duration": 11,
    "start_time": "2021-09-26T14:59:16.801Z"
   },
   {
    "duration": 1038,
    "start_time": "2021-09-26T14:59:40.265Z"
   },
   {
    "duration": 2,
    "start_time": "2021-09-26T14:59:41.305Z"
   },
   {
    "duration": 177,
    "start_time": "2021-09-26T14:59:41.309Z"
   },
   {
    "duration": 2,
    "start_time": "2021-09-26T14:59:41.488Z"
   },
   {
    "duration": 39,
    "start_time": "2021-09-26T14:59:41.491Z"
   },
   {
    "duration": 505,
    "start_time": "2021-09-26T14:59:41.531Z"
   },
   {
    "duration": 6,
    "start_time": "2021-09-26T14:59:42.038Z"
   },
   {
    "duration": 450,
    "start_time": "2021-09-26T14:59:42.046Z"
   },
   {
    "duration": 5,
    "start_time": "2021-09-26T14:59:42.498Z"
   },
   {
    "duration": 34,
    "start_time": "2021-09-26T14:59:42.504Z"
   },
   {
    "duration": 98,
    "start_time": "2021-09-26T14:59:42.539Z"
   },
   {
    "duration": 20,
    "start_time": "2021-09-26T14:59:42.638Z"
   },
   {
    "duration": 49,
    "start_time": "2021-09-26T14:59:42.659Z"
   },
   {
    "duration": 497,
    "start_time": "2021-09-26T14:59:42.709Z"
   },
   {
    "duration": 4,
    "start_time": "2021-09-26T14:59:43.208Z"
   },
   {
    "duration": 14,
    "start_time": "2021-09-26T14:59:43.214Z"
   },
   {
    "duration": 575,
    "start_time": "2021-09-26T14:59:43.230Z"
   },
   {
    "duration": 4,
    "start_time": "2021-09-26T14:59:43.807Z"
   },
   {
    "duration": 17,
    "start_time": "2021-09-26T14:59:43.813Z"
   },
   {
    "duration": 78,
    "start_time": "2021-09-26T14:59:43.832Z"
   },
   {
    "duration": 15,
    "start_time": "2021-09-26T14:59:43.912Z"
   },
   {
    "duration": 17,
    "start_time": "2021-09-26T14:59:43.928Z"
   },
   {
    "duration": 6,
    "start_time": "2021-09-26T14:59:43.947Z"
   },
   {
    "duration": 45,
    "start_time": "2021-09-26T14:59:43.955Z"
   },
   {
    "duration": 6,
    "start_time": "2021-09-26T14:59:44.001Z"
   },
   {
    "duration": 14,
    "start_time": "2021-09-26T14:59:44.008Z"
   },
   {
    "duration": 2,
    "start_time": "2021-09-26T14:59:44.023Z"
   },
   {
    "duration": 11,
    "start_time": "2021-09-26T14:59:44.027Z"
   },
   {
    "duration": 6,
    "start_time": "2021-09-26T14:59:44.039Z"
   },
   {
    "duration": 24,
    "start_time": "2021-09-26T14:59:44.047Z"
   },
   {
    "duration": 24,
    "start_time": "2021-09-26T14:59:44.100Z"
   },
   {
    "duration": 12,
    "start_time": "2021-09-26T15:03:12.319Z"
   },
   {
    "duration": 10,
    "start_time": "2021-09-26T15:03:26.505Z"
   },
   {
    "duration": 1047,
    "start_time": "2021-09-26T15:03:36.352Z"
   },
   {
    "duration": 3,
    "start_time": "2021-09-26T15:03:37.401Z"
   },
   {
    "duration": 172,
    "start_time": "2021-09-26T15:03:37.407Z"
   },
   {
    "duration": 2,
    "start_time": "2021-09-26T15:03:37.581Z"
   },
   {
    "duration": 26,
    "start_time": "2021-09-26T15:03:37.585Z"
   },
   {
    "duration": 500,
    "start_time": "2021-09-26T15:03:37.612Z"
   },
   {
    "duration": 5,
    "start_time": "2021-09-26T15:03:38.114Z"
   },
   {
    "duration": 439,
    "start_time": "2021-09-26T15:03:38.121Z"
   },
   {
    "duration": 5,
    "start_time": "2021-09-26T15:03:38.562Z"
   },
   {
    "duration": 41,
    "start_time": "2021-09-26T15:03:38.568Z"
   },
   {
    "duration": 123,
    "start_time": "2021-09-26T15:03:38.610Z"
   },
   {
    "duration": 21,
    "start_time": "2021-09-26T15:03:38.735Z"
   },
   {
    "duration": 13,
    "start_time": "2021-09-26T15:03:38.800Z"
   },
   {
    "duration": 543,
    "start_time": "2021-09-26T15:03:38.815Z"
   },
   {
    "duration": 6,
    "start_time": "2021-09-26T15:03:39.360Z"
   },
   {
    "duration": 15,
    "start_time": "2021-09-26T15:03:39.367Z"
   },
   {
    "duration": 576,
    "start_time": "2021-09-26T15:03:39.383Z"
   },
   {
    "duration": 5,
    "start_time": "2021-09-26T15:03:39.961Z"
   },
   {
    "duration": 33,
    "start_time": "2021-09-26T15:03:39.968Z"
   },
   {
    "duration": 98,
    "start_time": "2021-09-26T15:03:40.003Z"
   },
   {
    "duration": 17,
    "start_time": "2021-09-26T15:03:40.103Z"
   },
   {
    "duration": 19,
    "start_time": "2021-09-26T15:03:40.124Z"
   },
   {
    "duration": 6,
    "start_time": "2021-09-26T15:03:40.145Z"
   },
   {
    "duration": 48,
    "start_time": "2021-09-26T15:03:40.153Z"
   },
   {
    "duration": 5,
    "start_time": "2021-09-26T15:03:40.203Z"
   },
   {
    "duration": 13,
    "start_time": "2021-09-26T15:03:40.210Z"
   },
   {
    "duration": 270,
    "start_time": "2021-09-26T15:03:40.225Z"
   },
   {
    "duration": -391,
    "start_time": "2021-09-26T15:03:40.888Z"
   },
   {
    "duration": -393,
    "start_time": "2021-09-26T15:03:40.891Z"
   },
   {
    "duration": -396,
    "start_time": "2021-09-26T15:03:40.895Z"
   },
   {
    "duration": -399,
    "start_time": "2021-09-26T15:03:40.898Z"
   },
   {
    "duration": 1057,
    "start_time": "2021-09-26T15:03:45.862Z"
   },
   {
    "duration": 3,
    "start_time": "2021-09-26T15:03:46.920Z"
   },
   {
    "duration": 172,
    "start_time": "2021-09-26T15:03:46.925Z"
   },
   {
    "duration": 2,
    "start_time": "2021-09-26T15:03:47.099Z"
   },
   {
    "duration": 19,
    "start_time": "2021-09-26T15:03:47.103Z"
   },
   {
    "duration": 507,
    "start_time": "2021-09-26T15:03:47.123Z"
   },
   {
    "duration": 5,
    "start_time": "2021-09-26T15:03:47.631Z"
   },
   {
    "duration": 443,
    "start_time": "2021-09-26T15:03:47.639Z"
   },
   {
    "duration": 15,
    "start_time": "2021-09-26T15:03:48.085Z"
   },
   {
    "duration": 23,
    "start_time": "2021-09-26T15:03:48.101Z"
   },
   {
    "duration": 120,
    "start_time": "2021-09-26T15:03:48.126Z"
   },
   {
    "duration": 67,
    "start_time": "2021-09-26T15:03:48.248Z"
   },
   {
    "duration": 15,
    "start_time": "2021-09-26T15:03:48.317Z"
   },
   {
    "duration": 516,
    "start_time": "2021-09-26T15:03:48.333Z"
   },
   {
    "duration": 4,
    "start_time": "2021-09-26T15:03:48.850Z"
   },
   {
    "duration": 13,
    "start_time": "2021-09-26T15:03:48.856Z"
   },
   {
    "duration": 566,
    "start_time": "2021-09-26T15:03:48.871Z"
   },
   {
    "duration": 4,
    "start_time": "2021-09-26T15:03:49.439Z"
   },
   {
    "duration": 18,
    "start_time": "2021-09-26T15:03:49.445Z"
   },
   {
    "duration": 68,
    "start_time": "2021-09-26T15:03:49.465Z"
   },
   {
    "duration": 15,
    "start_time": "2021-09-26T15:03:49.535Z"
   },
   {
    "duration": 54,
    "start_time": "2021-09-26T15:03:49.552Z"
   },
   {
    "duration": 6,
    "start_time": "2021-09-26T15:03:49.609Z"
   },
   {
    "duration": 11,
    "start_time": "2021-09-26T15:03:49.617Z"
   },
   {
    "duration": 4,
    "start_time": "2021-09-26T15:03:49.630Z"
   },
   {
    "duration": 25,
    "start_time": "2021-09-26T15:03:49.636Z"
   },
   {
    "duration": 273,
    "start_time": "2021-09-26T15:03:49.663Z"
   },
   {
    "duration": -379,
    "start_time": "2021-09-26T15:03:50.317Z"
   },
   {
    "duration": -381,
    "start_time": "2021-09-26T15:03:50.320Z"
   },
   {
    "duration": -388,
    "start_time": "2021-09-26T15:03:50.328Z"
   },
   {
    "duration": -391,
    "start_time": "2021-09-26T15:03:50.332Z"
   },
   {
    "duration": 13,
    "start_time": "2021-09-26T15:04:10.228Z"
   },
   {
    "duration": 7,
    "start_time": "2021-09-26T15:04:10.729Z"
   },
   {
    "duration": 1104,
    "start_time": "2021-09-26T15:04:24.098Z"
   },
   {
    "duration": 3,
    "start_time": "2021-09-26T15:04:25.203Z"
   },
   {
    "duration": 174,
    "start_time": "2021-09-26T15:04:25.208Z"
   },
   {
    "duration": 3,
    "start_time": "2021-09-26T15:04:25.384Z"
   },
   {
    "duration": 20,
    "start_time": "2021-09-26T15:04:25.389Z"
   },
   {
    "duration": 532,
    "start_time": "2021-09-26T15:04:25.411Z"
   },
   {
    "duration": 5,
    "start_time": "2021-09-26T15:04:25.945Z"
   },
   {
    "duration": 462,
    "start_time": "2021-09-26T15:04:25.952Z"
   },
   {
    "duration": 4,
    "start_time": "2021-09-26T15:04:26.417Z"
   },
   {
    "duration": 26,
    "start_time": "2021-09-26T15:04:26.423Z"
   },
   {
    "duration": 106,
    "start_time": "2021-09-26T15:04:26.451Z"
   },
   {
    "duration": 63,
    "start_time": "2021-09-26T15:04:26.558Z"
   },
   {
    "duration": 21,
    "start_time": "2021-09-26T15:04:26.623Z"
   },
   {
    "duration": 543,
    "start_time": "2021-09-26T15:04:26.647Z"
   },
   {
    "duration": 9,
    "start_time": "2021-09-26T15:04:27.192Z"
   },
   {
    "duration": 15,
    "start_time": "2021-09-26T15:04:27.202Z"
   },
   {
    "duration": 560,
    "start_time": "2021-09-26T15:04:27.218Z"
   },
   {
    "duration": 5,
    "start_time": "2021-09-26T15:04:27.779Z"
   },
   {
    "duration": 27,
    "start_time": "2021-09-26T15:04:27.786Z"
   },
   {
    "duration": 44,
    "start_time": "2021-09-26T15:04:27.814Z"
   },
   {
    "duration": 15,
    "start_time": "2021-09-26T15:04:27.900Z"
   },
   {
    "duration": 19,
    "start_time": "2021-09-26T15:04:27.917Z"
   },
   {
    "duration": 6,
    "start_time": "2021-09-26T15:04:27.937Z"
   },
   {
    "duration": 11,
    "start_time": "2021-09-26T15:04:27.945Z"
   },
   {
    "duration": 4,
    "start_time": "2021-09-26T15:04:27.958Z"
   },
   {
    "duration": 41,
    "start_time": "2021-09-26T15:04:27.964Z"
   },
   {
    "duration": 8,
    "start_time": "2021-09-26T15:04:28.008Z"
   },
   {
    "duration": 7,
    "start_time": "2021-09-26T15:04:28.018Z"
   },
   {
    "duration": 6,
    "start_time": "2021-09-26T15:04:28.027Z"
   },
   {
    "duration": 23,
    "start_time": "2021-09-26T15:04:28.034Z"
   },
   {
    "duration": 47,
    "start_time": "2021-09-26T15:04:28.059Z"
   },
   {
    "duration": 60,
    "start_time": "2021-09-26T15:05:08.553Z"
   },
   {
    "duration": 64,
    "start_time": "2021-09-26T15:05:13.200Z"
   },
   {
    "duration": 296,
    "start_time": "2021-09-26T15:05:26.500Z"
   },
   {
    "duration": 192,
    "start_time": "2021-09-26T15:05:31.229Z"
   },
   {
    "duration": 57,
    "start_time": "2021-09-26T15:07:17.027Z"
   },
   {
    "duration": 33,
    "start_time": "2021-09-26T15:07:26.725Z"
   },
   {
    "duration": 24,
    "start_time": "2021-09-26T15:07:28.949Z"
   },
   {
    "duration": 1080,
    "start_time": "2021-09-26T15:07:51.624Z"
   },
   {
    "duration": 3,
    "start_time": "2021-09-26T15:07:52.706Z"
   },
   {
    "duration": 170,
    "start_time": "2021-09-26T15:07:52.711Z"
   },
   {
    "duration": 2,
    "start_time": "2021-09-26T15:07:52.883Z"
   },
   {
    "duration": 19,
    "start_time": "2021-09-26T15:07:52.887Z"
   },
   {
    "duration": 502,
    "start_time": "2021-09-26T15:07:52.907Z"
   },
   {
    "duration": 4,
    "start_time": "2021-09-26T15:07:53.411Z"
   },
   {
    "duration": 453,
    "start_time": "2021-09-26T15:07:53.418Z"
   },
   {
    "duration": 4,
    "start_time": "2021-09-26T15:07:53.874Z"
   },
   {
    "duration": 35,
    "start_time": "2021-09-26T15:07:53.880Z"
   },
   {
    "duration": 101,
    "start_time": "2021-09-26T15:07:53.917Z"
   },
   {
    "duration": 20,
    "start_time": "2021-09-26T15:07:54.020Z"
   },
   {
    "duration": 11,
    "start_time": "2021-09-26T15:07:54.042Z"
   },
   {
    "duration": 540,
    "start_time": "2021-09-26T15:07:54.055Z"
   },
   {
    "duration": 4,
    "start_time": "2021-09-26T15:07:54.599Z"
   },
   {
    "duration": 14,
    "start_time": "2021-09-26T15:07:54.605Z"
   },
   {
    "duration": 571,
    "start_time": "2021-09-26T15:07:54.621Z"
   },
   {
    "duration": 8,
    "start_time": "2021-09-26T15:07:55.193Z"
   },
   {
    "duration": 17,
    "start_time": "2021-09-26T15:07:55.203Z"
   },
   {
    "duration": 84,
    "start_time": "2021-09-26T15:07:55.221Z"
   },
   {
    "duration": 15,
    "start_time": "2021-09-26T15:07:55.307Z"
   },
   {
    "duration": 18,
    "start_time": "2021-09-26T15:07:55.324Z"
   },
   {
    "duration": 6,
    "start_time": "2021-09-26T15:07:55.345Z"
   },
   {
    "duration": 13,
    "start_time": "2021-09-26T15:07:55.352Z"
   },
   {
    "duration": 5,
    "start_time": "2021-09-26T15:07:55.400Z"
   },
   {
    "duration": 14,
    "start_time": "2021-09-26T15:07:55.406Z"
   },
   {
    "duration": 8,
    "start_time": "2021-09-26T15:07:55.421Z"
   },
   {
    "duration": 9,
    "start_time": "2021-09-26T15:07:55.430Z"
   },
   {
    "duration": 6,
    "start_time": "2021-09-26T15:07:55.440Z"
   },
   {
    "duration": 54,
    "start_time": "2021-09-26T15:07:55.448Z"
   },
   {
    "duration": 24,
    "start_time": "2021-09-26T15:07:55.504Z"
   },
   {
    "duration": 279,
    "start_time": "2021-09-26T15:07:55.530Z"
   },
   {
    "duration": 1088,
    "start_time": "2021-09-26T15:08:22.015Z"
   },
   {
    "duration": 3,
    "start_time": "2021-09-26T15:08:23.105Z"
   },
   {
    "duration": 176,
    "start_time": "2021-09-26T15:08:23.112Z"
   },
   {
    "duration": 3,
    "start_time": "2021-09-26T15:08:23.289Z"
   },
   {
    "duration": 22,
    "start_time": "2021-09-26T15:08:23.293Z"
   },
   {
    "duration": 524,
    "start_time": "2021-09-26T15:08:23.316Z"
   },
   {
    "duration": 5,
    "start_time": "2021-09-26T15:08:23.842Z"
   },
   {
    "duration": 466,
    "start_time": "2021-09-26T15:08:23.850Z"
   },
   {
    "duration": 5,
    "start_time": "2021-09-26T15:08:24.318Z"
   },
   {
    "duration": 25,
    "start_time": "2021-09-26T15:08:24.325Z"
   },
   {
    "duration": 104,
    "start_time": "2021-09-26T15:08:24.352Z"
   },
   {
    "duration": 62,
    "start_time": "2021-09-26T15:08:24.458Z"
   },
   {
    "duration": 10,
    "start_time": "2021-09-26T15:08:24.522Z"
   },
   {
    "duration": 549,
    "start_time": "2021-09-26T15:08:24.533Z"
   },
   {
    "duration": 4,
    "start_time": "2021-09-26T15:08:25.084Z"
   },
   {
    "duration": 18,
    "start_time": "2021-09-26T15:08:25.090Z"
   },
   {
    "duration": 595,
    "start_time": "2021-09-26T15:08:25.109Z"
   },
   {
    "duration": 5,
    "start_time": "2021-09-26T15:08:25.706Z"
   },
   {
    "duration": 18,
    "start_time": "2021-09-26T15:08:25.713Z"
   },
   {
    "duration": 83,
    "start_time": "2021-09-26T15:08:25.733Z"
   },
   {
    "duration": 16,
    "start_time": "2021-09-26T15:08:25.818Z"
   },
   {
    "duration": 20,
    "start_time": "2021-09-26T15:08:25.836Z"
   },
   {
    "duration": 45,
    "start_time": "2021-09-26T15:08:25.857Z"
   },
   {
    "duration": 14,
    "start_time": "2021-09-26T15:08:25.904Z"
   },
   {
    "duration": 4,
    "start_time": "2021-09-26T15:08:25.920Z"
   },
   {
    "duration": 16,
    "start_time": "2021-09-26T15:08:25.927Z"
   },
   {
    "duration": 8,
    "start_time": "2021-09-26T15:08:25.945Z"
   },
   {
    "duration": 8,
    "start_time": "2021-09-26T15:08:25.955Z"
   },
   {
    "duration": 6,
    "start_time": "2021-09-26T15:08:25.965Z"
   },
   {
    "duration": 28,
    "start_time": "2021-09-26T15:08:26.000Z"
   },
   {
    "duration": 23,
    "start_time": "2021-09-26T15:08:26.030Z"
   },
   {
    "duration": 11,
    "start_time": "2021-09-26T15:08:26.054Z"
   },
   {
    "duration": 6,
    "start_time": "2021-09-26T15:09:55.515Z"
   },
   {
    "duration": 17,
    "start_time": "2021-09-26T15:12:31.424Z"
   },
   {
    "duration": 9,
    "start_time": "2021-09-26T15:12:40.943Z"
   },
   {
    "duration": 3,
    "start_time": "2021-09-26T15:16:40.124Z"
   },
   {
    "duration": 3355,
    "start_time": "2021-09-26T15:16:54.411Z"
   },
   {
    "duration": 273,
    "start_time": "2021-09-26T15:17:37.023Z"
   },
   {
    "duration": 3471,
    "start_time": "2021-09-26T15:17:39.715Z"
   },
   {
    "duration": 11,
    "start_time": "2021-09-26T15:17:45.447Z"
   },
   {
    "duration": 4,
    "start_time": "2021-09-26T15:19:16.652Z"
   },
   {
    "duration": 10,
    "start_time": "2021-09-26T15:19:18.710Z"
   },
   {
    "duration": 228,
    "start_time": "2021-09-26T15:19:48.960Z"
   },
   {
    "duration": 12,
    "start_time": "2021-09-26T15:19:54.495Z"
   },
   {
    "duration": 213,
    "start_time": "2021-09-26T15:21:17.032Z"
   },
   {
    "duration": 1119,
    "start_time": "2021-09-26T15:21:25.689Z"
   },
   {
    "duration": 2,
    "start_time": "2021-09-26T15:21:26.810Z"
   },
   {
    "duration": 171,
    "start_time": "2021-09-26T15:21:26.815Z"
   },
   {
    "duration": 2,
    "start_time": "2021-09-26T15:21:26.987Z"
   },
   {
    "duration": 21,
    "start_time": "2021-09-26T15:21:26.991Z"
   },
   {
    "duration": 500,
    "start_time": "2021-09-26T15:21:27.013Z"
   },
   {
    "duration": 6,
    "start_time": "2021-09-26T15:21:27.515Z"
   },
   {
    "duration": 469,
    "start_time": "2021-09-26T15:21:27.522Z"
   },
   {
    "duration": 9,
    "start_time": "2021-09-26T15:21:27.994Z"
   },
   {
    "duration": 24,
    "start_time": "2021-09-26T15:21:28.005Z"
   },
   {
    "duration": 110,
    "start_time": "2021-09-26T15:21:28.031Z"
   },
   {
    "duration": 21,
    "start_time": "2021-09-26T15:21:28.142Z"
   },
   {
    "duration": 13,
    "start_time": "2021-09-26T15:21:28.200Z"
   },
   {
    "duration": 517,
    "start_time": "2021-09-26T15:21:28.215Z"
   },
   {
    "duration": 5,
    "start_time": "2021-09-26T15:21:28.734Z"
   },
   {
    "duration": 18,
    "start_time": "2021-09-26T15:21:28.741Z"
   },
   {
    "duration": 564,
    "start_time": "2021-09-26T15:21:28.760Z"
   },
   {
    "duration": 5,
    "start_time": "2021-09-26T15:21:29.325Z"
   },
   {
    "duration": 20,
    "start_time": "2021-09-26T15:21:29.331Z"
   },
   {
    "duration": 65,
    "start_time": "2021-09-26T15:21:29.353Z"
   },
   {
    "duration": 15,
    "start_time": "2021-09-26T15:21:29.420Z"
   },
   {
    "duration": 19,
    "start_time": "2021-09-26T15:21:29.436Z"
   },
   {
    "duration": 43,
    "start_time": "2021-09-26T15:21:29.457Z"
   },
   {
    "duration": 13,
    "start_time": "2021-09-26T15:21:29.502Z"
   },
   {
    "duration": 5,
    "start_time": "2021-09-26T15:21:29.517Z"
   },
   {
    "duration": 13,
    "start_time": "2021-09-26T15:21:29.523Z"
   },
   {
    "duration": 8,
    "start_time": "2021-09-26T15:21:29.539Z"
   },
   {
    "duration": 8,
    "start_time": "2021-09-26T15:21:29.548Z"
   },
   {
    "duration": 6,
    "start_time": "2021-09-26T15:21:29.557Z"
   },
   {
    "duration": 27,
    "start_time": "2021-09-26T15:21:29.600Z"
   },
   {
    "duration": 25,
    "start_time": "2021-09-26T15:21:29.628Z"
   },
   {
    "duration": 12,
    "start_time": "2021-09-26T15:21:29.654Z"
   },
   {
    "duration": 33,
    "start_time": "2021-09-26T15:21:29.668Z"
   },
   {
    "duration": 15,
    "start_time": "2021-09-26T15:21:29.703Z"
   },
   {
    "duration": 2,
    "start_time": "2021-09-26T15:21:29.720Z"
   },
   {
    "duration": 3214,
    "start_time": "2021-09-26T15:21:29.723Z"
   },
   {
    "duration": 4,
    "start_time": "2021-09-26T15:21:32.939Z"
   },
   {
    "duration": 12,
    "start_time": "2021-09-26T15:21:32.945Z"
   },
   {
    "duration": 10,
    "start_time": "2021-09-26T15:21:32.958Z"
   },
   {
    "duration": 288,
    "start_time": "2021-09-26T15:23:41.222Z"
   },
   {
    "duration": 597,
    "start_time": "2021-09-26T15:23:53.382Z"
   },
   {
    "duration": 239,
    "start_time": "2021-09-26T15:23:55.724Z"
   },
   {
    "duration": 11,
    "start_time": "2021-09-26T15:24:11.468Z"
   },
   {
    "duration": 296,
    "start_time": "2021-09-26T15:24:30.575Z"
   },
   {
    "duration": 11,
    "start_time": "2021-09-26T15:24:44.161Z"
   },
   {
    "duration": 495,
    "start_time": "2021-09-26T15:26:30.688Z"
   },
   {
    "duration": 275,
    "start_time": "2021-09-26T15:26:49.629Z"
   },
   {
    "duration": 277,
    "start_time": "2021-09-26T15:28:22.048Z"
   },
   {
    "duration": 279,
    "start_time": "2021-09-26T15:28:29.439Z"
   },
   {
    "duration": 3,
    "start_time": "2021-09-26T15:29:17.124Z"
   },
   {
    "duration": 136,
    "start_time": "2021-09-26T15:29:19.894Z"
   },
   {
    "duration": 3,
    "start_time": "2021-09-26T15:29:52.398Z"
   },
   {
    "duration": 138,
    "start_time": "2021-09-26T15:29:53.750Z"
   },
   {
    "duration": 8,
    "start_time": "2021-09-26T15:30:00.672Z"
   },
   {
    "duration": 165,
    "start_time": "2021-09-26T15:30:02.732Z"
   },
   {
    "duration": 12,
    "start_time": "2021-09-26T15:34:46.003Z"
   },
   {
    "duration": 1080,
    "start_time": "2021-09-26T15:34:49.316Z"
   },
   {
    "duration": 3,
    "start_time": "2021-09-26T15:34:50.398Z"
   },
   {
    "duration": 170,
    "start_time": "2021-09-26T15:34:50.402Z"
   },
   {
    "duration": 2,
    "start_time": "2021-09-26T15:34:50.574Z"
   },
   {
    "duration": 24,
    "start_time": "2021-09-26T15:34:50.578Z"
   },
   {
    "duration": 506,
    "start_time": "2021-09-26T15:34:50.603Z"
   },
   {
    "duration": 5,
    "start_time": "2021-09-26T15:34:51.110Z"
   },
   {
    "duration": 438,
    "start_time": "2021-09-26T15:34:51.118Z"
   },
   {
    "duration": 4,
    "start_time": "2021-09-26T15:34:51.559Z"
   },
   {
    "duration": 43,
    "start_time": "2021-09-26T15:34:51.565Z"
   },
   {
    "duration": 110,
    "start_time": "2021-09-26T15:34:51.610Z"
   },
   {
    "duration": 20,
    "start_time": "2021-09-26T15:34:51.722Z"
   },
   {
    "duration": 11,
    "start_time": "2021-09-26T15:34:51.744Z"
   },
   {
    "duration": 538,
    "start_time": "2021-09-26T15:34:51.756Z"
   },
   {
    "duration": 4,
    "start_time": "2021-09-26T15:34:52.300Z"
   },
   {
    "duration": 15,
    "start_time": "2021-09-26T15:34:52.305Z"
   },
   {
    "duration": 566,
    "start_time": "2021-09-26T15:34:52.322Z"
   },
   {
    "duration": 9,
    "start_time": "2021-09-26T15:34:52.890Z"
   },
   {
    "duration": 18,
    "start_time": "2021-09-26T15:34:52.900Z"
   },
   {
    "duration": 84,
    "start_time": "2021-09-26T15:34:52.920Z"
   },
   {
    "duration": 16,
    "start_time": "2021-09-26T15:34:53.006Z"
   },
   {
    "duration": 18,
    "start_time": "2021-09-26T15:34:53.024Z"
   },
   {
    "duration": 6,
    "start_time": "2021-09-26T15:34:53.044Z"
   },
   {
    "duration": 12,
    "start_time": "2021-09-26T15:34:53.052Z"
   },
   {
    "duration": 37,
    "start_time": "2021-09-26T15:34:53.066Z"
   },
   {
    "duration": 14,
    "start_time": "2021-09-26T15:34:53.105Z"
   },
   {
    "duration": 7,
    "start_time": "2021-09-26T15:34:53.121Z"
   },
   {
    "duration": 7,
    "start_time": "2021-09-26T15:34:53.130Z"
   },
   {
    "duration": 6,
    "start_time": "2021-09-26T15:34:53.138Z"
   },
   {
    "duration": 24,
    "start_time": "2021-09-26T15:34:53.145Z"
   },
   {
    "duration": 51,
    "start_time": "2021-09-26T15:34:53.170Z"
   },
   {
    "duration": 11,
    "start_time": "2021-09-26T15:34:53.222Z"
   },
   {
    "duration": 5,
    "start_time": "2021-09-26T15:34:53.235Z"
   },
   {
    "duration": 25,
    "start_time": "2021-09-26T15:34:53.242Z"
   },
   {
    "duration": 2,
    "start_time": "2021-09-26T15:34:53.269Z"
   },
   {
    "duration": 3123,
    "start_time": "2021-09-26T15:34:53.272Z"
   },
   {
    "duration": 5,
    "start_time": "2021-09-26T15:34:56.396Z"
   },
   {
    "duration": 16,
    "start_time": "2021-09-26T15:34:56.402Z"
   },
   {
    "duration": 10,
    "start_time": "2021-09-26T15:34:56.419Z"
   },
   {
    "duration": 623,
    "start_time": "2021-09-26T15:34:56.430Z"
   },
   {
    "duration": 276,
    "start_time": "2021-09-26T15:34:57.055Z"
   },
   {
    "duration": 2,
    "start_time": "2021-09-26T15:34:57.333Z"
   },
   {
    "duration": 10,
    "start_time": "2021-09-26T15:34:57.337Z"
   },
   {
    "duration": 352,
    "start_time": "2021-09-26T15:34:57.349Z"
   },
   {
    "duration": 309,
    "start_time": "2021-09-26T15:36:30.037Z"
   },
   {
    "duration": 13,
    "start_time": "2021-09-26T15:36:46.438Z"
   },
   {
    "duration": 36238,
    "start_time": "2021-09-26T15:36:46.964Z"
   },
   {
    "duration": 432,
    "start_time": "2021-09-26T15:38:28.572Z"
   },
   {
    "duration": 3,
    "start_time": "2021-09-26T15:38:49.924Z"
   },
   {
    "duration": 181,
    "start_time": "2021-09-26T15:38:50.419Z"
   },
   {
    "duration": 109,
    "start_time": "2021-09-26T15:39:32.996Z"
   },
   {
    "duration": 12,
    "start_time": "2021-09-26T15:40:25.402Z"
   },
   {
    "duration": 126,
    "start_time": "2021-09-26T15:40:40.879Z"
   },
   {
    "duration": 41,
    "start_time": "2021-09-26T15:40:44.201Z"
   },
   {
    "duration": 75850,
    "start_time": "2021-09-26T15:40:44.699Z"
   },
   {
    "duration": 14,
    "start_time": "2021-09-26T15:45:25.151Z"
   },
   {
    "duration": 556219,
    "start_time": "2021-09-26T15:45:25.580Z"
   },
   {
    "duration": 1474,
    "start_time": "2021-09-27T06:23:50.346Z"
   },
   {
    "duration": 4,
    "start_time": "2021-09-27T06:23:51.823Z"
   },
   {
    "duration": 206,
    "start_time": "2021-09-27T06:23:51.830Z"
   },
   {
    "duration": 4,
    "start_time": "2021-09-27T06:23:52.039Z"
   },
   {
    "duration": 31,
    "start_time": "2021-09-27T06:23:52.045Z"
   },
   {
    "duration": 798,
    "start_time": "2021-09-27T06:23:52.078Z"
   },
   {
    "duration": 7,
    "start_time": "2021-09-27T06:23:52.878Z"
   },
   {
    "duration": 709,
    "start_time": "2021-09-27T06:23:52.889Z"
   },
   {
    "duration": 7,
    "start_time": "2021-09-27T06:23:53.601Z"
   },
   {
    "duration": 41,
    "start_time": "2021-09-27T06:23:53.623Z"
   },
   {
    "duration": 189,
    "start_time": "2021-09-27T06:23:53.666Z"
   },
   {
    "duration": 67,
    "start_time": "2021-09-27T06:23:53.857Z"
   },
   {
    "duration": 16,
    "start_time": "2021-09-27T06:23:53.927Z"
   },
   {
    "duration": 847,
    "start_time": "2021-09-27T06:23:53.946Z"
   },
   {
    "duration": 7,
    "start_time": "2021-09-27T06:23:54.795Z"
   },
   {
    "duration": 43,
    "start_time": "2021-09-27T06:23:54.805Z"
   },
   {
    "duration": 850,
    "start_time": "2021-09-27T06:23:54.851Z"
   },
   {
    "duration": 6,
    "start_time": "2021-09-27T06:23:55.703Z"
   },
   {
    "duration": 24,
    "start_time": "2021-09-27T06:23:55.722Z"
   },
   {
    "duration": 104,
    "start_time": "2021-09-27T06:23:55.748Z"
   },
   {
    "duration": 25,
    "start_time": "2021-09-27T06:23:55.854Z"
   },
   {
    "duration": 26,
    "start_time": "2021-09-27T06:23:55.922Z"
   },
   {
    "duration": 13,
    "start_time": "2021-09-27T06:23:55.954Z"
   },
   {
    "duration": 19,
    "start_time": "2021-09-27T06:23:55.970Z"
   },
   {
    "duration": 36,
    "start_time": "2021-09-27T06:23:55.992Z"
   },
   {
    "duration": 21,
    "start_time": "2021-09-27T06:23:56.031Z"
   },
   {
    "duration": 11,
    "start_time": "2021-09-27T06:23:56.055Z"
   },
   {
    "duration": 14,
    "start_time": "2021-09-27T06:23:56.069Z"
   },
   {
    "duration": 40,
    "start_time": "2021-09-27T06:23:56.085Z"
   },
   {
    "duration": 39,
    "start_time": "2021-09-27T06:23:56.127Z"
   },
   {
    "duration": 58,
    "start_time": "2021-09-27T06:23:56.169Z"
   },
   {
    "duration": 19,
    "start_time": "2021-09-27T06:23:56.229Z"
   },
   {
    "duration": 11,
    "start_time": "2021-09-27T06:23:56.250Z"
   },
   {
    "duration": 26,
    "start_time": "2021-09-27T06:23:56.264Z"
   },
   {
    "duration": 32,
    "start_time": "2021-09-27T06:23:56.292Z"
   },
   {
    "duration": 4705,
    "start_time": "2021-09-27T06:23:56.327Z"
   },
   {
    "duration": 5,
    "start_time": "2021-09-27T06:24:01.035Z"
   },
   {
    "duration": 60,
    "start_time": "2021-09-27T06:24:01.043Z"
   },
   {
    "duration": 35,
    "start_time": "2021-09-27T06:24:01.105Z"
   },
   {
    "duration": 1167,
    "start_time": "2021-09-27T06:24:01.142Z"
   },
   {
    "duration": 458,
    "start_time": "2021-09-27T06:24:02.312Z"
   },
   {
    "duration": 4,
    "start_time": "2021-09-27T06:24:02.772Z"
   },
   {
    "duration": 32,
    "start_time": "2021-09-27T06:24:02.778Z"
   },
   {
    "duration": 1010,
    "start_time": "2021-09-27T06:24:02.813Z"
   },
   {
    "duration": 98,
    "start_time": "2021-09-27T06:24:03.826Z"
   },
   {
    "duration": 59139,
    "start_time": "2021-09-27T06:24:03.926Z"
   },
   {
    "duration": 4,
    "start_time": "2021-09-27T06:25:03.068Z"
   },
   {
    "duration": 328,
    "start_time": "2021-09-27T06:25:03.075Z"
   },
   {
    "duration": 25,
    "start_time": "2021-09-27T06:25:03.405Z"
   },
   {
    "duration": 253,
    "start_time": "2021-09-27T06:25:03.433Z"
   },
   {
    "duration": 102368,
    "start_time": "2021-09-27T06:25:03.689Z"
   },
   {
    "duration": 18,
    "start_time": "2021-09-27T06:26:46.060Z"
   },
   {
    "duration": 764919,
    "start_time": "2021-09-27T06:26:46.081Z"
   },
   {
    "duration": 12905,
    "start_time": "2021-09-27T06:39:31.002Z"
   },
   {
    "duration": 182443,
    "start_time": "2021-09-27T06:48:47.151Z"
   },
   {
    "duration": 245437,
    "start_time": "2021-09-27T06:52:33.057Z"
   },
   {
    "duration": 2160,
    "start_time": "2021-09-27T07:01:01.067Z"
   },
   {
    "duration": -1518,
    "start_time": "2021-09-27T07:01:04.754Z"
   },
   {
    "duration": -1518,
    "start_time": "2021-09-27T07:01:04.760Z"
   },
   {
    "duration": -1525,
    "start_time": "2021-09-27T07:01:04.768Z"
   },
   {
    "duration": -1537,
    "start_time": "2021-09-27T07:01:04.782Z"
   },
   {
    "duration": -1540,
    "start_time": "2021-09-27T07:01:04.786Z"
   },
   {
    "duration": -1544,
    "start_time": "2021-09-27T07:01:04.791Z"
   },
   {
    "duration": -1548,
    "start_time": "2021-09-27T07:01:04.797Z"
   },
   {
    "duration": -1552,
    "start_time": "2021-09-27T07:01:04.802Z"
   },
   {
    "duration": -1556,
    "start_time": "2021-09-27T07:01:04.807Z"
   },
   {
    "duration": -1558,
    "start_time": "2021-09-27T07:01:04.811Z"
   },
   {
    "duration": -1562,
    "start_time": "2021-09-27T07:01:04.816Z"
   },
   {
    "duration": -1564,
    "start_time": "2021-09-27T07:01:04.819Z"
   },
   {
    "duration": -1567,
    "start_time": "2021-09-27T07:01:04.824Z"
   },
   {
    "duration": -1570,
    "start_time": "2021-09-27T07:01:04.828Z"
   },
   {
    "duration": -1579,
    "start_time": "2021-09-27T07:01:04.839Z"
   },
   {
    "duration": -1582,
    "start_time": "2021-09-27T07:01:04.843Z"
   },
   {
    "duration": -1585,
    "start_time": "2021-09-27T07:01:04.847Z"
   },
   {
    "duration": -1587,
    "start_time": "2021-09-27T07:01:04.851Z"
   },
   {
    "duration": -1592,
    "start_time": "2021-09-27T07:01:04.857Z"
   },
   {
    "duration": -1593,
    "start_time": "2021-09-27T07:01:04.860Z"
   },
   {
    "duration": -1596,
    "start_time": "2021-09-27T07:01:04.864Z"
   },
   {
    "duration": -1599,
    "start_time": "2021-09-27T07:01:04.868Z"
   },
   {
    "duration": -1549,
    "start_time": "2021-09-27T07:01:04.872Z"
   },
   {
    "duration": -1565,
    "start_time": "2021-09-27T07:01:04.890Z"
   },
   {
    "duration": -1574,
    "start_time": "2021-09-27T07:01:04.902Z"
   },
   {
    "duration": -1576,
    "start_time": "2021-09-27T07:01:04.906Z"
   },
   {
    "duration": -1577,
    "start_time": "2021-09-27T07:01:04.909Z"
   },
   {
    "duration": -1578,
    "start_time": "2021-09-27T07:01:04.913Z"
   },
   {
    "duration": -1590,
    "start_time": "2021-09-27T07:01:04.928Z"
   },
   {
    "duration": -1701,
    "start_time": "2021-09-27T07:01:05.041Z"
   },
   {
    "duration": -1741,
    "start_time": "2021-09-27T07:01:05.083Z"
   },
   {
    "duration": -1743,
    "start_time": "2021-09-27T07:01:05.087Z"
   },
   {
    "duration": -1746,
    "start_time": "2021-09-27T07:01:05.091Z"
   },
   {
    "duration": -1816,
    "start_time": "2021-09-27T07:01:05.163Z"
   },
   {
    "duration": -1879,
    "start_time": "2021-09-27T07:01:05.228Z"
   },
   {
    "duration": -1882,
    "start_time": "2021-09-27T07:01:05.232Z"
   },
   {
    "duration": -1884,
    "start_time": "2021-09-27T07:01:05.236Z"
   },
   {
    "duration": -1885,
    "start_time": "2021-09-27T07:01:05.239Z"
   },
   {
    "duration": -1888,
    "start_time": "2021-09-27T07:01:05.243Z"
   },
   {
    "duration": -1889,
    "start_time": "2021-09-27T07:01:05.246Z"
   },
   {
    "duration": -1891,
    "start_time": "2021-09-27T07:01:05.250Z"
   },
   {
    "duration": -1832,
    "start_time": "2021-09-27T07:01:05.253Z"
   },
   {
    "duration": -1833,
    "start_time": "2021-09-27T07:01:05.257Z"
   },
   {
    "duration": -1834,
    "start_time": "2021-09-27T07:01:05.260Z"
   },
   {
    "duration": -1836,
    "start_time": "2021-09-27T07:01:05.264Z"
   },
   {
    "duration": -1839,
    "start_time": "2021-09-27T07:01:05.269Z"
   },
   {
    "duration": -1841,
    "start_time": "2021-09-27T07:01:05.273Z"
   },
   {
    "duration": -1844,
    "start_time": "2021-09-27T07:01:05.277Z"
   },
   {
    "duration": -1846,
    "start_time": "2021-09-27T07:01:05.282Z"
   },
   {
    "duration": -1848,
    "start_time": "2021-09-27T07:01:05.286Z"
   },
   {
    "duration": 2022,
    "start_time": "2021-09-27T07:02:01.381Z"
   },
   {
    "duration": -1538,
    "start_time": "2021-09-27T07:02:04.947Z"
   },
   {
    "duration": -1540,
    "start_time": "2021-09-27T07:02:04.951Z"
   },
   {
    "duration": -1546,
    "start_time": "2021-09-27T07:02:04.959Z"
   },
   {
    "duration": -1549,
    "start_time": "2021-09-27T07:02:04.964Z"
   },
   {
    "duration": -1554,
    "start_time": "2021-09-27T07:02:04.972Z"
   },
   {
    "duration": -1557,
    "start_time": "2021-09-27T07:02:04.977Z"
   },
   {
    "duration": -1559,
    "start_time": "2021-09-27T07:02:04.981Z"
   },
   {
    "duration": -1562,
    "start_time": "2021-09-27T07:02:04.986Z"
   },
   {
    "duration": -1566,
    "start_time": "2021-09-27T07:02:04.993Z"
   },
   {
    "duration": -1566,
    "start_time": "2021-09-27T07:02:04.996Z"
   },
   {
    "duration": -1569,
    "start_time": "2021-09-27T07:02:05.001Z"
   },
   {
    "duration": -1571,
    "start_time": "2021-09-27T07:02:05.006Z"
   },
   {
    "duration": -1575,
    "start_time": "2021-09-27T07:02:05.012Z"
   },
   {
    "duration": -1577,
    "start_time": "2021-09-27T07:02:05.016Z"
   },
   {
    "duration": -1581,
    "start_time": "2021-09-27T07:02:05.022Z"
   },
   {
    "duration": -1598,
    "start_time": "2021-09-27T07:02:05.040Z"
   },
   {
    "duration": -1602,
    "start_time": "2021-09-27T07:02:05.046Z"
   },
   {
    "duration": -1605,
    "start_time": "2021-09-27T07:02:05.050Z"
   },
   {
    "duration": -1611,
    "start_time": "2021-09-27T07:02:05.058Z"
   },
   {
    "duration": -1615,
    "start_time": "2021-09-27T07:02:05.063Z"
   },
   {
    "duration": -1618,
    "start_time": "2021-09-27T07:02:05.068Z"
   },
   {
    "duration": -1624,
    "start_time": "2021-09-27T07:02:05.075Z"
   },
   {
    "duration": -1659,
    "start_time": "2021-09-27T07:02:05.112Z"
   },
   {
    "duration": -1662,
    "start_time": "2021-09-27T07:02:05.116Z"
   },
   {
    "duration": -1667,
    "start_time": "2021-09-27T07:02:05.123Z"
   },
   {
    "duration": -1671,
    "start_time": "2021-09-27T07:02:05.128Z"
   },
   {
    "duration": -1691,
    "start_time": "2021-09-27T07:02:05.150Z"
   },
   {
    "duration": -1694,
    "start_time": "2021-09-27T07:02:05.155Z"
   },
   {
    "duration": -1698,
    "start_time": "2021-09-27T07:02:05.160Z"
   },
   {
    "duration": -1716,
    "start_time": "2021-09-27T07:02:05.179Z"
   },
   {
    "duration": -1719,
    "start_time": "2021-09-27T07:02:05.184Z"
   },
   {
    "duration": -1765,
    "start_time": "2021-09-27T07:02:05.288Z"
   },
   {
    "duration": -1803,
    "start_time": "2021-09-27T07:02:05.328Z"
   },
   {
    "duration": -1803,
    "start_time": "2021-09-27T07:02:05.331Z"
   },
   {
    "duration": -1812,
    "start_time": "2021-09-27T07:02:05.342Z"
   },
   {
    "duration": -1827,
    "start_time": "2021-09-27T07:02:05.360Z"
   },
   {
    "duration": -1828,
    "start_time": "2021-09-27T07:02:05.363Z"
   },
   {
    "duration": -1828,
    "start_time": "2021-09-27T07:02:05.366Z"
   },
   {
    "duration": -1830,
    "start_time": "2021-09-27T07:02:05.370Z"
   },
   {
    "duration": -1831,
    "start_time": "2021-09-27T07:02:05.373Z"
   },
   {
    "duration": -1832,
    "start_time": "2021-09-27T07:02:05.377Z"
   },
   {
    "duration": -1833,
    "start_time": "2021-09-27T07:02:05.380Z"
   },
   {
    "duration": -1835,
    "start_time": "2021-09-27T07:02:05.385Z"
   },
   {
    "duration": -1841,
    "start_time": "2021-09-27T07:02:05.393Z"
   },
   {
    "duration": -1842,
    "start_time": "2021-09-27T07:02:05.396Z"
   },
   {
    "duration": -1844,
    "start_time": "2021-09-27T07:02:05.400Z"
   },
   {
    "duration": -1844,
    "start_time": "2021-09-27T07:02:05.403Z"
   },
   {
    "duration": -1848,
    "start_time": "2021-09-27T07:02:05.408Z"
   },
   {
    "duration": -1789,
    "start_time": "2021-09-27T07:02:05.412Z"
   },
   {
    "duration": -1792,
    "start_time": "2021-09-27T07:02:05.418Z"
   },
   {
    "duration": 1718,
    "start_time": "2021-09-27T07:02:17.841Z"
   },
   {
    "duration": 4,
    "start_time": "2021-09-27T07:02:19.561Z"
   },
   {
    "duration": 238,
    "start_time": "2021-09-27T07:02:19.568Z"
   },
   {
    "duration": 4,
    "start_time": "2021-09-27T07:02:19.808Z"
   },
   {
    "duration": 48,
    "start_time": "2021-09-27T07:02:19.814Z"
   },
   {
    "duration": 974,
    "start_time": "2021-09-27T07:02:19.865Z"
   },
   {
    "duration": 7,
    "start_time": "2021-09-27T07:02:20.841Z"
   },
   {
    "duration": 918,
    "start_time": "2021-09-27T07:02:20.850Z"
   },
   {
    "duration": 6,
    "start_time": "2021-09-27T07:02:21.772Z"
   },
   {
    "duration": 71,
    "start_time": "2021-09-27T07:02:21.781Z"
   },
   {
    "duration": 184,
    "start_time": "2021-09-27T07:02:21.854Z"
   },
   {
    "duration": 35,
    "start_time": "2021-09-27T07:02:22.041Z"
   },
   {
    "duration": 63,
    "start_time": "2021-09-27T07:02:22.079Z"
   },
   {
    "duration": 987,
    "start_time": "2021-09-27T07:02:22.145Z"
   },
   {
    "duration": 7,
    "start_time": "2021-09-27T07:02:23.135Z"
   },
   {
    "duration": 46,
    "start_time": "2021-09-27T07:02:23.146Z"
   },
   {
    "duration": 859,
    "start_time": "2021-09-27T07:02:23.195Z"
   },
   {
    "duration": 7,
    "start_time": "2021-09-27T07:02:24.057Z"
   },
   {
    "duration": 51,
    "start_time": "2021-09-27T07:02:24.066Z"
   },
   {
    "duration": 124,
    "start_time": "2021-09-27T07:02:24.119Z"
   },
   {
    "duration": 36,
    "start_time": "2021-09-27T07:02:24.246Z"
   },
   {
    "duration": 69,
    "start_time": "2021-09-27T07:02:24.284Z"
   },
   {
    "duration": 12,
    "start_time": "2021-09-27T07:02:24.355Z"
   },
   {
    "duration": 22,
    "start_time": "2021-09-27T07:02:24.370Z"
   },
   {
    "duration": 29,
    "start_time": "2021-09-27T07:02:24.394Z"
   },
   {
    "duration": 25,
    "start_time": "2021-09-27T07:02:24.426Z"
   },
   {
    "duration": 12,
    "start_time": "2021-09-27T07:02:24.458Z"
   },
   {
    "duration": 12,
    "start_time": "2021-09-27T07:02:24.474Z"
   },
   {
    "duration": 41,
    "start_time": "2021-09-27T07:02:24.488Z"
   },
   {
    "duration": 39,
    "start_time": "2021-09-27T07:02:24.538Z"
   },
   {
    "duration": 72,
    "start_time": "2021-09-27T07:02:24.579Z"
   },
   {
    "duration": 22,
    "start_time": "2021-09-27T07:02:24.654Z"
   },
   {
    "duration": 10,
    "start_time": "2021-09-27T07:02:24.679Z"
   },
   {
    "duration": 66,
    "start_time": "2021-09-27T07:02:24.691Z"
   },
   {
    "duration": 4,
    "start_time": "2021-09-27T07:02:24.759Z"
   },
   {
    "duration": 5201,
    "start_time": "2021-09-27T07:02:24.766Z"
   },
   {
    "duration": 5,
    "start_time": "2021-09-27T07:02:29.970Z"
   },
   {
    "duration": 44,
    "start_time": "2021-09-27T07:02:29.978Z"
   },
   {
    "duration": 41,
    "start_time": "2021-09-27T07:02:30.026Z"
   },
   {
    "duration": 1186,
    "start_time": "2021-09-27T07:02:30.069Z"
   },
   {
    "duration": 509,
    "start_time": "2021-09-27T07:02:31.258Z"
   },
   {
    "duration": 11,
    "start_time": "2021-09-27T07:02:31.769Z"
   },
   {
    "duration": 647,
    "start_time": "2021-09-27T07:02:31.782Z"
   },
   {
    "duration": 60971,
    "start_time": "2021-09-27T07:02:32.434Z"
   },
   {
    "duration": 324,
    "start_time": "2021-09-27T07:03:33.407Z"
   },
   {
    "duration": 94,
    "start_time": "2021-09-27T07:03:33.737Z"
   },
   {
    "duration": 115525,
    "start_time": "2021-09-27T07:03:33.835Z"
   },
   {
    "duration": 802525,
    "start_time": "2021-09-27T07:05:29.363Z"
   },
   {
    "duration": 862,
    "start_time": "2021-09-27T07:18:51.890Z"
   },
   {
    "duration": -1504,
    "start_time": "2021-09-27T07:18:54.259Z"
   },
   {
    "duration": -1508,
    "start_time": "2021-09-27T07:18:54.265Z"
   },
   {
    "duration": 278492,
    "start_time": "2021-09-27T07:19:13.053Z"
   },
   {
    "duration": 504,
    "start_time": "2021-09-27T07:23:51.548Z"
   },
   {
    "duration": 430188,
    "start_time": "2021-09-27T07:26:24.658Z"
   },
   {
    "duration": 19661,
    "start_time": "2021-09-27T07:34:25.905Z"
   },
   {
    "duration": 19922,
    "start_time": "2021-09-27T07:35:32.325Z"
   },
   {
    "duration": 10,
    "start_time": "2021-09-27T07:36:28.190Z"
   },
   {
    "duration": 786719,
    "start_time": "2021-09-27T07:36:35.056Z"
   },
   {
    "duration": 12578,
    "start_time": "2021-09-27T07:49:41.778Z"
   },
   {
    "duration": 1545,
    "start_time": "2021-09-27T07:53:16.050Z"
   },
   {
    "duration": 4,
    "start_time": "2021-09-27T07:53:18.246Z"
   },
   {
    "duration": 213,
    "start_time": "2021-09-27T07:53:18.639Z"
   },
   {
    "duration": 3,
    "start_time": "2021-09-27T07:53:18.980Z"
   },
   {
    "duration": 27,
    "start_time": "2021-09-27T07:53:20.016Z"
   },
   {
    "duration": 831,
    "start_time": "2021-09-27T07:53:20.273Z"
   },
   {
    "duration": 17,
    "start_time": "2021-09-27T07:53:21.106Z"
   },
   {
    "duration": 757,
    "start_time": "2021-09-27T07:53:21.128Z"
   },
   {
    "duration": 7,
    "start_time": "2021-09-27T07:53:21.887Z"
   },
   {
    "duration": 57,
    "start_time": "2021-09-27T07:53:21.897Z"
   },
   {
    "duration": 164,
    "start_time": "2021-09-27T07:53:22.075Z"
   },
   {
    "duration": 41,
    "start_time": "2021-09-27T07:53:22.993Z"
   },
   {
    "duration": 19,
    "start_time": "2021-09-27T07:53:25.011Z"
   },
   {
    "duration": 939,
    "start_time": "2021-09-27T07:53:25.222Z"
   },
   {
    "duration": 6,
    "start_time": "2021-09-27T07:53:26.163Z"
   },
   {
    "duration": 23,
    "start_time": "2021-09-27T07:53:26.172Z"
   },
   {
    "duration": 875,
    "start_time": "2021-09-27T07:53:26.198Z"
   },
   {
    "duration": 6,
    "start_time": "2021-09-27T07:53:27.075Z"
   },
   {
    "duration": 48,
    "start_time": "2021-09-27T07:53:27.084Z"
   },
   {
    "duration": 122,
    "start_time": "2021-09-27T07:53:27.135Z"
   },
   {
    "duration": 25,
    "start_time": "2021-09-27T07:53:27.260Z"
   },
   {
    "duration": 29,
    "start_time": "2021-09-27T07:53:28.801Z"
   },
   {
    "duration": 12,
    "start_time": "2021-09-27T07:53:29.092Z"
   },
   {
    "duration": 26,
    "start_time": "2021-09-27T07:53:31.013Z"
   },
   {
    "duration": 4,
    "start_time": "2021-09-27T07:53:48.805Z"
   },
   {
    "duration": 8,
    "start_time": "2021-09-27T07:53:51.595Z"
   },
   {
    "duration": 4,
    "start_time": "2021-09-27T07:53:52.203Z"
   },
   {
    "duration": 5,
    "start_time": "2021-09-27T07:53:59.044Z"
   },
   {
    "duration": 4,
    "start_time": "2021-09-27T07:53:59.206Z"
   },
   {
    "duration": 198,
    "start_time": "2021-09-27T07:53:59.347Z"
   },
   {
    "duration": 3,
    "start_time": "2021-09-27T07:53:59.548Z"
   },
   {
    "duration": 21,
    "start_time": "2021-09-27T07:53:59.985Z"
   },
   {
    "duration": 803,
    "start_time": "2021-09-27T07:54:00.155Z"
   },
   {
    "duration": 6,
    "start_time": "2021-09-27T07:54:00.961Z"
   },
   {
    "duration": 823,
    "start_time": "2021-09-27T07:54:00.970Z"
   },
   {
    "duration": 7,
    "start_time": "2021-09-27T07:54:01.796Z"
   },
   {
    "duration": 54,
    "start_time": "2021-09-27T07:54:01.806Z"
   },
   {
    "duration": 191,
    "start_time": "2021-09-27T07:54:01.862Z"
   },
   {
    "duration": 71,
    "start_time": "2021-09-27T07:54:02.055Z"
   },
   {
    "duration": 26,
    "start_time": "2021-09-27T07:54:02.129Z"
   },
   {
    "duration": 820,
    "start_time": "2021-09-27T07:54:02.172Z"
   },
   {
    "duration": 7,
    "start_time": "2021-09-27T07:54:02.995Z"
   },
   {
    "duration": 39,
    "start_time": "2021-09-27T07:54:03.005Z"
   },
   {
    "duration": 788,
    "start_time": "2021-09-27T07:54:03.046Z"
   },
   {
    "duration": 8,
    "start_time": "2021-09-27T07:54:03.838Z"
   },
   {
    "duration": 25,
    "start_time": "2021-09-27T07:54:03.849Z"
   },
   {
    "duration": 105,
    "start_time": "2021-09-27T07:54:03.877Z"
   },
   {
    "duration": 26,
    "start_time": "2021-09-27T07:54:04.076Z"
   },
   {
    "duration": 25,
    "start_time": "2021-09-27T07:54:05.261Z"
   },
   {
    "duration": 8,
    "start_time": "2021-09-27T07:54:05.424Z"
   },
   {
    "duration": 18,
    "start_time": "2021-09-27T07:54:05.927Z"
   },
   {
    "duration": 5,
    "start_time": "2021-09-27T07:54:06.102Z"
   },
   {
    "duration": 9,
    "start_time": "2021-09-27T07:54:06.275Z"
   },
   {
    "duration": 5,
    "start_time": "2021-09-27T07:54:08.081Z"
   },
   {
    "duration": 1465,
    "start_time": "2021-09-27T07:54:29.663Z"
   },
   {
    "duration": 3,
    "start_time": "2021-09-27T07:54:31.131Z"
   },
   {
    "duration": 330,
    "start_time": "2021-09-27T07:54:31.137Z"
   },
   {
    "duration": 3,
    "start_time": "2021-09-27T07:54:31.866Z"
   },
   {
    "duration": 36,
    "start_time": "2021-09-27T07:54:32.993Z"
   },
   {
    "duration": 819,
    "start_time": "2021-09-27T07:54:33.187Z"
   },
   {
    "duration": 14,
    "start_time": "2021-09-27T07:54:34.009Z"
   },
   {
    "duration": 714,
    "start_time": "2021-09-27T07:54:34.026Z"
   },
   {
    "duration": 6,
    "start_time": "2021-09-27T07:54:34.743Z"
   },
   {
    "duration": 35,
    "start_time": "2021-09-27T07:54:40.831Z"
   },
   {
    "duration": 151,
    "start_time": "2021-09-27T07:54:40.986Z"
   },
   {
    "duration": 34,
    "start_time": "2021-09-27T07:54:41.328Z"
   },
   {
    "duration": 15,
    "start_time": "2021-09-27T07:54:41.793Z"
   },
   {
    "duration": 946,
    "start_time": "2021-09-27T07:54:41.961Z"
   },
   {
    "duration": 17,
    "start_time": "2021-09-27T07:54:42.910Z"
   },
   {
    "duration": 50,
    "start_time": "2021-09-27T07:54:42.930Z"
   },
   {
    "duration": 809,
    "start_time": "2021-09-27T07:54:42.982Z"
   },
   {
    "duration": 7,
    "start_time": "2021-09-27T07:54:43.793Z"
   },
   {
    "duration": 47,
    "start_time": "2021-09-27T07:54:43.803Z"
   },
   {
    "duration": 102,
    "start_time": "2021-09-27T07:54:43.853Z"
   },
   {
    "duration": 67,
    "start_time": "2021-09-27T07:54:43.957Z"
   },
   {
    "duration": 26,
    "start_time": "2021-09-27T07:54:46.074Z"
   },
   {
    "duration": 9,
    "start_time": "2021-09-27T07:54:46.102Z"
   },
   {
    "duration": 18,
    "start_time": "2021-09-27T07:54:46.114Z"
   },
   {
    "duration": 4,
    "start_time": "2021-09-27T07:54:46.317Z"
   },
   {
    "duration": 8,
    "start_time": "2021-09-27T07:54:46.520Z"
   },
   {
    "duration": 4,
    "start_time": "2021-09-27T07:54:47.752Z"
   },
   {
    "duration": 11,
    "start_time": "2021-09-27T07:55:07.460Z"
   },
   {
    "duration": 9,
    "start_time": "2021-09-27T07:55:09.763Z"
   },
   {
    "duration": 1492,
    "start_time": "2021-09-27T07:55:14.944Z"
   },
   {
    "duration": 4,
    "start_time": "2021-09-27T07:55:16.439Z"
   },
   {
    "duration": 220,
    "start_time": "2021-09-27T07:55:16.446Z"
   },
   {
    "duration": 4,
    "start_time": "2021-09-27T07:55:16.669Z"
   },
   {
    "duration": 47,
    "start_time": "2021-09-27T07:55:16.675Z"
   },
   {
    "duration": 815,
    "start_time": "2021-09-27T07:55:16.725Z"
   },
   {
    "duration": 8,
    "start_time": "2021-09-27T07:55:17.543Z"
   },
   {
    "duration": 796,
    "start_time": "2021-09-27T07:55:17.556Z"
   },
   {
    "duration": 7,
    "start_time": "2021-09-27T07:55:18.356Z"
   },
   {
    "duration": 60,
    "start_time": "2021-09-27T07:55:18.366Z"
   },
   {
    "duration": 211,
    "start_time": "2021-09-27T07:55:18.430Z"
   },
   {
    "duration": 34,
    "start_time": "2021-09-27T07:55:18.643Z"
   },
   {
    "duration": 51,
    "start_time": "2021-09-27T07:55:18.679Z"
   },
   {
    "duration": 891,
    "start_time": "2021-09-27T07:55:18.734Z"
   },
   {
    "duration": 6,
    "start_time": "2021-09-27T07:55:19.628Z"
   },
   {
    "duration": 29,
    "start_time": "2021-09-27T07:55:19.637Z"
   },
   {
    "duration": 815,
    "start_time": "2021-09-27T07:55:19.669Z"
   },
   {
    "duration": 6,
    "start_time": "2021-09-27T07:55:20.487Z"
   },
   {
    "duration": 45,
    "start_time": "2021-09-27T07:55:20.495Z"
   },
   {
    "duration": 101,
    "start_time": "2021-09-27T07:55:20.542Z"
   },
   {
    "duration": 27,
    "start_time": "2021-09-27T07:55:20.646Z"
   },
   {
    "duration": 32,
    "start_time": "2021-09-27T07:55:21.442Z"
   },
   {
    "duration": 13,
    "start_time": "2021-09-27T07:55:21.610Z"
   },
   {
    "duration": 18,
    "start_time": "2021-09-27T07:55:22.181Z"
   },
   {
    "duration": 9,
    "start_time": "2021-09-27T07:55:22.360Z"
   },
   {
    "duration": 8,
    "start_time": "2021-09-27T07:55:22.521Z"
   },
   {
    "duration": 11,
    "start_time": "2021-09-27T07:55:22.694Z"
   },
   {
    "duration": 21,
    "start_time": "2021-09-27T07:55:22.875Z"
   },
   {
    "duration": 12,
    "start_time": "2021-09-27T07:55:23.033Z"
   },
   {
    "duration": 3375,
    "start_time": "2021-09-27T07:56:31.058Z"
   },
   {
    "duration": 7,
    "start_time": "2021-09-27T07:56:37.583Z"
   },
   {
    "duration": 8,
    "start_time": "2021-09-27T07:56:39.263Z"
   },
   {
    "duration": 1562,
    "start_time": "2021-09-27T07:57:04.976Z"
   },
   {
    "duration": 4,
    "start_time": "2021-09-27T07:57:06.541Z"
   },
   {
    "duration": 216,
    "start_time": "2021-09-27T07:57:06.551Z"
   },
   {
    "duration": 3,
    "start_time": "2021-09-27T07:57:06.769Z"
   },
   {
    "duration": 41,
    "start_time": "2021-09-27T07:57:06.777Z"
   },
   {
    "duration": 1025,
    "start_time": "2021-09-27T07:57:06.823Z"
   },
   {
    "duration": 6,
    "start_time": "2021-09-27T07:57:07.851Z"
   },
   {
    "duration": 728,
    "start_time": "2021-09-27T07:57:07.860Z"
   },
   {
    "duration": 6,
    "start_time": "2021-09-27T07:57:08.591Z"
   },
   {
    "duration": 55,
    "start_time": "2021-09-27T07:57:08.599Z"
   },
   {
    "duration": 180,
    "start_time": "2021-09-27T07:57:08.656Z"
   },
   {
    "duration": 34,
    "start_time": "2021-09-27T07:57:08.838Z"
   },
   {
    "duration": 52,
    "start_time": "2021-09-27T07:57:08.874Z"
   },
   {
    "duration": 926,
    "start_time": "2021-09-27T07:57:08.929Z"
   },
   {
    "duration": 6,
    "start_time": "2021-09-27T07:57:09.858Z"
   },
   {
    "duration": 39,
    "start_time": "2021-09-27T07:57:09.866Z"
   },
   {
    "duration": 819,
    "start_time": "2021-09-27T07:57:09.907Z"
   },
   {
    "duration": 7,
    "start_time": "2021-09-27T07:57:10.729Z"
   },
   {
    "duration": 54,
    "start_time": "2021-09-27T07:57:10.738Z"
   },
   {
    "duration": 87,
    "start_time": "2021-09-27T07:57:10.794Z"
   },
   {
    "duration": 28,
    "start_time": "2021-09-27T07:57:10.924Z"
   },
   {
    "duration": 36,
    "start_time": "2021-09-27T07:57:10.955Z"
   },
   {
    "duration": 32,
    "start_time": "2021-09-27T07:57:10.994Z"
   },
   {
    "duration": 18,
    "start_time": "2021-09-27T07:57:11.284Z"
   },
   {
    "duration": 12,
    "start_time": "2021-09-27T07:57:11.465Z"
   },
   {
    "duration": 460,
    "start_time": "2021-09-27T07:57:11.646Z"
   },
   {
    "duration": -1559,
    "start_time": "2021-09-27T07:57:13.668Z"
   },
   {
    "duration": -1561,
    "start_time": "2021-09-27T07:57:13.672Z"
   },
   {
    "duration": 3600,
    "start_time": "2021-09-27T07:57:36.846Z"
   },
   {
    "duration": 8,
    "start_time": "2021-09-27T07:57:41.592Z"
   },
   {
    "duration": 7,
    "start_time": "2021-09-27T07:57:44.047Z"
   },
   {
    "duration": 8,
    "start_time": "2021-09-27T07:57:44.830Z"
   },
   {
    "duration": 9,
    "start_time": "2021-09-27T07:58:30.553Z"
   },
   {
    "duration": 5,
    "start_time": "2021-09-27T07:58:43.667Z"
   },
   {
    "duration": 1600,
    "start_time": "2021-09-27T07:59:02.641Z"
   },
   {
    "duration": 4,
    "start_time": "2021-09-27T07:59:04.244Z"
   },
   {
    "duration": 212,
    "start_time": "2021-09-27T07:59:04.251Z"
   },
   {
    "duration": 4,
    "start_time": "2021-09-27T07:59:04.466Z"
   },
   {
    "duration": 46,
    "start_time": "2021-09-27T07:59:04.472Z"
   },
   {
    "duration": 819,
    "start_time": "2021-09-27T07:59:04.520Z"
   },
   {
    "duration": 6,
    "start_time": "2021-09-27T07:59:05.341Z"
   },
   {
    "duration": 742,
    "start_time": "2021-09-27T07:59:05.351Z"
   },
   {
    "duration": 7,
    "start_time": "2021-09-27T07:59:06.095Z"
   },
   {
    "duration": 51,
    "start_time": "2021-09-27T07:59:06.105Z"
   },
   {
    "duration": 191,
    "start_time": "2021-09-27T07:59:06.159Z"
   },
   {
    "duration": 85,
    "start_time": "2021-09-27T07:59:06.352Z"
   },
   {
    "duration": 18,
    "start_time": "2021-09-27T07:59:06.440Z"
   },
   {
    "duration": 1363,
    "start_time": "2021-09-27T07:59:06.462Z"
   },
   {
    "duration": 13,
    "start_time": "2021-09-27T07:59:07.828Z"
   },
   {
    "duration": 80,
    "start_time": "2021-09-27T07:59:07.853Z"
   },
   {
    "duration": 1242,
    "start_time": "2021-09-27T07:59:07.938Z"
   },
   {
    "duration": 9,
    "start_time": "2021-09-27T07:59:09.184Z"
   },
   {
    "duration": 54,
    "start_time": "2021-09-27T07:59:09.196Z"
   },
   {
    "duration": 111,
    "start_time": "2021-09-27T07:59:09.253Z"
   },
   {
    "duration": 59,
    "start_time": "2021-09-27T07:59:09.366Z"
   },
   {
    "duration": 27,
    "start_time": "2021-09-27T07:59:09.876Z"
   },
   {
    "duration": 13,
    "start_time": "2021-09-27T07:59:10.050Z"
   },
   {
    "duration": 25,
    "start_time": "2021-09-27T07:59:10.584Z"
   },
   {
    "duration": 8,
    "start_time": "2021-09-27T07:59:10.766Z"
   },
   {
    "duration": 3290,
    "start_time": "2021-09-27T07:59:11.013Z"
   },
   {
    "duration": 12,
    "start_time": "2021-09-27T07:59:48.064Z"
   },
   {
    "duration": 5,
    "start_time": "2021-09-27T08:00:18.303Z"
   },
   {
    "duration": 4,
    "start_time": "2021-09-27T08:00:18.485Z"
   },
   {
    "duration": 212,
    "start_time": "2021-09-27T08:00:18.637Z"
   },
   {
    "duration": 4,
    "start_time": "2021-09-27T08:00:18.851Z"
   },
   {
    "duration": 21,
    "start_time": "2021-09-27T08:00:19.283Z"
   },
   {
    "duration": 810,
    "start_time": "2021-09-27T08:00:19.453Z"
   },
   {
    "duration": 7,
    "start_time": "2021-09-27T08:00:20.266Z"
   },
   {
    "duration": 746,
    "start_time": "2021-09-27T08:00:20.276Z"
   },
   {
    "duration": 7,
    "start_time": "2021-09-27T08:00:21.025Z"
   },
   {
    "duration": 45,
    "start_time": "2021-09-27T08:00:21.035Z"
   },
   {
    "duration": 176,
    "start_time": "2021-09-27T08:00:21.083Z"
   },
   {
    "duration": 78,
    "start_time": "2021-09-27T08:00:21.261Z"
   },
   {
    "duration": 44,
    "start_time": "2021-09-27T08:00:21.341Z"
   },
   {
    "duration": 907,
    "start_time": "2021-09-27T08:00:21.518Z"
   },
   {
    "duration": 7,
    "start_time": "2021-09-27T08:00:22.428Z"
   },
   {
    "duration": 55,
    "start_time": "2021-09-27T08:00:22.438Z"
   },
   {
    "duration": 793,
    "start_time": "2021-09-27T08:00:22.496Z"
   },
   {
    "duration": 6,
    "start_time": "2021-09-27T08:00:23.292Z"
   },
   {
    "duration": 50,
    "start_time": "2021-09-27T08:00:23.300Z"
   },
   {
    "duration": 108,
    "start_time": "2021-09-27T08:00:23.352Z"
   },
   {
    "duration": 63,
    "start_time": "2021-09-27T08:00:23.464Z"
   },
   {
    "duration": 25,
    "start_time": "2021-09-27T08:00:24.687Z"
   },
   {
    "duration": 8,
    "start_time": "2021-09-27T08:00:25.035Z"
   },
   {
    "duration": 18,
    "start_time": "2021-09-27T08:00:27.571Z"
   },
   {
    "duration": 12,
    "start_time": "2021-09-27T08:00:28.052Z"
   },
   {
    "duration": 13912,
    "start_time": "2021-09-27T08:00:28.919Z"
   },
   {
    "duration": 8,
    "start_time": "2021-09-27T08:00:49.030Z"
   },
   {
    "duration": 7,
    "start_time": "2021-09-27T08:00:49.720Z"
   },
   {
    "duration": 9,
    "start_time": "2021-09-27T08:00:50.947Z"
   },
   {
    "duration": 5,
    "start_time": "2021-09-27T08:01:22.130Z"
   },
   {
    "duration": 13,
    "start_time": "2021-09-27T08:01:22.148Z"
   },
   {
    "duration": 196,
    "start_time": "2021-09-27T08:01:22.394Z"
   },
   {
    "duration": 4,
    "start_time": "2021-09-27T08:01:22.592Z"
   },
   {
    "duration": 23,
    "start_time": "2021-09-27T08:01:22.951Z"
   },
   {
    "duration": 788,
    "start_time": "2021-09-27T08:01:23.199Z"
   },
   {
    "duration": 7,
    "start_time": "2021-09-27T08:01:23.991Z"
   },
   {
    "duration": 759,
    "start_time": "2021-09-27T08:01:24.002Z"
   },
   {
    "duration": 6,
    "start_time": "2021-09-27T08:01:24.764Z"
   },
   {
    "duration": 56,
    "start_time": "2021-09-27T08:01:24.773Z"
   },
   {
    "duration": 205,
    "start_time": "2021-09-27T08:01:24.831Z"
   },
   {
    "duration": 84,
    "start_time": "2021-09-27T08:01:25.039Z"
   },
   {
    "duration": 15,
    "start_time": "2021-09-27T08:01:25.126Z"
   },
   {
    "duration": 810,
    "start_time": "2021-09-27T08:01:25.171Z"
   },
   {
    "duration": 6,
    "start_time": "2021-09-27T08:01:25.985Z"
   },
   {
    "duration": 49,
    "start_time": "2021-09-27T08:01:25.994Z"
   },
   {
    "duration": 806,
    "start_time": "2021-09-27T08:01:26.046Z"
   },
   {
    "duration": 7,
    "start_time": "2021-09-27T08:01:26.855Z"
   },
   {
    "duration": 40,
    "start_time": "2021-09-27T08:01:26.865Z"
   },
   {
    "duration": 125,
    "start_time": "2021-09-27T08:01:26.907Z"
   },
   {
    "duration": 26,
    "start_time": "2021-09-27T08:01:27.034Z"
   },
   {
    "duration": 26,
    "start_time": "2021-09-27T08:01:28.115Z"
   },
   {
    "duration": 3,
    "start_time": "2021-09-27T08:01:28.293Z"
   },
   {
    "duration": 17,
    "start_time": "2021-09-27T08:01:29.179Z"
   },
   {
    "duration": 12,
    "start_time": "2021-09-27T08:01:29.356Z"
   },
   {
    "duration": 15568,
    "start_time": "2021-09-27T08:01:29.982Z"
   },
   {
    "duration": 8,
    "start_time": "2021-09-27T08:01:45.553Z"
   },
   {
    "duration": 48,
    "start_time": "2021-09-27T08:01:45.564Z"
   },
   {
    "duration": 9,
    "start_time": "2021-09-27T08:01:56.964Z"
   },
   {
    "duration": 1541,
    "start_time": "2021-09-27T08:03:04.182Z"
   },
   {
    "duration": 4,
    "start_time": "2021-09-27T08:03:05.725Z"
   },
   {
    "duration": 215,
    "start_time": "2021-09-27T08:03:05.732Z"
   },
   {
    "duration": 3,
    "start_time": "2021-09-27T08:03:05.950Z"
   },
   {
    "duration": 63,
    "start_time": "2021-09-27T08:03:05.955Z"
   },
   {
    "duration": 792,
    "start_time": "2021-09-27T08:03:06.021Z"
   },
   {
    "duration": 7,
    "start_time": "2021-09-27T08:03:06.822Z"
   },
   {
    "duration": 700,
    "start_time": "2021-09-27T08:03:06.833Z"
   },
   {
    "duration": 6,
    "start_time": "2021-09-27T08:03:07.536Z"
   },
   {
    "duration": 54,
    "start_time": "2021-09-27T08:03:07.544Z"
   },
   {
    "duration": 165,
    "start_time": "2021-09-27T08:03:07.600Z"
   },
   {
    "duration": 89,
    "start_time": "2021-09-27T08:03:07.768Z"
   },
   {
    "duration": 21,
    "start_time": "2021-09-27T08:03:07.860Z"
   },
   {
    "duration": 883,
    "start_time": "2021-09-27T08:03:07.883Z"
   },
   {
    "duration": 7,
    "start_time": "2021-09-27T08:03:08.768Z"
   },
   {
    "duration": 50,
    "start_time": "2021-09-27T08:03:08.778Z"
   },
   {
    "duration": 968,
    "start_time": "2021-09-27T08:03:08.831Z"
   },
   {
    "duration": 7,
    "start_time": "2021-09-27T08:03:09.802Z"
   },
   {
    "duration": 25,
    "start_time": "2021-09-27T08:03:09.822Z"
   },
   {
    "duration": 115,
    "start_time": "2021-09-27T08:03:09.850Z"
   },
   {
    "duration": 69,
    "start_time": "2021-09-27T08:03:09.968Z"
   },
   {
    "duration": 28,
    "start_time": "2021-09-27T08:03:10.039Z"
   },
   {
    "duration": 3,
    "start_time": "2021-09-27T08:03:10.073Z"
   },
   {
    "duration": 54,
    "start_time": "2021-09-27T08:03:10.079Z"
   },
   {
    "duration": 11,
    "start_time": "2021-09-27T08:03:10.136Z"
   },
   {
    "duration": 15453,
    "start_time": "2021-09-27T08:03:10.150Z"
   },
   {
    "duration": 17,
    "start_time": "2021-09-27T08:03:25.606Z"
   },
   {
    "duration": 7,
    "start_time": "2021-09-27T08:03:25.625Z"
   },
   {
    "duration": 10,
    "start_time": "2021-09-27T08:03:25.635Z"
   },
   {
    "duration": 19,
    "start_time": "2021-09-27T08:03:25.647Z"
   },
   {
    "duration": 11,
    "start_time": "2021-09-27T08:03:25.669Z"
   },
   {
    "duration": 44,
    "start_time": "2021-09-27T08:03:25.682Z"
   },
   {
    "duration": 9,
    "start_time": "2021-09-27T08:03:25.728Z"
   },
   {
    "duration": 36,
    "start_time": "2021-09-27T08:03:25.740Z"
   },
   {
    "duration": 67,
    "start_time": "2021-09-27T08:03:25.778Z"
   },
   {
    "duration": 18,
    "start_time": "2021-09-27T08:03:25.848Z"
   },
   {
    "duration": 7,
    "start_time": "2021-09-27T08:03:25.869Z"
   },
   {
    "duration": 55,
    "start_time": "2021-09-27T08:03:25.878Z"
   },
   {
    "duration": 3,
    "start_time": "2021-09-27T08:03:25.935Z"
   },
   {
    "duration": 4655,
    "start_time": "2021-09-27T08:03:25.941Z"
   },
   {
    "duration": 6,
    "start_time": "2021-09-27T08:03:30.598Z"
   },
   {
    "duration": 52,
    "start_time": "2021-09-27T08:03:30.607Z"
   },
   {
    "duration": 36,
    "start_time": "2021-09-27T08:03:30.661Z"
   },
   {
    "duration": 1145,
    "start_time": "2021-09-27T08:03:30.699Z"
   },
   {
    "duration": 457,
    "start_time": "2021-09-27T08:03:31.846Z"
   },
   {
    "duration": 19,
    "start_time": "2021-09-27T08:03:32.305Z"
   },
   {
    "duration": 898,
    "start_time": "2021-09-27T08:03:32.327Z"
   },
   {
    "duration": 55883,
    "start_time": "2021-09-27T08:03:33.228Z"
   },
   {
    "duration": 290,
    "start_time": "2021-09-27T08:04:29.122Z"
   },
   {
    "duration": 112,
    "start_time": "2021-09-27T08:04:29.414Z"
   },
   {
    "duration": 100139,
    "start_time": "2021-09-27T08:04:29.529Z"
   },
   {
    "duration": 765480,
    "start_time": "2021-09-27T08:06:09.670Z"
   },
   {
    "duration": 4,
    "start_time": "2021-09-27T08:18:55.152Z"
   },
   {
    "duration": 11567,
    "start_time": "2021-09-27T08:18:55.158Z"
   },
   {
    "duration": 393522,
    "start_time": "2021-09-27T08:19:06.731Z"
   },
   {
    "duration": 4,
    "start_time": "2021-09-27T08:25:40.256Z"
   },
   {
    "duration": 20,
    "start_time": "2021-09-27T08:30:24.103Z"
   },
   {
    "duration": 568,
    "start_time": "2021-09-27T08:30:26.877Z"
   },
   {
    "duration": 5,
    "start_time": "2021-09-27T08:30:37.118Z"
   },
   {
    "duration": 3,
    "start_time": "2021-09-27T08:30:37.272Z"
   },
   {
    "duration": 194,
    "start_time": "2021-09-27T08:30:37.429Z"
   },
   {
    "duration": 3,
    "start_time": "2021-09-27T08:30:37.626Z"
   },
   {
    "duration": 22,
    "start_time": "2021-09-27T08:30:38.090Z"
   },
   {
    "duration": 759,
    "start_time": "2021-09-27T08:30:38.255Z"
   },
   {
    "duration": 6,
    "start_time": "2021-09-27T08:30:39.021Z"
   },
   {
    "duration": 697,
    "start_time": "2021-09-27T08:30:39.030Z"
   },
   {
    "duration": 6,
    "start_time": "2021-09-27T08:30:39.729Z"
   },
   {
    "duration": 45,
    "start_time": "2021-09-27T08:30:39.738Z"
   },
   {
    "duration": 190,
    "start_time": "2021-09-27T08:30:39.787Z"
   },
   {
    "duration": 76,
    "start_time": "2021-09-27T08:30:39.979Z"
   },
   {
    "duration": 16,
    "start_time": "2021-09-27T08:30:40.058Z"
   },
   {
    "duration": 810,
    "start_time": "2021-09-27T08:30:40.091Z"
   },
   {
    "duration": 7,
    "start_time": "2021-09-27T08:30:40.904Z"
   },
   {
    "duration": 18,
    "start_time": "2021-09-27T08:30:40.942Z"
   },
   {
    "duration": 758,
    "start_time": "2021-09-27T08:30:41.095Z"
   },
   {
    "duration": 8,
    "start_time": "2021-09-27T08:30:41.855Z"
   },
   {
    "duration": 25,
    "start_time": "2021-09-27T08:30:41.907Z"
   },
   {
    "duration": 75,
    "start_time": "2021-09-27T08:30:42.090Z"
   },
   {
    "duration": 27,
    "start_time": "2021-09-27T08:30:43.023Z"
   },
   {
    "duration": 26,
    "start_time": "2021-09-27T08:30:44.385Z"
   },
   {
    "duration": 3,
    "start_time": "2021-09-27T08:30:46.129Z"
   },
   {
    "duration": 38,
    "start_time": "2021-09-27T08:30:46.135Z"
   },
   {
    "duration": 11,
    "start_time": "2021-09-27T08:30:46.176Z"
   },
   {
    "duration": 15768,
    "start_time": "2021-09-27T08:30:49.180Z"
   },
   {
    "duration": 8,
    "start_time": "2021-09-27T08:31:04.951Z"
   },
   {
    "duration": 10,
    "start_time": "2021-09-27T08:31:04.962Z"
   },
   {
    "duration": 8,
    "start_time": "2021-09-27T08:31:04.975Z"
   },
   {
    "duration": 50,
    "start_time": "2021-09-27T08:31:04.985Z"
   },
   {
    "duration": 12,
    "start_time": "2021-09-27T08:31:05.038Z"
   },
   {
    "duration": 23,
    "start_time": "2021-09-27T08:31:05.053Z"
   },
   {
    "duration": 43,
    "start_time": "2021-09-27T08:31:05.079Z"
   },
   {
    "duration": 55,
    "start_time": "2021-09-27T08:31:54.282Z"
   },
   {
    "duration": 38,
    "start_time": "2021-09-27T08:32:00.495Z"
   },
   {
    "duration": 15,
    "start_time": "2021-09-27T08:33:21.784Z"
   },
   {
    "duration": 11,
    "start_time": "2021-09-27T08:33:29.555Z"
   },
   {
    "duration": 20,
    "start_time": "2021-09-27T08:33:47.843Z"
   },
   {
    "duration": 12,
    "start_time": "2021-09-27T08:33:48.413Z"
   },
   {
    "duration": 20,
    "start_time": "2021-09-27T08:33:48.943Z"
   },
   {
    "duration": 20,
    "start_time": "2021-09-27T08:33:49.209Z"
   },
   {
    "duration": 39,
    "start_time": "2021-09-27T08:33:49.497Z"
   },
   {
    "duration": 39,
    "start_time": "2021-09-27T08:33:50.015Z"
   },
   {
    "duration": 18,
    "start_time": "2021-09-27T08:33:51.193Z"
   },
   {
    "duration": 7,
    "start_time": "2021-09-27T08:34:00.617Z"
   },
   {
    "duration": 25,
    "start_time": "2021-09-27T08:34:00.807Z"
   },
   {
    "duration": 4,
    "start_time": "2021-09-27T08:34:01.038Z"
   },
   {
    "duration": 4893,
    "start_time": "2021-09-27T08:34:01.671Z"
   },
   {
    "duration": 5,
    "start_time": "2021-09-27T08:34:06.566Z"
   },
   {
    "duration": 47,
    "start_time": "2021-09-27T08:34:06.574Z"
   },
   {
    "duration": 13,
    "start_time": "2021-09-27T08:34:09.624Z"
   },
   {
    "duration": 13,
    "start_time": "2021-09-27T08:34:58.286Z"
   },
   {
    "duration": 4,
    "start_time": "2021-09-27T08:34:58.690Z"
   },
   {
    "duration": 355,
    "start_time": "2021-09-27T08:35:00.750Z"
   },
   {
    "duration": 4,
    "start_time": "2021-09-27T08:35:04.328Z"
   },
   {
    "duration": 10,
    "start_time": "2021-09-27T08:35:18.169Z"
   },
   {
    "duration": 322,
    "start_time": "2021-09-27T08:35:19.811Z"
   },
   {
    "duration": 44117,
    "start_time": "2021-09-27T08:35:58.305Z"
   },
   {
    "duration": 222,
    "start_time": "2021-09-27T08:36:42.425Z"
   },
   {
    "duration": 318,
    "start_time": "2021-09-27T08:49:28.787Z"
   },
   {
    "duration": 305,
    "start_time": "2021-09-27T08:49:37.295Z"
   },
   {
    "duration": 428,
    "start_time": "2021-09-27T08:49:46.414Z"
   },
   {
    "duration": 4,
    "start_time": "2021-09-27T08:49:50.660Z"
   },
   {
    "duration": 11,
    "start_time": "2021-09-27T08:49:50.930Z"
   },
   {
    "duration": 406,
    "start_time": "2021-09-27T08:49:51.426Z"
   },
   {
    "duration": 1754,
    "start_time": "2021-09-27T08:50:00.975Z"
   },
   {
    "duration": 4,
    "start_time": "2021-09-27T08:50:02.732Z"
   },
   {
    "duration": 245,
    "start_time": "2021-09-27T08:50:02.739Z"
   },
   {
    "duration": 4,
    "start_time": "2021-09-27T08:50:02.986Z"
   },
   {
    "duration": 48,
    "start_time": "2021-09-27T08:50:02.993Z"
   },
   {
    "duration": 836,
    "start_time": "2021-09-27T08:50:03.044Z"
   },
   {
    "duration": 7,
    "start_time": "2021-09-27T08:50:03.882Z"
   },
   {
    "duration": 748,
    "start_time": "2021-09-27T08:50:03.893Z"
   },
   {
    "duration": 7,
    "start_time": "2021-09-27T08:50:04.645Z"
   },
   {
    "duration": 72,
    "start_time": "2021-09-27T08:50:04.655Z"
   },
   {
    "duration": 150,
    "start_time": "2021-09-27T08:50:04.729Z"
   },
   {
    "duration": 67,
    "start_time": "2021-09-27T08:50:04.881Z"
   },
   {
    "duration": 15,
    "start_time": "2021-09-27T08:50:04.950Z"
   },
   {
    "duration": 959,
    "start_time": "2021-09-27T08:50:04.967Z"
   },
   {
    "duration": 8,
    "start_time": "2021-09-27T08:50:05.929Z"
   },
   {
    "duration": 33,
    "start_time": "2021-09-27T08:50:05.940Z"
   },
   {
    "duration": 824,
    "start_time": "2021-09-27T08:50:05.976Z"
   },
   {
    "duration": 19,
    "start_time": "2021-09-27T08:50:06.803Z"
   },
   {
    "duration": 42,
    "start_time": "2021-09-27T08:50:06.825Z"
   },
   {
    "duration": 98,
    "start_time": "2021-09-27T08:50:06.869Z"
   },
   {
    "duration": 69,
    "start_time": "2021-09-27T08:50:06.970Z"
   },
   {
    "duration": 26,
    "start_time": "2021-09-27T08:50:07.041Z"
   },
   {
    "duration": 3,
    "start_time": "2021-09-27T08:50:07.074Z"
   },
   {
    "duration": 54,
    "start_time": "2021-09-27T08:50:07.080Z"
   },
   {
    "duration": 3,
    "start_time": "2021-09-27T08:50:07.137Z"
   },
   {
    "duration": 16570,
    "start_time": "2021-09-27T08:50:07.143Z"
   },
   {
    "duration": 19,
    "start_time": "2021-09-27T08:50:23.716Z"
   },
   {
    "duration": 19,
    "start_time": "2021-09-27T08:50:23.738Z"
   },
   {
    "duration": 28,
    "start_time": "2021-09-27T08:50:23.760Z"
   },
   {
    "duration": 35,
    "start_time": "2021-09-27T08:50:23.791Z"
   },
   {
    "duration": 38,
    "start_time": "2021-09-27T08:50:23.828Z"
   },
   {
    "duration": 36,
    "start_time": "2021-09-27T08:50:23.869Z"
   },
   {
    "duration": 23,
    "start_time": "2021-09-27T08:50:23.907Z"
   },
   {
    "duration": 25,
    "start_time": "2021-09-27T08:50:23.933Z"
   },
   {
    "duration": 29,
    "start_time": "2021-09-27T08:50:23.961Z"
   },
   {
    "duration": 52,
    "start_time": "2021-09-27T08:50:23.993Z"
   },
   {
    "duration": 36,
    "start_time": "2021-09-27T08:50:24.048Z"
   },
   {
    "duration": 19,
    "start_time": "2021-09-27T08:50:24.086Z"
   },
   {
    "duration": 10,
    "start_time": "2021-09-27T08:50:24.135Z"
   },
   {
    "duration": 46,
    "start_time": "2021-09-27T08:50:24.147Z"
   },
   {
    "duration": 22,
    "start_time": "2021-09-27T08:50:24.196Z"
   },
   {
    "duration": 4837,
    "start_time": "2021-09-27T08:50:24.221Z"
   },
   {
    "duration": 6,
    "start_time": "2021-09-27T08:50:29.060Z"
   },
   {
    "duration": 20,
    "start_time": "2021-09-27T08:50:29.068Z"
   },
   {
    "duration": 45,
    "start_time": "2021-09-27T08:50:29.091Z"
   },
   {
    "duration": 1102,
    "start_time": "2021-09-27T08:50:29.139Z"
   },
   {
    "duration": 439,
    "start_time": "2021-09-27T08:50:30.243Z"
   },
   {
    "duration": 5,
    "start_time": "2021-09-27T08:50:30.684Z"
   },
   {
    "duration": 59,
    "start_time": "2021-09-27T08:50:30.691Z"
   },
   {
    "duration": 388,
    "start_time": "2021-09-27T08:50:30.752Z"
   },
   {
    "duration": 46792,
    "start_time": "2021-09-27T08:50:31.225Z"
   },
   {
    "duration": 224,
    "start_time": "2021-09-27T08:51:18.023Z"
   },
   {
    "duration": 177,
    "start_time": "2021-09-27T08:51:18.249Z"
   },
   {
    "duration": 1595,
    "start_time": "2021-09-27T08:52:11.480Z"
   },
   {
    "duration": 3,
    "start_time": "2021-09-27T08:52:13.078Z"
   },
   {
    "duration": 227,
    "start_time": "2021-09-27T08:52:13.084Z"
   },
   {
    "duration": 3,
    "start_time": "2021-09-27T08:52:13.314Z"
   },
   {
    "duration": 60,
    "start_time": "2021-09-27T08:52:13.319Z"
   },
   {
    "duration": 796,
    "start_time": "2021-09-27T08:52:13.381Z"
   },
   {
    "duration": 7,
    "start_time": "2021-09-27T08:52:14.179Z"
   },
   {
    "duration": 747,
    "start_time": "2021-09-27T08:52:14.190Z"
   },
   {
    "duration": 7,
    "start_time": "2021-09-27T08:52:14.941Z"
   },
   {
    "duration": 45,
    "start_time": "2021-09-27T08:52:14.950Z"
   },
   {
    "duration": 224,
    "start_time": "2021-09-27T08:52:14.998Z"
   },
   {
    "duration": 42,
    "start_time": "2021-09-27T08:52:15.225Z"
   },
   {
    "duration": 18,
    "start_time": "2021-09-27T08:52:15.271Z"
   },
   {
    "duration": 1019,
    "start_time": "2021-09-27T08:52:15.327Z"
   },
   {
    "duration": 7,
    "start_time": "2021-09-27T08:52:16.349Z"
   },
   {
    "duration": 47,
    "start_time": "2021-09-27T08:52:16.359Z"
   },
   {
    "duration": 824,
    "start_time": "2021-09-27T08:52:16.410Z"
   },
   {
    "duration": 8,
    "start_time": "2021-09-27T08:52:17.237Z"
   },
   {
    "duration": 42,
    "start_time": "2021-09-27T08:52:17.248Z"
   },
   {
    "duration": 88,
    "start_time": "2021-09-27T08:52:17.292Z"
   },
   {
    "duration": 70,
    "start_time": "2021-09-27T08:52:17.383Z"
   },
   {
    "duration": 29,
    "start_time": "2021-09-27T08:52:17.456Z"
   },
   {
    "duration": 35,
    "start_time": "2021-09-27T08:52:17.493Z"
   },
   {
    "duration": 20,
    "start_time": "2021-09-27T08:52:17.532Z"
   },
   {
    "duration": 5,
    "start_time": "2021-09-27T08:52:17.555Z"
   },
   {
    "duration": 144,
    "start_time": "2021-09-27T08:52:17.563Z"
   },
   {
    "duration": -54,
    "start_time": "2021-09-27T08:52:17.765Z"
   },
   {
    "duration": -56,
    "start_time": "2021-09-27T08:52:17.769Z"
   },
   {
    "duration": -58,
    "start_time": "2021-09-27T08:52:17.773Z"
   },
   {
    "duration": -59,
    "start_time": "2021-09-27T08:52:17.776Z"
   },
   {
    "duration": -61,
    "start_time": "2021-09-27T08:52:17.780Z"
   },
   {
    "duration": -64,
    "start_time": "2021-09-27T08:52:17.784Z"
   },
   {
    "duration": -67,
    "start_time": "2021-09-27T08:52:17.789Z"
   },
   {
    "duration": -71,
    "start_time": "2021-09-27T08:52:17.794Z"
   },
   {
    "duration": -81,
    "start_time": "2021-09-27T08:52:17.808Z"
   },
   {
    "duration": -83,
    "start_time": "2021-09-27T08:52:17.812Z"
   },
   {
    "duration": -87,
    "start_time": "2021-09-27T08:52:17.817Z"
   },
   {
    "duration": -90,
    "start_time": "2021-09-27T08:52:17.821Z"
   },
   {
    "duration": -90,
    "start_time": "2021-09-27T08:52:17.825Z"
   },
   {
    "duration": -91,
    "start_time": "2021-09-27T08:52:17.828Z"
   },
   {
    "duration": -95,
    "start_time": "2021-09-27T08:52:17.833Z"
   },
   {
    "duration": -97,
    "start_time": "2021-09-27T08:52:17.837Z"
   },
   {
    "duration": -101,
    "start_time": "2021-09-27T08:52:17.842Z"
   },
   {
    "duration": -100,
    "start_time": "2021-09-27T08:52:17.846Z"
   },
   {
    "duration": -106,
    "start_time": "2021-09-27T08:52:17.853Z"
   },
   {
    "duration": -113,
    "start_time": "2021-09-27T08:52:17.862Z"
   },
   {
    "duration": -117,
    "start_time": "2021-09-27T08:52:17.868Z"
   },
   {
    "duration": -119,
    "start_time": "2021-09-27T08:52:17.872Z"
   },
   {
    "duration": -124,
    "start_time": "2021-09-27T08:52:17.878Z"
   },
   {
    "duration": -125,
    "start_time": "2021-09-27T08:52:17.881Z"
   },
   {
    "duration": -136,
    "start_time": "2021-09-27T08:52:17.893Z"
   },
   {
    "duration": -138,
    "start_time": "2021-09-27T08:52:17.897Z"
   },
   {
    "duration": -144,
    "start_time": "2021-09-27T08:52:17.904Z"
   },
   {
    "duration": -149,
    "start_time": "2021-09-27T08:52:17.911Z"
   },
   {
    "duration": -151,
    "start_time": "2021-09-27T08:52:17.915Z"
   },
   {
    "duration": -89,
    "start_time": "2021-09-27T08:52:17.919Z"
   },
   {
    "duration": -90,
    "start_time": "2021-09-27T08:52:17.922Z"
   },
   {
    "duration": -92,
    "start_time": "2021-09-27T08:52:17.926Z"
   },
   {
    "duration": 1548,
    "start_time": "2021-09-27T08:52:34.605Z"
   },
   {
    "duration": 4,
    "start_time": "2021-09-27T08:52:36.156Z"
   },
   {
    "duration": 236,
    "start_time": "2021-09-27T08:52:36.162Z"
   },
   {
    "duration": 3,
    "start_time": "2021-09-27T08:52:36.401Z"
   },
   {
    "duration": 52,
    "start_time": "2021-09-27T08:52:36.406Z"
   },
   {
    "duration": 861,
    "start_time": "2021-09-27T08:52:36.460Z"
   },
   {
    "duration": 13,
    "start_time": "2021-09-27T08:52:37.324Z"
   },
   {
    "duration": 733,
    "start_time": "2021-09-27T08:52:37.341Z"
   },
   {
    "duration": 6,
    "start_time": "2021-09-27T08:52:38.077Z"
   },
   {
    "duration": 58,
    "start_time": "2021-09-27T08:52:38.085Z"
   },
   {
    "duration": 187,
    "start_time": "2021-09-27T08:52:38.145Z"
   },
   {
    "duration": 33,
    "start_time": "2021-09-27T08:52:38.334Z"
   },
   {
    "duration": 15,
    "start_time": "2021-09-27T08:52:38.370Z"
   },
   {
    "duration": 960,
    "start_time": "2021-09-27T08:52:38.387Z"
   },
   {
    "duration": 7,
    "start_time": "2021-09-27T08:52:39.349Z"
   },
   {
    "duration": 22,
    "start_time": "2021-09-27T08:52:39.358Z"
   },
   {
    "duration": 836,
    "start_time": "2021-09-27T08:52:39.382Z"
   },
   {
    "duration": 8,
    "start_time": "2021-09-27T08:52:40.220Z"
   },
   {
    "duration": 30,
    "start_time": "2021-09-27T08:52:40.230Z"
   },
   {
    "duration": 125,
    "start_time": "2021-09-27T08:52:40.263Z"
   },
   {
    "duration": 30,
    "start_time": "2021-09-27T08:52:40.424Z"
   },
   {
    "duration": 29,
    "start_time": "2021-09-27T08:52:40.457Z"
   },
   {
    "duration": 5,
    "start_time": "2021-09-27T08:52:40.531Z"
   },
   {
    "duration": 35,
    "start_time": "2021-09-27T08:52:40.539Z"
   },
   {
    "duration": 3,
    "start_time": "2021-09-27T08:52:40.577Z"
   },
   {
    "duration": 103,
    "start_time": "2021-09-27T08:52:40.583Z"
   },
   {
    "duration": -34,
    "start_time": "2021-09-27T08:52:40.723Z"
   },
   {
    "duration": -36,
    "start_time": "2021-09-27T08:52:40.726Z"
   },
   {
    "duration": -40,
    "start_time": "2021-09-27T08:52:40.732Z"
   },
   {
    "duration": -44,
    "start_time": "2021-09-27T08:52:40.737Z"
   },
   {
    "duration": -54,
    "start_time": "2021-09-27T08:52:40.749Z"
   },
   {
    "duration": -60,
    "start_time": "2021-09-27T08:52:40.756Z"
   },
   {
    "duration": -63,
    "start_time": "2021-09-27T08:52:40.760Z"
   },
   {
    "duration": -65,
    "start_time": "2021-09-27T08:52:40.764Z"
   },
   {
    "duration": -67,
    "start_time": "2021-09-27T08:52:40.768Z"
   },
   {
    "duration": -70,
    "start_time": "2021-09-27T08:52:40.772Z"
   },
   {
    "duration": -72,
    "start_time": "2021-09-27T08:52:40.776Z"
   },
   {
    "duration": -76,
    "start_time": "2021-09-27T08:52:40.781Z"
   },
   {
    "duration": -80,
    "start_time": "2021-09-27T08:52:40.787Z"
   },
   {
    "duration": -85,
    "start_time": "2021-09-27T08:52:40.793Z"
   },
   {
    "duration": -90,
    "start_time": "2021-09-27T08:52:40.799Z"
   },
   {
    "duration": -94,
    "start_time": "2021-09-27T08:52:40.805Z"
   },
   {
    "duration": -96,
    "start_time": "2021-09-27T08:52:40.808Z"
   },
   {
    "duration": -99,
    "start_time": "2021-09-27T08:52:40.813Z"
   },
   {
    "duration": -103,
    "start_time": "2021-09-27T08:52:40.818Z"
   },
   {
    "duration": -107,
    "start_time": "2021-09-27T08:52:40.824Z"
   },
   {
    "duration": -110,
    "start_time": "2021-09-27T08:52:40.828Z"
   },
   {
    "duration": -112,
    "start_time": "2021-09-27T08:52:40.832Z"
   },
   {
    "duration": -114,
    "start_time": "2021-09-27T08:52:40.835Z"
   },
   {
    "duration": -117,
    "start_time": "2021-09-27T08:52:40.840Z"
   },
   {
    "duration": -119,
    "start_time": "2021-09-27T08:52:40.843Z"
   },
   {
    "duration": -123,
    "start_time": "2021-09-27T08:52:40.848Z"
   },
   {
    "duration": -139,
    "start_time": "2021-09-27T08:52:40.866Z"
   },
   {
    "duration": -137,
    "start_time": "2021-09-27T08:52:40.869Z"
   },
   {
    "duration": -140,
    "start_time": "2021-09-27T08:52:40.873Z"
   },
   {
    "duration": -140,
    "start_time": "2021-09-27T08:52:40.876Z"
   },
   {
    "duration": -145,
    "start_time": "2021-09-27T08:52:40.882Z"
   },
   {
    "duration": -148,
    "start_time": "2021-09-27T08:52:40.887Z"
   },
   {
    "duration": 8175,
    "start_time": "2021-09-27T08:53:58.927Z"
   },
   {
    "duration": 1495,
    "start_time": "2021-09-27T08:54:19.661Z"
   },
   {
    "duration": 4,
    "start_time": "2021-09-27T08:54:21.158Z"
   },
   {
    "duration": 229,
    "start_time": "2021-09-27T08:54:21.168Z"
   },
   {
    "duration": 3,
    "start_time": "2021-09-27T08:54:21.400Z"
   },
   {
    "duration": 60,
    "start_time": "2021-09-27T08:54:21.405Z"
   },
   {
    "duration": 784,
    "start_time": "2021-09-27T08:54:21.467Z"
   },
   {
    "duration": 6,
    "start_time": "2021-09-27T08:54:22.255Z"
   },
   {
    "duration": 723,
    "start_time": "2021-09-27T08:54:22.264Z"
   },
   {
    "duration": 6,
    "start_time": "2021-09-27T08:54:22.989Z"
   },
   {
    "duration": 56,
    "start_time": "2021-09-27T08:54:22.998Z"
   },
   {
    "duration": 186,
    "start_time": "2021-09-27T08:54:23.056Z"
   },
   {
    "duration": 35,
    "start_time": "2021-09-27T08:54:23.245Z"
   },
   {
    "duration": 54,
    "start_time": "2021-09-27T08:54:23.283Z"
   },
   {
    "duration": 920,
    "start_time": "2021-09-27T08:54:23.340Z"
   },
   {
    "duration": 6,
    "start_time": "2021-09-27T08:54:24.262Z"
   },
   {
    "duration": 41,
    "start_time": "2021-09-27T08:54:24.270Z"
   },
   {
    "duration": 924,
    "start_time": "2021-09-27T08:54:24.313Z"
   },
   {
    "duration": 7,
    "start_time": "2021-09-27T08:54:25.240Z"
   },
   {
    "duration": 46,
    "start_time": "2021-09-27T08:54:25.250Z"
   },
   {
    "duration": 133,
    "start_time": "2021-09-27T08:54:25.299Z"
   },
   {
    "duration": 26,
    "start_time": "2021-09-27T08:54:25.437Z"
   },
   {
    "duration": 33,
    "start_time": "2021-09-27T08:54:25.469Z"
   },
   {
    "duration": 3,
    "start_time": "2021-09-27T08:54:25.522Z"
   },
   {
    "duration": 37,
    "start_time": "2021-09-27T08:54:25.528Z"
   },
   {
    "duration": 8,
    "start_time": "2021-09-27T08:54:25.568Z"
   },
   {
    "duration": 8328,
    "start_time": "2021-09-27T08:54:25.579Z"
   },
   {
    "duration": 21,
    "start_time": "2021-09-27T08:54:33.909Z"
   },
   {
    "duration": 8,
    "start_time": "2021-09-27T08:54:33.936Z"
   },
   {
    "duration": 28,
    "start_time": "2021-09-27T08:54:33.947Z"
   },
   {
    "duration": 40,
    "start_time": "2021-09-27T08:54:33.977Z"
   },
   {
    "duration": 28,
    "start_time": "2021-09-27T08:54:34.020Z"
   },
   {
    "duration": 31,
    "start_time": "2021-09-27T08:54:34.050Z"
   },
   {
    "duration": 36,
    "start_time": "2021-09-27T08:54:34.083Z"
   },
   {
    "duration": 48,
    "start_time": "2021-09-27T08:54:34.122Z"
   },
   {
    "duration": 37,
    "start_time": "2021-09-27T08:54:34.172Z"
   },
   {
    "duration": 40,
    "start_time": "2021-09-27T08:54:34.211Z"
   },
   {
    "duration": 36,
    "start_time": "2021-09-27T08:54:34.253Z"
   },
   {
    "duration": 38,
    "start_time": "2021-09-27T08:54:34.292Z"
   },
   {
    "duration": 11,
    "start_time": "2021-09-27T08:54:34.332Z"
   },
   {
    "duration": 43,
    "start_time": "2021-09-27T08:54:34.346Z"
   },
   {
    "duration": 12,
    "start_time": "2021-09-27T08:54:34.392Z"
   },
   {
    "duration": 5207,
    "start_time": "2021-09-27T08:54:34.407Z"
   },
   {
    "duration": 7,
    "start_time": "2021-09-27T08:54:39.622Z"
   },
   {
    "duration": 12,
    "start_time": "2021-09-27T08:54:39.631Z"
   },
   {
    "duration": 21,
    "start_time": "2021-09-27T08:54:39.645Z"
   },
   {
    "duration": 1182,
    "start_time": "2021-09-27T08:54:39.669Z"
   },
   {
    "duration": 436,
    "start_time": "2021-09-27T08:54:40.853Z"
   },
   {
    "duration": 4,
    "start_time": "2021-09-27T08:54:41.292Z"
   },
   {
    "duration": 36,
    "start_time": "2021-09-27T08:54:41.298Z"
   },
   {
    "duration": 400,
    "start_time": "2021-09-27T08:54:41.337Z"
   },
   {
    "duration": 46541,
    "start_time": "2021-09-27T08:54:41.744Z"
   },
   {
    "duration": 229,
    "start_time": "2021-09-27T08:55:28.288Z"
   },
   {
    "duration": 205,
    "start_time": "2021-09-27T08:55:28.520Z"
   },
   {
    "duration": 105176,
    "start_time": "2021-09-27T08:55:28.728Z"
   },
   {
    "duration": 5,
    "start_time": "2021-09-27T08:57:13.906Z"
   },
   {
    "duration": 31,
    "start_time": "2021-09-27T08:57:13.914Z"
   },
   {
    "duration": 32,
    "start_time": "2021-09-27T08:57:13.947Z"
   },
   {
    "duration": 23,
    "start_time": "2021-09-27T08:57:13.982Z"
   },
   {
    "duration": 558135,
    "start_time": "2021-09-27T09:14:37.459Z"
   },
   {
    "duration": 3,
    "start_time": "2021-09-27T09:23:55.597Z"
   },
   {
    "duration": 5872,
    "start_time": "2021-09-27T09:23:55.602Z"
   },
   {
    "duration": 6107,
    "start_time": "2021-09-27T09:25:29.398Z"
   },
   {
    "duration": 1503,
    "start_time": "2021-09-27T09:25:46.950Z"
   },
   {
    "duration": 3,
    "start_time": "2021-09-27T09:25:48.456Z"
   },
   {
    "duration": 218,
    "start_time": "2021-09-27T09:25:48.462Z"
   },
   {
    "duration": 3,
    "start_time": "2021-09-27T09:25:48.683Z"
   },
   {
    "duration": 43,
    "start_time": "2021-09-27T09:25:48.688Z"
   },
   {
    "duration": 801,
    "start_time": "2021-09-27T09:25:48.734Z"
   },
   {
    "duration": 6,
    "start_time": "2021-09-27T09:25:49.538Z"
   },
   {
    "duration": 707,
    "start_time": "2021-09-27T09:25:49.547Z"
   },
   {
    "duration": 6,
    "start_time": "2021-09-27T09:25:50.257Z"
   },
   {
    "duration": 57,
    "start_time": "2021-09-27T09:25:50.265Z"
   },
   {
    "duration": 149,
    "start_time": "2021-09-27T09:25:50.324Z"
   },
   {
    "duration": 78,
    "start_time": "2021-09-27T09:25:50.475Z"
   },
   {
    "duration": 34,
    "start_time": "2021-09-27T09:25:50.556Z"
   },
   {
    "duration": 869,
    "start_time": "2021-09-27T09:25:50.593Z"
   },
   {
    "duration": 7,
    "start_time": "2021-09-27T09:25:51.465Z"
   },
   {
    "duration": 48,
    "start_time": "2021-09-27T09:25:51.474Z"
   },
   {
    "duration": 762,
    "start_time": "2021-09-27T09:25:51.524Z"
   },
   {
    "duration": 7,
    "start_time": "2021-09-27T09:25:52.289Z"
   },
   {
    "duration": 44,
    "start_time": "2021-09-27T09:25:52.299Z"
   },
   {
    "duration": 102,
    "start_time": "2021-09-27T09:25:52.346Z"
   },
   {
    "duration": 27,
    "start_time": "2021-09-27T09:25:52.450Z"
   },
   {
    "duration": 59,
    "start_time": "2021-09-27T09:25:52.480Z"
   },
   {
    "duration": 35,
    "start_time": "2021-09-27T09:25:52.544Z"
   },
   {
    "duration": 38,
    "start_time": "2021-09-27T09:25:52.582Z"
   },
   {
    "duration": 13,
    "start_time": "2021-09-27T09:25:52.623Z"
   },
   {
    "duration": 8230,
    "start_time": "2021-09-27T09:25:52.638Z"
   },
   {
    "duration": 14,
    "start_time": "2021-09-27T09:26:00.870Z"
   },
   {
    "duration": 34,
    "start_time": "2021-09-27T09:26:00.887Z"
   },
   {
    "duration": 48,
    "start_time": "2021-09-27T09:26:00.923Z"
   },
   {
    "duration": 24,
    "start_time": "2021-09-27T09:26:00.974Z"
   },
   {
    "duration": 17,
    "start_time": "2021-09-27T09:26:01.001Z"
   },
   {
    "duration": 41,
    "start_time": "2021-09-27T09:26:01.020Z"
   },
   {
    "duration": 23,
    "start_time": "2021-09-27T09:26:01.064Z"
   },
   {
    "duration": 32,
    "start_time": "2021-09-27T09:26:01.089Z"
   },
   {
    "duration": 21,
    "start_time": "2021-09-27T09:26:01.123Z"
   },
   {
    "duration": 54,
    "start_time": "2021-09-27T09:26:01.147Z"
   },
   {
    "duration": 49,
    "start_time": "2021-09-27T09:26:01.204Z"
   },
   {
    "duration": 22,
    "start_time": "2021-09-27T09:26:01.256Z"
   },
   {
    "duration": 27,
    "start_time": "2021-09-27T09:26:01.281Z"
   },
   {
    "duration": 51,
    "start_time": "2021-09-27T09:26:01.323Z"
   },
   {
    "duration": 31,
    "start_time": "2021-09-27T09:26:01.377Z"
   },
   {
    "duration": 4626,
    "start_time": "2021-09-27T09:26:01.411Z"
   },
   {
    "duration": 7,
    "start_time": "2021-09-27T09:26:06.040Z"
   },
   {
    "duration": 30,
    "start_time": "2021-09-27T09:26:06.050Z"
   },
   {
    "duration": 39,
    "start_time": "2021-09-27T09:26:06.083Z"
   },
   {
    "duration": 1055,
    "start_time": "2021-09-27T09:26:06.125Z"
   },
   {
    "duration": 400,
    "start_time": "2021-09-27T09:26:07.182Z"
   },
   {
    "duration": 3,
    "start_time": "2021-09-27T09:26:07.585Z"
   },
   {
    "duration": 32,
    "start_time": "2021-09-27T09:26:07.591Z"
   },
   {
    "duration": 401,
    "start_time": "2021-09-27T09:26:07.625Z"
   },
   {
    "duration": 43803,
    "start_time": "2021-09-27T09:26:08.031Z"
   },
   {
    "duration": 211,
    "start_time": "2021-09-27T09:26:51.836Z"
   },
   {
    "duration": 171,
    "start_time": "2021-09-27T09:26:52.050Z"
   },
   {
    "duration": 93550,
    "start_time": "2021-09-27T09:26:52.225Z"
   },
   {
    "duration": 572318,
    "start_time": "2021-09-27T09:28:25.777Z"
   },
   {
    "duration": 6291,
    "start_time": "2021-09-27T09:37:58.097Z"
   },
   {
    "duration": 5,
    "start_time": "2021-09-27T09:38:04.390Z"
   },
   {
    "duration": 9,
    "start_time": "2021-09-27T09:39:17.301Z"
   },
   {
    "duration": 10,
    "start_time": "2021-09-27T09:39:29.723Z"
   },
   {
    "duration": 10,
    "start_time": "2021-09-27T09:39:43.093Z"
   },
   {
    "duration": 12,
    "start_time": "2021-09-27T09:39:53.031Z"
   },
   {
    "duration": 484,
    "start_time": "2021-09-27T09:40:14.063Z"
   },
   {
    "duration": 6156,
    "start_time": "2021-09-27T09:40:22.138Z"
   },
   {
    "duration": 12,
    "start_time": "2021-09-27T09:40:39.010Z"
   },
   {
    "duration": 3,
    "start_time": "2021-09-27T09:40:41.355Z"
   },
   {
    "duration": 9,
    "start_time": "2021-09-27T09:40:44.895Z"
   },
   {
    "duration": 13,
    "start_time": "2021-09-27T09:40:51.649Z"
   },
   {
    "duration": 5,
    "start_time": "2021-09-27T09:40:54.795Z"
   },
   {
    "duration": 5,
    "start_time": "2021-09-27T09:41:12.293Z"
   },
   {
    "duration": 3,
    "start_time": "2021-09-27T09:41:12.450Z"
   },
   {
    "duration": 197,
    "start_time": "2021-09-27T09:41:12.612Z"
   },
   {
    "duration": 4,
    "start_time": "2021-09-27T09:41:12.811Z"
   },
   {
    "duration": 22,
    "start_time": "2021-09-27T09:41:13.273Z"
   },
   {
    "duration": 809,
    "start_time": "2021-09-27T09:41:13.447Z"
   },
   {
    "duration": 7,
    "start_time": "2021-09-27T09:41:14.259Z"
   },
   {
    "duration": 736,
    "start_time": "2021-09-27T09:41:14.268Z"
   },
   {
    "duration": 23,
    "start_time": "2021-09-27T09:41:15.008Z"
   },
   {
    "duration": 62,
    "start_time": "2021-09-27T09:41:15.033Z"
   },
   {
    "duration": 160,
    "start_time": "2021-09-27T09:41:15.098Z"
   },
   {
    "duration": 70,
    "start_time": "2021-09-27T09:41:15.261Z"
   },
   {
    "duration": 16,
    "start_time": "2021-09-27T09:41:15.334Z"
   },
   {
    "duration": 847,
    "start_time": "2021-09-27T09:41:15.353Z"
   },
   {
    "duration": 6,
    "start_time": "2021-09-27T09:41:16.202Z"
   },
   {
    "duration": 27,
    "start_time": "2021-09-27T09:41:16.223Z"
   },
   {
    "duration": 815,
    "start_time": "2021-09-27T09:41:16.254Z"
   },
   {
    "duration": 7,
    "start_time": "2021-09-27T09:41:17.071Z"
   },
   {
    "duration": 45,
    "start_time": "2021-09-27T09:41:17.080Z"
   },
   {
    "duration": 100,
    "start_time": "2021-09-27T09:41:17.139Z"
   },
   {
    "duration": 26,
    "start_time": "2021-09-27T09:41:17.242Z"
   },
   {
    "duration": 35,
    "start_time": "2021-09-27T09:41:18.311Z"
   },
   {
    "duration": 4,
    "start_time": "2021-09-27T09:41:18.723Z"
   },
   {
    "duration": 18,
    "start_time": "2021-09-27T09:41:19.855Z"
   },
   {
    "duration": 3,
    "start_time": "2021-09-27T09:41:20.233Z"
   },
   {
    "duration": 8453,
    "start_time": "2021-09-27T09:41:22.466Z"
   },
   {
    "duration": 12,
    "start_time": "2021-09-27T09:41:30.922Z"
   },
   {
    "duration": 46,
    "start_time": "2021-09-27T09:41:30.937Z"
   },
   {
    "duration": 35,
    "start_time": "2021-09-27T09:41:30.986Z"
   },
   {
    "duration": 56,
    "start_time": "2021-09-27T09:41:31.024Z"
   },
   {
    "duration": 3,
    "start_time": "2021-09-27T09:41:38.639Z"
   },
   {
    "duration": 17,
    "start_time": "2021-09-27T09:41:39.244Z"
   },
   {
    "duration": 5,
    "start_time": "2021-09-27T09:41:40.503Z"
   },
   {
    "duration": 10,
    "start_time": "2021-09-27T09:41:55.265Z"
   },
   {
    "duration": 6,
    "start_time": "2021-09-27T09:43:01.284Z"
   },
   {
    "duration": 3,
    "start_time": "2021-09-27T09:43:01.452Z"
   },
   {
    "duration": 188,
    "start_time": "2021-09-27T09:43:01.587Z"
   },
   {
    "duration": 3,
    "start_time": "2021-09-27T09:43:01.824Z"
   },
   {
    "duration": 23,
    "start_time": "2021-09-27T09:43:02.328Z"
   },
   {
    "duration": 799,
    "start_time": "2021-09-27T09:43:02.507Z"
   },
   {
    "duration": 13,
    "start_time": "2021-09-27T09:43:03.309Z"
   },
   {
    "duration": 849,
    "start_time": "2021-09-27T09:43:03.325Z"
   },
   {
    "duration": 6,
    "start_time": "2021-09-27T09:43:04.177Z"
   },
   {
    "duration": 55,
    "start_time": "2021-09-27T09:43:04.185Z"
   },
   {
    "duration": 186,
    "start_time": "2021-09-27T09:43:04.243Z"
   },
   {
    "duration": 34,
    "start_time": "2021-09-27T09:43:04.432Z"
   },
   {
    "duration": 16,
    "start_time": "2021-09-27T09:43:04.469Z"
   },
   {
    "duration": 851,
    "start_time": "2021-09-27T09:43:04.488Z"
   },
   {
    "duration": 6,
    "start_time": "2021-09-27T09:43:05.341Z"
   },
   {
    "duration": 22,
    "start_time": "2021-09-27T09:43:05.350Z"
   },
   {
    "duration": 826,
    "start_time": "2021-09-27T09:43:05.375Z"
   },
   {
    "duration": 6,
    "start_time": "2021-09-27T09:43:06.204Z"
   },
   {
    "duration": 32,
    "start_time": "2021-09-27T09:43:06.213Z"
   },
   {
    "duration": 104,
    "start_time": "2021-09-27T09:43:06.247Z"
   },
   {
    "duration": 24,
    "start_time": "2021-09-27T09:43:06.354Z"
   },
   {
    "duration": 26,
    "start_time": "2021-09-27T09:43:07.340Z"
   },
   {
    "duration": 3,
    "start_time": "2021-09-27T09:43:07.566Z"
   },
   {
    "duration": 20,
    "start_time": "2021-09-27T09:43:08.365Z"
   },
   {
    "duration": 3,
    "start_time": "2021-09-27T09:43:08.535Z"
   },
   {
    "duration": 8021,
    "start_time": "2021-09-27T09:43:09.167Z"
   },
   {
    "duration": 9,
    "start_time": "2021-09-27T09:43:17.190Z"
   },
   {
    "duration": 29,
    "start_time": "2021-09-27T09:43:17.202Z"
   },
   {
    "duration": 26,
    "start_time": "2021-09-27T09:43:17.234Z"
   },
   {
    "duration": 22,
    "start_time": "2021-09-27T09:43:17.262Z"
   },
   {
    "duration": 1576,
    "start_time": "2021-09-27T09:45:05.638Z"
   },
   {
    "duration": 6,
    "start_time": "2021-09-27T09:45:07.217Z"
   },
   {
    "duration": 233,
    "start_time": "2021-09-27T09:45:07.227Z"
   },
   {
    "duration": 4,
    "start_time": "2021-09-27T09:45:07.463Z"
   },
   {
    "duration": 63,
    "start_time": "2021-09-27T09:45:07.470Z"
   },
   {
    "duration": 803,
    "start_time": "2021-09-27T09:45:07.535Z"
   },
   {
    "duration": 8,
    "start_time": "2021-09-27T09:45:08.340Z"
   },
   {
    "duration": 714,
    "start_time": "2021-09-27T09:45:08.351Z"
   },
   {
    "duration": 6,
    "start_time": "2021-09-27T09:45:09.068Z"
   },
   {
    "duration": 54,
    "start_time": "2021-09-27T09:45:09.076Z"
   },
   {
    "duration": 205,
    "start_time": "2021-09-27T09:45:09.133Z"
   },
   {
    "duration": 37,
    "start_time": "2021-09-27T09:45:09.340Z"
   },
   {
    "duration": 50,
    "start_time": "2021-09-27T09:45:09.380Z"
   },
   {
    "duration": 882,
    "start_time": "2021-09-27T09:45:09.433Z"
   },
   {
    "duration": 6,
    "start_time": "2021-09-27T09:45:10.322Z"
   },
   {
    "duration": 28,
    "start_time": "2021-09-27T09:45:10.330Z"
   },
   {
    "duration": 784,
    "start_time": "2021-09-27T09:45:10.360Z"
   },
   {
    "duration": 6,
    "start_time": "2021-09-27T09:45:11.147Z"
   },
   {
    "duration": 41,
    "start_time": "2021-09-27T09:45:11.156Z"
   },
   {
    "duration": 83,
    "start_time": "2021-09-27T09:45:11.199Z"
   },
   {
    "duration": 26,
    "start_time": "2021-09-27T09:45:11.324Z"
   },
   {
    "duration": 24,
    "start_time": "2021-09-27T09:45:11.353Z"
   },
   {
    "duration": 12,
    "start_time": "2021-09-27T09:45:11.383Z"
   },
   {
    "duration": 59,
    "start_time": "2021-09-27T09:45:11.399Z"
   },
   {
    "duration": 2,
    "start_time": "2021-09-27T09:45:11.461Z"
   },
   {
    "duration": 8473,
    "start_time": "2021-09-27T09:45:11.465Z"
   },
   {
    "duration": 9,
    "start_time": "2021-09-27T09:45:19.940Z"
   },
   {
    "duration": 33,
    "start_time": "2021-09-27T09:45:19.951Z"
   },
   {
    "duration": 18,
    "start_time": "2021-09-27T09:45:19.987Z"
   },
   {
    "duration": 21,
    "start_time": "2021-09-27T09:45:20.007Z"
   },
   {
    "duration": 27,
    "start_time": "2021-09-27T09:45:20.033Z"
   },
   {
    "duration": 18,
    "start_time": "2021-09-27T09:45:20.062Z"
   },
   {
    "duration": 32,
    "start_time": "2021-09-27T09:45:20.083Z"
   },
   {
    "duration": 28,
    "start_time": "2021-09-27T09:45:20.118Z"
   },
   {
    "duration": 21,
    "start_time": "2021-09-27T09:45:20.149Z"
   },
   {
    "duration": 47,
    "start_time": "2021-09-27T09:45:20.172Z"
   },
   {
    "duration": 26,
    "start_time": "2021-09-27T09:45:20.221Z"
   },
   {
    "duration": 39,
    "start_time": "2021-09-27T09:45:20.249Z"
   },
   {
    "duration": 18,
    "start_time": "2021-09-27T09:45:20.290Z"
   },
   {
    "duration": 51,
    "start_time": "2021-09-27T09:45:20.311Z"
   },
   {
    "duration": 62,
    "start_time": "2021-09-27T09:45:20.365Z"
   },
   {
    "duration": 20,
    "start_time": "2021-09-27T09:45:20.431Z"
   },
   {
    "duration": 15,
    "start_time": "2021-09-27T09:45:20.454Z"
   },
   {
    "duration": 50,
    "start_time": "2021-09-27T09:45:20.472Z"
   },
   {
    "duration": 4,
    "start_time": "2021-09-27T09:45:20.527Z"
   },
   {
    "duration": 5254,
    "start_time": "2021-09-27T09:45:20.535Z"
   },
   {
    "duration": 7,
    "start_time": "2021-09-27T09:45:25.792Z"
   },
   {
    "duration": 21,
    "start_time": "2021-09-27T09:45:25.828Z"
   },
   {
    "duration": 27,
    "start_time": "2021-09-27T09:45:25.851Z"
   },
   {
    "duration": 1189,
    "start_time": "2021-09-27T09:45:25.881Z"
   },
   {
    "duration": 594,
    "start_time": "2021-09-27T09:45:27.073Z"
   },
   {
    "duration": 5,
    "start_time": "2021-09-27T09:45:27.670Z"
   },
   {
    "duration": 23,
    "start_time": "2021-09-27T09:45:27.678Z"
   },
   {
    "duration": 935,
    "start_time": "2021-09-27T09:45:27.704Z"
   },
   {
    "duration": 58507,
    "start_time": "2021-09-27T09:45:28.725Z"
   },
   {
    "duration": 301,
    "start_time": "2021-09-27T09:46:27.235Z"
   },
   {
    "duration": 95,
    "start_time": "2021-09-27T09:46:27.539Z"
   },
   {
    "duration": 97599,
    "start_time": "2021-09-27T09:46:27.637Z"
   },
   {
    "duration": 745166,
    "start_time": "2021-09-27T09:48:05.238Z"
   },
   {
    "duration": 10740,
    "start_time": "2021-09-27T10:00:30.407Z"
   },
   {
    "duration": 5,
    "start_time": "2021-09-27T10:00:41.150Z"
   },
   {
    "duration": 22,
    "start_time": "2021-09-27T10:00:41.158Z"
   },
   {
    "duration": 4796,
    "start_time": "2021-09-27T10:02:52.369Z"
   },
   {
    "duration": 4809,
    "start_time": "2021-09-27T10:03:13.602Z"
   },
   {
    "duration": 4338,
    "start_time": "2021-09-27T10:03:32.671Z"
   },
   {
    "duration": 4926,
    "start_time": "2021-09-27T10:03:48.686Z"
   },
   {
    "duration": 4889,
    "start_time": "2021-09-27T10:03:58.857Z"
   },
   {
    "duration": 4840,
    "start_time": "2021-09-27T10:04:11.771Z"
   },
   {
    "duration": 4847,
    "start_time": "2021-09-27T10:05:07.238Z"
   },
   {
    "duration": 4748,
    "start_time": "2021-09-27T10:05:55.707Z"
   },
   {
    "duration": 11,
    "start_time": "2021-09-27T10:07:03.712Z"
   },
   {
    "duration": 11,
    "start_time": "2021-09-27T10:07:12.186Z"
   },
   {
    "duration": 12,
    "start_time": "2021-09-27T10:08:00.295Z"
   },
   {
    "duration": 19,
    "start_time": "2021-09-27T10:08:37.024Z"
   },
   {
    "duration": 1170,
    "start_time": "2021-09-27T10:08:46.484Z"
   },
   {
    "duration": 16,
    "start_time": "2021-09-27T10:08:57.307Z"
   },
   {
    "duration": 408,
    "start_time": "2021-09-27T10:09:08.347Z"
   },
   {
    "duration": 106,
    "start_time": "2021-09-27T10:09:17.751Z"
   },
   {
    "duration": 370,
    "start_time": "2021-09-27T10:09:21.701Z"
   },
   {
    "duration": 340,
    "start_time": "2021-09-27T10:10:08.531Z"
   },
   {
    "duration": 330,
    "start_time": "2021-09-27T10:10:24.643Z"
   },
   {
    "duration": 1256,
    "start_time": "2021-09-27T10:10:43.213Z"
   },
   {
    "duration": 18,
    "start_time": "2021-09-27T10:10:57.260Z"
   },
   {
    "duration": 15,
    "start_time": "2021-09-27T10:11:00.702Z"
   },
   {
    "duration": 13,
    "start_time": "2021-09-27T10:12:27.903Z"
   },
   {
    "duration": 14,
    "start_time": "2021-09-27T10:12:40.304Z"
   },
   {
    "duration": 5,
    "start_time": "2021-09-27T10:12:46.877Z"
   },
   {
    "duration": 14,
    "start_time": "2021-09-27T10:12:47.408Z"
   },
   {
    "duration": 12,
    "start_time": "2021-09-27T10:12:54.320Z"
   },
   {
    "duration": 1463,
    "start_time": "2021-09-27T10:12:59.073Z"
   },
   {
    "duration": 4,
    "start_time": "2021-09-27T10:13:00.538Z"
   },
   {
    "duration": 230,
    "start_time": "2021-09-27T10:13:00.545Z"
   },
   {
    "duration": 3,
    "start_time": "2021-09-27T10:13:00.778Z"
   },
   {
    "duration": 85,
    "start_time": "2021-09-27T10:13:00.783Z"
   },
   {
    "duration": 789,
    "start_time": "2021-09-27T10:13:00.870Z"
   },
   {
    "duration": 6,
    "start_time": "2021-09-27T10:13:01.662Z"
   },
   {
    "duration": 737,
    "start_time": "2021-09-27T10:13:01.672Z"
   },
   {
    "duration": 15,
    "start_time": "2021-09-27T10:13:02.413Z"
   },
   {
    "duration": 55,
    "start_time": "2021-09-27T10:13:02.430Z"
   },
   {
    "duration": 169,
    "start_time": "2021-09-27T10:13:02.488Z"
   },
   {
    "duration": 69,
    "start_time": "2021-09-27T10:13:02.659Z"
   },
   {
    "duration": 36,
    "start_time": "2021-09-27T10:13:02.731Z"
   },
   {
    "duration": 896,
    "start_time": "2021-09-27T10:13:02.770Z"
   },
   {
    "duration": 6,
    "start_time": "2021-09-27T10:13:03.668Z"
   },
   {
    "duration": 58,
    "start_time": "2021-09-27T10:13:03.676Z"
   },
   {
    "duration": 789,
    "start_time": "2021-09-27T10:13:03.736Z"
   },
   {
    "duration": 7,
    "start_time": "2021-09-27T10:13:04.528Z"
   },
   {
    "duration": 45,
    "start_time": "2021-09-27T10:13:04.538Z"
   },
   {
    "duration": 86,
    "start_time": "2021-09-27T10:13:04.585Z"
   },
   {
    "duration": 67,
    "start_time": "2021-09-27T10:13:04.674Z"
   },
   {
    "duration": 44,
    "start_time": "2021-09-27T10:13:04.743Z"
   },
   {
    "duration": 3,
    "start_time": "2021-09-27T10:13:04.793Z"
   },
   {
    "duration": 38,
    "start_time": "2021-09-27T10:13:04.799Z"
   },
   {
    "duration": 12,
    "start_time": "2021-09-27T10:13:04.839Z"
   },
   {
    "duration": 7966,
    "start_time": "2021-09-27T10:13:04.853Z"
   },
   {
    "duration": 9,
    "start_time": "2021-09-27T10:13:12.822Z"
   },
   {
    "duration": 18,
    "start_time": "2021-09-27T10:13:12.833Z"
   },
   {
    "duration": 10,
    "start_time": "2021-09-27T10:13:12.853Z"
   },
   {
    "duration": 13,
    "start_time": "2021-09-27T10:13:12.865Z"
   },
   {
    "duration": 11,
    "start_time": "2021-09-27T10:13:12.880Z"
   },
   {
    "duration": 4,
    "start_time": "2021-09-27T10:13:12.923Z"
   },
   {
    "duration": 17,
    "start_time": "2021-09-27T10:13:12.930Z"
   },
   {
    "duration": 4,
    "start_time": "2021-09-27T10:13:12.949Z"
   },
   {
    "duration": 23,
    "start_time": "2021-09-27T10:13:12.956Z"
   },
   {
    "duration": 51,
    "start_time": "2021-09-27T10:13:12.982Z"
   },
   {
    "duration": 23,
    "start_time": "2021-09-27T10:13:13.036Z"
   },
   {
    "duration": 17,
    "start_time": "2021-09-27T10:13:13.062Z"
   },
   {
    "duration": 69,
    "start_time": "2021-09-27T10:13:13.081Z"
   },
   {
    "duration": 3,
    "start_time": "2021-09-27T10:13:13.153Z"
   },
   {
    "duration": 19,
    "start_time": "2021-09-27T10:13:13.158Z"
   },
   {
    "duration": 8,
    "start_time": "2021-09-27T10:13:13.180Z"
   },
   {
    "duration": 53,
    "start_time": "2021-09-27T10:13:13.190Z"
   },
   {
    "duration": 3,
    "start_time": "2021-09-27T10:13:13.245Z"
   },
   {
    "duration": 4626,
    "start_time": "2021-09-27T10:13:13.250Z"
   },
   {
    "duration": 6,
    "start_time": "2021-09-27T10:13:17.878Z"
   },
   {
    "duration": 37,
    "start_time": "2021-09-27T10:13:17.887Z"
   },
   {
    "duration": 12,
    "start_time": "2021-09-27T10:13:17.926Z"
   },
   {
    "duration": 25,
    "start_time": "2021-09-27T10:13:17.941Z"
   },
   {
    "duration": 1103,
    "start_time": "2021-09-27T10:13:17.968Z"
   },
   {
    "duration": 413,
    "start_time": "2021-09-27T10:13:19.074Z"
   },
   {
    "duration": 4,
    "start_time": "2021-09-27T10:13:19.489Z"
   },
   {
    "duration": 29,
    "start_time": "2021-09-27T10:13:19.496Z"
   },
   {
    "duration": 405,
    "start_time": "2021-09-27T10:13:19.527Z"
   },
   {
    "duration": 44136,
    "start_time": "2021-09-27T10:13:20.025Z"
   },
   {
    "duration": 226,
    "start_time": "2021-09-27T10:14:04.163Z"
   },
   {
    "duration": 140,
    "start_time": "2021-09-27T10:14:04.391Z"
   },
   {
    "duration": 94510,
    "start_time": "2021-09-27T10:14:04.622Z"
   },
   {
    "duration": 1553,
    "start_time": "2021-09-27T10:20:02.562Z"
   },
   {
    "duration": 4,
    "start_time": "2021-09-27T10:20:04.118Z"
   },
   {
    "duration": 212,
    "start_time": "2021-09-27T10:20:04.125Z"
   },
   {
    "duration": 3,
    "start_time": "2021-09-27T10:20:04.340Z"
   },
   {
    "duration": 44,
    "start_time": "2021-09-27T10:20:04.345Z"
   },
   {
    "duration": 795,
    "start_time": "2021-09-27T10:20:04.392Z"
   },
   {
    "duration": 7,
    "start_time": "2021-09-27T10:20:05.189Z"
   },
   {
    "duration": 716,
    "start_time": "2021-09-27T10:20:05.200Z"
   },
   {
    "duration": 7,
    "start_time": "2021-09-27T10:20:05.923Z"
   },
   {
    "duration": 53,
    "start_time": "2021-09-27T10:20:05.933Z"
   },
   {
    "duration": 192,
    "start_time": "2021-09-27T10:20:05.989Z"
   },
   {
    "duration": 33,
    "start_time": "2021-09-27T10:20:06.223Z"
   },
   {
    "duration": 42,
    "start_time": "2021-09-27T10:20:06.259Z"
   },
   {
    "duration": 871,
    "start_time": "2021-09-27T10:20:06.303Z"
   },
   {
    "duration": 6,
    "start_time": "2021-09-27T10:20:07.177Z"
   },
   {
    "duration": 39,
    "start_time": "2021-09-27T10:20:07.186Z"
   },
   {
    "duration": 790,
    "start_time": "2021-09-27T10:20:07.228Z"
   },
   {
    "duration": 6,
    "start_time": "2021-09-27T10:20:08.023Z"
   },
   {
    "duration": 56,
    "start_time": "2021-09-27T10:20:08.032Z"
   },
   {
    "duration": 77,
    "start_time": "2021-09-27T10:20:08.091Z"
   },
   {
    "duration": 70,
    "start_time": "2021-09-27T10:20:08.171Z"
   },
   {
    "duration": 28,
    "start_time": "2021-09-27T10:20:08.244Z"
   },
   {
    "duration": 25,
    "start_time": "2021-09-27T10:20:08.278Z"
   },
   {
    "duration": 56,
    "start_time": "2021-09-27T10:20:08.306Z"
   },
   {
    "duration": 23,
    "start_time": "2021-09-27T10:20:08.364Z"
   },
   {
    "duration": 7958,
    "start_time": "2021-09-27T10:20:08.390Z"
   },
   {
    "duration": 8,
    "start_time": "2021-09-27T10:20:16.351Z"
   },
   {
    "duration": 21,
    "start_time": "2021-09-27T10:20:16.361Z"
   },
   {
    "duration": 22,
    "start_time": "2021-09-27T10:20:16.384Z"
   },
   {
    "duration": 27,
    "start_time": "2021-09-27T10:20:16.408Z"
   },
   {
    "duration": 25,
    "start_time": "2021-09-27T10:20:16.437Z"
   },
   {
    "duration": 28,
    "start_time": "2021-09-27T10:20:16.464Z"
   },
   {
    "duration": 28,
    "start_time": "2021-09-27T10:20:16.495Z"
   },
   {
    "duration": 11,
    "start_time": "2021-09-27T10:20:16.525Z"
   },
   {
    "duration": 43,
    "start_time": "2021-09-27T10:20:16.538Z"
   },
   {
    "duration": 20,
    "start_time": "2021-09-27T10:20:16.583Z"
   },
   {
    "duration": 32,
    "start_time": "2021-09-27T10:20:16.605Z"
   },
   {
    "duration": 27,
    "start_time": "2021-09-27T10:20:16.639Z"
   },
   {
    "duration": 38,
    "start_time": "2021-09-27T10:20:16.669Z"
   },
   {
    "duration": 3,
    "start_time": "2021-09-27T10:20:16.722Z"
   },
   {
    "duration": 24,
    "start_time": "2021-09-27T10:20:16.728Z"
   },
   {
    "duration": 8,
    "start_time": "2021-09-27T10:20:16.754Z"
   },
   {
    "duration": 26,
    "start_time": "2021-09-27T10:20:16.764Z"
   },
   {
    "duration": 31,
    "start_time": "2021-09-27T10:20:16.792Z"
   },
   {
    "duration": 4730,
    "start_time": "2021-09-27T10:20:16.825Z"
   },
   {
    "duration": 5,
    "start_time": "2021-09-27T10:20:21.558Z"
   },
   {
    "duration": 28,
    "start_time": "2021-09-27T10:20:21.566Z"
   },
   {
    "duration": 33,
    "start_time": "2021-09-27T10:20:21.597Z"
   },
   {
    "duration": 5,
    "start_time": "2021-09-27T10:20:21.633Z"
   },
   {
    "duration": 15,
    "start_time": "2021-09-27T10:20:21.641Z"
   },
   {
    "duration": 464,
    "start_time": "2021-09-27T10:20:21.659Z"
   },
   {
    "duration": 44861,
    "start_time": "2021-09-27T10:20:22.131Z"
   },
   {
    "duration": 234,
    "start_time": "2021-09-27T10:21:06.994Z"
   },
   {
    "duration": 193,
    "start_time": "2021-09-27T10:21:07.230Z"
   },
   {
    "duration": 92560,
    "start_time": "2021-09-27T10:21:07.426Z"
   },
   {
    "duration": 564505,
    "start_time": "2021-09-27T10:22:39.989Z"
   },
   {
    "duration": 12573,
    "start_time": "2021-09-27T10:32:04.497Z"
   },
   {
    "duration": 6,
    "start_time": "2021-09-27T10:32:17.072Z"
   },
   {
    "duration": 1582,
    "start_time": "2021-09-27T10:34:25.834Z"
   },
   {
    "duration": 7,
    "start_time": "2021-09-27T10:34:27.418Z"
   },
   {
    "duration": 201,
    "start_time": "2021-09-27T10:34:27.429Z"
   },
   {
    "duration": 3,
    "start_time": "2021-09-27T10:34:27.632Z"
   },
   {
    "duration": 42,
    "start_time": "2021-09-27T10:34:27.637Z"
   },
   {
    "duration": 822,
    "start_time": "2021-09-27T10:34:27.681Z"
   },
   {
    "duration": 7,
    "start_time": "2021-09-27T10:34:28.506Z"
   },
   {
    "duration": 710,
    "start_time": "2021-09-27T10:34:28.526Z"
   },
   {
    "duration": 6,
    "start_time": "2021-09-27T10:34:29.240Z"
   },
   {
    "duration": 39,
    "start_time": "2021-09-27T10:34:29.249Z"
   },
   {
    "duration": 177,
    "start_time": "2021-09-27T10:34:29.291Z"
   },
   {
    "duration": 71,
    "start_time": "2021-09-27T10:34:29.471Z"
   },
   {
    "duration": 27,
    "start_time": "2021-09-27T10:34:29.544Z"
   },
   {
    "duration": 890,
    "start_time": "2021-09-27T10:34:29.573Z"
   },
   {
    "duration": 6,
    "start_time": "2021-09-27T10:34:30.466Z"
   },
   {
    "duration": 28,
    "start_time": "2021-09-27T10:34:30.475Z"
   },
   {
    "duration": 777,
    "start_time": "2021-09-27T10:34:30.522Z"
   },
   {
    "duration": 6,
    "start_time": "2021-09-27T10:34:31.302Z"
   },
   {
    "duration": 46,
    "start_time": "2021-09-27T10:34:31.322Z"
   },
   {
    "duration": 107,
    "start_time": "2021-09-27T10:34:31.371Z"
   },
   {
    "duration": 31,
    "start_time": "2021-09-27T10:34:31.523Z"
   },
   {
    "duration": 48,
    "start_time": "2021-09-27T10:34:31.557Z"
   },
   {
    "duration": 11,
    "start_time": "2021-09-27T10:34:31.612Z"
   },
   {
    "duration": 51,
    "start_time": "2021-09-27T10:34:31.627Z"
   },
   {
    "duration": 12,
    "start_time": "2021-09-27T10:34:31.680Z"
   },
   {
    "duration": 8537,
    "start_time": "2021-09-27T10:34:31.694Z"
   },
   {
    "duration": 10,
    "start_time": "2021-09-27T10:34:40.234Z"
   },
   {
    "duration": 25,
    "start_time": "2021-09-27T10:34:40.247Z"
   },
   {
    "duration": 11,
    "start_time": "2021-09-27T10:34:40.274Z"
   },
   {
    "duration": 24,
    "start_time": "2021-09-27T10:34:40.288Z"
   },
   {
    "duration": 27,
    "start_time": "2021-09-27T10:34:40.314Z"
   },
   {
    "duration": 4,
    "start_time": "2021-09-27T10:34:40.344Z"
   },
   {
    "duration": 16,
    "start_time": "2021-09-27T10:34:40.351Z"
   },
   {
    "duration": 3,
    "start_time": "2021-09-27T10:34:40.369Z"
   },
   {
    "duration": 49,
    "start_time": "2021-09-27T10:34:40.374Z"
   },
   {
    "duration": 13,
    "start_time": "2021-09-27T10:34:40.426Z"
   },
   {
    "duration": 19,
    "start_time": "2021-09-27T10:34:40.442Z"
   },
   {
    "duration": 17,
    "start_time": "2021-09-27T10:34:40.464Z"
   },
   {
    "duration": 70,
    "start_time": "2021-09-27T10:34:40.484Z"
   },
   {
    "duration": 3,
    "start_time": "2021-09-27T10:34:40.557Z"
   },
   {
    "duration": 20,
    "start_time": "2021-09-27T10:34:40.562Z"
   },
   {
    "duration": 37,
    "start_time": "2021-09-27T10:34:40.585Z"
   },
   {
    "duration": 28,
    "start_time": "2021-09-27T10:34:40.625Z"
   },
   {
    "duration": 4,
    "start_time": "2021-09-27T10:34:40.655Z"
   },
   {
    "duration": 4908,
    "start_time": "2021-09-27T10:34:40.662Z"
   },
   {
    "duration": 6,
    "start_time": "2021-09-27T10:34:45.572Z"
   },
   {
    "duration": 16,
    "start_time": "2021-09-27T10:34:45.580Z"
   },
   {
    "duration": 11,
    "start_time": "2021-09-27T10:34:45.599Z"
   },
   {
    "duration": 10,
    "start_time": "2021-09-27T10:34:45.612Z"
   },
   {
    "duration": 16,
    "start_time": "2021-09-27T10:34:45.625Z"
   },
   {
    "duration": 386,
    "start_time": "2021-09-27T10:34:45.643Z"
   },
   {
    "duration": 44672,
    "start_time": "2021-09-27T10:34:46.032Z"
   },
   {
    "duration": 1439,
    "start_time": "2021-09-27T10:39:05.073Z"
   },
   {
    "duration": 7,
    "start_time": "2021-09-27T10:39:06.515Z"
   },
   {
    "duration": 222,
    "start_time": "2021-09-27T10:39:06.525Z"
   },
   {
    "duration": 3,
    "start_time": "2021-09-27T10:39:06.749Z"
   },
   {
    "duration": 51,
    "start_time": "2021-09-27T10:39:06.754Z"
   },
   {
    "duration": 896,
    "start_time": "2021-09-27T10:39:06.808Z"
   },
   {
    "duration": 6,
    "start_time": "2021-09-27T10:39:07.706Z"
   },
   {
    "duration": 710,
    "start_time": "2021-09-27T10:39:07.723Z"
   },
   {
    "duration": 7,
    "start_time": "2021-09-27T10:39:08.439Z"
   },
   {
    "duration": 45,
    "start_time": "2021-09-27T10:39:08.450Z"
   },
   {
    "duration": 177,
    "start_time": "2021-09-27T10:39:08.498Z"
   },
   {
    "duration": 81,
    "start_time": "2021-09-27T10:39:08.677Z"
   },
   {
    "duration": 15,
    "start_time": "2021-09-27T10:39:08.761Z"
   },
   {
    "duration": 926,
    "start_time": "2021-09-27T10:39:08.778Z"
   },
   {
    "duration": 6,
    "start_time": "2021-09-27T10:39:09.707Z"
   },
   {
    "duration": 18,
    "start_time": "2021-09-27T10:39:09.723Z"
   },
   {
    "duration": 802,
    "start_time": "2021-09-27T10:39:09.743Z"
   },
   {
    "duration": 7,
    "start_time": "2021-09-27T10:39:10.548Z"
   },
   {
    "duration": 39,
    "start_time": "2021-09-27T10:39:10.557Z"
   },
   {
    "duration": 126,
    "start_time": "2021-09-27T10:39:10.599Z"
   },
   {
    "duration": 28,
    "start_time": "2021-09-27T10:39:10.728Z"
   },
   {
    "duration": 30,
    "start_time": "2021-09-27T10:39:10.759Z"
   },
   {
    "duration": 31,
    "start_time": "2021-09-27T10:39:10.791Z"
   },
   {
    "duration": 19,
    "start_time": "2021-09-27T10:39:10.825Z"
   },
   {
    "duration": 3,
    "start_time": "2021-09-27T10:39:10.847Z"
   },
   {
    "duration": 7954,
    "start_time": "2021-09-27T10:39:10.852Z"
   },
   {
    "duration": 18,
    "start_time": "2021-09-27T10:39:18.812Z"
   },
   {
    "duration": 14,
    "start_time": "2021-09-27T10:39:18.835Z"
   },
   {
    "duration": 12,
    "start_time": "2021-09-27T10:39:18.852Z"
   },
   {
    "duration": 11,
    "start_time": "2021-09-27T10:39:18.866Z"
   },
   {
    "duration": 50,
    "start_time": "2021-09-27T10:39:18.879Z"
   },
   {
    "duration": 4,
    "start_time": "2021-09-27T10:39:18.932Z"
   },
   {
    "duration": 17,
    "start_time": "2021-09-27T10:39:18.939Z"
   },
   {
    "duration": 5,
    "start_time": "2021-09-27T10:39:18.959Z"
   },
   {
    "duration": 65,
    "start_time": "2021-09-27T10:39:18.967Z"
   },
   {
    "duration": 12,
    "start_time": "2021-09-27T10:39:19.034Z"
   },
   {
    "duration": 20,
    "start_time": "2021-09-27T10:39:19.048Z"
   },
   {
    "duration": 53,
    "start_time": "2021-09-27T10:39:19.071Z"
   },
   {
    "duration": 38,
    "start_time": "2021-09-27T10:39:19.126Z"
   },
   {
    "duration": 3,
    "start_time": "2021-09-27T10:39:19.166Z"
   },
   {
    "duration": 23,
    "start_time": "2021-09-27T10:39:19.171Z"
   },
   {
    "duration": 31,
    "start_time": "2021-09-27T10:39:19.196Z"
   },
   {
    "duration": 27,
    "start_time": "2021-09-27T10:39:19.230Z"
   },
   {
    "duration": 4,
    "start_time": "2021-09-27T10:39:19.259Z"
   },
   {
    "duration": 4659,
    "start_time": "2021-09-27T10:39:19.265Z"
   },
   {
    "duration": 6,
    "start_time": "2021-09-27T10:39:23.927Z"
   },
   {
    "duration": 42,
    "start_time": "2021-09-27T10:39:23.935Z"
   },
   {
    "duration": 58,
    "start_time": "2021-09-27T10:39:23.980Z"
   },
   {
    "duration": 44,
    "start_time": "2021-09-27T10:39:24.041Z"
   },
   {
    "duration": 48,
    "start_time": "2021-09-27T10:39:24.087Z"
   },
   {
    "duration": 293,
    "start_time": "2021-09-27T10:39:24.137Z"
   },
   {
    "duration": 43867,
    "start_time": "2021-09-27T10:39:24.523Z"
   },
   {
    "duration": 579339,
    "start_time": "2021-09-27T10:40:08.393Z"
   },
   {
    "duration": 234,
    "start_time": "2021-09-27T10:49:47.734Z"
   },
   {
    "duration": 60,
    "start_time": "2021-09-27T10:49:47.971Z"
   },
   {
    "duration": 12063,
    "start_time": "2021-09-27T10:49:48.124Z"
   },
   {
    "duration": 1156,
    "start_time": "2021-09-27T13:06:25.674Z"
   },
   {
    "duration": 3,
    "start_time": "2021-09-27T13:06:26.832Z"
   },
   {
    "duration": 185,
    "start_time": "2021-09-27T13:06:26.837Z"
   },
   {
    "duration": 3,
    "start_time": "2021-09-27T13:06:27.024Z"
   },
   {
    "duration": 18,
    "start_time": "2021-09-27T13:06:27.770Z"
   },
   {
    "duration": 492,
    "start_time": "2021-09-27T13:06:27.942Z"
   },
   {
    "duration": 5,
    "start_time": "2021-09-27T13:06:28.436Z"
   },
   {
    "duration": 455,
    "start_time": "2021-09-27T13:06:28.443Z"
   },
   {
    "duration": 5,
    "start_time": "2021-09-27T13:06:28.901Z"
   },
   {
    "duration": 27,
    "start_time": "2021-09-27T13:06:28.908Z"
   },
   {
    "duration": 146,
    "start_time": "2021-09-27T13:06:28.937Z"
   },
   {
    "duration": 23,
    "start_time": "2021-09-27T13:06:29.612Z"
   },
   {
    "duration": 11,
    "start_time": "2021-09-27T13:06:29.983Z"
   },
   {
    "duration": 494,
    "start_time": "2021-09-27T13:06:30.172Z"
   },
   {
    "duration": 9,
    "start_time": "2021-09-27T13:06:30.668Z"
   },
   {
    "duration": 13,
    "start_time": "2021-09-27T13:06:30.919Z"
   },
   {
    "duration": 555,
    "start_time": "2021-09-27T13:06:31.283Z"
   },
   {
    "duration": 5,
    "start_time": "2021-09-27T13:06:31.840Z"
   },
   {
    "duration": 16,
    "start_time": "2021-09-27T13:06:32.124Z"
   },
   {
    "duration": 46,
    "start_time": "2021-09-27T13:06:32.296Z"
   },
   {
    "duration": 17,
    "start_time": "2021-09-27T13:06:32.785Z"
   },
   {
    "duration": 21,
    "start_time": "2021-09-27T13:17:00.024Z"
   },
   {
    "duration": 2,
    "start_time": "2021-09-27T13:17:00.556Z"
   },
   {
    "duration": 13,
    "start_time": "2021-09-27T13:17:05.553Z"
   },
   {
    "duration": 2,
    "start_time": "2021-09-27T13:17:05.807Z"
   },
   {
    "duration": 5077,
    "start_time": "2021-09-27T13:17:07.730Z"
   },
   {
    "duration": 5,
    "start_time": "2021-09-27T13:17:12.809Z"
   },
   {
    "duration": 22,
    "start_time": "2021-09-27T13:17:12.816Z"
   },
   {
    "duration": 14,
    "start_time": "2021-09-27T13:17:12.840Z"
   },
   {
    "duration": 5,
    "start_time": "2021-09-27T13:17:12.856Z"
   },
   {
    "duration": 6,
    "start_time": "2021-09-27T13:17:12.863Z"
   },
   {
    "duration": 2,
    "start_time": "2021-09-27T13:17:14.352Z"
   },
   {
    "duration": 10,
    "start_time": "2021-09-27T13:17:14.773Z"
   },
   {
    "duration": 2,
    "start_time": "2021-09-27T13:17:15.046Z"
   },
   {
    "duration": 14,
    "start_time": "2021-09-27T13:17:15.321Z"
   },
   {
    "duration": 9,
    "start_time": "2021-09-27T13:17:15.548Z"
   },
   {
    "duration": 13,
    "start_time": "2021-09-27T13:17:15.728Z"
   },
   {
    "duration": 15,
    "start_time": "2021-09-27T13:17:15.901Z"
   },
   {
    "duration": 27,
    "start_time": "2021-09-27T13:17:16.249Z"
   },
   {
    "duration": 2,
    "start_time": "2021-09-27T13:17:16.457Z"
   },
   {
    "duration": 13,
    "start_time": "2021-09-27T13:17:16.781Z"
   },
   {
    "duration": 6,
    "start_time": "2021-09-27T13:17:17.122Z"
   },
   {
    "duration": 23,
    "start_time": "2021-09-27T13:17:17.336Z"
   },
   {
    "duration": 3,
    "start_time": "2021-09-27T13:17:17.528Z"
   },
   {
    "duration": 3013,
    "start_time": "2021-09-27T13:17:17.717Z"
   },
   {
    "duration": 4,
    "start_time": "2021-09-27T13:17:20.732Z"
   },
   {
    "duration": 13,
    "start_time": "2021-09-27T13:17:20.738Z"
   },
   {
    "duration": 29,
    "start_time": "2021-09-27T13:17:20.753Z"
   },
   {
    "duration": 11,
    "start_time": "2021-09-27T13:17:20.784Z"
   },
   {
    "duration": 1551,
    "start_time": "2021-09-28T09:58:55.410Z"
   },
   {
    "duration": 5,
    "start_time": "2021-09-28T09:58:56.964Z"
   },
   {
    "duration": 242,
    "start_time": "2021-09-28T09:58:56.974Z"
   },
   {
    "duration": 4,
    "start_time": "2021-09-28T09:58:57.219Z"
   },
   {
    "duration": 45,
    "start_time": "2021-09-28T09:58:57.226Z"
   },
   {
    "duration": 822,
    "start_time": "2021-09-28T09:58:57.274Z"
   },
   {
    "duration": 6,
    "start_time": "2021-09-28T09:58:58.098Z"
   },
   {
    "duration": 729,
    "start_time": "2021-09-28T09:58:58.108Z"
   },
   {
    "duration": 6,
    "start_time": "2021-09-28T09:58:58.840Z"
   },
   {
    "duration": 69,
    "start_time": "2021-09-28T09:58:58.849Z"
   },
   {
    "duration": 151,
    "start_time": "2021-09-28T09:58:58.920Z"
   },
   {
    "duration": 76,
    "start_time": "2021-09-28T09:58:59.074Z"
   },
   {
    "duration": 35,
    "start_time": "2021-09-28T09:58:59.152Z"
   },
   {
    "duration": 822,
    "start_time": "2021-09-28T09:58:59.189Z"
   },
   {
    "duration": 11,
    "start_time": "2021-09-28T09:59:00.014Z"
   },
   {
    "duration": 37,
    "start_time": "2021-09-28T09:59:00.027Z"
   },
   {
    "duration": 924,
    "start_time": "2021-09-28T09:59:00.067Z"
   },
   {
    "duration": 7,
    "start_time": "2021-09-28T09:59:00.994Z"
   },
   {
    "duration": 47,
    "start_time": "2021-09-28T09:59:01.004Z"
   },
   {
    "duration": 110,
    "start_time": "2021-09-28T09:59:01.053Z"
   },
   {
    "duration": 67,
    "start_time": "2021-09-28T09:59:01.165Z"
   },
   {
    "duration": 39,
    "start_time": "2021-09-28T09:59:01.234Z"
   },
   {
    "duration": 13,
    "start_time": "2021-09-28T09:59:01.279Z"
   },
   {
    "duration": 81,
    "start_time": "2021-09-28T09:59:01.295Z"
   },
   {
    "duration": 61,
    "start_time": "2021-09-28T09:59:01.378Z"
   },
   {
    "duration": 8137,
    "start_time": "2021-09-28T09:59:01.442Z"
   },
   {
    "duration": 10,
    "start_time": "2021-09-28T09:59:09.582Z"
   },
   {
    "duration": 30,
    "start_time": "2021-09-28T09:59:09.594Z"
   },
   {
    "duration": 9,
    "start_time": "2021-09-28T09:59:09.626Z"
   },
   {
    "duration": 13,
    "start_time": "2021-09-28T09:59:09.637Z"
   },
   {
    "duration": 18,
    "start_time": "2021-09-28T09:59:09.653Z"
   },
   {
    "duration": 13,
    "start_time": "2021-09-28T09:59:09.673Z"
   },
   {
    "duration": 23,
    "start_time": "2021-09-28T09:59:09.688Z"
   },
   {
    "duration": 8,
    "start_time": "2021-09-28T09:59:09.714Z"
   },
   {
    "duration": 21,
    "start_time": "2021-09-28T09:59:09.724Z"
   },
   {
    "duration": 13,
    "start_time": "2021-09-28T09:59:09.747Z"
   },
   {
    "duration": 33,
    "start_time": "2021-09-28T09:59:09.762Z"
   },
   {
    "duration": 18,
    "start_time": "2021-09-28T09:59:09.822Z"
   },
   {
    "duration": 42,
    "start_time": "2021-09-28T09:59:09.842Z"
   },
   {
    "duration": 3,
    "start_time": "2021-09-28T09:59:09.886Z"
   },
   {
    "duration": 42,
    "start_time": "2021-09-28T09:59:09.892Z"
   },
   {
    "duration": 21,
    "start_time": "2021-09-28T09:59:09.936Z"
   },
   {
    "duration": 29,
    "start_time": "2021-09-28T09:59:09.960Z"
   },
   {
    "duration": 3,
    "start_time": "2021-09-28T09:59:09.992Z"
   },
   {
    "duration": 5079,
    "start_time": "2021-09-28T09:59:09.997Z"
   },
   {
    "duration": 6,
    "start_time": "2021-09-28T09:59:15.078Z"
   },
   {
    "duration": 48,
    "start_time": "2021-09-28T09:59:15.086Z"
   },
   {
    "duration": 37,
    "start_time": "2021-09-28T09:59:15.137Z"
   },
   {
    "duration": 29,
    "start_time": "2021-09-28T09:59:15.178Z"
   },
   {
    "duration": 41,
    "start_time": "2021-09-28T09:59:15.209Z"
   },
   {
    "duration": 370,
    "start_time": "2021-09-28T09:59:15.253Z"
   },
   {
    "duration": 43904,
    "start_time": "2021-09-28T09:59:15.631Z"
   },
   {
    "duration": 567179,
    "start_time": "2021-09-28T09:59:59.537Z"
   },
   {
    "duration": 200,
    "start_time": "2021-09-28T10:09:26.723Z"
   },
   {
    "duration": 237,
    "start_time": "2021-09-28T10:09:26.926Z"
   },
   {
    "duration": 13336,
    "start_time": "2021-09-28T10:09:27.165Z"
   },
   {
    "duration": 1113,
    "start_time": "2021-09-28T13:16:03.266Z"
   },
   {
    "duration": 3,
    "start_time": "2021-09-28T13:16:04.380Z"
   },
   {
    "duration": 187,
    "start_time": "2021-09-28T13:16:04.385Z"
   },
   {
    "duration": 3,
    "start_time": "2021-09-28T13:16:04.574Z"
   },
   {
    "duration": 21,
    "start_time": "2021-09-28T13:16:04.578Z"
   },
   {
    "duration": 445,
    "start_time": "2021-09-28T13:16:04.601Z"
   },
   {
    "duration": 5,
    "start_time": "2021-09-28T13:16:05.048Z"
   },
   {
    "duration": 415,
    "start_time": "2021-09-28T13:16:05.056Z"
   },
   {
    "duration": 4,
    "start_time": "2021-09-28T13:16:05.474Z"
   },
   {
    "duration": 26,
    "start_time": "2021-09-28T13:16:05.480Z"
   },
   {
    "duration": 136,
    "start_time": "2021-09-28T13:16:05.508Z"
   },
   {
    "duration": 23,
    "start_time": "2021-09-28T13:16:05.646Z"
   },
   {
    "duration": 10,
    "start_time": "2021-09-28T13:16:05.671Z"
   },
   {
    "duration": 508,
    "start_time": "2021-09-28T13:16:05.682Z"
   },
   {
    "duration": 5,
    "start_time": "2021-09-28T13:16:06.191Z"
   },
   {
    "duration": 19,
    "start_time": "2021-09-28T13:16:06.197Z"
   },
   {
    "duration": 530,
    "start_time": "2021-09-28T13:16:06.218Z"
   },
   {
    "duration": 4,
    "start_time": "2021-09-28T13:16:06.750Z"
   },
   {
    "duration": 17,
    "start_time": "2021-09-28T13:16:06.756Z"
   },
   {
    "duration": 83,
    "start_time": "2021-09-28T13:16:06.775Z"
   },
   {
    "duration": 19,
    "start_time": "2021-09-28T13:16:06.861Z"
   },
   {
    "duration": 19,
    "start_time": "2021-09-28T13:16:06.881Z"
   },
   {
    "duration": 2,
    "start_time": "2021-09-28T13:16:06.904Z"
   },
   {
    "duration": 46,
    "start_time": "2021-09-28T13:16:06.908Z"
   },
   {
    "duration": 2,
    "start_time": "2021-09-28T13:16:06.956Z"
   },
   {
    "duration": 4842,
    "start_time": "2021-09-28T13:16:06.959Z"
   },
   {
    "duration": 6,
    "start_time": "2021-09-28T13:16:11.802Z"
   },
   {
    "duration": 31,
    "start_time": "2021-09-28T13:16:11.810Z"
   },
   {
    "duration": 27,
    "start_time": "2021-09-28T13:16:11.843Z"
   },
   {
    "duration": 20,
    "start_time": "2021-09-28T13:16:11.872Z"
   },
   {
    "duration": 26,
    "start_time": "2021-09-28T13:16:11.894Z"
   },
   {
    "duration": 27,
    "start_time": "2021-09-28T13:16:11.921Z"
   },
   {
    "duration": 33,
    "start_time": "2021-09-28T13:16:11.950Z"
   },
   {
    "duration": 11,
    "start_time": "2021-09-28T13:16:11.986Z"
   },
   {
    "duration": 31,
    "start_time": "2021-09-28T13:16:11.999Z"
   },
   {
    "duration": 31,
    "start_time": "2021-09-28T13:16:12.031Z"
   },
   {
    "duration": 45,
    "start_time": "2021-09-28T13:16:12.064Z"
   },
   {
    "duration": 37,
    "start_time": "2021-09-28T13:16:12.111Z"
   },
   {
    "duration": 43,
    "start_time": "2021-09-28T13:16:12.150Z"
   },
   {
    "duration": 20,
    "start_time": "2021-09-28T13:16:12.195Z"
   },
   {
    "duration": 39,
    "start_time": "2021-09-28T13:16:12.216Z"
   },
   {
    "duration": 27,
    "start_time": "2021-09-28T13:16:12.257Z"
   },
   {
    "duration": 42,
    "start_time": "2021-09-28T13:16:12.286Z"
   },
   {
    "duration": 14,
    "start_time": "2021-09-28T13:16:12.330Z"
   },
   {
    "duration": 2922,
    "start_time": "2021-09-28T13:16:12.346Z"
   },
   {
    "duration": 4,
    "start_time": "2021-09-28T13:16:15.269Z"
   },
   {
    "duration": 37,
    "start_time": "2021-09-28T13:16:15.275Z"
   },
   {
    "duration": 41,
    "start_time": "2021-09-28T13:16:15.313Z"
   },
   {
    "duration": 32,
    "start_time": "2021-09-28T13:16:15.356Z"
   },
   {
    "duration": 41,
    "start_time": "2021-09-28T13:16:15.390Z"
   },
   {
    "duration": 217,
    "start_time": "2021-09-28T13:16:15.433Z"
   },
   {
    "duration": 29519,
    "start_time": "2021-09-28T13:16:15.653Z"
   },
   {
    "duration": 459782,
    "start_time": "2021-09-28T13:16:45.174Z"
   },
   {
    "duration": 104,
    "start_time": "2021-09-28T13:24:24.958Z"
   },
   {
    "duration": 244,
    "start_time": "2021-09-28T13:24:25.149Z"
   },
   {
    "duration": 10087,
    "start_time": "2021-09-28T13:24:25.395Z"
   },
   {
    "duration": 417,
    "start_time": "2021-09-28T13:26:55.868Z"
   },
   {
    "duration": 64,
    "start_time": "2021-09-28T13:27:44.349Z"
   },
   {
    "duration": 746,
    "start_time": "2021-09-28T13:27:50.746Z"
   },
   {
    "duration": 4,
    "start_time": "2021-09-28T13:28:15.316Z"
   },
   {
    "duration": 1038,
    "start_time": "2021-09-28T13:28:16.028Z"
   },
   {
    "duration": 564,
    "start_time": "2021-09-28T13:28:37.052Z"
   },
   {
    "duration": 1210,
    "start_time": "2021-09-28T13:30:38.290Z"
   },
   {
    "duration": 3,
    "start_time": "2021-09-28T13:30:39.502Z"
   },
   {
    "duration": 200,
    "start_time": "2021-09-28T13:30:39.510Z"
   },
   {
    "duration": 2,
    "start_time": "2021-09-28T13:30:39.712Z"
   },
   {
    "duration": 48,
    "start_time": "2021-09-28T13:30:39.716Z"
   },
   {
    "duration": 516,
    "start_time": "2021-09-28T13:30:39.766Z"
   },
   {
    "duration": 4,
    "start_time": "2021-09-28T13:30:40.285Z"
   },
   {
    "duration": 440,
    "start_time": "2021-09-28T13:30:40.292Z"
   },
   {
    "duration": 15,
    "start_time": "2021-09-28T13:30:40.734Z"
   },
   {
    "duration": 30,
    "start_time": "2021-09-28T13:30:40.752Z"
   },
   {
    "duration": 117,
    "start_time": "2021-09-28T13:30:40.784Z"
   },
   {
    "duration": 56,
    "start_time": "2021-09-28T13:30:40.903Z"
   },
   {
    "duration": 11,
    "start_time": "2021-09-28T13:30:40.961Z"
   },
   {
    "duration": 534,
    "start_time": "2021-09-28T13:30:40.974Z"
   },
   {
    "duration": 5,
    "start_time": "2021-09-28T13:30:41.509Z"
   },
   {
    "duration": 23,
    "start_time": "2021-09-28T13:30:41.515Z"
   },
   {
    "duration": 565,
    "start_time": "2021-09-28T13:30:41.544Z"
   },
   {
    "duration": 5,
    "start_time": "2021-09-28T13:30:42.111Z"
   },
   {
    "duration": 34,
    "start_time": "2021-09-28T13:30:42.117Z"
   },
   {
    "duration": 101,
    "start_time": "2021-09-28T13:30:42.153Z"
   },
   {
    "duration": 18,
    "start_time": "2021-09-28T13:30:42.256Z"
   },
   {
    "duration": 34,
    "start_time": "2021-09-28T13:30:42.278Z"
   },
   {
    "duration": 13,
    "start_time": "2021-09-28T13:30:42.314Z"
   },
   {
    "duration": 23,
    "start_time": "2021-09-28T13:30:42.328Z"
   },
   {
    "duration": 22,
    "start_time": "2021-09-28T13:30:42.353Z"
   },
   {
    "duration": 5235,
    "start_time": "2021-09-28T13:30:42.377Z"
   },
   {
    "duration": 6,
    "start_time": "2021-09-28T13:30:47.614Z"
   },
   {
    "duration": 11,
    "start_time": "2021-09-28T13:30:47.621Z"
   },
   {
    "duration": 16,
    "start_time": "2021-09-28T13:30:47.633Z"
   },
   {
    "duration": 7,
    "start_time": "2021-09-28T13:30:47.651Z"
   },
   {
    "duration": 9,
    "start_time": "2021-09-28T13:30:47.660Z"
   },
   {
    "duration": 2,
    "start_time": "2021-09-28T13:30:47.671Z"
   },
   {
    "duration": 13,
    "start_time": "2021-09-28T13:30:47.674Z"
   },
   {
    "duration": 5,
    "start_time": "2021-09-28T13:30:47.689Z"
   },
   {
    "duration": 17,
    "start_time": "2021-09-28T13:30:47.695Z"
   },
   {
    "duration": 34,
    "start_time": "2021-09-28T13:30:47.713Z"
   },
   {
    "duration": 13,
    "start_time": "2021-09-28T13:30:47.750Z"
   },
   {
    "duration": 12,
    "start_time": "2021-09-28T13:30:47.765Z"
   },
   {
    "duration": 25,
    "start_time": "2021-09-28T13:30:47.778Z"
   },
   {
    "duration": 2,
    "start_time": "2021-09-28T13:30:47.804Z"
   },
   {
    "duration": 49,
    "start_time": "2021-09-28T13:30:47.808Z"
   },
   {
    "duration": 7,
    "start_time": "2021-09-28T13:30:47.859Z"
   },
   {
    "duration": 19,
    "start_time": "2021-09-28T13:30:47.869Z"
   },
   {
    "duration": 2,
    "start_time": "2021-09-28T13:30:47.890Z"
   },
   {
    "duration": 3067,
    "start_time": "2021-09-28T13:30:47.893Z"
   },
   {
    "duration": 4,
    "start_time": "2021-09-28T13:30:50.962Z"
   },
   {
    "duration": 14,
    "start_time": "2021-09-28T13:30:50.967Z"
   },
   {
    "duration": 9,
    "start_time": "2021-09-28T13:30:50.983Z"
   },
   {
    "duration": 12,
    "start_time": "2021-09-28T13:30:50.994Z"
   },
   {
    "duration": 9,
    "start_time": "2021-09-28T13:30:51.008Z"
   },
   {
    "duration": 442,
    "start_time": "2021-09-28T13:30:51.019Z"
   },
   {
    "duration": 31152,
    "start_time": "2021-09-28T13:30:51.464Z"
   },
   {
    "duration": 480715,
    "start_time": "2021-09-28T13:31:22.617Z"
   },
   {
    "duration": 71,
    "start_time": "2021-09-28T13:39:23.334Z"
   },
   {
    "duration": 815,
    "start_time": "2021-09-28T13:39:23.406Z"
   },
   {
    "duration": 417,
    "start_time": "2021-09-28T13:39:23.806Z"
   },
   {
    "duration": 413,
    "start_time": "2021-09-28T13:39:23.811Z"
   },
   {
    "duration": 404,
    "start_time": "2021-09-28T13:39:23.821Z"
   },
   {
    "duration": 1213,
    "start_time": "2021-09-28T13:40:07.675Z"
   },
   {
    "duration": 11084,
    "start_time": "2021-09-28T13:40:11.486Z"
   },
   {
    "duration": 465,
    "start_time": "2021-09-28T13:42:51.403Z"
   },
   {
    "duration": 763,
    "start_time": "2021-09-28T13:43:05.434Z"
   },
   {
    "duration": 526,
    "start_time": "2021-09-28T13:43:25.704Z"
   }
  ],
  "kernelspec": {
   "display_name": "Python 3",
   "language": "python",
   "name": "python3"
  },
  "language_info": {
   "codemirror_mode": {
    "name": "ipython",
    "version": 3
   },
   "file_extension": ".py",
   "mimetype": "text/x-python",
   "name": "python",
   "nbconvert_exporter": "python",
   "pygments_lexer": "ipython3",
   "version": "3.7.8"
  },
  "toc": {
   "base_numbering": 1,
   "nav_menu": {},
   "number_sections": true,
   "sideBar": true,
   "skip_h1_title": true,
   "title_cell": "Table of Contents",
   "title_sidebar": "Contents",
   "toc_cell": false,
   "toc_position": {},
   "toc_section_display": true,
   "toc_window_display": false
  }
 },
 "nbformat": 4,
 "nbformat_minor": 2
}
