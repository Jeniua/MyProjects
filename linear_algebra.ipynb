  {
   "cell_type": "markdown",
   "metadata": {
    "toc": true
   },
   "source": [
    "<h1>Содержание<span class=\"tocSkip\"></span></h1>\n",
    "<div class=\"toc\"><ul class=\"toc-item\"><li><span><a href=\"#Загрузка-данных\" data-toc-modified-id=\"Загрузка-данных-1\"><span class=\"toc-item-num\">1&nbsp;&nbsp;</span>Загрузка данных</a></span><ul class=\"toc-item\"><li><span><a href=\"#Итог:\" data-toc-modified-id=\"Итог:-1.1\"><span class=\"toc-item-num\">1.1&nbsp;&nbsp;</span>Итог:</a></span></li></ul></li><li><span><a href=\"#Умножение-матриц\" data-toc-modified-id=\"Умножение-матриц-2\"><span class=\"toc-item-num\">2&nbsp;&nbsp;</span>Умножение матриц</a></span><ul class=\"toc-item\"><li><span><a href=\"#Доказательство\" data-toc-modified-id=\"Доказательство-2.1\"><span class=\"toc-item-num\">2.1&nbsp;&nbsp;</span>Доказательство</a></span></li></ul></li><li><span><a href=\"#Алгоритм-преобразования\" data-toc-modified-id=\"Алгоритм-преобразования-3\"><span class=\"toc-item-num\">3&nbsp;&nbsp;</span>Алгоритм преобразования</a></span></li><li><span><a href=\"#Проверка-алгоритма\" data-toc-modified-id=\"Проверка-алгоритма-4\"><span class=\"toc-item-num\">4&nbsp;&nbsp;</span>Проверка алгоритма</a></span></li><li><span><a href=\"#Чек-лист-проверки\" data-toc-modified-id=\"Чек-лист-проверки-5\"><span class=\"toc-item-num\">5&nbsp;&nbsp;</span>Чек-лист проверки</a></span></li></ul></div>"
   ]
  },
  {
   "cell_type": "markdown",
   "metadata": {},
   "source": [
    "# Защита персональных данных клиентов"
   ]
  },
  {
   "cell_type": "markdown",
   "metadata": {},
   "source": [
    "Вам нужно защитить данные клиентов страховой компании «Хоть потоп». Разработайте такой метод преобразования данных, чтобы по ним было сложно восстановить персональную информацию. Обоснуйте корректность его работы.\n",
    "\n",
    "Нужно защитить данные, чтобы при преобразовании качество моделей машинного обучения не ухудшилось. Подбирать наилучшую модель не требуется."
   ]
  },
  {
   "cell_type": "markdown",
   "metadata": {},
   "source": [
    "## Загрузка данных"
   ]
  },
  {
   "cell_type": "code",
   "execution_count": 1,
   "metadata": {},
   "outputs": [],
   "source": [
    "import pandas as pd\n",
    "import numpy as np\n",
    "from sklearn.metrics import r2_score\n",
    "from sklearn.model_selection import train_test_split\n",
    "from sklearn.linear_model import LinearRegression\n",
    "from sklearn.metrics import r2_score"
   ]
  },
  {
   "cell_type": "code",
   "execution_count": 2,
   "metadata": {},
   "outputs": [
    {
     "data": {
      "text/html": [
       "<div>\n",
       "<style scoped>\n",
       "    .dataframe tbody tr th:only-of-type {\n",
       "        vertical-align: middle;\n",
       "    }\n",
       "\n",
       "    .dataframe tbody tr th {\n",
       "        vertical-align: top;\n",
       "    }\n",
       "\n",
       "    .dataframe thead th {\n",
       "        text-align: right;\n",
       "    }\n",
       "</style>\n",
       "<table border=\"1\" class=\"dataframe\">\n",
       "  <thead>\n",
       "    <tr style=\"text-align: right;\">\n",
       "      <th></th>\n",
       "      <th>Пол</th>\n",
       "      <th>Возраст</th>\n",
       "      <th>Зарплата</th>\n",
       "      <th>Члены семьи</th>\n",
       "      <th>Страховые выплаты</th>\n",
       "    </tr>\n",
       "  </thead>\n",
       "  <tbody>\n",
       "    <tr>\n",
       "      <td>0</td>\n",
       "      <td>1</td>\n",
       "      <td>41.0</td>\n",
       "      <td>49600.0</td>\n",
       "      <td>1</td>\n",
       "      <td>0</td>\n",
       "    </tr>\n",
       "    <tr>\n",
       "      <td>1</td>\n",
       "      <td>0</td>\n",
       "      <td>46.0</td>\n",
       "      <td>38000.0</td>\n",
       "      <td>1</td>\n",
       "      <td>1</td>\n",
       "    </tr>\n",
       "    <tr>\n",
       "      <td>2</td>\n",
       "      <td>0</td>\n",
       "      <td>29.0</td>\n",
       "      <td>21000.0</td>\n",
       "      <td>0</td>\n",
       "      <td>0</td>\n",
       "    </tr>\n",
       "    <tr>\n",
       "      <td>3</td>\n",
       "      <td>0</td>\n",
       "      <td>21.0</td>\n",
       "      <td>41700.0</td>\n",
       "      <td>2</td>\n",
       "      <td>0</td>\n",
       "    </tr>\n",
       "    <tr>\n",
       "      <td>4</td>\n",
       "      <td>1</td>\n",
       "      <td>28.0</td>\n",
       "      <td>26100.0</td>\n",
       "      <td>0</td>\n",
       "      <td>0</td>\n",
       "    </tr>\n",
       "  </tbody>\n",
       "</table>\n",
       "</div>"
      ],
      "text/plain": [
       "   Пол  Возраст  Зарплата  Члены семьи  Страховые выплаты\n",
       "0    1     41.0   49600.0            1                  0\n",
       "1    0     46.0   38000.0            1                  1\n",
       "2    0     29.0   21000.0            0                  0\n",
       "3    0     21.0   41700.0            2                  0\n",
       "4    1     28.0   26100.0            0                  0"
      ]
     },
     "metadata": {},
     "output_type": "display_data"
    },
    {
     "name": "stdout",
     "output_type": "stream",
     "text": [
      "<class 'pandas.core.frame.DataFrame'>\n",
      "RangeIndex: 5000 entries, 0 to 4999\n",
      "Data columns (total 5 columns):\n",
      "Пол                  5000 non-null int64\n",
      "Возраст              5000 non-null float64\n",
      "Зарплата             5000 non-null float64\n",
      "Члены семьи          5000 non-null int64\n",
      "Страховые выплаты    5000 non-null int64\n",
      "dtypes: float64(2), int64(3)\n",
      "memory usage: 195.4 KB\n",
      "None\n"
     ]
    }
   ],
   "source": [
    "df = pd.read_csv('/datasets/insurance.csv')\n",
    "display(df.head())\n",
    "print(df.info())"
   ]
  },
  {
   "cell_type": "code",
   "execution_count": 3,
   "metadata": {},
   "outputs": [],
   "source": [
    "features = df.drop('Страховые выплаты', axis = 1)\n",
    "target = df['Страховые выплаты']"
   ]
  },
  {
   "cell_type": "markdown",
   "metadata": {},
   "source": [
    "### Итог: \n",
    "имеем таблицу из 5000 строк. Пропусков нет, типы данных подходящие."
   ]
  },
  {
   "cell_type": "markdown",
   "metadata": {},
   "source": [
    "<div class=\"alert alert-success\">\n",
    "<b>Комментарий ревьюера</b>\n",
    "\n",
    "Отлично. Данные загружены и изучены.\n",
    "</div>"
   ]
  },
  {
   "cell_type": "markdown",
   "metadata": {},
   "source": [
    "## Умножение матриц"
   ]
  },
  {
   "cell_type": "markdown",
   "metadata": {},
   "source": [
    "В этом задании вы можете записывать формулы в *Jupyter Notebook.*\n",
    "\n",
    "Чтобы записать формулу внутри текста, окружите её символами доллара \\\\$; если снаружи —  двойными символами \\\\$\\\\$. Эти формулы записываются на языке вёрстки *LaTeX.* \n",
    "\n",
    "Для примера мы записали формулы линейной регрессии. Можете их скопировать и отредактировать, чтобы решить задачу.\n",
    "\n",
    "Работать в *LaTeX* необязательно."
   ]
  },
  {
   "cell_type": "markdown",
   "metadata": {},
   "source": [
    "Обозначения:\n",
    "\n",
    "- $X$ — матрица признаков (нулевой столбец состоит из единиц)\n",
    "\n",
    "- $y$ — вектор целевого признака\n",
    "\n",
    "- $P$ — матрица, на которую умножаются признаки\n",
    "\n",
    "- $w$ — вектор весов линейной регрессии (нулевой элемент равен сдвигу)"
   ]
  },
  {
   "cell_type": "markdown",
   "metadata": {},
   "source": [
    "Предсказания:\n",
    "\n",
    "$$\n",
    "a = Xw\n",
    "$$\n",
    "\n",
    "Задача обучения:\n",
    "\n",
    "$$\n",
    "w = \\arg\\min_w MSE(Xw, y)\n",
    "$$\n",
    "\n",
    "Формула обучения:\n",
    "\n",
    "$$\n",
    "w = (X^T X)^{-1} X^T y\n",
    "$$"
   ]
  },
  {
   "cell_type": "markdown",
   "metadata": {},
   "source": [
    "**Ответ:** Не изменится.\n",
    "\n",
    "**Обоснование:** \n",
    "$$\n",
    "a = Xw$$ - предсказания (1)\n",
    "\n",
    "\n",
    "Домножим их на обратимую матрицу P\n",
    "\n",
    "$$ \n",
    "a_p = XPw_p$$ - преобразованные предсказания (2)\n",
    "\n",
    "\n",
    "Введём вектор wp (3)\n",
    "\n",
    "$$\n",
    "w_p = P^-1w_x $$\n",
    "\n",
    "\n",
    "Подставив 3 в 2, получим:\n",
    "\n",
    "$$\n",
    "a_p = XPP^-1w_x = Xw_x = a_x$$ (4) именно это нам и надо доказать, то есть, необходимо доказать, что верно соотношение 3.\n",
    "\n",
    "### Доказательство\n",
    "\n",
    "$$\n",
    "w = (X^T X)^{-1} X^T y\n",
    "$$\n",
    "\n",
    "Следовательно:\n",
    "$$\n",
    "wp = ((XP)^T XP)^{-1} (XP)^T y = (P^T  (X^T  X)  P)^{-1} (P)^T (X)^T y = P^{-1} (X^T X)^{-1} (P^T)^{-1} (P)^T (X)^T y ==\n",
    "$$\n",
    "здесь\n",
    "$$\n",
    "(P^T)^{-1} (P)^T = Е$$ ибо по условию Р обратима, значит транспонированная тоже обратима\n",
    "$$\n",
    "== P^{-1} (X^T X)^{-1} (X)^T y = P^{-1} w_x,\n",
    "$$\n",
    "\n",
    "Ч.Т.Д"
   ]
  },
  {
   "cell_type": "markdown",
   "metadata": {},
   "source": [
    "<div class=\"alert alert-success\">\n",
    "<b>Комментарий ревьюера</b>\n",
    "\n",
    "Верное доказательтво. Лучше сначала вывести $w_p$ , а затем уже $a_p$\n",
    "</div>"
   ]
  },
  {
   "cell_type": "markdown",
   "metadata": {},
   "source": [
    "## Алгоритм преобразования"
   ]
  },
  {
   "cell_type": "markdown",
   "metadata": {},
   "source": [
    "**Алгоритм**\n",
    "\n",
    "\n",
    "1. Создадим рандомную матрицу \n",
    "2. Проверим на обратимость\n",
    "3. Умножим ее на матрицу признаков\n",
    "4. Определим метрику R2 с помощью линейной регрессии для предобразованных данных и исходных, а затем сравнивним метрики."
   ]
  },
  {
   "cell_type": "markdown",
   "metadata": {},
   "source": [
    "<div class=\"alert alert-success\">\n",
    "<b>Комментарий ревьюера</b>\n",
    "\n",
    "Верно!\n",
    "</div>"
   ]
  },
  {
   "cell_type": "markdown",
   "metadata": {},
   "source": [
    "**Обоснование**\n",
    "\n",
    "В прошлом пункте мы доказали, что можно умножать матрицу признаков на обратимую матрицу."
   ]
  },
  {
   "cell_type": "markdown",
   "metadata": {},
   "source": [
    "## Проверка алгоритма"
   ]
  },
  {
   "cell_type": "code",
   "execution_count": 4,
   "metadata": {},
   "outputs": [
    {
     "name": "stdout",
     "output_type": "stream",
     "text": [
      "Определитель =  -1169209.9999999993\n"
     ]
    }
   ],
   "source": [
    "def transform(features):\n",
    "    #m = features.shape[0]\n",
    "    n = features.shape[1]\n",
    "    P = np.random.randint(-50,50, size = (n,n))\n",
    "    det = np.linalg.det(P)\n",
    "    if det != 0:\n",
    "        print('Определитель = ',det)\n",
    "        return features.dot(P)\n",
    "    else:\n",
    "        transform(features)\n",
    "#eps = 10**(-4)\n",
    "#print(features.head())\n",
    "features_P = transform(features)"
   ]
  },
  {
   "cell_type": "markdown",
   "metadata": {},
   "source": [
    "<div class=\"alert alert-warning\">\n",
    "<b>Комментарий ревьюера</b>\n",
    "\n",
    "При генерации матрицы желательно использовать seed (random_state) для ее воспроизводимости.\n",
    "</div>"
   ]
  },
  {
   "cell_type": "markdown",
   "metadata": {},
   "source": [
    "<div class=\"alert alert-success\">\n",
    "<b>Комментарий ревьюера</b>\n",
    "\n",
    "Отлично, что есть проверка на обратимость.\n",
    "</div>"
   ]
  },
  {
   "cell_type": "code",
   "execution_count": 5,
   "metadata": {},
   "outputs": [],
   "source": [
    "features_train, features_valid, target_train, target_valid = train_test_split(features, target, test_size = 0.25,\n",
    "                                                                             random_state = 1)\n",
    "\n",
    "features_P_train, features_P_valid = train_test_split(features_P, test_size=0.25, random_state=1)"
   ]
  },
  {
   "cell_type": "code",
   "execution_count": 6,
   "metadata": {},
   "outputs": [
    {
     "name": "stdout",
     "output_type": "stream",
     "text": [
      "R2 на исходной матрице: 0.3237732279242751\n",
      "R2 на преобразованной матрице: 0.32377322792426433\n",
      "Разница R2 метрик: 1.0769163338864018e-14\n"
     ]
    }
   ],
   "source": [
    "model = LinearRegression()\n",
    "model.fit(features_train, target_train)\n",
    "score = r2_score(target_valid, model.predict(features_valid))\n",
    "print('R2 на исходной матрице:', score)\n",
    "\n",
    "# обучаемся на преобразованной матрице\n",
    "modelP = LinearRegression()\n",
    "modelP.fit(features_P_train, target_train)\n",
    "scoreP = r2_score(target_valid, modelP.predict(features_P_valid))\n",
    "print('R2 на преобразованной матрице:', scoreP)\n",
    "\n",
    "print('Разница R2 метрик:', abs(score - scoreP))"
   ]
  },
  {
   "cell_type": "markdown",
   "metadata": {},
   "source": [
    "<div class=\"alert alert-success\">\n",
    "<b>Комментарий ревьюера</b>\n",
    "\n",
    "Верно! Метрики идентичны. Разница – это обобенности вычисления, можно это отметить.\n",
    "</div>"
   ]
  },
  {
   "cell_type": "markdown",
   "metadata": {},
   "source": [
    "# Вывод\n",
    "\n",
    "Решили задачу по защите данных клиентов. Реализовали алгоритм преобразования признаков исходной матрицы путем умножения ее на квадратную обратимую"
   ]
  },
  {
   "cell_type": "markdown",
   "metadata": {},
   "source": [
    "<div class=\"alert alert-info\">\n",
    "<b>Итоговый комментарий ревьюера</b>\n",
    "\n",
    "Отличный проект! Все шаги выполнены. Вспомнили свойства матриц, вывели формулу и освоили алгоритм шифрования. Можно прочитать про <a href=\"https://ru.wikipedia.org/wiki/Шифр_Хилла\">шифр Хилла</a>, основанный на линейной алгебре. Про другие простые алгоритмы шифрования <a href=\"https://habr.com/ru/post/116716/\">здесь</a>. Желаю успехов в дальнейшем обучении! Впереди еще будут интересные задачи!\n",
    "<hr>\n",
    "</div>"
   ]
  },
  {
   "cell_type": "markdown",
   "metadata": {},
   "source": [
    "## Чек-лист проверки"
   ]
  },
  {
   "cell_type": "markdown",
   "metadata": {},
   "source": [
    "Поставьте 'x' в выполненных пунктах. Далее нажмите Shift+Enter."
   ]
  },
  {
   "cell_type": "markdown",
   "metadata": {},
   "source": [
    "- [x]  Jupyter Notebook открыт\n",
    "- [ ]  Весь код выполняется без ошибок\n",
    "- [ ]  Ячейки с кодом расположены в порядке исполнения\n",
    "- [ ]  Выполнен шаг 1: данные загружены\n",
    "- [ ]  Выполнен шаг 2: получен ответ на вопрос об умножении матриц\n",
    "    - [ ]  Указан правильный вариант ответа\n",
    "    - [ ]  Вариант обоснован\n",
    "- [ ]  Выполнен шаг 3: предложен алгоритм преобразования\n",
    "    - [ ]  Алгоритм описан\n",
    "    - [ ]  Алгоритм обоснован\n",
    "- [ ]  Выполнен шаг 4: алгоритм проверен\n",
    "    - [ ]  Алгоритм реализован\n",
    "    - [ ]  Проведено сравнение качества моделей до и после преобразования"
   ]
  },
  {
   "cell_type": "code",
   "execution_count": null,
   "metadata": {},
   "outputs": [],
   "source": []
  }
 ],
 "metadata": {
  "ExecuteTimeLog": [
   {
    "duration": 834,
    "start_time": "2021-06-21T11:20:00.296Z"
   },
   {
    "duration": 90,
    "start_time": "2021-06-21T11:22:59.808Z"
   },
   {
    "duration": 44,
    "start_time": "2021-06-21T11:23:19.129Z"
   },
   {
    "duration": 36,
    "start_time": "2021-06-21T11:29:39.344Z"
   },
   {
    "duration": 35,
    "start_time": "2021-06-21T11:29:50.935Z"
   },
   {
    "duration": 426,
    "start_time": "2021-06-21T11:31:12.435Z"
   },
   {
    "duration": 307,
    "start_time": "2021-06-21T11:31:23.761Z"
   },
   {
    "duration": 593,
    "start_time": "2021-06-21T11:31:35.372Z"
   },
   {
    "duration": 39,
    "start_time": "2021-06-21T11:31:35.968Z"
   },
   {
    "duration": 9,
    "start_time": "2021-06-21T11:31:36.450Z"
   },
   {
    "duration": 415,
    "start_time": "2021-06-25T07:58:10.657Z"
   },
   {
    "duration": 349,
    "start_time": "2021-06-25T07:58:17.792Z"
   },
   {
    "duration": 1664,
    "start_time": "2021-06-25T07:58:33.519Z"
   },
   {
    "duration": 55,
    "start_time": "2021-06-25T07:58:35.187Z"
   },
   {
    "duration": 7,
    "start_time": "2021-06-25T07:58:36.081Z"
   },
   {
    "duration": 573,
    "start_time": "2021-06-25T07:58:40.033Z"
   },
   {
    "duration": 8,
    "start_time": "2021-06-25T07:58:53.616Z"
   },
   {
    "duration": 1534,
    "start_time": "2021-06-25T07:59:27.740Z"
   },
   {
    "duration": 1554,
    "start_time": "2021-06-25T07:59:39.916Z"
   },
   {
    "duration": 7,
    "start_time": "2021-06-25T08:22:11.280Z"
   },
   {
    "duration": 8,
    "start_time": "2021-06-25T08:26:25.973Z"
   },
   {
    "duration": 342,
    "start_time": "2021-06-25T08:34:15.846Z"
   },
   {
    "duration": 10,
    "start_time": "2021-06-25T08:34:25.842Z"
   },
   {
    "duration": 335,
    "start_time": "2021-06-25T08:35:20.402Z"
   },
   {
    "duration": 21,
    "start_time": "2021-06-25T08:35:38.116Z"
   },
   {
    "duration": 307,
    "start_time": "2021-06-25T08:35:41.587Z"
   },
   {
    "duration": 351,
    "start_time": "2021-06-25T08:35:56.425Z"
   },
   {
    "duration": 15,
    "start_time": "2021-06-25T08:36:06.751Z"
   },
   {
    "duration": 1268,
    "start_time": "2021-06-25T10:38:55.713Z"
   },
   {
    "duration": 45,
    "start_time": "2021-06-25T10:38:56.983Z"
   },
   {
    "duration": 5,
    "start_time": "2021-06-25T10:38:57.031Z"
   },
   {
    "duration": 17,
    "start_time": "2021-06-25T10:38:57.038Z"
   },
   {
    "duration": 31,
    "start_time": "2021-06-25T10:38:57.058Z"
   },
   {
    "duration": 16,
    "start_time": "2021-06-25T10:38:57.091Z"
   },
   {
    "duration": 17,
    "start_time": "2021-06-25T10:39:06.490Z"
   },
   {
    "duration": 1456,
    "start_time": "2021-06-25T10:39:15.245Z"
   },
   {
    "duration": 45,
    "start_time": "2021-06-25T10:39:16.704Z"
   },
   {
    "duration": 5,
    "start_time": "2021-06-25T10:39:16.752Z"
   },
   {
    "duration": 29,
    "start_time": "2021-06-25T10:39:16.759Z"
   },
   {
    "duration": 25,
    "start_time": "2021-06-25T10:39:16.790Z"
   },
   {
    "duration": 21,
    "start_time": "2021-06-25T10:39:16.817Z"
   },
   {
    "duration": 18,
    "start_time": "2021-06-25T10:39:57.363Z"
   },
   {
    "duration": 18,
    "start_time": "2021-06-25T10:40:01.861Z"
   },
   {
    "duration": 1673,
    "start_time": "2021-06-25T10:40:06.989Z"
   },
   {
    "duration": 45,
    "start_time": "2021-06-25T10:40:08.664Z"
   },
   {
    "duration": 5,
    "start_time": "2021-06-25T10:40:08.712Z"
   },
   {
    "duration": 17,
    "start_time": "2021-06-25T10:40:08.720Z"
   },
   {
    "duration": 20,
    "start_time": "2021-06-25T10:40:08.740Z"
   },
   {
    "duration": 31,
    "start_time": "2021-06-25T10:40:08.763Z"
   },
   {
    "duration": 1257,
    "start_time": "2021-10-02T16:12:25.795Z"
   },
   {
    "duration": 43,
    "start_time": "2021-10-02T16:12:27.057Z"
   },
   {
    "duration": 5,
    "start_time": "2021-10-02T16:12:27.103Z"
   },
   {
    "duration": 7,
    "start_time": "2021-10-02T16:12:27.110Z"
   },
   {
    "duration": 9,
    "start_time": "2021-10-02T16:12:27.120Z"
   },
   {
    "duration": 36,
    "start_time": "2021-10-02T16:12:27.131Z"
   }
  ],
  "kernelspec": {
   "display_name": "Python 3",
   "language": "python",
   "name": "python3"
  },
  "language_info": {
   "codemirror_mode": {
    "name": "ipython",
    "version": 3
   },
   "file_extension": ".py",
   "mimetype": "text/x-python",
   "name": "python",
   "nbconvert_exporter": "python",
   "pygments_lexer": "ipython3",
   "version": "3.7.8"
  },
  "toc": {
   "base_numbering": 1,
   "nav_menu": {},
   "number_sections": true,
   "sideBar": true,
   "skip_h1_title": true,
   "title_cell": "Содержание",
   "title_sidebar": "Contents",
   "toc_cell": true,
   "toc_position": {},
   "toc_section_display": true,
   "toc_window_display": false
  }
 },
 "nbformat": 4,
 "nbformat_minor": 2
}
