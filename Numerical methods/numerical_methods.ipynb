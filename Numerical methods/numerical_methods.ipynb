{
 "cells": [
  {
   "cell_type": "markdown",
   "metadata": {},
   "source": [
    "# Определение стоимости автомобилей"
   ]
  },
  {
   "cell_type": "markdown",
   "metadata": {},
   "source": [
    "## Подготовка данных"
   ]
  },
  {
   "cell_type": "code",
   "execution_count": 1,
   "metadata": {},
   "outputs": [],
   "source": [
    "import pandas as pd\n",
    "import numpy as np\n",
    "from matplotlib import pyplot as plt\n",
    "import seaborn as sns\n",
    "from datetime import datetime\n",
    "from sklearn.preprocessing import OrdinalEncoder\n",
    "from sklearn.model_selection import train_test_split, GridSearchCV, cross_val_score, KFold\n",
    "from sklearn.linear_model import LinearRegression\n",
    "from catboost import CatBoostClassifier\n",
    "from catboost import Pool, CatBoostRegressor, cv\n",
    "from lightgbm import LGBMRegressor\n",
    "from sklearn.metrics import mean_squared_error\n",
    "import warnings\n",
    "from sklearn.dummy import DummyRegressor"
   ]
  },
  {
   "cell_type": "code",
   "execution_count": 2,
   "metadata": {},
   "outputs": [],
   "source": [
    "warnings.filterwarnings('ignore')"
   ]
  },
  {
   "cell_type": "code",
   "execution_count": 3,
   "metadata": {},
   "outputs": [
    {
     "data": {
      "text/html": [
       "<div>\n",
       "<style scoped>\n",
       "    .dataframe tbody tr th:only-of-type {\n",
       "        vertical-align: middle;\n",
       "    }\n",
       "\n",
       "    .dataframe tbody tr th {\n",
       "        vertical-align: top;\n",
       "    }\n",
       "\n",
       "    .dataframe thead th {\n",
       "        text-align: right;\n",
       "    }\n",
       "</style>\n",
       "<table border=\"1\" class=\"dataframe\">\n",
       "  <thead>\n",
       "    <tr style=\"text-align: right;\">\n",
       "      <th></th>\n",
       "      <th>DateCrawled</th>\n",
       "      <th>Price</th>\n",
       "      <th>VehicleType</th>\n",
       "      <th>RegistrationYear</th>\n",
       "      <th>Gearbox</th>\n",
       "      <th>Power</th>\n",
       "      <th>Model</th>\n",
       "      <th>Kilometer</th>\n",
       "      <th>RegistrationMonth</th>\n",
       "      <th>FuelType</th>\n",
       "      <th>Brand</th>\n",
       "      <th>NotRepaired</th>\n",
       "      <th>DateCreated</th>\n",
       "      <th>NumberOfPictures</th>\n",
       "      <th>PostalCode</th>\n",
       "      <th>LastSeen</th>\n",
       "    </tr>\n",
       "  </thead>\n",
       "  <tbody>\n",
       "    <tr>\n",
       "      <td>0</td>\n",
       "      <td>2016-03-24 11:52:17</td>\n",
       "      <td>480</td>\n",
       "      <td>NaN</td>\n",
       "      <td>1993</td>\n",
       "      <td>manual</td>\n",
       "      <td>0</td>\n",
       "      <td>golf</td>\n",
       "      <td>150000</td>\n",
       "      <td>0</td>\n",
       "      <td>petrol</td>\n",
       "      <td>volkswagen</td>\n",
       "      <td>NaN</td>\n",
       "      <td>2016-03-24 00:00:00</td>\n",
       "      <td>0</td>\n",
       "      <td>70435</td>\n",
       "      <td>2016-04-07 03:16:57</td>\n",
       "    </tr>\n",
       "    <tr>\n",
       "      <td>1</td>\n",
       "      <td>2016-03-24 10:58:45</td>\n",
       "      <td>18300</td>\n",
       "      <td>coupe</td>\n",
       "      <td>2011</td>\n",
       "      <td>manual</td>\n",
       "      <td>190</td>\n",
       "      <td>NaN</td>\n",
       "      <td>125000</td>\n",
       "      <td>5</td>\n",
       "      <td>gasoline</td>\n",
       "      <td>audi</td>\n",
       "      <td>yes</td>\n",
       "      <td>2016-03-24 00:00:00</td>\n",
       "      <td>0</td>\n",
       "      <td>66954</td>\n",
       "      <td>2016-04-07 01:46:50</td>\n",
       "    </tr>\n",
       "    <tr>\n",
       "      <td>2</td>\n",
       "      <td>2016-03-14 12:52:21</td>\n",
       "      <td>9800</td>\n",
       "      <td>suv</td>\n",
       "      <td>2004</td>\n",
       "      <td>auto</td>\n",
       "      <td>163</td>\n",
       "      <td>grand</td>\n",
       "      <td>125000</td>\n",
       "      <td>8</td>\n",
       "      <td>gasoline</td>\n",
       "      <td>jeep</td>\n",
       "      <td>NaN</td>\n",
       "      <td>2016-03-14 00:00:00</td>\n",
       "      <td>0</td>\n",
       "      <td>90480</td>\n",
       "      <td>2016-04-05 12:47:46</td>\n",
       "    </tr>\n",
       "    <tr>\n",
       "      <td>3</td>\n",
       "      <td>2016-03-17 16:54:04</td>\n",
       "      <td>1500</td>\n",
       "      <td>small</td>\n",
       "      <td>2001</td>\n",
       "      <td>manual</td>\n",
       "      <td>75</td>\n",
       "      <td>golf</td>\n",
       "      <td>150000</td>\n",
       "      <td>6</td>\n",
       "      <td>petrol</td>\n",
       "      <td>volkswagen</td>\n",
       "      <td>no</td>\n",
       "      <td>2016-03-17 00:00:00</td>\n",
       "      <td>0</td>\n",
       "      <td>91074</td>\n",
       "      <td>2016-03-17 17:40:17</td>\n",
       "    </tr>\n",
       "    <tr>\n",
       "      <td>4</td>\n",
       "      <td>2016-03-31 17:25:20</td>\n",
       "      <td>3600</td>\n",
       "      <td>small</td>\n",
       "      <td>2008</td>\n",
       "      <td>manual</td>\n",
       "      <td>69</td>\n",
       "      <td>fabia</td>\n",
       "      <td>90000</td>\n",
       "      <td>7</td>\n",
       "      <td>gasoline</td>\n",
       "      <td>skoda</td>\n",
       "      <td>no</td>\n",
       "      <td>2016-03-31 00:00:00</td>\n",
       "      <td>0</td>\n",
       "      <td>60437</td>\n",
       "      <td>2016-04-06 10:17:21</td>\n",
       "    </tr>\n",
       "  </tbody>\n",
       "</table>\n",
       "</div>"
      ],
      "text/plain": [
       "           DateCrawled  Price VehicleType  RegistrationYear Gearbox  Power  \\\n",
       "0  2016-03-24 11:52:17    480         NaN              1993  manual      0   \n",
       "1  2016-03-24 10:58:45  18300       coupe              2011  manual    190   \n",
       "2  2016-03-14 12:52:21   9800         suv              2004    auto    163   \n",
       "3  2016-03-17 16:54:04   1500       small              2001  manual     75   \n",
       "4  2016-03-31 17:25:20   3600       small              2008  manual     69   \n",
       "\n",
       "   Model  Kilometer  RegistrationMonth  FuelType       Brand NotRepaired  \\\n",
       "0   golf     150000                  0    petrol  volkswagen         NaN   \n",
       "1    NaN     125000                  5  gasoline        audi         yes   \n",
       "2  grand     125000                  8  gasoline        jeep         NaN   \n",
       "3   golf     150000                  6    petrol  volkswagen          no   \n",
       "4  fabia      90000                  7  gasoline       skoda          no   \n",
       "\n",
       "           DateCreated  NumberOfPictures  PostalCode             LastSeen  \n",
       "0  2016-03-24 00:00:00                 0       70435  2016-04-07 03:16:57  \n",
       "1  2016-03-24 00:00:00                 0       66954  2016-04-07 01:46:50  \n",
       "2  2016-03-14 00:00:00                 0       90480  2016-04-05 12:47:46  \n",
       "3  2016-03-17 00:00:00                 0       91074  2016-03-17 17:40:17  \n",
       "4  2016-03-31 00:00:00                 0       60437  2016-04-06 10:17:21  "
      ]
     },
     "metadata": {},
     "output_type": "display_data"
    },
    {
     "name": "stdout",
     "output_type": "stream",
     "text": [
      "<class 'pandas.core.frame.DataFrame'>\n",
      "RangeIndex: 354369 entries, 0 to 354368\n",
      "Data columns (total 16 columns):\n",
      "DateCrawled          354369 non-null object\n",
      "Price                354369 non-null int64\n",
      "VehicleType          316879 non-null object\n",
      "RegistrationYear     354369 non-null int64\n",
      "Gearbox              334536 non-null object\n",
      "Power                354369 non-null int64\n",
      "Model                334664 non-null object\n",
      "Kilometer            354369 non-null int64\n",
      "RegistrationMonth    354369 non-null int64\n",
      "FuelType             321474 non-null object\n",
      "Brand                354369 non-null object\n",
      "NotRepaired          283215 non-null object\n",
      "DateCreated          354369 non-null object\n",
      "NumberOfPictures     354369 non-null int64\n",
      "PostalCode           354369 non-null int64\n",
      "LastSeen             354369 non-null object\n",
      "dtypes: int64(7), object(9)\n",
      "memory usage: 43.3+ MB\n",
      "None DateCrawled              0\n",
      "Price                    0\n",
      "VehicleType          37490\n",
      "RegistrationYear         0\n",
      "Gearbox              19833\n",
      "Power                    0\n",
      "Model                19705\n",
      "Kilometer                0\n",
      "RegistrationMonth        0\n",
      "FuelType             32895\n",
      "Brand                    0\n",
      "NotRepaired          71154\n",
      "DateCreated              0\n",
      "NumberOfPictures         0\n",
      "PostalCode               0\n",
      "LastSeen                 0\n",
      "dtype: int64\n"
     ]
    }
   ],
   "source": [
    "df = pd.read_csv('/datasets/autos.csv')\n",
    "display(df.head())\n",
    "print(df.info(),df.isna().sum())\n",
    "#print(df.sample(random_state = 123))"
   ]
  },
  {
   "cell_type": "markdown",
   "metadata": {},
   "source": [
    "Видим пропуски в столбцах VehicleType, Gearbox, Model, FuelType, NotRepaired."
   ]
  },
  {
   "cell_type": "code",
   "execution_count": 4,
   "metadata": {},
   "outputs": [
    {
     "name": "stdout",
     "output_type": "stream",
     "text": [
      "----------------------------------- DateCrawled -----------------------------------\n",
      "count                  354369\n",
      "unique                 271174\n",
      "top       2016-03-24 14:49:47\n",
      "freq                        7\n",
      "Name: DateCrawled, dtype: object\n",
      "----------------------------------- Price -----------------------------------\n",
      "count    354369.000000\n",
      "mean       4416.656776\n",
      "std        4514.158514\n",
      "min           0.000000\n",
      "25%        1050.000000\n",
      "50%        2700.000000\n",
      "75%        6400.000000\n",
      "max       20000.000000\n",
      "Name: Price, dtype: float64\n",
      "----------------------------------- VehicleType -----------------------------------\n",
      "count     316879\n",
      "unique         8\n",
      "top        sedan\n",
      "freq       91457\n",
      "Name: VehicleType, dtype: object\n",
      "----------------------------------- RegistrationYear -----------------------------------\n",
      "count    354369.000000\n",
      "mean       2004.234448\n",
      "std          90.227958\n",
      "min        1000.000000\n",
      "25%        1999.000000\n",
      "50%        2003.000000\n",
      "75%        2008.000000\n",
      "max        9999.000000\n",
      "Name: RegistrationYear, dtype: float64\n",
      "----------------------------------- Gearbox -----------------------------------\n",
      "count     334536\n",
      "unique         2\n",
      "top       manual\n",
      "freq      268251\n",
      "Name: Gearbox, dtype: object\n",
      "----------------------------------- Power -----------------------------------\n",
      "count    354369.000000\n",
      "mean        110.094337\n",
      "std         189.850405\n",
      "min           0.000000\n",
      "25%          69.000000\n",
      "50%         105.000000\n",
      "75%         143.000000\n",
      "max       20000.000000\n",
      "Name: Power, dtype: float64\n",
      "----------------------------------- Model -----------------------------------\n",
      "count     334664\n",
      "unique       250\n",
      "top         golf\n",
      "freq       29232\n",
      "Name: Model, dtype: object\n",
      "----------------------------------- Kilometer -----------------------------------\n",
      "count    354369.000000\n",
      "mean     128211.172535\n",
      "std       37905.341530\n",
      "min        5000.000000\n",
      "25%      125000.000000\n",
      "50%      150000.000000\n",
      "75%      150000.000000\n",
      "max      150000.000000\n",
      "Name: Kilometer, dtype: float64\n",
      "----------------------------------- RegistrationMonth -----------------------------------\n",
      "count    354369.000000\n",
      "mean          5.714645\n",
      "std           3.726421\n",
      "min           0.000000\n",
      "25%           3.000000\n",
      "50%           6.000000\n",
      "75%           9.000000\n",
      "max          12.000000\n",
      "Name: RegistrationMonth, dtype: float64\n",
      "----------------------------------- FuelType -----------------------------------\n",
      "count     321474\n",
      "unique         7\n",
      "top       petrol\n",
      "freq      216352\n",
      "Name: FuelType, dtype: object\n",
      "----------------------------------- Brand -----------------------------------\n",
      "count         354369\n",
      "unique            40\n",
      "top       volkswagen\n",
      "freq           77013\n",
      "Name: Brand, dtype: object\n",
      "----------------------------------- NotRepaired -----------------------------------\n",
      "count     283215\n",
      "unique         2\n",
      "top           no\n",
      "freq      247161\n",
      "Name: NotRepaired, dtype: object\n",
      "----------------------------------- DateCreated -----------------------------------\n",
      "count                  354369\n",
      "unique                    109\n",
      "top       2016-04-03 00:00:00\n",
      "freq                    13719\n",
      "Name: DateCreated, dtype: object\n",
      "----------------------------------- NumberOfPictures -----------------------------------\n",
      "count    354369.0\n",
      "mean          0.0\n",
      "std           0.0\n",
      "min           0.0\n",
      "25%           0.0\n",
      "50%           0.0\n",
      "75%           0.0\n",
      "max           0.0\n",
      "Name: NumberOfPictures, dtype: float64\n",
      "----------------------------------- PostalCode -----------------------------------\n",
      "count    354369.000000\n",
      "mean      50508.689087\n",
      "std       25783.096248\n",
      "min        1067.000000\n",
      "25%       30165.000000\n",
      "50%       49413.000000\n",
      "75%       71083.000000\n",
      "max       99998.000000\n",
      "Name: PostalCode, dtype: float64\n",
      "----------------------------------- LastSeen -----------------------------------\n",
      "count                  354369\n",
      "unique                 179150\n",
      "top       2016-04-06 13:45:54\n",
      "freq                       17\n",
      "Name: LastSeen, dtype: object\n"
     ]
    }
   ],
   "source": [
    "for i in df.columns:\n",
    "    print('-------'*5,i,'-------'*5)\n",
    "    print(df[i].describe())"
   ]
  },
  {
   "cell_type": "markdown",
   "metadata": {},
   "source": [
    "В столбцах RegistrationYear и Power есть некорректные значения. \n",
    "В столбце RegistrationMonth присутствует 0. Так же есть объявления с ценой автомобиля 0."
   ]
  },
  {
   "cell_type": "markdown",
   "metadata": {},
   "source": [
    "### Предобработка данных"
   ]
  },
  {
   "cell_type": "markdown",
   "metadata": {},
   "source": [
    "Столбцы DateCrawled, RegistrationMonth, DateCreated, NumberOfPictures, PostalCode, LastSeen не являются значимыми. "
   ]
  },
  {
   "cell_type": "code",
   "execution_count": 5,
   "metadata": {},
   "outputs": [],
   "source": [
    "new_df = df[['VehicleType', \n",
    "                         'Gearbox', \n",
    "                         'Power',\n",
    "                         'Kilometer',\n",
    "                         'FuelType',\n",
    "                         'Brand',\n",
    "                         'NotRepaired',\n",
    "                         'RegistrationYear',\n",
    "                         'Model',\n",
    "                         'Price']]"
   ]
  },
  {
   "cell_type": "markdown",
   "metadata": {},
   "source": [
    "Проверим сколько нулей в столбце с ценой."
   ]
  },
  {
   "cell_type": "code",
   "execution_count": 6,
   "metadata": {},
   "outputs": [
    {
     "name": "stdout",
     "output_type": "stream",
     "text": [
      "10772\n",
      "0.030397692800442477\n"
     ]
    }
   ],
   "source": [
    "print(len(df.query('Price == 0')))\n",
    "print(len(df.query('Price == 0'))/ len(df))"
   ]
  },
  {
   "cell_type": "markdown",
   "metadata": {},
   "source": [
    "Всего пропусков 10772 в столбце Price, что составляет 3% от общей выборки, удалим эти значения."
   ]
  },
  {
   "cell_type": "code",
   "execution_count": 7,
   "metadata": {},
   "outputs": [],
   "source": [
    "new_df = new_df.query('Price > 0')\n",
    "#print(len(new_df.query('Price <= 100')))"
   ]
  },
  {
   "cell_type": "markdown",
   "metadata": {},
   "source": [
    "Посмотрим на распределение цены на гистограме."
   ]
  },
  {
   "cell_type": "code",
   "execution_count": 8,
   "metadata": {},
   "outputs": [
    {
     "data": {
      "image/png": "[encoded data removed]",
      "text/plain": [
       "<Figure size 720x504 with 1 Axes>"
      ]
     },
     "metadata": {
      "needs_background": "light"
     },
     "output_type": "display_data"
    },
    {
     "name": "stdout",
     "output_type": "stream",
     "text": [
      "count    343597.000000\n",
      "mean       4555.121974\n",
      "std        4515.058553\n",
      "min           1.000000\n",
      "25%        1200.000000\n",
      "50%        2890.000000\n",
      "75%        6500.000000\n",
      "max       20000.000000\n",
      "Name: Price, dtype: float64\n"
     ]
    }
   ],
   "source": [
    "new_df['Price'].hist(bins = 100, figsize = (10,7))\n",
    "plt.title('Column Price')\n",
    "plt.xlabel('Cost')\n",
    "plt.ylabel('Count')\n",
    "plt.show()\n",
    "print(new_df['Price'].describe())"
   ]
  },
  {
   "cell_type": "markdown",
   "metadata": {},
   "source": [
    "Предположим, что минимальная цена автомобиля равна 400 евро, а максимальная 10000 евро."
   ]
  },
  {
   "cell_type": "code",
   "execution_count": 9,
   "metadata": {},
   "outputs": [],
   "source": [
    "#print(len(new_df.query('Price <= 150')))\n",
    "#print(len(new_df.query('Price <= 400')))"
   ]
  },
  {
   "cell_type": "code",
   "execution_count": 10,
   "metadata": {},
   "outputs": [
    {
     "name": "stdout",
     "output_type": "stream",
     "text": [
      "0.12909707113206856\n"
     ]
    }
   ],
   "source": [
    "new_df = new_df.query('150 < Price < 12500')\n",
    "#new_df['Price'].hist(bins = 100, figsize = (10,7))\n",
    "#plt.show()\n",
    "print((len(df) - len(new_df))/len(df))"
   ]
  },
  {
   "cell_type": "markdown",
   "metadata": {},
   "source": [
    "Удалили 12% данных"
   ]
  },
  {
   "cell_type": "markdown",
   "metadata": {},
   "source": [
    "Разберемся с выбросами в столбце RegistrationYear. Максимальный год выпуска равен 9999, а минимальный 1000."
   ]
  },
  {
   "cell_type": "code",
   "execution_count": 11,
   "metadata": {},
   "outputs": [
    {
     "data": {
      "image/png": "[encoded data removed]",
      "text/plain": [
       "<Figure size 720x504 with 1 Axes>"
      ]
     },
     "metadata": {
      "needs_background": "light"
     },
     "output_type": "display_data"
    }
   ],
   "source": [
    "new_df['RegistrationYear'].hist(bins = 100, figsize = (10,7))\n",
    "plt.show()\n"
   ]
  },
  {
   "cell_type": "code",
   "execution_count": 12,
   "metadata": {},
   "outputs": [
    {
     "data": {
      "text/plain": [
       "Timestamp('2016-04-07 14:36:58')"
      ]
     },
     "execution_count": 12,
     "metadata": {},
     "output_type": "execute_result"
    }
   ],
   "source": [
    "date = pd.to_datetime(df['DateCrawled'])\n",
    "date.max()"
   ]
  },
  {
   "cell_type": "markdown",
   "metadata": {},
   "source": [
    "В 2016 была скачана последняя анкета из базы. Этот год будет считать максимальным годом выпуска. Первый автомобиль с автомобиль с двигателем внутреннего сгорания был построен в 1885, этот год будем считать минимальным."
   ]
  },
  {
   "cell_type": "code",
   "execution_count": 13,
   "metadata": {},
   "outputs": [
    {
     "data": {
      "image/png": "[encoded data removed]",
      "text/plain": [
       "<Figure size 720x504 with 1 Axes>"
      ]
     },
     "metadata": {
      "needs_background": "light"
     },
     "output_type": "display_data"
    }
   ],
   "source": [
    "new_df = new_df.query('1885 < RegistrationYear < 2016')\n",
    "new_df['RegistrationYear'].hist(bins = 100, figsize = (10,7))\n",
    "plt.show()"
   ]
  },
  {
   "cell_type": "markdown",
   "metadata": {},
   "source": [
    "Удалим записи об автомобилях до 1960 года."
   ]
  },
  {
   "cell_type": "code",
   "execution_count": 14,
   "metadata": {},
   "outputs": [
    {
     "name": "stdout",
     "output_type": "stream",
     "text": [
      "0.19062897713964821\n"
     ]
    }
   ],
   "source": [
    "new_df = new_df.query('1960 < RegistrationYear < 2016')\n",
    "print((len(df) - len(new_df))/len(df))"
   ]
  },
  {
   "cell_type": "markdown",
   "metadata": {},
   "source": [
    "Теперь выбросы в столбце Power. Минмальное значение равно 0, а максимальное 20000.\n",
    "Сразу отбросим значения больше 1500"
   ]
  },
  {
   "cell_type": "code",
   "execution_count": 15,
   "metadata": {},
   "outputs": [
    {
     "data": {
      "image/png": "[encoded data removed]",
      "text/plain": [
       "<Figure size 720x504 with 1 Axes>"
      ]
     },
     "metadata": {
      "needs_background": "light"
     },
     "output_type": "display_data"
    }
   ],
   "source": [
    "new_df = new_df.query('Power < 1500')\n",
    "new_df['Power'].hist(bins = 100, figsize = (10,7))\n",
    "plt.show()"
   ]
  },
  {
   "cell_type": "code",
   "execution_count": 16,
   "metadata": {},
   "outputs": [
    {
     "name": "stdout",
     "output_type": "stream",
     "text": [
      "0.26893718129971866\n"
     ]
    },
    {
     "data": {
      "image/png": "[encoded data removed]",
      "text/plain": [
       "<Figure size 720x504 with 1 Axes>"
      ]
     },
     "metadata": {
      "needs_background": "light"
     },
     "output_type": "display_data"
    }
   ],
   "source": [
    "new_df = new_df.query('15 <= Power < 401')\n",
    "new_df['Power'].hist(bins = 100, figsize = (10,7))\n",
    "print((len(df) - len(new_df))/len(df))"
   ]
  },
  {
   "cell_type": "markdown",
   "metadata": {},
   "source": [
    "Пропуски в Gearbox заменим на значение manual, в NotRepaired на yes, model на unknown. Оставшиеся пропуски в столбцах VehicleType и FuelType удалим."
   ]
  },
  {
   "cell_type": "code",
   "execution_count": 17,
   "metadata": {
    "scrolled": false
   },
   "outputs": [
    {
     "name": "stdout",
     "output_type": "stream",
     "text": [
      "0.26893718129971866\n",
      "manual    208651\n",
      "auto       45923\n",
      "Name: Gearbox, dtype: int64 no     195228\n",
      "yes     26366\n",
      "Name: NotRepaired, dtype: int64\n"
     ]
    }
   ],
   "source": [
    "print((len(df) - len(new_df))/len(df))\n",
    "print(new_df['Gearbox'].value_counts(), new_df['NotRepaired'].value_counts())"
   ]
  },
  {
   "cell_type": "code",
   "execution_count": 18,
   "metadata": {},
   "outputs": [],
   "source": [
    "new_df.fillna({'Gearbox':'manual', \n",
    "                           'NotRepaired':'yes',\n",
    "                           'Model':'unknown'},\n",
    "                          inplace=True)\n",
    "new_df = new_df.dropna()"
   ]
  },
  {
   "cell_type": "markdown",
   "metadata": {},
   "source": [
    "Столбцы 'VehicleType','FuelType','Brand','Model', 'Gearbox' и ''NotRepaired содержат категориальные переменные. Необходимо их закодировать.\n",
    "Стобцы 'Gearbox' и ''NotRepaired содержат всего два значения, можем их просто заменить на 0 и 1."
   ]
  },
  {
   "cell_type": "code",
   "execution_count": 19,
   "metadata": {},
   "outputs": [],
   "source": [
    "coding = {'Gearbox' : {\"manual\": 1, 'auto': 0},\n",
    "         'NotRepaired': {'yes': 1, 'no': 0}}\n",
    "new_df = new_df.replace(coding)\n",
    "#display(new_df.head())"
   ]
  },
  {
   "cell_type": "code",
   "execution_count": 20,
   "metadata": {},
   "outputs": [],
   "source": [
    "new_df = new_df.rename(columns={'Gearbox': 'ManualGearbox'})\n",
    "#display(new_df.head())"
   ]
  },
  {
   "cell_type": "code",
   "execution_count": 21,
   "metadata": {},
   "outputs": [
    {
     "data": {
      "text/plain": [
       "244734"
      ]
     },
     "metadata": {},
     "output_type": "display_data"
    },
    {
     "data": {
      "text/plain": [
       "244734"
      ]
     },
     "metadata": {},
     "output_type": "display_data"
    },
    {
     "name": "stdout",
     "output_type": "stream",
     "text": [
      "0.3093808995707864\n"
     ]
    }
   ],
   "source": [
    "encoder = OrdinalEncoder()\n",
    "new_df[\"VehicleType_code\"] = encoder.fit_transform(new_df[[\"VehicleType\"]])\n",
    "new_df[\"FuelType_code\"] = encoder.fit_transform(new_df[[\"FuelType\"]])\n",
    "new_df[\"Brand_code\"] = encoder.fit_transform(new_df[[\"Brand\"]])\n",
    "new_df[\"Model_code\"] = encoder.fit_transform(new_df[[\"Model\"]])\n",
    "new_df[\"VehicleType_code\"] = new_df[\"VehicleType_code\"].astype('int')\n",
    "new_df[\"FuelType_code\"] = new_df[\"FuelType_code\"].astype('int')\n",
    "new_df[\"Brand_code\"] = new_df[\"Brand_code\"].astype('int')\n",
    "new_df[\"Model_code\"] = new_df[\"Model_code\"].astype('int')\n",
    "oe_df = new_df.drop([\"VehicleType\",\"FuelType\",\"Brand\",\"Model\"], axis = 1)\n",
    "features = oe_df.drop('Price', axis = 1)\n",
    "target = oe_df['Price']\n",
    "display(len(features),len(new_df))\n",
    "print((len(df) - len(new_df))/len(df))"
   ]
  },
  {
   "cell_type": "code",
   "execution_count": 22,
   "metadata": {},
   "outputs": [],
   "source": [
    "features_train, features_test, target_train, target_test = train_test_split(\n",
    "    features, target, test_size=0.25, random_state=421)"
   ]
  },
  {
   "cell_type": "markdown",
   "metadata": {},
   "source": [
    "## Обучение моделей"
   ]
  },
  {
   "cell_type": "markdown",
   "metadata": {},
   "source": [
    "### CatBoost\n"
   ]
  },
  {
   "cell_type": "code",
   "execution_count": 23,
   "metadata": {},
   "outputs": [
    {
     "name": "stdout",
     "output_type": "stream",
     "text": [
      "RMS = 1215.3678897720288\n",
      "CPU times: user 6min 1s, sys: 50.9 s, total: 6min 52s\n",
      "Wall time: 9min 44s\n"
     ]
    }
   ],
   "source": [
    "%%time\n",
    "\n",
    "regressor = CatBoostRegressor(learning_rate=0.5,\n",
    "                              iterations = 200,\n",
    "                              random_state=19072020, \n",
    "                              verbose=False, \n",
    "                              cat_features=['VehicleType_code','FuelType_code','Brand_code','Model_code']) \n",
    "\n",
    "cv_RMSE_CBR = (cross_val_score(regressor,\n",
    "                                features_train, \n",
    "                                target_train, \n",
    "                                cv=5, \n",
    "                                scoring='neg_mean_squared_error').mean() * -1) ** 0.5\n",
    "print('RMS =', cv_RMSE_CBR)"
   ]
  },
  {
   "cell_type": "code",
   "execution_count": 24,
   "metadata": {},
   "outputs": [
    {
     "name": "stdout",
     "output_type": "stream",
     "text": [
      "RMSE test =  1212.1931215766895\n",
      "CPU times: user 1min 29s, sys: 14.1 s, total: 1min 43s\n",
      "Wall time: 3min 8s\n"
     ]
    }
   ],
   "source": [
    "%%time\n",
    "\n",
    "regressor.fit(features_train, target_train)\n",
    "regressor_pred = regressor.predict(features_test)\n",
    "print('RMSE test = ',mean_squared_error(target_test, regressor_pred)**(.5))"
   ]
  },
  {
   "cell_type": "markdown",
   "metadata": {},
   "source": [
    "### Linear Regression"
   ]
  },
  {
   "cell_type": "code",
   "execution_count": 25,
   "metadata": {},
   "outputs": [
    {
     "name": "stdout",
     "output_type": "stream",
     "text": [
      "RMSE = 2052.8656176861064\n",
      "CPU times: user 494 ms, sys: 420 ms, total: 914 ms\n",
      "Wall time: 2.7 s\n"
     ]
    }
   ],
   "source": [
    "%%time\n",
    "\n",
    "LR_model = LinearRegression()\n",
    "cv_RMSE_LR = (cross_val_score(LR_model, \n",
    "                             features_train, \n",
    "                             target_train, \n",
    "                             cv=5, scoring='neg_mean_squared_error').mean() * -1) ** 0.5\n",
    "print('RMSE =', cv_RMSE_LR)\n"
   ]
  },
  {
   "cell_type": "code",
   "execution_count": 26,
   "metadata": {},
   "outputs": [
    {
     "name": "stdout",
     "output_type": "stream",
     "text": [
      "RMSE test =  2048.4514064013024\n",
      "CPU times: user 76.5 ms, sys: 41 ms, total: 117 ms\n",
      "Wall time: 496 ms\n"
     ]
    }
   ],
   "source": [
    "%%time\n",
    "LR_model.fit(features_train,target_train)\n",
    "lr_pred = LR_model.predict(features_test)\n",
    "print('RMSE test = ',mean_squared_error(target_test, lr_pred)**(.5))"
   ]
  },
  {
   "cell_type": "markdown",
   "metadata": {},
   "source": []
  },
  {
   "cell_type": "markdown",
   "metadata": {},
   "source": [
    "### LightGBM"
   ]
  },
  {
   "cell_type": "code",
   "execution_count": 27,
   "metadata": {},
   "outputs": [
    {
     "name": "stdout",
     "output_type": "stream",
     "text": [
      "{'learning_rate': 0.1, 'num_leaves': 200, 'random_state': 123}\n",
      "1262.331331 for {'learning_rate': 0.1, 'num_leaves': 31, 'random_state': 123}\n",
      "1210.816752 for {'learning_rate': 0.1, 'num_leaves': 100, 'random_state': 123}\n",
      "1192.829086 for {'learning_rate': 0.1, 'num_leaves': 200, 'random_state': 123}\n",
      "1226.625139 for {'learning_rate': 0.3, 'num_leaves': 31, 'random_state': 123}\n",
      "1199.617888 for {'learning_rate': 0.3, 'num_leaves': 100, 'random_state': 123}\n",
      "1194.315368 for {'learning_rate': 0.3, 'num_leaves': 200, 'random_state': 123}\n",
      "1226.053699 for {'learning_rate': 0.5, 'num_leaves': 31, 'random_state': 123}\n",
      "1218.970233 for {'learning_rate': 0.5, 'num_leaves': 100, 'random_state': 123}\n",
      "1220.018886 for {'learning_rate': 0.5, 'num_leaves': 200, 'random_state': 123}\n",
      "RMSE =  1192.8290864714122\n",
      "CPU times: user 24min 53s, sys: 6.26 s, total: 24min 59s\n",
      "Wall time: 38min 36s\n"
     ]
    }
   ],
   "source": [
    "%%time\n",
    "\n",
    "regressor = LGBMRegressor() \n",
    "hyperparams = [{'num_leaves':[31, 100, 200], \n",
    "                'learning_rate':[0.1, 0.3, 0.5],\n",
    "                'random_state':[123]}]\n",
    "\n",
    "\n",
    "clf = GridSearchCV(regressor, hyperparams, scoring='neg_mean_squared_error')\n",
    "clf.fit(features_train, target_train)\n",
    "print(clf.best_params_)\n",
    "means = clf.cv_results_['mean_test_score']\n",
    "stds = clf.cv_results_['std_test_score']\n",
    "for mean, std, params in zip(means, stds, clf.cv_results_['params']):\n",
    "    print(\"%0.6f for %r\"% ((mean*-1)** 0.5, params))\n",
    "\n",
    "cv_RMSE_LGBMR = (max(means)*-1) ** 0.5\n",
    "print('RMSE = ',cv_RMSE_LGBMR)"
   ]
  },
  {
   "cell_type": "code",
   "execution_count": 28,
   "metadata": {},
   "outputs": [
    {
     "name": "stdout",
     "output_type": "stream",
     "text": [
      "RMSE dummy =  1184.5455858515757\n",
      "CPU times: user 1.4 s, sys: 0 ns, total: 1.4 s\n",
      "Wall time: 1.59 s\n"
     ]
    }
   ],
   "source": [
    "%%time\n",
    "#LGBMRTest = clf.predict(features_test)\n",
    "print('RMSE dummy = ',mean_squared_error(clf.predict(features_test), target_test)**(.5))"
   ]
  },
  {
   "cell_type": "markdown",
   "metadata": {},
   "source": [
    "## Анализ моделей"
   ]
  },
  {
   "cell_type": "code",
   "execution_count": 29,
   "metadata": {},
   "outputs": [
    {
     "name": "stdout",
     "output_type": "stream",
     "text": [
      "RMSE dummy =  3103.6992204763083\n"
     ]
    }
   ],
   "source": [
    "dummy_model = DummyRegressor()\n",
    "dummy_model.fit(features_train, target_train)\n",
    "dummy_predict = dummy_model.predict(features_test)\n",
    "print('RMSE dummy = ',mean_squared_error(target_test, dummy_predict)**(.5))"
   ]
  },
  {
   "cell_type": "code",
   "execution_count": 30,
   "metadata": {},
   "outputs": [
    {
     "data": {
      "text/html": [
       "<div>\n",
       "<style scoped>\n",
       "    .dataframe tbody tr th:only-of-type {\n",
       "        vertical-align: middle;\n",
       "    }\n",
       "\n",
       "    .dataframe tbody tr th {\n",
       "        vertical-align: top;\n",
       "    }\n",
       "\n",
       "    .dataframe thead th {\n",
       "        text-align: right;\n",
       "    }\n",
       "</style>\n",
       "<table border=\"1\" class=\"dataframe\">\n",
       "  <thead>\n",
       "    <tr style=\"text-align: right;\">\n",
       "      <th></th>\n",
       "      <th>fit_time</th>\n",
       "      <th>predict_time</th>\n",
       "      <th>RMSE</th>\n",
       "    </tr>\n",
       "  </thead>\n",
       "  <tbody>\n",
       "    <tr>\n",
       "      <td>Catboost</td>\n",
       "      <td>6min 56s</td>\n",
       "      <td>1min 42s</td>\n",
       "      <td>1212</td>\n",
       "    </tr>\n",
       "    <tr>\n",
       "      <td>Linear</td>\n",
       "      <td>982 ms</td>\n",
       "      <td>138 ms</td>\n",
       "      <td>2048</td>\n",
       "    </tr>\n",
       "    <tr>\n",
       "      <td>LGBM</td>\n",
       "      <td>4min.</td>\n",
       "      <td>1.22 s</td>\n",
       "      <td>1184</td>\n",
       "    </tr>\n",
       "    <tr>\n",
       "      <td>Dummy</td>\n",
       "      <td>-.</td>\n",
       "      <td>-</td>\n",
       "      <td>3103</td>\n",
       "    </tr>\n",
       "  </tbody>\n",
       "</table>\n",
       "</div>"
      ],
      "text/plain": [
       "          fit_time predict_time  RMSE\n",
       "Catboost  6min 56s     1min 42s  1212\n",
       "Linear      982 ms       138 ms  2048\n",
       "LGBM         4min.       1.22 s  1184\n",
       "Dummy           -.            -  3103"
      ]
     },
     "execution_count": 30,
     "metadata": {},
     "output_type": "execute_result"
    }
   ],
   "source": [
    "data = [[\"6min 56s\", \"1min 42s\", 1212],\n",
    "        [\"982 ms\", \"138 ms\", 2048],\n",
    "        [\"4min.\", \"1.22 s\", 1184],\n",
    "        [\"-.\", \"-\", 3103]]\n",
    "model = [\"Catboost\", \"Linear\", \"LGBM\",\"Dummy\"]\n",
    "pd.DataFrame(data=data, index=model, columns=[\"fit_time\", \"predict_time\", \"RMSE\"])"
   ]
  },
  {
   "cell_type": "markdown",
   "metadata": {},
   "source": [
    "### Относительно остальных моделей по соотношению время-rmse лучше всего себя показала LGBM."
   ]
  },
  {
   "cell_type": "code",
   "execution_count": null,
   "metadata": {},
   "outputs": [],
   "source": []
  }
 ],
 "metadata": {
  "ExecuteTimeLog": [
   {
    "duration": 551,
    "start_time": "2021-07-07T12:26:33.995Z"
   },
   {
    "duration": 735,
    "start_time": "2021-07-07T12:26:34.548Z"
   },
   {
    "duration": 880,
    "start_time": "2021-07-07T12:26:56.101Z"
   },
   {
    "duration": 1052,
    "start_time": "2021-07-07T12:28:04.456Z"
   },
   {
    "duration": 996,
    "start_time": "2021-07-07T12:28:26.971Z"
   },
   {
    "duration": 3,
    "start_time": "2021-07-07T12:31:21.073Z"
   },
   {
    "duration": 16,
    "start_time": "2021-07-07T12:31:52.082Z"
   },
   {
    "duration": 18,
    "start_time": "2021-07-07T12:32:04.661Z"
   },
   {
    "duration": 1021,
    "start_time": "2021-07-07T12:32:30.193Z"
   },
   {
    "duration": 947,
    "start_time": "2021-07-07T12:55:47.970Z"
   },
   {
    "duration": 959,
    "start_time": "2021-07-07T12:56:04.109Z"
   },
   {
    "duration": 66,
    "start_time": "2021-07-07T13:23:04.380Z"
   },
   {
    "duration": 282,
    "start_time": "2021-07-07T13:23:08.045Z"
   },
   {
    "duration": 492,
    "start_time": "2021-07-07T13:23:21.137Z"
   },
   {
    "duration": 522,
    "start_time": "2021-07-07T13:23:23.730Z"
   },
   {
    "duration": 550,
    "start_time": "2021-07-07T13:24:29.480Z"
   },
   {
    "duration": 46,
    "start_time": "2021-07-07T13:28:06.634Z"
   },
   {
    "duration": 1065,
    "start_time": "2021-07-07T13:31:03.775Z"
   },
   {
    "duration": 1026,
    "start_time": "2021-07-07T13:31:04.842Z"
   },
   {
    "duration": 1043,
    "start_time": "2021-07-07T13:31:05.872Z"
   },
   {
    "duration": 594,
    "start_time": "2021-07-07T13:31:06.916Z"
   },
   {
    "duration": 290,
    "start_time": "2021-07-07T13:32:42.756Z"
   },
   {
    "duration": 219,
    "start_time": "2021-07-07T13:32:53.287Z"
   },
   {
    "duration": 51,
    "start_time": "2021-07-07T13:33:35.048Z"
   },
   {
    "duration": 218,
    "start_time": "2021-07-07T13:33:47.422Z"
   },
   {
    "duration": 170,
    "start_time": "2021-07-07T13:34:23.044Z"
   },
   {
    "duration": 1176,
    "start_time": "2021-07-07T13:34:31.260Z"
   },
   {
    "duration": 1029,
    "start_time": "2021-07-07T13:34:32.438Z"
   },
   {
    "duration": 1015,
    "start_time": "2021-07-07T13:34:33.469Z"
   },
   {
    "duration": 51,
    "start_time": "2021-07-07T13:34:34.486Z"
   },
   {
    "duration": 261,
    "start_time": "2021-07-07T13:34:45.773Z"
   },
   {
    "duration": 171,
    "start_time": "2021-07-07T13:34:53.814Z"
   },
   {
    "duration": 1117,
    "start_time": "2021-07-07T13:34:59.802Z"
   },
   {
    "duration": 1033,
    "start_time": "2021-07-07T13:35:00.921Z"
   },
   {
    "duration": 1047,
    "start_time": "2021-07-07T13:35:01.956Z"
   },
   {
    "duration": 47,
    "start_time": "2021-07-07T13:35:03.005Z"
   },
   {
    "duration": 88,
    "start_time": "2021-07-07T13:35:03.053Z"
   },
   {
    "duration": 15,
    "start_time": "2021-07-07T13:40:24.261Z"
   },
   {
    "duration": 17,
    "start_time": "2021-07-07T13:40:56.477Z"
   },
   {
    "duration": 273,
    "start_time": "2021-07-07T13:42:11.039Z"
   },
   {
    "duration": 2,
    "start_time": "2021-07-07T13:42:15.682Z"
   },
   {
    "duration": 977,
    "start_time": "2021-07-07T13:42:15.847Z"
   },
   {
    "duration": 968,
    "start_time": "2021-07-07T13:42:16.826Z"
   },
   {
    "duration": 39,
    "start_time": "2021-07-07T13:42:17.796Z"
   },
   {
    "duration": 21,
    "start_time": "2021-07-07T13:42:17.837Z"
   },
   {
    "duration": 33,
    "start_time": "2021-07-07T13:42:27.599Z"
   },
   {
    "duration": 8,
    "start_time": "2021-07-07T13:45:43.955Z"
   },
   {
    "duration": 197,
    "start_time": "2021-07-07T13:45:47.903Z"
   },
   {
    "duration": 427,
    "start_time": "2021-07-07T13:46:09.598Z"
   },
   {
    "duration": 403,
    "start_time": "2021-07-07T13:46:21.993Z"
   },
   {
    "duration": 435,
    "start_time": "2021-07-07T13:46:55.834Z"
   },
   {
    "duration": 35,
    "start_time": "2021-07-07T13:49:26.957Z"
   },
   {
    "duration": 477,
    "start_time": "2021-07-07T13:49:36.047Z"
   },
   {
    "duration": 393,
    "start_time": "2021-07-07T13:49:44.568Z"
   },
   {
    "duration": 409,
    "start_time": "2021-07-07T13:50:01.260Z"
   },
   {
    "duration": 26,
    "start_time": "2021-07-07T13:52:47.903Z"
   },
   {
    "duration": 379,
    "start_time": "2021-07-07T13:54:32.675Z"
   },
   {
    "duration": 365,
    "start_time": "2021-07-07T13:54:44.367Z"
   },
   {
    "duration": 4292,
    "start_time": "2021-07-07T13:57:23.105Z"
   },
   {
    "duration": 12,
    "start_time": "2021-07-07T13:58:00.274Z"
   },
   {
    "duration": 75,
    "start_time": "2021-07-07T13:58:04.652Z"
   },
   {
    "duration": 24,
    "start_time": "2021-07-07T14:06:50.510Z"
   },
   {
    "duration": 4,
    "start_time": "2021-07-07T14:06:53.312Z"
   },
   {
    "duration": 967,
    "start_time": "2021-07-07T14:06:53.472Z"
   },
   {
    "duration": 959,
    "start_time": "2021-07-07T14:06:54.441Z"
   },
   {
    "duration": 18,
    "start_time": "2021-07-07T14:06:55.402Z"
   },
   {
    "duration": 24,
    "start_time": "2021-07-07T14:06:55.422Z"
   },
   {
    "duration": 63,
    "start_time": "2021-07-07T14:06:55.448Z"
   },
   {
    "duration": 515,
    "start_time": "2021-07-07T14:06:55.513Z"
   },
   {
    "duration": 45,
    "start_time": "2021-07-07T14:06:56.264Z"
   },
   {
    "duration": 367,
    "start_time": "2021-07-07T14:06:56.979Z"
   },
   {
    "duration": 173,
    "start_time": "2021-07-07T14:06:57.536Z"
   },
   {
    "duration": 50,
    "start_time": "2021-07-07T14:07:04.514Z"
   },
   {
    "duration": 1352,
    "start_time": "2021-07-07T14:10:47.178Z"
   },
   {
    "duration": 268,
    "start_time": "2021-07-07T14:11:10.808Z"
   },
   {
    "duration": 218,
    "start_time": "2021-07-07T14:11:18.119Z"
   },
   {
    "duration": 52,
    "start_time": "2021-07-07T14:12:28.490Z"
   },
   {
    "duration": 178,
    "start_time": "2021-07-07T14:13:46.566Z"
   },
   {
    "duration": 179,
    "start_time": "2021-07-07T14:13:50.768Z"
   },
   {
    "duration": 183,
    "start_time": "2021-07-07T14:14:24.663Z"
   },
   {
    "duration": 3,
    "start_time": "2021-07-07T14:14:37.234Z"
   },
   {
    "duration": 175,
    "start_time": "2021-07-07T14:14:41.589Z"
   },
   {
    "duration": 175,
    "start_time": "2021-07-07T14:14:55.803Z"
   },
   {
    "duration": 51,
    "start_time": "2021-07-07T14:15:18.006Z"
   },
   {
    "duration": 226,
    "start_time": "2021-07-07T14:15:31.276Z"
   },
   {
    "duration": 174,
    "start_time": "2021-07-07T14:15:42.700Z"
   },
   {
    "duration": 55,
    "start_time": "2021-07-07T14:15:49.282Z"
   },
   {
    "duration": 252,
    "start_time": "2021-07-07T14:20:09.405Z"
   },
   {
    "duration": 3,
    "start_time": "2021-07-07T14:20:20.956Z"
   },
   {
    "duration": 927,
    "start_time": "2021-07-07T14:20:21.118Z"
   },
   {
    "duration": 1014,
    "start_time": "2021-07-07T14:20:22.047Z"
   },
   {
    "duration": 25,
    "start_time": "2021-07-07T14:20:23.063Z"
   },
   {
    "duration": 26,
    "start_time": "2021-07-07T14:20:23.090Z"
   },
   {
    "duration": 42,
    "start_time": "2021-07-07T14:20:23.320Z"
   },
   {
    "duration": 449,
    "start_time": "2021-07-07T14:20:23.364Z"
   },
   {
    "duration": 42,
    "start_time": "2021-07-07T14:20:23.815Z"
   },
   {
    "duration": 391,
    "start_time": "2021-07-07T14:20:23.859Z"
   },
   {
    "duration": 259,
    "start_time": "2021-07-07T14:20:24.253Z"
   },
   {
    "duration": 53,
    "start_time": "2021-07-07T14:21:25.933Z"
   },
   {
    "duration": 427,
    "start_time": "2021-07-07T14:27:47.693Z"
   },
   {
    "duration": 411,
    "start_time": "2021-07-07T14:27:58.328Z"
   },
   {
    "duration": 39,
    "start_time": "2021-07-07T14:30:03.689Z"
   },
   {
    "duration": 39,
    "start_time": "2021-07-07T14:30:18.370Z"
   },
   {
    "duration": 493,
    "start_time": "2021-07-07T14:37:21.142Z"
   },
   {
    "duration": 393,
    "start_time": "2021-07-07T14:37:25.649Z"
   },
   {
    "duration": 383,
    "start_time": "2021-07-07T14:38:51.945Z"
   },
   {
    "duration": 421,
    "start_time": "2021-07-07T14:39:25.349Z"
   },
   {
    "duration": 433,
    "start_time": "2021-07-07T14:40:48.490Z"
   },
   {
    "duration": 556,
    "start_time": "2021-07-07T14:40:54.538Z"
   },
   {
    "duration": 436,
    "start_time": "2021-07-07T14:41:04.952Z"
   },
   {
    "duration": 457,
    "start_time": "2021-07-07T14:42:00.862Z"
   },
   {
    "duration": 468,
    "start_time": "2021-07-07T14:42:13.158Z"
   },
   {
    "duration": 464,
    "start_time": "2021-07-07T14:42:58.780Z"
   },
   {
    "duration": 433,
    "start_time": "2021-07-07T14:43:21.514Z"
   },
   {
    "duration": 207,
    "start_time": "2021-07-07T14:47:27.358Z"
   },
   {
    "duration": 318,
    "start_time": "2021-07-07T14:47:32.281Z"
   },
   {
    "duration": 110,
    "start_time": "2021-07-07T14:47:36.184Z"
   },
   {
    "duration": 1622,
    "start_time": "2021-07-09T08:15:40.331Z"
   },
   {
    "duration": 1695,
    "start_time": "2021-07-09T08:15:41.961Z"
   },
   {
    "duration": 1485,
    "start_time": "2021-07-09T08:15:52.332Z"
   },
   {
    "duration": 40,
    "start_time": "2021-07-09T08:15:53.821Z"
   },
   {
    "duration": 72,
    "start_time": "2021-07-09T08:15:53.864Z"
   },
   {
    "duration": 92,
    "start_time": "2021-07-09T08:15:53.946Z"
   },
   {
    "duration": 717,
    "start_time": "2021-07-09T08:15:54.478Z"
   },
   {
    "duration": 104,
    "start_time": "2021-07-09T08:15:55.211Z"
   },
   {
    "duration": 1054,
    "start_time": "2021-07-09T08:15:55.318Z"
   },
   {
    "duration": 155,
    "start_time": "2021-07-09T08:15:56.375Z"
   },
   {
    "duration": 111,
    "start_time": "2021-07-09T08:15:56.534Z"
   },
   {
    "duration": 91,
    "start_time": "2021-07-09T08:15:56.649Z"
   },
   {
    "duration": 836,
    "start_time": "2021-07-09T08:15:56.743Z"
   },
   {
    "duration": 822,
    "start_time": "2021-07-09T08:15:57.582Z"
   },
   {
    "duration": 114,
    "start_time": "2021-07-09T08:15:58.410Z"
   },
   {
    "duration": -139,
    "start_time": "2021-07-09T08:15:58.665Z"
   },
   {
    "duration": 156,
    "start_time": "2021-07-09T08:16:06.664Z"
   },
   {
    "duration": 42,
    "start_time": "2021-07-09T08:17:24.713Z"
   },
   {
    "duration": 47,
    "start_time": "2021-07-09T08:17:28.399Z"
   },
   {
    "duration": 146,
    "start_time": "2021-07-09T08:22:17.347Z"
   },
   {
    "duration": 146,
    "start_time": "2021-07-09T08:22:23.920Z"
   },
   {
    "duration": 663,
    "start_time": "2021-07-09T08:22:44.510Z"
   },
   {
    "duration": 162,
    "start_time": "2021-07-09T08:22:55.725Z"
   },
   {
    "duration": 167,
    "start_time": "2021-07-09T08:23:03.985Z"
   },
   {
    "duration": 161,
    "start_time": "2021-07-09T08:24:11.936Z"
   },
   {
    "duration": 326,
    "start_time": "2021-07-09T08:24:20.826Z"
   },
   {
    "duration": 4,
    "start_time": "2021-07-09T08:24:54.681Z"
   },
   {
    "duration": 1527,
    "start_time": "2021-07-09T08:24:54.915Z"
   },
   {
    "duration": 1491,
    "start_time": "2021-07-09T08:24:56.444Z"
   },
   {
    "duration": 28,
    "start_time": "2021-07-09T08:24:57.938Z"
   },
   {
    "duration": 57,
    "start_time": "2021-07-09T08:24:57.969Z"
   },
   {
    "duration": 87,
    "start_time": "2021-07-09T08:24:58.029Z"
   },
   {
    "duration": 712,
    "start_time": "2021-07-09T08:24:58.119Z"
   },
   {
    "duration": 90,
    "start_time": "2021-07-09T08:24:58.834Z"
   },
   {
    "duration": 638,
    "start_time": "2021-07-09T08:24:58.926Z"
   },
   {
    "duration": 91,
    "start_time": "2021-07-09T08:24:59.567Z"
   },
   {
    "duration": 65,
    "start_time": "2021-07-09T08:24:59.870Z"
   },
   {
    "duration": 67,
    "start_time": "2021-07-09T08:25:00.656Z"
   },
   {
    "duration": 754,
    "start_time": "2021-07-09T08:25:01.284Z"
   },
   {
    "duration": 775,
    "start_time": "2021-07-09T08:25:02.041Z"
   },
   {
    "duration": 309,
    "start_time": "2021-07-09T08:25:02.819Z"
   },
   {
    "duration": 42,
    "start_time": "2021-07-09T08:29:34.031Z"
   },
   {
    "duration": 42,
    "start_time": "2021-07-09T08:29:45.522Z"
   },
   {
    "duration": 53,
    "start_time": "2021-07-09T08:31:09.950Z"
   },
   {
    "duration": 302,
    "start_time": "2021-07-09T08:32:30.178Z"
   },
   {
    "duration": 194,
    "start_time": "2021-07-09T08:32:54.507Z"
   },
   {
    "duration": 186,
    "start_time": "2021-07-09T08:33:20.023Z"
   },
   {
    "duration": 5,
    "start_time": "2021-07-09T08:33:53.250Z"
   },
   {
    "duration": 1502,
    "start_time": "2021-07-09T08:33:53.443Z"
   },
   {
    "duration": 1492,
    "start_time": "2021-07-09T08:33:54.948Z"
   },
   {
    "duration": 67,
    "start_time": "2021-07-09T08:33:56.444Z"
   },
   {
    "duration": 42,
    "start_time": "2021-07-09T08:33:56.514Z"
   },
   {
    "duration": 96,
    "start_time": "2021-07-09T08:33:56.558Z"
   },
   {
    "duration": 700,
    "start_time": "2021-07-09T08:33:56.656Z"
   },
   {
    "duration": 95,
    "start_time": "2021-07-09T08:33:57.358Z"
   },
   {
    "duration": 751,
    "start_time": "2021-07-09T08:33:57.456Z"
   },
   {
    "duration": 105,
    "start_time": "2021-07-09T08:33:58.209Z"
   },
   {
    "duration": 73,
    "start_time": "2021-07-09T08:33:58.316Z"
   },
   {
    "duration": 76,
    "start_time": "2021-07-09T08:33:58.391Z"
   },
   {
    "duration": 730,
    "start_time": "2021-07-09T08:33:58.469Z"
   },
   {
    "duration": 752,
    "start_time": "2021-07-09T08:33:59.202Z"
   },
   {
    "duration": 57,
    "start_time": "2021-07-09T08:33:59.957Z"
   },
   {
    "duration": 417,
    "start_time": "2021-07-09T08:36:31.323Z"
   },
   {
    "duration": 167,
    "start_time": "2021-07-09T08:36:38.777Z"
   },
   {
    "duration": 63,
    "start_time": "2021-07-09T08:37:20.624Z"
   },
   {
    "duration": 164,
    "start_time": "2021-07-09T08:37:39.548Z"
   },
   {
    "duration": 150,
    "start_time": "2021-07-09T08:38:42.670Z"
   },
   {
    "duration": 35,
    "start_time": "2021-07-09T08:38:51.198Z"
   },
   {
    "duration": 38,
    "start_time": "2021-07-09T08:38:53.685Z"
   },
   {
    "duration": 65,
    "start_time": "2021-07-09T08:38:57.217Z"
   },
   {
    "duration": 50,
    "start_time": "2021-07-09T08:39:26.058Z"
   },
   {
    "duration": 705,
    "start_time": "2021-07-09T08:39:27.335Z"
   },
   {
    "duration": 43,
    "start_time": "2021-07-09T08:39:28.043Z"
   },
   {
    "duration": 647,
    "start_time": "2021-07-09T08:39:28.869Z"
   },
   {
    "duration": 91,
    "start_time": "2021-07-09T08:39:29.520Z"
   },
   {
    "duration": 41,
    "start_time": "2021-07-09T08:39:29.614Z"
   },
   {
    "duration": 42,
    "start_time": "2021-07-09T08:39:29.713Z"
   },
   {
    "duration": 943,
    "start_time": "2021-07-09T08:39:30.061Z"
   },
   {
    "duration": 748,
    "start_time": "2021-07-09T08:39:31.009Z"
   },
   {
    "duration": 125,
    "start_time": "2021-07-09T08:39:31.760Z"
   },
   {
    "duration": 1553,
    "start_time": "2021-07-09T08:39:39.886Z"
   },
   {
    "duration": 1576,
    "start_time": "2021-07-09T08:39:41.441Z"
   },
   {
    "duration": 1438,
    "start_time": "2021-07-09T08:39:43.023Z"
   },
   {
    "duration": 53,
    "start_time": "2021-07-09T08:39:44.463Z"
   },
   {
    "duration": 46,
    "start_time": "2021-07-09T08:39:44.518Z"
   },
   {
    "duration": 74,
    "start_time": "2021-07-09T08:39:44.566Z"
   },
   {
    "duration": 716,
    "start_time": "2021-07-09T08:39:44.644Z"
   },
   {
    "duration": 71,
    "start_time": "2021-07-09T08:39:45.362Z"
   },
   {
    "duration": 633,
    "start_time": "2021-07-09T08:39:45.436Z"
   },
   {
    "duration": 93,
    "start_time": "2021-07-09T08:39:46.071Z"
   },
   {
    "duration": 68,
    "start_time": "2021-07-09T08:39:46.166Z"
   },
   {
    "duration": 41,
    "start_time": "2021-07-09T08:39:46.237Z"
   },
   {
    "duration": 713,
    "start_time": "2021-07-09T08:39:46.281Z"
   },
   {
    "duration": 932,
    "start_time": "2021-07-09T08:39:46.997Z"
   },
   {
    "duration": 126,
    "start_time": "2021-07-09T08:39:47.931Z"
   },
   {
    "duration": 111,
    "start_time": "2021-07-09T08:41:09.793Z"
   },
   {
    "duration": 118,
    "start_time": "2021-07-09T08:45:17.518Z"
   },
   {
    "duration": 204,
    "start_time": "2021-07-09T08:45:33.856Z"
   },
   {
    "duration": 769,
    "start_time": "2021-07-09T08:46:37.156Z"
   },
   {
    "duration": 4,
    "start_time": "2021-07-09T08:46:42.850Z"
   },
   {
    "duration": 1498,
    "start_time": "2021-07-09T08:46:43.018Z"
   },
   {
    "duration": 1404,
    "start_time": "2021-07-09T08:46:44.519Z"
   },
   {
    "duration": 33,
    "start_time": "2021-07-09T08:46:45.926Z"
   },
   {
    "duration": 57,
    "start_time": "2021-07-09T08:46:45.962Z"
   },
   {
    "duration": 49,
    "start_time": "2021-07-09T08:46:46.022Z"
   },
   {
    "duration": 802,
    "start_time": "2021-07-09T08:46:46.074Z"
   },
   {
    "duration": 64,
    "start_time": "2021-07-09T08:46:46.878Z"
   },
   {
    "duration": 634,
    "start_time": "2021-07-09T08:46:46.945Z"
   },
   {
    "duration": 88,
    "start_time": "2021-07-09T08:46:47.582Z"
   },
   {
    "duration": 61,
    "start_time": "2021-07-09T08:46:47.673Z"
   },
   {
    "duration": 40,
    "start_time": "2021-07-09T08:46:47.736Z"
   },
   {
    "duration": 716,
    "start_time": "2021-07-09T08:46:47.778Z"
   },
   {
    "duration": 737,
    "start_time": "2021-07-09T08:46:48.497Z"
   },
   {
    "duration": 214,
    "start_time": "2021-07-09T08:46:49.237Z"
   },
   {
    "duration": 824,
    "start_time": "2021-07-09T08:47:06.965Z"
   },
   {
    "duration": 4,
    "start_time": "2021-07-09T08:47:15.507Z"
   },
   {
    "duration": 1560,
    "start_time": "2021-07-09T08:47:15.686Z"
   },
   {
    "duration": 1461,
    "start_time": "2021-07-09T08:47:17.250Z"
   },
   {
    "duration": 37,
    "start_time": "2021-07-09T08:47:18.715Z"
   },
   {
    "duration": 59,
    "start_time": "2021-07-09T08:47:18.755Z"
   },
   {
    "duration": 52,
    "start_time": "2021-07-09T08:47:18.816Z"
   },
   {
    "duration": 782,
    "start_time": "2021-07-09T08:47:18.871Z"
   },
   {
    "duration": 59,
    "start_time": "2021-07-09T08:47:19.655Z"
   },
   {
    "duration": 640,
    "start_time": "2021-07-09T08:47:19.721Z"
   },
   {
    "duration": 97,
    "start_time": "2021-07-09T08:47:20.365Z"
   },
   {
    "duration": 65,
    "start_time": "2021-07-09T08:47:20.465Z"
   },
   {
    "duration": 44,
    "start_time": "2021-07-09T08:47:20.979Z"
   },
   {
    "duration": 684,
    "start_time": "2021-07-09T08:47:22.253Z"
   },
   {
    "duration": 712,
    "start_time": "2021-07-09T08:47:23.667Z"
   },
   {
    "duration": 204,
    "start_time": "2021-07-09T08:47:25.170Z"
   },
   {
    "duration": 133,
    "start_time": "2021-07-09T08:50:31.667Z"
   },
   {
    "duration": 12,
    "start_time": "2021-07-09T09:04:06.514Z"
   },
   {
    "duration": 18,
    "start_time": "2021-07-09T09:04:10.558Z"
   },
   {
    "duration": 525,
    "start_time": "2021-07-09T09:19:06.969Z"
   },
   {
    "duration": 349,
    "start_time": "2021-07-09T09:19:43.530Z"
   },
   {
    "duration": 15,
    "start_time": "2021-07-09T09:19:49.847Z"
   },
   {
    "duration": 353,
    "start_time": "2021-07-09T09:20:00.313Z"
   },
   {
    "duration": 145,
    "start_time": "2021-07-09T09:20:33.116Z"
   },
   {
    "duration": 64,
    "start_time": "2021-07-09T09:20:37.471Z"
   },
   {
    "duration": 209,
    "start_time": "2021-07-09T09:22:41.953Z"
   },
   {
    "duration": 383,
    "start_time": "2021-07-09T09:22:52.303Z"
   },
   {
    "duration": 8,
    "start_time": "2021-07-09T09:23:21.628Z"
   },
   {
    "duration": 1522,
    "start_time": "2021-07-09T09:23:21.801Z"
   },
   {
    "duration": 1525,
    "start_time": "2021-07-09T09:23:23.325Z"
   },
   {
    "duration": 28,
    "start_time": "2021-07-09T09:23:24.853Z"
   },
   {
    "duration": 56,
    "start_time": "2021-07-09T09:23:24.884Z"
   },
   {
    "duration": 49,
    "start_time": "2021-07-09T09:23:24.942Z"
   },
   {
    "duration": 853,
    "start_time": "2021-07-09T09:23:24.993Z"
   },
   {
    "duration": 45,
    "start_time": "2021-07-09T09:23:25.848Z"
   },
   {
    "duration": 663,
    "start_time": "2021-07-09T09:23:25.909Z"
   },
   {
    "duration": 106,
    "start_time": "2021-07-09T09:23:26.576Z"
   },
   {
    "duration": 56,
    "start_time": "2021-07-09T09:23:26.685Z"
   },
   {
    "duration": 41,
    "start_time": "2021-07-09T09:23:26.743Z"
   },
   {
    "duration": 756,
    "start_time": "2021-07-09T09:23:26.786Z"
   },
   {
    "duration": 769,
    "start_time": "2021-07-09T09:23:27.546Z"
   },
   {
    "duration": 170,
    "start_time": "2021-07-09T09:23:28.318Z"
   },
   {
    "duration": 80,
    "start_time": "2021-07-09T09:23:28.491Z"
   },
   {
    "duration": 224,
    "start_time": "2021-07-09T09:23:28.574Z"
   },
   {
    "duration": 388,
    "start_time": "2021-07-09T09:24:55.561Z"
   },
   {
    "duration": 1677,
    "start_time": "2021-07-09T09:25:09.928Z"
   },
   {
    "duration": 1656,
    "start_time": "2021-07-09T09:25:11.610Z"
   },
   {
    "duration": 1494,
    "start_time": "2021-07-09T09:25:13.269Z"
   },
   {
    "duration": 46,
    "start_time": "2021-07-09T09:25:14.766Z"
   },
   {
    "duration": 58,
    "start_time": "2021-07-09T09:25:14.815Z"
   },
   {
    "duration": 83,
    "start_time": "2021-07-09T09:25:14.876Z"
   },
   {
    "duration": 724,
    "start_time": "2021-07-09T09:25:14.964Z"
   },
   {
    "duration": 62,
    "start_time": "2021-07-09T09:25:15.692Z"
   },
   {
    "duration": 658,
    "start_time": "2021-07-09T09:25:15.757Z"
   },
   {
    "duration": 93,
    "start_time": "2021-07-09T09:25:16.418Z"
   },
   {
    "duration": 52,
    "start_time": "2021-07-09T09:25:16.516Z"
   },
   {
    "duration": 64,
    "start_time": "2021-07-09T09:25:16.570Z"
   },
   {
    "duration": 723,
    "start_time": "2021-07-09T09:25:16.637Z"
   },
   {
    "duration": 817,
    "start_time": "2021-07-09T09:25:17.362Z"
   },
   {
    "duration": 151,
    "start_time": "2021-07-09T09:25:18.181Z"
   },
   {
    "duration": 55,
    "start_time": "2021-07-09T09:25:18.335Z"
   },
   {
    "duration": 239,
    "start_time": "2021-07-09T09:25:18.393Z"
   },
   {
    "duration": 125,
    "start_time": "2021-07-09T09:26:32.120Z"
   },
   {
    "duration": 58,
    "start_time": "2021-07-09T09:26:36.867Z"
   },
   {
    "duration": 50,
    "start_time": "2021-07-09T09:34:02.800Z"
   },
   {
    "duration": 119,
    "start_time": "2021-07-09T09:38:46.265Z"
   },
   {
    "duration": 983,
    "start_time": "2021-07-09T09:39:03.917Z"
   },
   {
    "duration": 815,
    "start_time": "2021-07-09T09:39:11.874Z"
   },
   {
    "duration": 455,
    "start_time": "2021-07-09T09:39:19.048Z"
   },
   {
    "duration": 467,
    "start_time": "2021-07-09T09:39:49.767Z"
   },
   {
    "duration": 486,
    "start_time": "2021-07-09T09:40:14.807Z"
   },
   {
    "duration": 6,
    "start_time": "2021-07-09T09:42:18.413Z"
   },
   {
    "duration": 1513,
    "start_time": "2021-07-09T09:42:18.571Z"
   },
   {
    "duration": 1581,
    "start_time": "2021-07-09T09:42:20.087Z"
   },
   {
    "duration": 41,
    "start_time": "2021-07-09T09:42:21.671Z"
   },
   {
    "duration": 40,
    "start_time": "2021-07-09T09:42:21.717Z"
   },
   {
    "duration": 77,
    "start_time": "2021-07-09T09:42:21.760Z"
   },
   {
    "duration": 969,
    "start_time": "2021-07-09T09:42:21.840Z"
   },
   {
    "duration": 53,
    "start_time": "2021-07-09T09:42:22.812Z"
   },
   {
    "duration": 654,
    "start_time": "2021-07-09T09:42:22.870Z"
   },
   {
    "duration": 83,
    "start_time": "2021-07-09T09:42:23.527Z"
   },
   {
    "duration": 45,
    "start_time": "2021-07-09T09:42:23.613Z"
   },
   {
    "duration": 65,
    "start_time": "2021-07-09T09:42:23.660Z"
   },
   {
    "duration": 721,
    "start_time": "2021-07-09T09:42:23.812Z"
   },
   {
    "duration": 740,
    "start_time": "2021-07-09T09:42:24.537Z"
   },
   {
    "duration": 143,
    "start_time": "2021-07-09T09:42:25.977Z"
   },
   {
    "duration": 58,
    "start_time": "2021-07-09T09:42:27.341Z"
   },
   {
    "duration": 200,
    "start_time": "2021-07-09T09:42:28.262Z"
   },
   {
    "duration": 30,
    "start_time": "2021-07-09T09:42:29.772Z"
   },
   {
    "duration": 458,
    "start_time": "2021-07-09T09:42:31.529Z"
   },
   {
    "duration": 5,
    "start_time": "2021-07-09T09:45:59.699Z"
   },
   {
    "duration": 1569,
    "start_time": "2021-07-09T09:45:59.827Z"
   },
   {
    "duration": 1423,
    "start_time": "2021-07-09T09:46:01.399Z"
   },
   {
    "duration": 32,
    "start_time": "2021-07-09T09:46:02.826Z"
   },
   {
    "duration": 57,
    "start_time": "2021-07-09T09:46:02.861Z"
   },
   {
    "duration": 51,
    "start_time": "2021-07-09T09:46:02.922Z"
   },
   {
    "duration": 916,
    "start_time": "2021-07-09T09:46:02.975Z"
   },
   {
    "duration": 58,
    "start_time": "2021-07-09T09:46:03.894Z"
   },
   {
    "duration": 662,
    "start_time": "2021-07-09T09:46:03.956Z"
   },
   {
    "duration": 75,
    "start_time": "2021-07-09T09:46:04.621Z"
   },
   {
    "duration": 47,
    "start_time": "2021-07-09T09:46:04.709Z"
   },
   {
    "duration": 62,
    "start_time": "2021-07-09T09:46:04.758Z"
   },
   {
    "duration": 708,
    "start_time": "2021-07-09T09:46:04.824Z"
   },
   {
    "duration": 732,
    "start_time": "2021-07-09T09:46:05.535Z"
   },
   {
    "duration": 156,
    "start_time": "2021-07-09T09:46:06.269Z"
   },
   {
    "duration": 58,
    "start_time": "2021-07-09T09:46:06.427Z"
   },
   {
    "duration": 196,
    "start_time": "2021-07-09T09:46:06.487Z"
   },
   {
    "duration": 34,
    "start_time": "2021-07-09T09:46:07.487Z"
   },
   {
    "duration": 350,
    "start_time": "2021-07-09T09:46:08.091Z"
   },
   {
    "duration": 365,
    "start_time": "2021-07-09T09:46:22.206Z"
   },
   {
    "duration": 4,
    "start_time": "2021-07-09T09:46:51.978Z"
   },
   {
    "duration": 1529,
    "start_time": "2021-07-09T09:46:52.146Z"
   },
   {
    "duration": 1523,
    "start_time": "2021-07-09T09:46:53.678Z"
   },
   {
    "duration": 32,
    "start_time": "2021-07-09T09:46:55.203Z"
   },
   {
    "duration": 43,
    "start_time": "2021-07-09T09:46:55.239Z"
   },
   {
    "duration": 60,
    "start_time": "2021-07-09T09:46:55.308Z"
   },
   {
    "duration": 714,
    "start_time": "2021-07-09T09:46:55.370Z"
   },
   {
    "duration": 62,
    "start_time": "2021-07-09T09:46:56.087Z"
   },
   {
    "duration": 655,
    "start_time": "2021-07-09T09:46:56.153Z"
   },
   {
    "duration": 83,
    "start_time": "2021-07-09T09:46:56.811Z"
   },
   {
    "duration": 54,
    "start_time": "2021-07-09T09:46:56.897Z"
   },
   {
    "duration": 39,
    "start_time": "2021-07-09T09:46:57.148Z"
   },
   {
    "duration": 822,
    "start_time": "2021-07-09T09:46:58.626Z"
   },
   {
    "duration": 751,
    "start_time": "2021-07-09T09:46:59.457Z"
   },
   {
    "duration": 145,
    "start_time": "2021-07-09T09:47:01.151Z"
   },
   {
    "duration": 55,
    "start_time": "2021-07-09T09:47:02.332Z"
   },
   {
    "duration": 187,
    "start_time": "2021-07-09T09:47:06.360Z"
   },
   {
    "duration": 41,
    "start_time": "2021-07-09T09:47:06.755Z"
   },
   {
    "duration": 367,
    "start_time": "2021-07-09T09:48:14.786Z"
   },
   {
    "duration": 379,
    "start_time": "2021-07-09T09:49:28.174Z"
   },
   {
    "duration": 29733,
    "start_time": "2021-07-09T09:52:22.193Z"
   },
   {
    "duration": 4,
    "start_time": "2021-07-09T09:53:04.964Z"
   },
   {
    "duration": 1508,
    "start_time": "2021-07-09T09:53:05.133Z"
   },
   {
    "duration": 1517,
    "start_time": "2021-07-09T09:53:06.644Z"
   },
   {
    "duration": 51,
    "start_time": "2021-07-09T09:53:08.165Z"
   },
   {
    "duration": 41,
    "start_time": "2021-07-09T09:53:08.221Z"
   },
   {
    "duration": 69,
    "start_time": "2021-07-09T09:53:08.265Z"
   },
   {
    "duration": 736,
    "start_time": "2021-07-09T09:53:08.337Z"
   },
   {
    "duration": 65,
    "start_time": "2021-07-09T09:53:09.076Z"
   },
   {
    "duration": 664,
    "start_time": "2021-07-09T09:53:09.144Z"
   },
   {
    "duration": 107,
    "start_time": "2021-07-09T09:53:09.812Z"
   },
   {
    "duration": 44,
    "start_time": "2021-07-09T09:53:09.921Z"
   },
   {
    "duration": 74,
    "start_time": "2021-07-09T09:53:09.968Z"
   },
   {
    "duration": 804,
    "start_time": "2021-07-09T09:53:10.045Z"
   },
   {
    "duration": 969,
    "start_time": "2021-07-09T09:53:10.852Z"
   },
   {
    "duration": 199,
    "start_time": "2021-07-09T09:53:11.825Z"
   },
   {
    "duration": 115,
    "start_time": "2021-07-09T09:53:12.029Z"
   },
   {
    "duration": 223,
    "start_time": "2021-07-09T09:53:12.147Z"
   },
   {
    "duration": 40,
    "start_time": "2021-07-09T09:53:12.372Z"
   },
   {
    "duration": 8824,
    "start_time": "2021-07-09T09:53:12.418Z"
   },
   {
    "duration": 125,
    "start_time": "2021-07-09T09:54:41.385Z"
   },
   {
    "duration": 681,
    "start_time": "2021-07-09T09:54:51.258Z"
   },
   {
    "duration": 758,
    "start_time": "2021-07-09T09:55:09.435Z"
   },
   {
    "duration": 365,
    "start_time": "2021-07-09T09:55:27.346Z"
   },
   {
    "duration": 4,
    "start_time": "2021-07-09T09:57:17.690Z"
   },
   {
    "duration": 1685,
    "start_time": "2021-07-09T09:57:17.883Z"
   },
   {
    "duration": 1501,
    "start_time": "2021-07-09T09:57:19.571Z"
   },
   {
    "duration": 41,
    "start_time": "2021-07-09T09:57:21.075Z"
   },
   {
    "duration": 41,
    "start_time": "2021-07-09T09:57:21.119Z"
   },
   {
    "duration": 78,
    "start_time": "2021-07-09T09:57:21.163Z"
   },
   {
    "duration": 724,
    "start_time": "2021-07-09T09:57:21.245Z"
   },
   {
    "duration": 61,
    "start_time": "2021-07-09T09:57:21.972Z"
   },
   {
    "duration": 648,
    "start_time": "2021-07-09T09:57:22.038Z"
   },
   {
    "duration": 100,
    "start_time": "2021-07-09T09:57:22.689Z"
   },
   {
    "duration": 57,
    "start_time": "2021-07-09T09:57:22.792Z"
   },
   {
    "duration": 61,
    "start_time": "2021-07-09T09:57:22.851Z"
   },
   {
    "duration": 707,
    "start_time": "2021-07-09T09:57:22.915Z"
   },
   {
    "duration": 974,
    "start_time": "2021-07-09T09:57:23.625Z"
   },
   {
    "duration": 164,
    "start_time": "2021-07-09T09:57:24.603Z"
   },
   {
    "duration": 69,
    "start_time": "2021-07-09T09:57:24.769Z"
   },
   {
    "duration": 206,
    "start_time": "2021-07-09T09:57:24.840Z"
   },
   {
    "duration": 30,
    "start_time": "2021-07-09T09:57:25.049Z"
   },
   {
    "duration": 919,
    "start_time": "2021-07-09T09:57:25.081Z"
   },
   {
    "duration": 364,
    "start_time": "2021-07-09T09:59:09.390Z"
   },
   {
    "duration": 507,
    "start_time": "2021-07-09T10:07:44.223Z"
   },
   {
    "duration": 338,
    "start_time": "2021-07-09T10:10:58.210Z"
   },
   {
    "duration": 17,
    "start_time": "2021-07-09T10:11:19.949Z"
   },
   {
    "duration": 51,
    "start_time": "2021-07-09T10:11:24.779Z"
   },
   {
    "duration": 1465,
    "start_time": "2021-07-09T15:40:16.520Z"
   },
   {
    "duration": 5108,
    "start_time": "2021-07-09T15:40:17.988Z"
   },
   {
    "duration": 1240,
    "start_time": "2021-07-09T15:40:23.102Z"
   },
   {
    "duration": 32,
    "start_time": "2021-07-09T15:40:24.345Z"
   },
   {
    "duration": 55,
    "start_time": "2021-07-09T15:40:24.380Z"
   },
   {
    "duration": 71,
    "start_time": "2021-07-09T15:40:24.437Z"
   },
   {
    "duration": 655,
    "start_time": "2021-07-09T15:40:24.511Z"
   },
   {
    "duration": 68,
    "start_time": "2021-07-09T15:40:25.170Z"
   },
   {
    "duration": 597,
    "start_time": "2021-07-09T15:40:25.241Z"
   },
   {
    "duration": 85,
    "start_time": "2021-07-09T15:40:25.841Z"
   },
   {
    "duration": 49,
    "start_time": "2021-07-09T15:40:25.929Z"
   },
   {
    "duration": 41,
    "start_time": "2021-07-09T15:40:26.000Z"
   },
   {
    "duration": 685,
    "start_time": "2021-07-09T15:40:26.044Z"
   },
   {
    "duration": 802,
    "start_time": "2021-07-09T15:40:26.732Z"
   },
   {
    "duration": 144,
    "start_time": "2021-07-09T15:40:27.537Z"
   },
   {
    "duration": 61,
    "start_time": "2021-07-09T15:40:27.684Z"
   },
   {
    "duration": 191,
    "start_time": "2021-07-09T15:40:27.747Z"
   },
   {
    "duration": 29,
    "start_time": "2021-07-09T15:40:27.941Z"
   },
   {
    "duration": 334,
    "start_time": "2021-07-09T15:40:27.972Z"
   },
   {
    "duration": 46,
    "start_time": "2021-07-09T15:40:28.308Z"
   },
   {
    "duration": 21,
    "start_time": "2021-07-09T15:42:37.634Z"
   },
   {
    "duration": 525,
    "start_time": "2021-07-09T15:43:37.098Z"
   },
   {
    "duration": 5,
    "start_time": "2021-07-09T15:44:14.629Z"
   },
   {
    "duration": 94,
    "start_time": "2021-07-09T15:46:07.861Z"
   },
   {
    "duration": 335,
    "start_time": "2021-07-09T15:46:19.433Z"
   },
   {
    "duration": 820,
    "start_time": "2021-07-09T15:46:25.414Z"
   },
   {
    "duration": 480,
    "start_time": "2021-07-09T15:47:43.143Z"
   },
   {
    "duration": 86,
    "start_time": "2021-07-09T15:47:55.207Z"
   },
   {
    "duration": 296,
    "start_time": "2021-07-09T15:47:58.708Z"
   },
   {
    "duration": 319,
    "start_time": "2021-07-09T15:48:22.558Z"
   },
   {
    "duration": 44,
    "start_time": "2021-07-09T15:48:28.365Z"
   },
   {
    "duration": 42,
    "start_time": "2021-07-09T15:48:43.822Z"
   },
   {
    "duration": 51,
    "start_time": "2021-07-09T15:48:54.441Z"
   },
   {
    "duration": 105,
    "start_time": "2021-07-09T15:49:20.663Z"
   },
   {
    "duration": 902,
    "start_time": "2021-07-09T15:49:55.904Z"
   },
   {
    "duration": 118,
    "start_time": "2021-07-09T15:50:26.484Z"
   },
   {
    "duration": 1019,
    "start_time": "2021-07-09T15:50:35.196Z"
   },
   {
    "duration": 933,
    "start_time": "2021-07-09T16:06:13.867Z"
   },
   {
    "duration": 5,
    "start_time": "2021-07-09T16:06:35.411Z"
   },
   {
    "duration": 1463,
    "start_time": "2021-07-09T16:06:35.594Z"
   },
   {
    "duration": 1275,
    "start_time": "2021-07-09T16:06:37.059Z"
   },
   {
    "duration": 32,
    "start_time": "2021-07-09T16:06:38.339Z"
   },
   {
    "duration": 57,
    "start_time": "2021-07-09T16:06:38.374Z"
   },
   {
    "duration": 50,
    "start_time": "2021-07-09T16:06:38.434Z"
   },
   {
    "duration": 663,
    "start_time": "2021-07-09T16:06:38.500Z"
   },
   {
    "duration": 59,
    "start_time": "2021-07-09T16:06:39.165Z"
   },
   {
    "duration": 589,
    "start_time": "2021-07-09T16:06:39.227Z"
   },
   {
    "duration": 89,
    "start_time": "2021-07-09T16:06:39.820Z"
   },
   {
    "duration": 42,
    "start_time": "2021-07-09T16:06:39.911Z"
   },
   {
    "duration": 69,
    "start_time": "2021-07-09T16:06:39.956Z"
   },
   {
    "duration": 655,
    "start_time": "2021-07-09T16:06:40.028Z"
   },
   {
    "duration": 700,
    "start_time": "2021-07-09T16:06:40.687Z"
   },
   {
    "duration": 134,
    "start_time": "2021-07-09T16:06:41.399Z"
   },
   {
    "duration": 75,
    "start_time": "2021-07-09T16:06:41.537Z"
   },
   {
    "duration": 175,
    "start_time": "2021-07-09T16:06:41.615Z"
   },
   {
    "duration": 34,
    "start_time": "2021-07-09T16:06:41.792Z"
   },
   {
    "duration": 331,
    "start_time": "2021-07-09T16:06:41.828Z"
   },
   {
    "duration": 67,
    "start_time": "2021-07-09T16:06:42.162Z"
   },
   {
    "duration": 970,
    "start_time": "2021-07-09T16:06:42.232Z"
   },
   {
    "duration": 949,
    "start_time": "2021-07-09T16:07:12.457Z"
   },
   {
    "duration": 935,
    "start_time": "2021-07-09T16:14:15.764Z"
   },
   {
    "duration": 844,
    "start_time": "2021-07-09T16:14:21.788Z"
   },
   {
    "duration": 26,
    "start_time": "2021-07-09T16:40:29.288Z"
   },
   {
    "duration": 262,
    "start_time": "2021-07-09T16:42:36.930Z"
   },
   {
    "duration": 6,
    "start_time": "2021-07-09T16:43:01.703Z"
   },
   {
    "duration": 6476,
    "start_time": "2021-07-09T16:43:07.723Z"
   },
   {
    "duration": 276,
    "start_time": "2021-07-09T16:48:30.790Z"
   },
   {
    "duration": 21,
    "start_time": "2021-07-09T16:50:09.804Z"
   },
   {
    "duration": 1062,
    "start_time": "2021-07-09T16:51:38.918Z"
   },
   {
    "duration": 336,
    "start_time": "2021-07-09T16:51:58.040Z"
   },
   {
    "duration": 300,
    "start_time": "2021-07-09T16:52:44.208Z"
   },
   {
    "duration": 19,
    "start_time": "2021-07-09T16:52:53.425Z"
   },
   {
    "duration": 5,
    "start_time": "2021-07-09T16:53:41.923Z"
   },
   {
    "duration": 1416,
    "start_time": "2021-07-09T16:53:42.151Z"
   },
   {
    "duration": 1339,
    "start_time": "2021-07-09T16:53:43.570Z"
   },
   {
    "duration": 33,
    "start_time": "2021-07-09T16:53:44.913Z"
   },
   {
    "duration": 74,
    "start_time": "2021-07-09T16:53:44.950Z"
   },
   {
    "duration": 52,
    "start_time": "2021-07-09T16:53:45.027Z"
   },
   {
    "duration": 787,
    "start_time": "2021-07-09T16:53:45.082Z"
   },
   {
    "duration": 61,
    "start_time": "2021-07-09T16:53:45.871Z"
   },
   {
    "duration": 632,
    "start_time": "2021-07-09T16:53:45.936Z"
   },
   {
    "duration": 76,
    "start_time": "2021-07-09T16:53:46.571Z"
   },
   {
    "duration": 57,
    "start_time": "2021-07-09T16:53:46.650Z"
   },
   {
    "duration": 39,
    "start_time": "2021-07-09T16:53:46.709Z"
   },
   {
    "duration": 672,
    "start_time": "2021-07-09T16:53:46.750Z"
   },
   {
    "duration": 695,
    "start_time": "2021-07-09T16:53:47.426Z"
   },
   {
    "duration": 137,
    "start_time": "2021-07-09T16:53:48.124Z"
   },
   {
    "duration": 60,
    "start_time": "2021-07-09T16:53:48.263Z"
   },
   {
    "duration": 181,
    "start_time": "2021-07-09T16:53:48.326Z"
   },
   {
    "duration": 31,
    "start_time": "2021-07-09T16:53:48.510Z"
   },
   {
    "duration": 339,
    "start_time": "2021-07-09T16:53:48.544Z"
   },
   {
    "duration": 49,
    "start_time": "2021-07-09T16:53:48.886Z"
   },
   {
    "duration": 965,
    "start_time": "2021-07-09T16:53:48.938Z"
   },
   {
    "duration": 109,
    "start_time": "2021-07-09T16:53:49.907Z"
   },
   {
    "duration": 30,
    "start_time": "2021-07-09T16:55:11.309Z"
   },
   {
    "duration": 300,
    "start_time": "2021-07-09T16:56:27.683Z"
   },
   {
    "duration": 43,
    "start_time": "2021-07-09T16:56:28.120Z"
   },
   {
    "duration": 909,
    "start_time": "2021-07-09T16:56:29.891Z"
   },
   {
    "duration": 119,
    "start_time": "2021-07-09T16:56:30.804Z"
   },
   {
    "duration": 304,
    "start_time": "2021-07-09T16:56:38.772Z"
   },
   {
    "duration": 318,
    "start_time": "2021-07-09T16:57:19.419Z"
   },
   {
    "duration": 42,
    "start_time": "2021-07-09T16:57:20.274Z"
   },
   {
    "duration": 949,
    "start_time": "2021-07-09T16:57:20.958Z"
   },
   {
    "duration": 116,
    "start_time": "2021-07-09T16:57:21.910Z"
   },
   {
    "duration": 1472,
    "start_time": "2021-07-09T18:01:48.994Z"
   },
   {
    "duration": 408,
    "start_time": "2021-07-09T18:02:42.420Z"
   },
   {
    "duration": 6,
    "start_time": "2021-07-09T18:05:34.359Z"
   },
   {
    "duration": 263,
    "start_time": "2021-07-09T18:05:38.483Z"
   },
   {
    "duration": 5,
    "start_time": "2021-07-09T18:05:53.453Z"
   },
   {
    "duration": 1399,
    "start_time": "2021-07-09T18:05:53.616Z"
   },
   {
    "duration": 1254,
    "start_time": "2021-07-09T18:05:55.018Z"
   },
   {
    "duration": 47,
    "start_time": "2021-07-09T18:05:56.275Z"
   },
   {
    "duration": 44,
    "start_time": "2021-07-09T18:05:56.325Z"
   },
   {
    "duration": 83,
    "start_time": "2021-07-09T18:05:56.371Z"
   },
   {
    "duration": 656,
    "start_time": "2021-07-09T18:05:56.457Z"
   },
   {
    "duration": 58,
    "start_time": "2021-07-09T18:05:57.115Z"
   },
   {
    "duration": 610,
    "start_time": "2021-07-09T18:05:57.182Z"
   },
   {
    "duration": 74,
    "start_time": "2021-07-09T18:05:57.794Z"
   },
   {
    "duration": 72,
    "start_time": "2021-07-09T18:05:57.871Z"
   },
   {
    "duration": 54,
    "start_time": "2021-07-09T18:05:57.946Z"
   },
   {
    "duration": 703,
    "start_time": "2021-07-09T18:05:58.003Z"
   },
   {
    "duration": 694,
    "start_time": "2021-07-09T18:05:58.709Z"
   },
   {
    "duration": 140,
    "start_time": "2021-07-09T18:05:59.405Z"
   },
   {
    "duration": 279,
    "start_time": "2021-07-09T18:05:59.548Z"
   },
   {
    "duration": 312,
    "start_time": "2021-07-09T18:06:01.018Z"
   },
   {
    "duration": 119,
    "start_time": "2021-07-09T18:07:04.596Z"
   },
   {
    "duration": 255,
    "start_time": "2021-07-09T18:07:20.317Z"
   },
   {
    "duration": 7218,
    "start_time": "2021-07-09T18:07:44.263Z"
   },
   {
    "duration": 250,
    "start_time": "2021-07-09T18:12:16.611Z"
   },
   {
    "duration": 7059,
    "start_time": "2021-07-09T18:12:23.649Z"
   },
   {
    "duration": 185,
    "start_time": "2021-07-09T18:14:09.243Z"
   },
   {
    "duration": 6982,
    "start_time": "2021-07-09T18:14:38.019Z"
   },
   {
    "duration": 5,
    "start_time": "2021-07-09T18:15:40.895Z"
   },
   {
    "duration": 1512,
    "start_time": "2021-07-09T18:15:41.064Z"
   },
   {
    "duration": 1315,
    "start_time": "2021-07-09T18:15:42.578Z"
   },
   {
    "duration": 33,
    "start_time": "2021-07-09T18:15:43.901Z"
   },
   {
    "duration": 65,
    "start_time": "2021-07-09T18:15:43.937Z"
   },
   {
    "duration": 50,
    "start_time": "2021-07-09T18:15:44.005Z"
   },
   {
    "duration": 695,
    "start_time": "2021-07-09T18:15:44.057Z"
   },
   {
    "duration": 61,
    "start_time": "2021-07-09T18:15:44.754Z"
   },
   {
    "duration": 607,
    "start_time": "2021-07-09T18:15:44.818Z"
   },
   {
    "duration": 80,
    "start_time": "2021-07-09T18:15:45.428Z"
   },
   {
    "duration": 40,
    "start_time": "2021-07-09T18:15:45.511Z"
   },
   {
    "duration": 67,
    "start_time": "2021-07-09T18:15:45.554Z"
   },
   {
    "duration": 632,
    "start_time": "2021-07-09T18:15:45.625Z"
   },
   {
    "duration": 689,
    "start_time": "2021-07-09T18:15:46.260Z"
   },
   {
    "duration": 138,
    "start_time": "2021-07-09T18:15:46.951Z"
   },
   {
    "duration": 256,
    "start_time": "2021-07-09T18:15:48.099Z"
   },
   {
    "duration": 119,
    "start_time": "2021-07-09T18:15:52.955Z"
   },
   {
    "duration": 6991,
    "start_time": "2021-07-09T18:15:53.442Z"
   },
   {
    "duration": 6,
    "start_time": "2021-07-09T18:18:17.950Z"
   },
   {
    "duration": 180,
    "start_time": "2021-07-09T18:20:30.800Z"
   },
   {
    "duration": 114,
    "start_time": "2021-07-09T18:20:31.688Z"
   },
   {
    "duration": 33,
    "start_time": "2021-07-09T18:20:32.159Z"
   },
   {
    "duration": 431,
    "start_time": "2021-07-09T18:20:32.672Z"
   },
   {
    "duration": 49,
    "start_time": "2021-07-09T18:20:33.897Z"
   },
   {
    "duration": 223,
    "start_time": "2021-07-09T18:20:55.361Z"
   },
   {
    "duration": 56,
    "start_time": "2021-07-09T18:21:05.466Z"
   },
   {
    "duration": 121,
    "start_time": "2021-07-09T18:21:07.570Z"
   },
   {
    "duration": 225,
    "start_time": "2021-07-09T18:21:08.262Z"
   },
   {
    "duration": 7293,
    "start_time": "2021-07-09T18:21:40.920Z"
   },
   {
    "duration": 6424,
    "start_time": "2021-07-09T18:22:48.683Z"
   },
   {
    "duration": 6605,
    "start_time": "2021-07-09T18:23:15.387Z"
   },
   {
    "duration": 353,
    "start_time": "2021-07-09T18:23:37.392Z"
   },
   {
    "duration": 112,
    "start_time": "2021-07-09T18:23:42.593Z"
   },
   {
    "duration": 6,
    "start_time": "2021-07-09T18:23:54.949Z"
   },
   {
    "duration": 1361,
    "start_time": "2021-07-09T18:23:55.133Z"
   },
   {
    "duration": 1357,
    "start_time": "2021-07-09T18:23:56.502Z"
   },
   {
    "duration": 38,
    "start_time": "2021-07-09T18:23:57.862Z"
   },
   {
    "duration": 45,
    "start_time": "2021-07-09T18:23:57.903Z"
   },
   {
    "duration": 74,
    "start_time": "2021-07-09T18:23:57.950Z"
   },
   {
    "duration": 660,
    "start_time": "2021-07-09T18:23:58.026Z"
   },
   {
    "duration": 51,
    "start_time": "2021-07-09T18:23:58.690Z"
   },
   {
    "duration": 586,
    "start_time": "2021-07-09T18:23:58.744Z"
   },
   {
    "duration": 87,
    "start_time": "2021-07-09T18:23:59.333Z"
   },
   {
    "duration": 41,
    "start_time": "2021-07-09T18:23:59.423Z"
   },
   {
    "duration": 68,
    "start_time": "2021-07-09T18:23:59.467Z"
   },
   {
    "duration": 651,
    "start_time": "2021-07-09T18:23:59.538Z"
   },
   {
    "duration": 675,
    "start_time": "2021-07-09T18:24:00.192Z"
   },
   {
    "duration": 7222,
    "start_time": "2021-07-09T18:24:00.870Z"
   },
   {
    "duration": -1067,
    "start_time": "2021-07-09T18:24:09.162Z"
   },
   {
    "duration": -1073,
    "start_time": "2021-07-09T18:24:09.169Z"
   },
   {
    "duration": -1075,
    "start_time": "2021-07-09T18:24:09.173Z"
   },
   {
    "duration": -1090,
    "start_time": "2021-07-09T18:24:09.189Z"
   },
   {
    "duration": -1091,
    "start_time": "2021-07-09T18:24:09.192Z"
   },
   {
    "duration": -1093,
    "start_time": "2021-07-09T18:24:09.195Z"
   },
   {
    "duration": 119,
    "start_time": "2021-07-09T18:24:24.564Z"
   },
   {
    "duration": 162,
    "start_time": "2021-07-09T18:24:25.183Z"
   },
   {
    "duration": 29,
    "start_time": "2021-07-09T18:24:25.713Z"
   },
   {
    "duration": 327,
    "start_time": "2021-07-09T18:24:26.473Z"
   },
   {
    "duration": 43,
    "start_time": "2021-07-09T18:24:26.898Z"
   },
   {
    "duration": 108,
    "start_time": "2021-07-09T18:24:28.304Z"
   },
   {
    "duration": 367805,
    "start_time": "2021-07-09T18:24:29.109Z"
   },
   {
    "duration": 913,
    "start_time": "2021-07-09T18:45:19.694Z"
   },
   {
    "duration": 617,
    "start_time": "2021-07-09T18:50:49.072Z"
   },
   {
    "duration": 180,
    "start_time": "2021-07-09T18:58:47.002Z"
   },
   {
    "duration": 21,
    "start_time": "2021-07-09T18:59:02.623Z"
   },
   {
    "duration": 1729,
    "start_time": "2021-07-09T19:00:27.439Z"
   },
   {
    "duration": 1461,
    "start_time": "2021-07-09T19:00:29.171Z"
   },
   {
    "duration": 1358,
    "start_time": "2021-07-09T19:00:30.635Z"
   },
   {
    "duration": 39,
    "start_time": "2021-07-09T19:00:32.001Z"
   },
   {
    "duration": 63,
    "start_time": "2021-07-09T19:00:32.042Z"
   },
   {
    "duration": 61,
    "start_time": "2021-07-09T19:00:32.107Z"
   },
   {
    "duration": 670,
    "start_time": "2021-07-09T19:00:32.170Z"
   },
   {
    "duration": 69,
    "start_time": "2021-07-09T19:00:32.843Z"
   },
   {
    "duration": 590,
    "start_time": "2021-07-09T19:00:32.915Z"
   },
   {
    "duration": 91,
    "start_time": "2021-07-09T19:00:33.508Z"
   },
   {
    "duration": 706,
    "start_time": "2021-07-09T19:00:33.602Z"
   },
   {
    "duration": 37,
    "start_time": "2021-07-09T19:00:34.310Z"
   },
   {
    "duration": 651,
    "start_time": "2021-07-09T19:00:34.349Z"
   },
   {
    "duration": 797,
    "start_time": "2021-07-09T19:00:35.003Z"
   },
   {
    "duration": 58,
    "start_time": "2021-07-09T19:00:35.803Z"
   },
   {
    "duration": 154,
    "start_time": "2021-07-09T19:00:35.864Z"
   },
   {
    "duration": 190,
    "start_time": "2021-07-09T19:00:36.020Z"
   },
   {
    "duration": 42,
    "start_time": "2021-07-09T19:00:36.212Z"
   },
   {
    "duration": 373,
    "start_time": "2021-07-09T19:00:36.257Z"
   },
   {
    "duration": 41,
    "start_time": "2021-07-09T19:00:36.633Z"
   },
   {
    "duration": 368337,
    "start_time": "2021-07-09T19:00:36.677Z"
   },
   {
    "duration": 888,
    "start_time": "2021-07-09T19:06:45.016Z"
   },
   {
    "duration": 436,
    "start_time": "2021-07-09T19:06:45.908Z"
   },
   {
    "duration": 274,
    "start_time": "2021-07-09T19:08:51.345Z"
   },
   {
    "duration": 173,
    "start_time": "2021-07-09T19:08:55.612Z"
   },
   {
    "duration": 1548,
    "start_time": "2021-07-09T19:09:04.395Z"
   },
   {
    "duration": 1418,
    "start_time": "2021-07-09T19:09:05.946Z"
   },
   {
    "duration": 1327,
    "start_time": "2021-07-09T19:09:07.367Z"
   },
   {
    "duration": 37,
    "start_time": "2021-07-09T19:09:08.697Z"
   },
   {
    "duration": 51,
    "start_time": "2021-07-09T19:09:08.736Z"
   },
   {
    "duration": 66,
    "start_time": "2021-07-09T19:09:08.790Z"
   },
   {
    "duration": 696,
    "start_time": "2021-07-09T19:09:08.859Z"
   },
   {
    "duration": 70,
    "start_time": "2021-07-09T19:09:09.559Z"
   },
   {
    "duration": 630,
    "start_time": "2021-07-09T19:09:09.633Z"
   },
   {
    "duration": 90,
    "start_time": "2021-07-09T19:09:10.265Z"
   },
   {
    "duration": 783,
    "start_time": "2021-07-09T19:09:10.358Z"
   },
   {
    "duration": 38,
    "start_time": "2021-07-09T19:09:11.143Z"
   },
   {
    "duration": 693,
    "start_time": "2021-07-09T19:09:11.184Z"
   },
   {
    "duration": 752,
    "start_time": "2021-07-09T19:09:11.879Z"
   },
   {
    "duration": 68,
    "start_time": "2021-07-09T19:09:12.633Z"
   },
   {
    "duration": 139,
    "start_time": "2021-07-09T19:09:12.705Z"
   },
   {
    "duration": 197,
    "start_time": "2021-07-09T19:09:12.850Z"
   },
   {
    "duration": 38,
    "start_time": "2021-07-09T19:09:13.050Z"
   },
   {
    "duration": 346,
    "start_time": "2021-07-09T19:09:13.101Z"
   },
   {
    "duration": 60,
    "start_time": "2021-07-09T19:09:13.450Z"
   },
   {
    "duration": 128908,
    "start_time": "2021-07-09T19:09:13.512Z"
   },
   {
    "duration": 979,
    "start_time": "2021-07-09T19:11:22.423Z"
   },
   {
    "duration": 1545,
    "start_time": "2021-07-09T19:13:00.496Z"
   },
   {
    "duration": 1391,
    "start_time": "2021-07-09T19:13:02.984Z"
   },
   {
    "duration": 1296,
    "start_time": "2021-07-09T19:13:04.377Z"
   },
   {
    "duration": 38,
    "start_time": "2021-07-09T19:13:05.676Z"
   },
   {
    "duration": 46,
    "start_time": "2021-07-09T19:13:05.718Z"
   },
   {
    "duration": 80,
    "start_time": "2021-07-09T19:13:05.767Z"
   },
   {
    "duration": 651,
    "start_time": "2021-07-09T19:13:05.927Z"
   },
   {
    "duration": 52,
    "start_time": "2021-07-09T19:13:07.676Z"
   },
   {
    "duration": 584,
    "start_time": "2021-07-09T19:13:08.541Z"
   },
   {
    "duration": 76,
    "start_time": "2021-07-09T19:13:09.128Z"
   },
   {
    "duration": 788,
    "start_time": "2021-07-09T19:13:10.103Z"
   },
   {
    "duration": 43,
    "start_time": "2021-07-09T19:13:10.904Z"
   },
   {
    "duration": 686,
    "start_time": "2021-07-09T19:13:11.580Z"
   },
   {
    "duration": 724,
    "start_time": "2021-07-09T19:13:12.270Z"
   },
   {
    "duration": 58,
    "start_time": "2021-07-09T19:13:12.998Z"
   },
   {
    "duration": 170,
    "start_time": "2021-07-09T19:13:13.060Z"
   },
   {
    "duration": 197,
    "start_time": "2021-07-09T19:13:13.521Z"
   },
   {
    "duration": 41,
    "start_time": "2021-07-09T19:13:13.867Z"
   },
   {
    "duration": 358,
    "start_time": "2021-07-09T19:13:14.111Z"
   },
   {
    "duration": 68,
    "start_time": "2021-07-09T19:13:14.473Z"
   },
   {
    "duration": 975,
    "start_time": "2021-07-09T19:13:18.935Z"
   },
   {
    "duration": 302,
    "start_time": "2021-07-09T19:14:40.262Z"
   },
   {
    "duration": 228,
    "start_time": "2021-07-09T19:15:04.664Z"
   },
   {
    "duration": 233941,
    "start_time": "2021-07-09T19:17:28.572Z"
   },
   {
    "duration": 4,
    "start_time": "2021-07-09T19:22:47.953Z"
   },
   {
    "duration": 337,
    "start_time": "2021-07-09T19:23:34.197Z"
   },
   {
    "duration": 6,
    "start_time": "2021-07-09T19:23:36.796Z"
   },
   {
    "duration": 260,
    "start_time": "2021-07-09T19:23:37.158Z"
   },
   {
    "duration": 6,
    "start_time": "2021-07-09T19:23:48.072Z"
   },
   {
    "duration": 4,
    "start_time": "2021-07-09T19:23:48.329Z"
   },
   {
    "duration": 376981,
    "start_time": "2021-07-09T19:31:09.842Z"
   },
   {
    "duration": 267,
    "start_time": "2021-07-09T19:38:13.708Z"
   },
   {
    "duration": 93329,
    "start_time": "2021-07-09T19:39:25.508Z"
   },
   {
    "duration": 293,
    "start_time": "2021-07-09T19:49:03.242Z"
   },
   {
    "duration": 40,
    "start_time": "2021-07-09T19:49:20.913Z"
   },
   {
    "duration": 16,
    "start_time": "2021-07-09T19:49:41.279Z"
   },
   {
    "duration": 93,
    "start_time": "2021-07-09T19:50:28.298Z"
   },
   {
    "duration": 326,
    "start_time": "2021-07-09T19:50:32.586Z"
   },
   {
    "duration": 9,
    "start_time": "2021-07-09T19:50:45.389Z"
   },
   {
    "duration": 89066,
    "start_time": "2021-07-09T19:51:41.041Z"
   },
   {
    "duration": 291,
    "start_time": "2021-07-09T19:54:20.716Z"
   },
   {
    "duration": 1532,
    "start_time": "2021-07-09T19:59:51.198Z"
   },
   {
    "duration": 4,
    "start_time": "2021-07-09T19:59:52.732Z"
   },
   {
    "duration": 1422,
    "start_time": "2021-07-09T19:59:52.739Z"
   },
   {
    "duration": 1309,
    "start_time": "2021-07-09T19:59:54.164Z"
   },
   {
    "duration": 45,
    "start_time": "2021-07-09T19:59:55.476Z"
   },
   {
    "duration": 43,
    "start_time": "2021-07-09T19:59:55.523Z"
   },
   {
    "duration": 78,
    "start_time": "2021-07-09T19:59:55.569Z"
   },
   {
    "duration": 681,
    "start_time": "2021-07-09T19:59:55.650Z"
   },
   {
    "duration": 80,
    "start_time": "2021-07-09T19:59:56.334Z"
   },
   {
    "duration": 598,
    "start_time": "2021-07-09T19:59:56.417Z"
   },
   {
    "duration": 88,
    "start_time": "2021-07-09T19:59:57.017Z"
   },
   {
    "duration": 767,
    "start_time": "2021-07-09T19:59:57.107Z"
   },
   {
    "duration": 53,
    "start_time": "2021-07-09T19:59:57.877Z"
   },
   {
    "duration": 649,
    "start_time": "2021-07-09T19:59:57.933Z"
   },
   {
    "duration": 688,
    "start_time": "2021-07-09T19:59:58.586Z"
   },
   {
    "duration": 62,
    "start_time": "2021-07-09T19:59:59.277Z"
   },
   {
    "duration": 138,
    "start_time": "2021-07-09T19:59:59.342Z"
   },
   {
    "duration": 178,
    "start_time": "2021-07-09T19:59:59.483Z"
   },
   {
    "duration": 51,
    "start_time": "2021-07-09T19:59:59.664Z"
   },
   {
    "duration": 321,
    "start_time": "2021-07-09T19:59:59.718Z"
   },
   {
    "duration": 58,
    "start_time": "2021-07-09T20:00:00.042Z"
   },
   {
    "duration": 368711,
    "start_time": "2021-07-09T20:00:00.103Z"
   },
   {
    "duration": 91900,
    "start_time": "2021-07-09T20:06:08.816Z"
   },
   {
    "duration": 1183,
    "start_time": "2021-07-09T20:07:40.719Z"
   },
   {
    "duration": 194,
    "start_time": "2021-07-09T20:07:41.906Z"
   },
   {
    "duration": 267698,
    "start_time": "2021-07-09T20:07:42.104Z"
   },
   {
    "duration": 1445,
    "start_time": "2021-07-10T07:24:23.026Z"
   },
   {
    "duration": 4,
    "start_time": "2021-07-10T07:24:24.473Z"
   },
   {
    "duration": 1348,
    "start_time": "2021-07-10T07:24:24.482Z"
   },
   {
    "duration": 1252,
    "start_time": "2021-07-10T07:24:25.833Z"
   },
   {
    "duration": 47,
    "start_time": "2021-07-10T07:24:27.088Z"
   },
   {
    "duration": 46,
    "start_time": "2021-07-10T07:24:27.138Z"
   },
   {
    "duration": 70,
    "start_time": "2021-07-10T07:24:27.202Z"
   },
   {
    "duration": 660,
    "start_time": "2021-07-10T07:24:27.275Z"
   },
   {
    "duration": 66,
    "start_time": "2021-07-10T07:24:27.938Z"
   },
   {
    "duration": 588,
    "start_time": "2021-07-10T07:24:28.007Z"
   },
   {
    "duration": 74,
    "start_time": "2021-07-10T07:24:28.600Z"
   },
   {
    "duration": 717,
    "start_time": "2021-07-10T07:24:28.677Z"
   },
   {
    "duration": 39,
    "start_time": "2021-07-10T07:24:29.397Z"
   },
   {
    "duration": 647,
    "start_time": "2021-07-10T07:24:29.438Z"
   },
   {
    "duration": 680,
    "start_time": "2021-07-10T07:24:30.088Z"
   },
   {
    "duration": 66,
    "start_time": "2021-07-10T07:24:30.770Z"
   },
   {
    "duration": 137,
    "start_time": "2021-07-10T07:24:30.838Z"
   },
   {
    "duration": 182,
    "start_time": "2021-07-10T07:24:30.978Z"
   },
   {
    "duration": 47,
    "start_time": "2021-07-10T07:24:31.163Z"
   },
   {
    "duration": 333,
    "start_time": "2021-07-10T07:24:31.213Z"
   },
   {
    "duration": 58,
    "start_time": "2021-07-10T07:24:31.549Z"
   },
   {
    "duration": 970,
    "start_time": "2021-07-10T07:25:07.532Z"
   },
   {
    "duration": 976,
    "start_time": "2021-07-10T07:25:19.135Z"
   },
   {
    "duration": 980,
    "start_time": "2021-07-10T07:25:24.624Z"
   },
   {
    "duration": 405,
    "start_time": "2021-07-10T07:25:56.941Z"
   },
   {
    "duration": 387,
    "start_time": "2021-07-10T07:26:17.645Z"
   },
   {
    "duration": 7,
    "start_time": "2021-07-10T07:26:33.659Z"
   },
   {
    "duration": 8,
    "start_time": "2021-07-10T07:27:02.360Z"
   },
   {
    "duration": 9,
    "start_time": "2021-07-10T07:27:15.399Z"
   },
   {
    "duration": 1510,
    "start_time": "2021-07-10T17:46:20.329Z"
   },
   {
    "duration": 3,
    "start_time": "2021-07-10T17:46:21.842Z"
   },
   {
    "duration": 1406,
    "start_time": "2021-07-10T17:46:41.366Z"
   },
   {
    "duration": 106,
    "start_time": "2021-07-10T17:48:14.365Z"
   },
   {
    "duration": 447,
    "start_time": "2021-07-10T17:49:02.924Z"
   },
   {
    "duration": 5,
    "start_time": "2021-07-10T17:49:15.710Z"
   },
   {
    "duration": 4,
    "start_time": "2021-07-10T17:49:15.834Z"
   },
   {
    "duration": 1654,
    "start_time": "2021-07-10T17:49:16.021Z"
   },
   {
    "duration": 1325,
    "start_time": "2021-07-10T17:49:17.678Z"
   },
   {
    "duration": 28,
    "start_time": "2021-07-10T17:49:19.007Z"
   },
   {
    "duration": 60,
    "start_time": "2021-07-10T17:49:19.038Z"
   },
   {
    "duration": 57,
    "start_time": "2021-07-10T17:49:19.159Z"
   },
   {
    "duration": 870,
    "start_time": "2021-07-10T17:49:20.408Z"
   },
   {
    "duration": 54,
    "start_time": "2021-07-10T17:49:58.405Z"
   },
   {
    "duration": 68,
    "start_time": "2021-07-10T17:50:07.010Z"
   },
   {
    "duration": 75,
    "start_time": "2021-07-10T17:50:20.042Z"
   },
   {
    "duration": 61,
    "start_time": "2021-07-10T17:50:23.492Z"
   },
   {
    "duration": 58,
    "start_time": "2021-07-10T17:50:26.879Z"
   },
   {
    "duration": 744,
    "start_time": "2021-07-10T17:50:47.027Z"
   },
   {
    "duration": 731,
    "start_time": "2021-07-10T17:52:17.677Z"
   },
   {
    "duration": 57,
    "start_time": "2021-07-10T17:53:12.691Z"
   },
   {
    "duration": 13,
    "start_time": "2021-07-10T17:54:09.081Z"
   },
   {
    "duration": 23,
    "start_time": "2021-07-10T17:54:34.875Z"
   },
   {
    "duration": 45,
    "start_time": "2021-07-10T17:58:08.434Z"
   },
   {
    "duration": 46,
    "start_time": "2021-07-10T17:59:00.310Z"
   },
   {
    "duration": 44,
    "start_time": "2021-07-10T17:59:10.363Z"
   },
   {
    "duration": 47,
    "start_time": "2021-07-10T17:59:48.050Z"
   },
   {
    "duration": 20,
    "start_time": "2021-07-10T18:00:09.175Z"
   },
   {
    "duration": 6,
    "start_time": "2021-07-10T18:00:19.086Z"
   },
   {
    "duration": 4,
    "start_time": "2021-07-10T18:00:19.249Z"
   },
   {
    "duration": 2185,
    "start_time": "2021-07-10T18:00:19.415Z"
   },
   {
    "duration": 2097,
    "start_time": "2021-07-10T18:00:21.604Z"
   },
   {
    "duration": 33,
    "start_time": "2021-07-10T18:00:23.704Z"
   },
   {
    "duration": 62,
    "start_time": "2021-07-10T18:00:23.740Z"
   },
   {
    "duration": 49,
    "start_time": "2021-07-10T18:00:23.804Z"
   },
   {
    "duration": 668,
    "start_time": "2021-07-10T18:00:27.651Z"
   },
   {
    "duration": 4,
    "start_time": "2021-07-10T18:00:28.658Z"
   },
   {
    "duration": 56,
    "start_time": "2021-07-10T18:00:30.022Z"
   },
   {
    "duration": 51,
    "start_time": "2021-07-10T18:02:33.547Z"
   },
   {
    "duration": 6,
    "start_time": "2021-07-10T18:02:37.549Z"
   },
   {
    "duration": 4,
    "start_time": "2021-07-10T18:02:37.706Z"
   },
   {
    "duration": 1490,
    "start_time": "2021-07-10T18:02:37.888Z"
   },
   {
    "duration": 1347,
    "start_time": "2021-07-10T18:02:39.386Z"
   },
   {
    "duration": 33,
    "start_time": "2021-07-10T18:02:40.736Z"
   },
   {
    "duration": 46,
    "start_time": "2021-07-10T18:02:40.772Z"
   },
   {
    "duration": 68,
    "start_time": "2021-07-10T18:02:40.820Z"
   },
   {
    "duration": 677,
    "start_time": "2021-07-10T18:02:42.268Z"
   },
   {
    "duration": 3,
    "start_time": "2021-07-10T18:02:44.242Z"
   },
   {
    "duration": 49,
    "start_time": "2021-07-10T18:02:44.769Z"
   },
   {
    "duration": 43,
    "start_time": "2021-07-10T18:05:50.212Z"
   },
   {
    "duration": 652,
    "start_time": "2021-07-10T18:05:50.823Z"
   },
   {
    "duration": 667,
    "start_time": "2021-07-10T18:05:51.477Z"
   },
   {
    "duration": 74,
    "start_time": "2021-07-10T18:05:52.147Z"
   },
   {
    "duration": 141,
    "start_time": "2021-07-10T18:05:52.903Z"
   },
   {
    "duration": 186,
    "start_time": "2021-07-10T18:05:54.139Z"
   },
   {
    "duration": 32,
    "start_time": "2021-07-10T18:05:54.503Z"
   },
   {
    "duration": 392,
    "start_time": "2021-07-10T18:05:54.758Z"
   },
   {
    "duration": 823,
    "start_time": "2021-07-10T18:06:24.379Z"
   },
   {
    "duration": 5,
    "start_time": "2021-07-10T18:06:34.750Z"
   },
   {
    "duration": 4,
    "start_time": "2021-07-10T18:06:34.918Z"
   },
   {
    "duration": 2088,
    "start_time": "2021-07-10T18:06:35.103Z"
   },
   {
    "duration": 1765,
    "start_time": "2021-07-10T18:06:37.195Z"
   },
   {
    "duration": 45,
    "start_time": "2021-07-10T18:06:38.963Z"
   },
   {
    "duration": 40,
    "start_time": "2021-07-10T18:06:39.011Z"
   },
   {
    "duration": 79,
    "start_time": "2021-07-10T18:06:39.054Z"
   },
   {
    "duration": 1080,
    "start_time": "2021-07-10T18:06:39.136Z"
   },
   {
    "duration": 4,
    "start_time": "2021-07-10T18:06:40.220Z"
   },
   {
    "duration": 51,
    "start_time": "2021-07-10T18:06:40.347Z"
   },
   {
    "duration": 938,
    "start_time": "2021-07-10T18:06:44.930Z"
   },
   {
    "duration": 164,
    "start_time": "2021-07-10T18:06:46.778Z"
   },
   {
    "duration": 49,
    "start_time": "2021-07-10T18:07:04.979Z"
   },
   {
    "duration": 638,
    "start_time": "2021-07-10T18:07:12.815Z"
   },
   {
    "duration": 46,
    "start_time": "2021-07-10T18:07:14.702Z"
   },
   {
    "duration": 1015,
    "start_time": "2021-07-10T18:07:15.870Z"
   },
   {
    "duration": 674,
    "start_time": "2021-07-10T18:07:19.100Z"
   },
   {
    "duration": 842,
    "start_time": "2021-07-10T18:07:24.626Z"
   },
   {
    "duration": 5,
    "start_time": "2021-07-10T18:12:38.650Z"
   },
   {
    "duration": 4,
    "start_time": "2021-07-10T18:12:38.811Z"
   },
   {
    "duration": 1403,
    "start_time": "2021-07-10T18:12:38.982Z"
   },
   {
    "duration": 1267,
    "start_time": "2021-07-10T18:12:40.388Z"
   },
   {
    "duration": 46,
    "start_time": "2021-07-10T18:12:41.658Z"
   },
   {
    "duration": 35,
    "start_time": "2021-07-10T18:12:41.706Z"
   },
   {
    "duration": 70,
    "start_time": "2021-07-10T18:12:41.743Z"
   },
   {
    "duration": 663,
    "start_time": "2021-07-10T18:12:42.167Z"
   },
   {
    "duration": 3,
    "start_time": "2021-07-10T18:12:43.599Z"
   },
   {
    "duration": 53,
    "start_time": "2021-07-10T18:12:43.970Z"
   },
   {
    "duration": 590,
    "start_time": "2021-07-10T18:12:45.514Z"
   },
   {
    "duration": 77,
    "start_time": "2021-07-10T18:12:46.122Z"
   },
   {
    "duration": 675,
    "start_time": "2021-07-10T18:12:47.078Z"
   },
   {
    "duration": 45,
    "start_time": "2021-07-10T18:12:48.157Z"
   },
   {
    "duration": 658,
    "start_time": "2021-07-10T18:12:49.507Z"
   },
   {
    "duration": 772,
    "start_time": "2021-07-10T18:12:50.308Z"
   },
   {
    "duration": 720,
    "start_time": "2021-07-10T18:14:09.533Z"
   },
   {
    "duration": 698,
    "start_time": "2021-07-10T18:14:33.107Z"
   },
   {
    "duration": 7,
    "start_time": "2021-07-10T18:15:39.813Z"
   },
   {
    "duration": 4,
    "start_time": "2021-07-10T18:15:39.962Z"
   },
   {
    "duration": 1716,
    "start_time": "2021-07-10T18:15:40.134Z"
   },
   {
    "duration": 1313,
    "start_time": "2021-07-10T18:15:41.854Z"
   },
   {
    "duration": 42,
    "start_time": "2021-07-10T18:15:43.171Z"
   },
   {
    "duration": 38,
    "start_time": "2021-07-10T18:15:43.216Z"
   },
   {
    "duration": 73,
    "start_time": "2021-07-10T18:15:43.257Z"
   },
   {
    "duration": 742,
    "start_time": "2021-07-10T18:15:43.522Z"
   },
   {
    "duration": 3,
    "start_time": "2021-07-10T18:15:45.171Z"
   },
   {
    "duration": 55,
    "start_time": "2021-07-10T18:15:45.176Z"
   },
   {
    "duration": 597,
    "start_time": "2021-07-10T18:15:45.663Z"
   },
   {
    "duration": 85,
    "start_time": "2021-07-10T18:15:46.263Z"
   },
   {
    "duration": 652,
    "start_time": "2021-07-10T18:15:46.546Z"
   },
   {
    "duration": 44,
    "start_time": "2021-07-10T18:15:47.200Z"
   },
   {
    "duration": 786,
    "start_time": "2021-07-10T18:15:47.591Z"
   },
   {
    "duration": 672,
    "start_time": "2021-07-10T18:15:48.387Z"
   },
   {
    "duration": 70,
    "start_time": "2021-07-10T18:15:49.062Z"
   },
   {
    "duration": 158,
    "start_time": "2021-07-10T18:15:49.135Z"
   },
   {
    "duration": 186,
    "start_time": "2021-07-10T18:15:51.469Z"
   },
   {
    "duration": 33,
    "start_time": "2021-07-10T18:15:51.676Z"
   },
   {
    "duration": 371,
    "start_time": "2021-07-10T18:15:51.881Z"
   },
   {
    "duration": 377,
    "start_time": "2021-07-10T18:16:21.547Z"
   },
   {
    "duration": 6,
    "start_time": "2021-07-10T18:17:47.282Z"
   },
   {
    "duration": 4,
    "start_time": "2021-07-10T18:17:47.468Z"
   },
   {
    "duration": 1370,
    "start_time": "2021-07-10T18:17:47.624Z"
   },
   {
    "duration": 1435,
    "start_time": "2021-07-10T18:17:48.996Z"
   },
   {
    "duration": 31,
    "start_time": "2021-07-10T18:17:50.434Z"
   },
   {
    "duration": 49,
    "start_time": "2021-07-10T18:17:50.467Z"
   },
   {
    "duration": 69,
    "start_time": "2021-07-10T18:17:50.518Z"
   },
   {
    "duration": 791,
    "start_time": "2021-07-10T18:17:50.849Z"
   },
   {
    "duration": 3,
    "start_time": "2021-07-10T18:17:51.710Z"
   },
   {
    "duration": 48,
    "start_time": "2021-07-10T18:17:51.927Z"
   },
   {
    "duration": 582,
    "start_time": "2021-07-10T18:17:52.997Z"
   },
   {
    "duration": 77,
    "start_time": "2021-07-10T18:17:53.585Z"
   },
   {
    "duration": 638,
    "start_time": "2021-07-10T18:17:53.857Z"
   },
   {
    "duration": 46,
    "start_time": "2021-07-10T18:17:54.497Z"
   },
   {
    "duration": 777,
    "start_time": "2021-07-10T18:17:55.402Z"
   },
   {
    "duration": 753,
    "start_time": "2021-07-10T18:17:56.185Z"
   },
   {
    "duration": 61,
    "start_time": "2021-07-10T18:17:59.416Z"
   },
   {
    "duration": 146,
    "start_time": "2021-07-10T18:18:00.117Z"
   },
   {
    "duration": 185,
    "start_time": "2021-07-10T18:18:02.358Z"
   },
   {
    "duration": 34,
    "start_time": "2021-07-10T18:18:03.475Z"
   },
   {
    "duration": 7852,
    "start_time": "2021-07-10T18:18:06.742Z"
   },
   {
    "duration": 8789,
    "start_time": "2021-07-10T18:19:40.071Z"
   },
   {
    "duration": 113,
    "start_time": "2021-07-10T18:21:00.661Z"
   },
   {
    "duration": 308,
    "start_time": "2021-07-10T18:21:06.687Z"
   },
   {
    "duration": 370,
    "start_time": "2021-07-10T18:24:30.031Z"
   },
   {
    "duration": 4,
    "start_time": "2021-07-10T18:24:36.611Z"
   },
   {
    "duration": 704,
    "start_time": "2021-07-10T18:25:33.113Z"
   },
   {
    "duration": 756,
    "start_time": "2021-07-10T18:25:46.011Z"
   },
   {
    "duration": 692,
    "start_time": "2021-07-10T18:26:07.093Z"
   },
   {
    "duration": 673,
    "start_time": "2021-07-10T18:26:34.697Z"
   },
   {
    "duration": 5,
    "start_time": "2021-07-10T18:26:45.077Z"
   },
   {
    "duration": 3,
    "start_time": "2021-07-10T18:26:45.235Z"
   },
   {
    "duration": 1342,
    "start_time": "2021-07-10T18:26:45.429Z"
   },
   {
    "duration": 1232,
    "start_time": "2021-07-10T18:26:46.774Z"
   },
   {
    "duration": 32,
    "start_time": "2021-07-10T18:26:48.009Z"
   },
   {
    "duration": 60,
    "start_time": "2021-07-10T18:26:48.043Z"
   },
   {
    "duration": 56,
    "start_time": "2021-07-10T18:26:48.163Z"
   },
   {
    "duration": 1282,
    "start_time": "2021-07-10T18:26:48.877Z"
   },
   {
    "duration": 4,
    "start_time": "2021-07-10T18:26:50.163Z"
   },
   {
    "duration": 69,
    "start_time": "2021-07-10T18:26:50.170Z"
   },
   {
    "duration": 595,
    "start_time": "2021-07-10T18:26:51.363Z"
   },
   {
    "duration": 76,
    "start_time": "2021-07-10T18:26:52.141Z"
   },
   {
    "duration": 718,
    "start_time": "2021-07-10T18:26:53.861Z"
   },
   {
    "duration": 44,
    "start_time": "2021-07-10T18:26:55.410Z"
   },
   {
    "duration": 745,
    "start_time": "2021-07-10T18:26:57.129Z"
   },
   {
    "duration": 665,
    "start_time": "2021-07-10T18:26:57.876Z"
   },
   {
    "duration": 61,
    "start_time": "2021-07-10T18:27:04.573Z"
   },
   {
    "duration": 142,
    "start_time": "2021-07-10T18:27:06.228Z"
   },
   {
    "duration": 357,
    "start_time": "2021-07-10T18:27:39.775Z"
   },
   {
    "duration": 36,
    "start_time": "2021-07-10T18:27:40.188Z"
   },
   {
    "duration": 574,
    "start_time": "2021-07-10T18:27:40.578Z"
   },
   {
    "duration": 5,
    "start_time": "2021-07-10T18:28:26.052Z"
   },
   {
    "duration": 3,
    "start_time": "2021-07-10T18:28:26.222Z"
   },
   {
    "duration": 1391,
    "start_time": "2021-07-10T18:28:26.415Z"
   },
   {
    "duration": 1334,
    "start_time": "2021-07-10T18:28:27.809Z"
   },
   {
    "duration": 43,
    "start_time": "2021-07-10T18:28:29.147Z"
   },
   {
    "duration": 39,
    "start_time": "2021-07-10T18:28:29.192Z"
   },
   {
    "duration": 69,
    "start_time": "2021-07-10T18:28:29.234Z"
   },
   {
    "duration": 796,
    "start_time": "2021-07-10T18:28:29.907Z"
   },
   {
    "duration": 4,
    "start_time": "2021-07-10T18:28:30.786Z"
   },
   {
    "duration": 50,
    "start_time": "2021-07-10T18:28:30.957Z"
   },
   {
    "duration": 599,
    "start_time": "2021-07-10T18:28:31.952Z"
   },
   {
    "duration": 84,
    "start_time": "2021-07-10T18:28:32.554Z"
   },
   {
    "duration": 959,
    "start_time": "2021-07-10T18:28:34.098Z"
   },
   {
    "duration": 64,
    "start_time": "2021-07-10T18:28:35.060Z"
   },
   {
    "duration": 1000,
    "start_time": "2021-07-10T18:28:35.716Z"
   },
   {
    "duration": 985,
    "start_time": "2021-07-10T18:28:36.719Z"
   },
   {
    "duration": 122,
    "start_time": "2021-07-10T18:28:37.708Z"
   },
   {
    "duration": 233,
    "start_time": "2021-07-10T18:28:37.834Z"
   },
   {
    "duration": 347,
    "start_time": "2021-07-10T18:28:38.071Z"
   },
   {
    "duration": 35,
    "start_time": "2021-07-10T18:28:38.830Z"
   },
   {
    "duration": 373,
    "start_time": "2021-07-10T18:28:39.083Z"
   },
   {
    "duration": 1596,
    "start_time": "2021-07-10T18:29:10.755Z"
   },
   {
    "duration": 4,
    "start_time": "2021-07-10T18:29:12.355Z"
   },
   {
    "duration": 1478,
    "start_time": "2021-07-10T18:29:12.386Z"
   },
   {
    "duration": 1356,
    "start_time": "2021-07-10T18:29:13.867Z"
   },
   {
    "duration": 40,
    "start_time": "2021-07-10T18:29:15.226Z"
   },
   {
    "duration": 45,
    "start_time": "2021-07-10T18:29:15.284Z"
   },
   {
    "duration": 73,
    "start_time": "2021-07-10T18:29:15.332Z"
   },
   {
    "duration": 1095,
    "start_time": "2021-07-10T18:29:15.408Z"
   },
   {
    "duration": 4,
    "start_time": "2021-07-10T18:29:16.506Z"
   },
   {
    "duration": 86,
    "start_time": "2021-07-10T18:29:16.514Z"
   },
   {
    "duration": 621,
    "start_time": "2021-07-10T18:29:16.604Z"
   },
   {
    "duration": 88,
    "start_time": "2021-07-10T18:29:17.228Z"
   },
   {
    "duration": 757,
    "start_time": "2021-07-10T18:29:17.319Z"
   },
   {
    "duration": 45,
    "start_time": "2021-07-10T18:29:18.079Z"
   },
   {
    "duration": 696,
    "start_time": "2021-07-10T18:29:20.803Z"
   },
   {
    "duration": 768,
    "start_time": "2021-07-10T18:29:21.502Z"
   },
   {
    "duration": 63,
    "start_time": "2021-07-10T18:29:25.400Z"
   },
   {
    "duration": 157,
    "start_time": "2021-07-10T18:29:27.810Z"
   },
   {
    "duration": 205,
    "start_time": "2021-07-10T18:29:31.466Z"
   },
   {
    "duration": 456,
    "start_time": "2021-07-10T18:34:40.546Z"
   },
   {
    "duration": 374,
    "start_time": "2021-07-10T18:34:45.924Z"
   },
   {
    "duration": 48,
    "start_time": "2021-07-10T18:34:48.340Z"
   },
   {
    "duration": 416291,
    "start_time": "2021-07-10T18:36:52.615Z"
   },
   {
    "duration": 102788,
    "start_time": "2021-07-10T18:43:48.909Z"
   },
   {
    "duration": 988,
    "start_time": "2021-07-10T18:45:31.700Z"
   },
   {
    "duration": 195,
    "start_time": "2021-07-10T18:45:32.692Z"
   },
   {
    "duration": 240209,
    "start_time": "2021-07-10T18:45:32.891Z"
   },
   {
    "duration": 7,
    "start_time": "2021-07-10T19:04:10.139Z"
   },
   {
    "duration": 8,
    "start_time": "2021-07-10T19:05:49.247Z"
   },
   {
    "duration": 1226,
    "start_time": "2021-07-10T19:14:24.261Z"
   },
   {
    "duration": 324,
    "start_time": "2021-07-10T19:17:18.947Z"
   },
   {
    "duration": 320,
    "start_time": "2021-07-10T19:17:32.376Z"
   },
   {
    "duration": 325,
    "start_time": "2021-07-10T19:18:30.943Z"
   },
   {
    "duration": 13,
    "start_time": "2021-07-10T19:18:39.792Z"
   },
   {
    "duration": 1803,
    "start_time": "2021-10-02T16:29:27.001Z"
   },
   {
    "duration": 3,
    "start_time": "2021-10-02T16:29:28.806Z"
   },
   {
    "duration": 1515,
    "start_time": "2021-10-02T16:29:28.812Z"
   },
   {
    "duration": 1617,
    "start_time": "2021-10-02T16:29:30.331Z"
   },
   {
    "duration": 40,
    "start_time": "2021-10-02T16:29:31.951Z"
   },
   {
    "duration": 499,
    "start_time": "2021-10-02T16:29:31.994Z"
   },
   {
    "duration": 397,
    "start_time": "2021-10-02T16:29:32.495Z"
   },
   {
    "duration": 1068,
    "start_time": "2021-10-02T16:29:32.896Z"
   },
   {
    "duration": 3,
    "start_time": "2021-10-02T16:29:33.967Z"
   },
   {
    "duration": 109,
    "start_time": "2021-10-02T16:29:33.972Z"
   },
   {
    "duration": 632,
    "start_time": "2021-10-02T16:29:34.084Z"
   },
   {
    "duration": 87,
    "start_time": "2021-10-02T16:29:34.719Z"
   },
   {
    "duration": 1096,
    "start_time": "2021-10-02T16:29:34.809Z"
   },
   {
    "duration": 69,
    "start_time": "2021-10-02T16:29:35.908Z"
   },
   {
    "duration": 1006,
    "start_time": "2021-10-02T16:29:35.980Z"
   },
   {
    "duration": 979,
    "start_time": "2021-10-02T16:29:36.989Z"
   },
   {
    "duration": 118,
    "start_time": "2021-10-02T16:29:37.971Z"
   },
   {
    "duration": 157,
    "start_time": "2021-10-02T16:29:38.092Z"
   },
   {
    "duration": 219,
    "start_time": "2021-10-02T16:29:38.251Z"
   },
   {
    "duration": 57,
    "start_time": "2021-10-02T16:29:38.473Z"
   },
   {
    "duration": 590,
    "start_time": "2021-10-02T16:29:38.533Z"
   },
   {
    "duration": 75,
    "start_time": "2021-10-02T16:29:39.126Z"
   },
   {
    "duration": 584069,
    "start_time": "2021-10-02T16:29:39.207Z"
   },
   {
    "duration": 188998,
    "start_time": "2021-10-02T16:39:23.360Z"
   },
   {
    "duration": 2705,
    "start_time": "2021-10-02T16:42:32.361Z"
   },
   {
    "duration": 591,
    "start_time": "2021-10-02T16:42:35.069Z"
   },
   {
    "duration": 2316017,
    "start_time": "2021-10-02T16:42:35.663Z"
   },
   {
    "duration": 1593,
    "start_time": "2021-10-02T17:21:11.682Z"
   },
   {
    "duration": 8,
    "start_time": "2021-10-02T17:21:13.278Z"
   },
   {
    "duration": 90,
    "start_time": "2021-10-02T17:21:13.289Z"
   }
  ],
  "kernelspec": {
   "display_name": "Python 3",
   "language": "python",
   "name": "python3"
  },
  "language_info": {
   "codemirror_mode": {
    "name": "ipython",
    "version": 3
   },
   "file_extension": ".py",
   "mimetype": "text/x-python",
   "name": "python",
   "nbconvert_exporter": "python",
   "pygments_lexer": "ipython3",
   "version": "3.7.8"
  },
  "toc": {
   "base_numbering": 1,
   "nav_menu": {},
   "number_sections": true,
   "sideBar": true,
   "skip_h1_title": true,
   "title_cell": "Table of Contents",
   "title_sidebar": "Contents",
   "toc_cell": false,
   "toc_position": {},
   "toc_section_display": true,
   "toc_window_display": false
  }
 },
 "nbformat": 4,
 "nbformat_minor": 2
}
