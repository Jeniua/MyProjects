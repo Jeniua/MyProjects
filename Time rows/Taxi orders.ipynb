{
 "cells": [
  {
   "cell_type": "markdown",
   "metadata": {
    "toc": true
   },
   "source": [
    "<h1>Содержание<span class=\"tocSkip\"></span></h1>\n",
    "<div class=\"toc\"><ul class=\"toc-item\"><li><span><a href=\"#Подготовка\" data-toc-modified-id=\"Подготовка-1\"><span class=\"toc-item-num\">1&nbsp;&nbsp;</span>Подготовка</a></span><ul class=\"toc-item\"><li><span><a href=\"#Вывод\" data-toc-modified-id=\"Вывод-1.1\"><span class=\"toc-item-num\">1.1&nbsp;&nbsp;</span>Вывод</a></span></li></ul></li><li><span><a href=\"#Анализ\" data-toc-modified-id=\"Анализ-2\"><span class=\"toc-item-num\">2&nbsp;&nbsp;</span>Анализ</a></span><ul class=\"toc-item\"><li><span><a href=\"#Вывод.\" data-toc-modified-id=\"Вывод.-2.1\"><span class=\"toc-item-num\">2.1&nbsp;&nbsp;</span>Вывод.</a></span></li></ul></li><li><span><a href=\"#Обучение\" data-toc-modified-id=\"Обучение-3\"><span class=\"toc-item-num\">3&nbsp;&nbsp;</span>Обучение</a></span></li><li><span><a href=\"#Тестирование\" data-toc-modified-id=\"Тестирование-4\"><span class=\"toc-item-num\">4&nbsp;&nbsp;</span>Тестирование</a></span><ul class=\"toc-item\"><li><span><a href=\"#Вывод\" data-toc-modified-id=\"Вывод-4.1\"><span class=\"toc-item-num\">4.1&nbsp;&nbsp;</span>Вывод</a></span></li></ul></li><li><span><a href=\"#Чек-лист-проверки\" data-toc-modified-id=\"Чек-лист-проверки-5\"><span class=\"toc-item-num\">5&nbsp;&nbsp;</span>Чек-лист проверки</a></span></li></ul></div>"
   ]
  },
  {
   "cell_type": "markdown",
   "metadata": {},
   "source": [
    "#  Прогнозирование заказов такси"
   ]
  },
  {
   "cell_type": "markdown",
   "metadata": {},
   "source": [
    "## Подготовка"
   ]
  },
  {
   "cell_type": "code",
   "execution_count": 1,
   "metadata": {},
   "outputs": [],
   "source": [
    "import pandas as pd\n",
    "import sklearn\n",
    "import numpy as np\n",
    "import matplotlib.pyplot as plt\n",
    "from statsmodels.tsa.seasonal import seasonal_decompose\n",
    "from sklearn.model_selection import train_test_split\n",
    "from sklearn.metrics import mean_squared_error as mse\n",
    "from sklearn.ensemble import RandomForestRegressor\n",
    "from sklearn.model_selection import GridSearchCV\n",
    "from catboost import CatBoostRegressor, Pool\n",
    "from sklearn.linear_model import LinearRegression\n",
    "from statsmodels.tsa.stattools import adfuller\n",
    "from sklearn.model_selection import TimeSeriesSplit\n",
    "import warnings"
   ]
  },
  {
   "cell_type": "code",
   "execution_count": 2,
   "metadata": {},
   "outputs": [],
   "source": [
    "warnings.filterwarnings('ignore')"
   ]
  },
  {
   "cell_type": "code",
   "execution_count": 3,
   "metadata": {},
   "outputs": [
    {
     "data": {
      "text/html": [
       "<div>\n",
       "<style scoped>\n",
       "    .dataframe tbody tr th:only-of-type {\n",
       "        vertical-align: middle;\n",
       "    }\n",
       "\n",
       "    .dataframe tbody tr th {\n",
       "        vertical-align: top;\n",
       "    }\n",
       "\n",
       "    .dataframe thead th {\n",
       "        text-align: right;\n",
       "    }\n",
       "</style>\n",
       "<table border=\"1\" class=\"dataframe\">\n",
       "  <thead>\n",
       "    <tr style=\"text-align: right;\">\n",
       "      <th></th>\n",
       "      <th>num_orders</th>\n",
       "    </tr>\n",
       "    <tr>\n",
       "      <th>datetime</th>\n",
       "      <th></th>\n",
       "    </tr>\n",
       "  </thead>\n",
       "  <tbody>\n",
       "    <tr>\n",
       "      <td>2018-03-01 00:00:00</td>\n",
       "      <td>124</td>\n",
       "    </tr>\n",
       "    <tr>\n",
       "      <td>2018-03-01 01:00:00</td>\n",
       "      <td>85</td>\n",
       "    </tr>\n",
       "    <tr>\n",
       "      <td>2018-03-01 02:00:00</td>\n",
       "      <td>71</td>\n",
       "    </tr>\n",
       "    <tr>\n",
       "      <td>2018-03-01 03:00:00</td>\n",
       "      <td>66</td>\n",
       "    </tr>\n",
       "    <tr>\n",
       "      <td>2018-03-01 04:00:00</td>\n",
       "      <td>43</td>\n",
       "    </tr>\n",
       "    <tr>\n",
       "      <td>2018-03-01 05:00:00</td>\n",
       "      <td>6</td>\n",
       "    </tr>\n",
       "    <tr>\n",
       "      <td>2018-03-01 06:00:00</td>\n",
       "      <td>12</td>\n",
       "    </tr>\n",
       "    <tr>\n",
       "      <td>2018-03-01 07:00:00</td>\n",
       "      <td>15</td>\n",
       "    </tr>\n",
       "    <tr>\n",
       "      <td>2018-03-01 08:00:00</td>\n",
       "      <td>34</td>\n",
       "    </tr>\n",
       "    <tr>\n",
       "      <td>2018-03-01 09:00:00</td>\n",
       "      <td>69</td>\n",
       "    </tr>\n",
       "  </tbody>\n",
       "</table>\n",
       "</div>"
      ],
      "text/plain": [
       "                     num_orders\n",
       "datetime                       \n",
       "2018-03-01 00:00:00         124\n",
       "2018-03-01 01:00:00          85\n",
       "2018-03-01 02:00:00          71\n",
       "2018-03-01 03:00:00          66\n",
       "2018-03-01 04:00:00          43\n",
       "2018-03-01 05:00:00           6\n",
       "2018-03-01 06:00:00          12\n",
       "2018-03-01 07:00:00          15\n",
       "2018-03-01 08:00:00          34\n",
       "2018-03-01 09:00:00          69"
      ]
     },
     "metadata": {},
     "output_type": "display_data"
    },
    {
     "name": "stdout",
     "output_type": "stream",
     "text": [
      "<class 'pandas.core.frame.DataFrame'>\n",
      "DatetimeIndex: 4416 entries, 2018-03-01 00:00:00 to 2018-08-31 23:00:00\n",
      "Freq: H\n",
      "Data columns (total 1 columns):\n",
      "num_orders    4416 non-null int64\n",
      "dtypes: int64(1)\n",
      "memory usage: 69.0 KB\n",
      "None\n",
      "(26496, 1)\n",
      "(4416, 1)\n"
     ]
    }
   ],
   "source": [
    "df = pd.read_csv('/datasets/taxi.csv',parse_dates=[0],index_col = [0])\n",
    "#display(df.head())\n",
    "#print(len(df))\n",
    "data_resample = df.resample('1H').sum()\n",
    "display(data_resample.head(10))\n",
    "print(data_resample.info())\n",
    "print(df.shape)\n",
    "print(data_resample.shape)\n",
    "#print(len(data_resample))"
   ]
  },
  {
   "cell_type": "code",
   "execution_count": 4,
   "metadata": {},
   "outputs": [],
   "source": [
    "#data_resample.index.is_monotonic"
   ]
  },
  {
   "cell_type": "code",
   "execution_count": 5,
   "metadata": {},
   "outputs": [
    {
     "data": {
      "image/png": "[encoded data removed]",
      "text/plain": [
       "<Figure size 432x288 with 1 Axes>"
      ]
     },
     "metadata": {
      "needs_background": "light"
     },
     "output_type": "display_data"
    },
    {
     "data": {
      "text/plain": [
       "count    4416.000000\n",
       "mean       84.422781\n",
       "std        45.023853\n",
       "min         0.000000\n",
       "25%        54.000000\n",
       "50%        78.000000\n",
       "75%       107.000000\n",
       "max       462.000000\n",
       "Name: num_orders, dtype: float64"
      ]
     },
     "metadata": {},
     "output_type": "display_data"
    }
   ],
   "source": [
    "data_resample.plot()\n",
    "plt.show()\n",
    "display(data_resample['num_orders'].describe())\n",
    "#display(data_resample.sample(10, random_state = 123))"
   ]
  },
  {
   "cell_type": "markdown",
   "metadata": {},
   "source": [
    "### Вывод\n",
    "Ознакомились с полученными данными, пропусков не обнаружено. Типы данных корректны. Провели рессемплирование по часу для дальнейшей работы."
   ]
  },
  {
   "cell_type": "markdown",
   "metadata": {},
   "source": [
    "## Анализ"
   ]
  },
  {
   "cell_type": "code",
   "execution_count": 6,
   "metadata": {},
   "outputs": [
    {
     "data": {
      "image/png": "[encoded data removed]",
      "text/plain": [
       "<Figure size 1152x720 with 3 Axes>"
      ]
     },
     "metadata": {
      "needs_background": "light"
     },
     "output_type": "display_data"
    }
   ],
   "source": [
    "decomposed_data = seasonal_decompose(data_resample)\n",
    "\n",
    "fig, axs = plt.subplots(3, figsize=(16,10), sharex=False)\n",
    "axs[0].plot(decomposed_data.trend)\n",
    "axs[0].set_title(\"Trend\")\n",
    "\n",
    "axs[1].plot(decomposed_data.seasonal)\n",
    "axs[1].set_title(\"Seasonal, hours\")\n",
    "axs[1].set_xlim(('2018-03-01 00:00:00','2018-03-02 23:00:00'))\n",
    "\n",
    "axs[2].plot(decomposed_data.resid)\n",
    "axs[2].set_title(\"Residual\")\n",
    "\n",
    "plt.show()"
   ]
  },
  {
   "cell_type": "code",
   "execution_count": 7,
   "metadata": {},
   "outputs": [
    {
     "data": {
      "text/plain": [
       "(4416, 3)"
      ]
     },
     "execution_count": 7,
     "metadata": {},
     "output_type": "execute_result"
    },
    {
     "data": {
      "image/png": "[encoded data removed]",
      "text/plain": [
       "<Figure size 432x288 with 1 Axes>"
      ]
     },
     "metadata": {
      "needs_background": "light"
     },
     "output_type": "display_data"
    }
   ],
   "source": [
    "data_resample[\"rolling_mean\"] = data_resample[\"num_orders\"].rolling(20).mean()\n",
    "data_resample[\"rolling_std\"] = data_resample[\"num_orders\"].rolling(20).std()\n",
    "data_resample.plot()\n",
    "data_resample.shape"
   ]
  },
  {
   "cell_type": "code",
   "execution_count": 8,
   "metadata": {},
   "outputs": [],
   "source": [
    "data_resample = data_resample.drop(['rolling_mean','rolling_std'],axis = 1)"
   ]
  },
  {
   "cell_type": "markdown",
   "metadata": {},
   "source": [
    "### Вывод.\n",
    "Можно заметить, что количество заказов начинает расти в начале лета и достигает своего пика в конце августа.\n",
    "\n",
    "Среднее значение меняется довольно слабо, а стандартное отклонение практически не изменно, ряд можно считать стационарным."
   ]
  },
  {
   "cell_type": "code",
   "execution_count": 9,
   "metadata": {},
   "outputs": [
    {
     "data": {
      "text/plain": [
       "(-3.068924289027949,\n",
       " 0.02894005140261345,\n",
       " 30,\n",
       " 4385,\n",
       " {'1%': -3.431842162413052,\n",
       "  '5%': -2.8621993540813637,\n",
       "  '10%': -2.567120978470452},\n",
       " 41728.71357827463)"
      ]
     },
     "execution_count": 9,
     "metadata": {},
     "output_type": "execute_result"
    }
   ],
   "source": [
    "adfuller(data_resample[\"num_orders\"])"
   ]
  },
  {
   "cell_type": "markdown",
   "metadata": {},
   "source": [
    "## Обучение"
   ]
  },
  {
   "cell_type": "code",
   "execution_count": 10,
   "metadata": {},
   "outputs": [],
   "source": [
    "def rmse(first_list, second_list):\n",
    "    return np.sqrt(mse(first_list, second_list))"
   ]
  },
  {
   "cell_type": "code",
   "execution_count": 11,
   "metadata": {},
   "outputs": [],
   "source": [
    "def make_features(data, max_lag, rolling_mean_size):\n",
    "    data['year'] = data.index.year\n",
    "    data['month'] = data.index.month\n",
    "    data['day'] = data.index.day\n",
    "    data['dayofweek'] = data.index.dayofweek\n",
    "    \n",
    "    for lag in range(1, max_lag + 1):\n",
    "        data['lag_{}'.format(lag)] = data['num_orders'].shift(lag)\n",
    "\n",
    "    data['rolling_mean'] = data['num_orders'].shift().rolling(rolling_mean_size).mean()"
   ]
  },
  {
   "cell_type": "code",
   "execution_count": 12,
   "metadata": {},
   "outputs": [
    {
     "data": {
      "text/html": [
       "<div>\n",
       "<style scoped>\n",
       "    .dataframe tbody tr th:only-of-type {\n",
       "        vertical-align: middle;\n",
       "    }\n",
       "\n",
       "    .dataframe tbody tr th {\n",
       "        vertical-align: top;\n",
       "    }\n",
       "\n",
       "    .dataframe thead th {\n",
       "        text-align: right;\n",
       "    }\n",
       "</style>\n",
       "<table border=\"1\" class=\"dataframe\">\n",
       "  <thead>\n",
       "    <tr style=\"text-align: right;\">\n",
       "      <th></th>\n",
       "      <th>num_orders</th>\n",
       "      <th>year</th>\n",
       "      <th>month</th>\n",
       "      <th>day</th>\n",
       "      <th>dayofweek</th>\n",
       "      <th>lag_1</th>\n",
       "      <th>lag_2</th>\n",
       "      <th>lag_3</th>\n",
       "      <th>lag_4</th>\n",
       "      <th>lag_5</th>\n",
       "      <th>...</th>\n",
       "      <th>lag_16</th>\n",
       "      <th>lag_17</th>\n",
       "      <th>lag_18</th>\n",
       "      <th>lag_19</th>\n",
       "      <th>lag_20</th>\n",
       "      <th>lag_21</th>\n",
       "      <th>lag_22</th>\n",
       "      <th>lag_23</th>\n",
       "      <th>lag_24</th>\n",
       "      <th>rolling_mean</th>\n",
       "    </tr>\n",
       "    <tr>\n",
       "      <th>datetime</th>\n",
       "      <th></th>\n",
       "      <th></th>\n",
       "      <th></th>\n",
       "      <th></th>\n",
       "      <th></th>\n",
       "      <th></th>\n",
       "      <th></th>\n",
       "      <th></th>\n",
       "      <th></th>\n",
       "      <th></th>\n",
       "      <th></th>\n",
       "      <th></th>\n",
       "      <th></th>\n",
       "      <th></th>\n",
       "      <th></th>\n",
       "      <th></th>\n",
       "      <th></th>\n",
       "      <th></th>\n",
       "      <th></th>\n",
       "      <th></th>\n",
       "      <th></th>\n",
       "    </tr>\n",
       "  </thead>\n",
       "  <tbody>\n",
       "    <tr>\n",
       "      <td>2018-03-01 00:00:00</td>\n",
       "      <td>124</td>\n",
       "      <td>2018</td>\n",
       "      <td>3</td>\n",
       "      <td>1</td>\n",
       "      <td>3</td>\n",
       "      <td>NaN</td>\n",
       "      <td>NaN</td>\n",
       "      <td>NaN</td>\n",
       "      <td>NaN</td>\n",
       "      <td>NaN</td>\n",
       "      <td>...</td>\n",
       "      <td>NaN</td>\n",
       "      <td>NaN</td>\n",
       "      <td>NaN</td>\n",
       "      <td>NaN</td>\n",
       "      <td>NaN</td>\n",
       "      <td>NaN</td>\n",
       "      <td>NaN</td>\n",
       "      <td>NaN</td>\n",
       "      <td>NaN</td>\n",
       "      <td>NaN</td>\n",
       "    </tr>\n",
       "    <tr>\n",
       "      <td>2018-03-01 01:00:00</td>\n",
       "      <td>85</td>\n",
       "      <td>2018</td>\n",
       "      <td>3</td>\n",
       "      <td>1</td>\n",
       "      <td>3</td>\n",
       "      <td>124.0</td>\n",
       "      <td>NaN</td>\n",
       "      <td>NaN</td>\n",
       "      <td>NaN</td>\n",
       "      <td>NaN</td>\n",
       "      <td>...</td>\n",
       "      <td>NaN</td>\n",
       "      <td>NaN</td>\n",
       "      <td>NaN</td>\n",
       "      <td>NaN</td>\n",
       "      <td>NaN</td>\n",
       "      <td>NaN</td>\n",
       "      <td>NaN</td>\n",
       "      <td>NaN</td>\n",
       "      <td>NaN</td>\n",
       "      <td>NaN</td>\n",
       "    </tr>\n",
       "    <tr>\n",
       "      <td>2018-03-01 02:00:00</td>\n",
       "      <td>71</td>\n",
       "      <td>2018</td>\n",
       "      <td>3</td>\n",
       "      <td>1</td>\n",
       "      <td>3</td>\n",
       "      <td>85.0</td>\n",
       "      <td>124.0</td>\n",
       "      <td>NaN</td>\n",
       "      <td>NaN</td>\n",
       "      <td>NaN</td>\n",
       "      <td>...</td>\n",
       "      <td>NaN</td>\n",
       "      <td>NaN</td>\n",
       "      <td>NaN</td>\n",
       "      <td>NaN</td>\n",
       "      <td>NaN</td>\n",
       "      <td>NaN</td>\n",
       "      <td>NaN</td>\n",
       "      <td>NaN</td>\n",
       "      <td>NaN</td>\n",
       "      <td>NaN</td>\n",
       "    </tr>\n",
       "    <tr>\n",
       "      <td>2018-03-01 03:00:00</td>\n",
       "      <td>66</td>\n",
       "      <td>2018</td>\n",
       "      <td>3</td>\n",
       "      <td>1</td>\n",
       "      <td>3</td>\n",
       "      <td>71.0</td>\n",
       "      <td>85.0</td>\n",
       "      <td>124.0</td>\n",
       "      <td>NaN</td>\n",
       "      <td>NaN</td>\n",
       "      <td>...</td>\n",
       "      <td>NaN</td>\n",
       "      <td>NaN</td>\n",
       "      <td>NaN</td>\n",
       "      <td>NaN</td>\n",
       "      <td>NaN</td>\n",
       "      <td>NaN</td>\n",
       "      <td>NaN</td>\n",
       "      <td>NaN</td>\n",
       "      <td>NaN</td>\n",
       "      <td>NaN</td>\n",
       "    </tr>\n",
       "    <tr>\n",
       "      <td>2018-03-01 04:00:00</td>\n",
       "      <td>43</td>\n",
       "      <td>2018</td>\n",
       "      <td>3</td>\n",
       "      <td>1</td>\n",
       "      <td>3</td>\n",
       "      <td>66.0</td>\n",
       "      <td>71.0</td>\n",
       "      <td>85.0</td>\n",
       "      <td>124.0</td>\n",
       "      <td>NaN</td>\n",
       "      <td>...</td>\n",
       "      <td>NaN</td>\n",
       "      <td>NaN</td>\n",
       "      <td>NaN</td>\n",
       "      <td>NaN</td>\n",
       "      <td>NaN</td>\n",
       "      <td>NaN</td>\n",
       "      <td>NaN</td>\n",
       "      <td>NaN</td>\n",
       "      <td>NaN</td>\n",
       "      <td>NaN</td>\n",
       "    </tr>\n",
       "  </tbody>\n",
       "</table>\n",
       "<p>5 rows × 30 columns</p>\n",
       "</div>"
      ],
      "text/plain": [
       "                     num_orders  year  month  day  dayofweek  lag_1  lag_2  \\\n",
       "datetime                                                                     \n",
       "2018-03-01 00:00:00         124  2018      3    1          3    NaN    NaN   \n",
       "2018-03-01 01:00:00          85  2018      3    1          3  124.0    NaN   \n",
       "2018-03-01 02:00:00          71  2018      3    1          3   85.0  124.0   \n",
       "2018-03-01 03:00:00          66  2018      3    1          3   71.0   85.0   \n",
       "2018-03-01 04:00:00          43  2018      3    1          3   66.0   71.0   \n",
       "\n",
       "                     lag_3  lag_4  lag_5  ...  lag_16  lag_17  lag_18  lag_19  \\\n",
       "datetime                                  ...                                   \n",
       "2018-03-01 00:00:00    NaN    NaN    NaN  ...     NaN     NaN     NaN     NaN   \n",
       "2018-03-01 01:00:00    NaN    NaN    NaN  ...     NaN     NaN     NaN     NaN   \n",
       "2018-03-01 02:00:00    NaN    NaN    NaN  ...     NaN     NaN     NaN     NaN   \n",
       "2018-03-01 03:00:00  124.0    NaN    NaN  ...     NaN     NaN     NaN     NaN   \n",
       "2018-03-01 04:00:00   85.0  124.0    NaN  ...     NaN     NaN     NaN     NaN   \n",
       "\n",
       "                     lag_20  lag_21  lag_22  lag_23  lag_24  rolling_mean  \n",
       "datetime                                                                   \n",
       "2018-03-01 00:00:00     NaN     NaN     NaN     NaN     NaN           NaN  \n",
       "2018-03-01 01:00:00     NaN     NaN     NaN     NaN     NaN           NaN  \n",
       "2018-03-01 02:00:00     NaN     NaN     NaN     NaN     NaN           NaN  \n",
       "2018-03-01 03:00:00     NaN     NaN     NaN     NaN     NaN           NaN  \n",
       "2018-03-01 04:00:00     NaN     NaN     NaN     NaN     NaN           NaN  \n",
       "\n",
       "[5 rows x 30 columns]"
      ]
     },
     "metadata": {},
     "output_type": "display_data"
    }
   ],
   "source": [
    "make_features(data_resample,24,20)\n",
    "display(data_resample.head())"
   ]
  },
  {
   "cell_type": "code",
   "execution_count": 13,
   "metadata": {},
   "outputs": [
    {
     "data": {
      "text/plain": [
       "(4416, 30)"
      ]
     },
     "metadata": {},
     "output_type": "display_data"
    }
   ],
   "source": [
    "train, test = train_test_split(data_resample, shuffle=False, test_size=0.1)\n",
    "train = train.dropna()\n",
    "features_train = train.drop(['num_orders'],axis = 1)\n",
    "target_train = train['num_orders']\n",
    "features_test = test.drop(['num_orders'],axis = 1)\n",
    "target_test = test['num_orders']\n",
    "display(data_resample.shape)"
   ]
  },
  {
   "cell_type": "code",
   "execution_count": 14,
   "metadata": {},
   "outputs": [
    {
     "name": "stdout",
     "output_type": "stream",
     "text": [
      "Median(rmse): 87.15277582981295\n"
     ]
    }
   ],
   "source": [
    "# предсказание с помощью медианы\n",
    "pred_median = test['num_orders'].shape[0] * [train['num_orders'].median()]\n",
    "RMSE_med = rmse(target_test, pred_median)\n",
    "print(\"Median(rmse):\", RMSE_med)"
   ]
  },
  {
   "cell_type": "code",
   "execution_count": 15,
   "metadata": {},
   "outputs": [
    {
     "name": "stdout",
     "output_type": "stream",
     "text": [
      "Fitting 3 folds for each of 6 candidates, totalling 18 fits\n"
     ]
    },
    {
     "name": "stderr",
     "output_type": "stream",
     "text": [
      "[Parallel(n_jobs=-1)]: Using backend SequentialBackend with 1 concurrent workers.\n",
      "[Parallel(n_jobs=-1)]: Done  18 out of  18 | elapsed:  2.6min finished\n"
     ]
    },
    {
     "data": {
      "text/plain": [
       "GridSearchCV(cv=TimeSeriesSplit(max_train_size=None, n_splits=3),\n",
       "             error_score='raise-deprecating',\n",
       "             estimator=RandomForestRegressor(bootstrap=True, criterion='mse',\n",
       "                                             max_depth=None,\n",
       "                                             max_features='auto',\n",
       "                                             max_leaf_nodes=None,\n",
       "                                             min_impurity_decrease=0.0,\n",
       "                                             min_impurity_split=None,\n",
       "                                             min_samples_leaf=1,\n",
       "                                             min_samples_split=2,\n",
       "                                             min_weight_fraction_leaf=0.0,\n",
       "                                             n_estimators='warn', n_jobs=None,\n",
       "                                             oob_score=False, random_state=123,\n",
       "                                             verbose=0, warm_start=False),\n",
       "             iid='warn', n_jobs=-1,\n",
       "             param_grid={'max_depth': [1, 10], 'n_estimators': [100, 150, 10]},\n",
       "             pre_dispatch='2*n_jobs', refit=True, return_train_score=False,\n",
       "             scoring='neg_mean_squared_error', verbose=True)"
      ]
     },
     "execution_count": 15,
     "metadata": {},
     "output_type": "execute_result"
    }
   ],
   "source": [
    "RF = RandomForestRegressor(random_state=123)\n",
    "parametrs = {\"max_depth\": [1,10],\"n_estimators\":[100,150,10]}\n",
    "\n",
    "RF_grid = GridSearchCV(RF,parametrs,cv = TimeSeriesSplit(n_splits=3),verbose=True,n_jobs=-1,scoring= 'neg_mean_squared_error')\n",
    "RF_grid.fit(features_train,target_train)"
   ]
  },
  {
   "cell_type": "code",
   "execution_count": 16,
   "metadata": {},
   "outputs": [
    {
     "name": "stdout",
     "output_type": "stream",
     "text": [
      "0:\tloss: 33.1527633\tbest: 33.1527633 (0)\ttotal: 1m 15s\tremaining: 11m 17s\n",
      "1:\tloss: 33.5220020\tbest: 33.1527633 (0)\ttotal: 2m 34s\tremaining: 10m 18s\n",
      "2:\tloss: 34.8008783\tbest: 33.1527633 (0)\ttotal: 3m 47s\tremaining: 8m 50s\n",
      "3:\tloss: 35.7167884\tbest: 33.1527633 (0)\ttotal: 5m 3s\tremaining: 7m 35s\n",
      "4:\tloss: 36.7504996\tbest: 33.1527633 (0)\ttotal: 6m 20s\tremaining: 6m 20s\n",
      "5:\tloss: 36.4964527\tbest: 33.1527633 (0)\ttotal: 13m 7s\tremaining: 8m 45s\n",
      "6:\tloss: 36.0542413\tbest: 33.1527633 (0)\ttotal: 20m 8s\tremaining: 8m 37s\n",
      "7:\tloss: 38.7041396\tbest: 33.1527633 (0)\ttotal: 27m 24s\tremaining: 6m 51s\n",
      "8:\tloss: 43.3424068\tbest: 33.1527633 (0)\ttotal: 33m 42s\tremaining: 3m 44s\n",
      "9:\tloss: 44.3445862\tbest: 33.1527633 (0)\ttotal: 39m 51s\tremaining: 0us\n",
      "Estimating final quality...\n"
     ]
    }
   ],
   "source": [
    "catboost = CatBoostRegressor(loss_function='RMSE',random_state = 123)\n",
    "parameters_cat = {'depth':[5,10], 'learning_rate':np.arange(0.1,1,0.2)}\n",
    "catboost_grid = catboost.grid_search(parameters_cat,\n",
    "            Pool(features_train,target_train),cv=TimeSeriesSplit(n_splits=3),verbose=True)"
   ]
  },
  {
   "cell_type": "code",
   "execution_count": 17,
   "metadata": {},
   "outputs": [
    {
     "name": "stdout",
     "output_type": "stream",
     "text": [
      "0:\tlearn: 36.9684097\ttotal: 6.06ms\tremaining: 6.05s\n",
      "100:\tlearn: 21.2410502\ttotal: 3.25s\tremaining: 28.9s\n",
      "200:\tlearn: 18.2972547\ttotal: 6.62s\tremaining: 26.3s\n",
      "300:\tlearn: 16.4140357\ttotal: 9.87s\tremaining: 22.9s\n",
      "400:\tlearn: 14.9079211\ttotal: 13.3s\tremaining: 19.9s\n",
      "500:\tlearn: 13.5906451\ttotal: 16.8s\tremaining: 16.7s\n",
      "600:\tlearn: 12.4677805\ttotal: 19.7s\tremaining: 13s\n",
      "700:\tlearn: 11.4108071\ttotal: 23.3s\tremaining: 9.93s\n",
      "800:\tlearn: 10.4940732\ttotal: 26.6s\tremaining: 6.62s\n",
      "900:\tlearn: 9.6595782\ttotal: 30s\tremaining: 3.3s\n",
      "999:\tlearn: 8.9679636\ttotal: 33.4s\tremaining: 0us\n"
     ]
    },
    {
     "data": {
      "text/plain": [
       "<catboost.core.CatBoostRegressor at 0x7f1160c4fc50>"
      ]
     },
     "execution_count": 17,
     "metadata": {},
     "output_type": "execute_result"
    }
   ],
   "source": [
    "final_cat = CatBoostRegressor(depth=catboost_grid[\"params\"][\"depth\"], \n",
    "                              learning_rate=catboost_grid[\"params\"]['learning_rate'],\n",
    "                              loss_function='RMSE',verbose=100)\n",
    "final_cat.fit(Pool(features_train,target_train))"
   ]
  },
  {
   "cell_type": "code",
   "execution_count": 18,
   "metadata": {},
   "outputs": [
    {
     "data": {
      "text/plain": [
       "LinearRegression(copy_X=True, fit_intercept=True, n_jobs=None, normalize=False)"
      ]
     },
     "execution_count": 18,
     "metadata": {},
     "output_type": "execute_result"
    }
   ],
   "source": [
    "lr = LinearRegression()\n",
    "lr.fit(features_train,target_train)"
   ]
  },
  {
   "cell_type": "markdown",
   "metadata": {},
   "source": [
    "## Тестирование"
   ]
  },
  {
   "cell_type": "code",
   "execution_count": 19,
   "metadata": {},
   "outputs": [
    {
     "name": "stdout",
     "output_type": "stream",
     "text": [
      "RMSE RF: 43.89310128393786\n",
      "CPU times: user 40.4 ms, sys: 782 µs, total: 41.2 ms\n",
      "Wall time: 105 ms\n"
     ]
    }
   ],
   "source": [
    "%%time\n",
    "preds_RF_test = RF_grid.best_estimator_.predict(features_test)\n",
    "RMSE_RF = rmse(target_test,preds_RF_test)\n",
    "print('RMSE RF:', RMSE_RF)"
   ]
  },
  {
   "cell_type": "code",
   "execution_count": 20,
   "metadata": {},
   "outputs": [
    {
     "name": "stdout",
     "output_type": "stream",
     "text": [
      "RMSE cat: 40.912636408455285\n"
     ]
    }
   ],
   "source": [
    "pred_cat_test = final_cat.predict(features_test)\n",
    "RMSE_cat = rmse(pred_cat_test,target_test)\n",
    "print('RMSE cat:', RMSE_cat)"
   ]
  },
  {
   "cell_type": "code",
   "execution_count": 21,
   "metadata": {},
   "outputs": [
    {
     "name": "stdout",
     "output_type": "stream",
     "text": [
      "RMSE LR: 45.17370008663392\n"
     ]
    }
   ],
   "source": [
    "test_pred = lr.predict(features_test)\n",
    "RMSE_LR = rmse(target_test,test_pred)\n",
    "print('RMSE LR:',RMSE_LR )"
   ]
  },
  {
   "cell_type": "markdown",
   "metadata": {},
   "source": [
    "### Вывод"
   ]
  },
  {
   "cell_type": "markdown",
   "metadata": {},
   "source": [
    "Провели исследование по количеству заказов машин на следующий час, использовали стандартные модели, а так же обучение медианой. Наиболее лучшую метрику RMSE показала модель CatBoost'а."
   ]
  },
  {
   "cell_type": "code",
   "execution_count": 22,
   "metadata": {},
   "outputs": [
    {
     "data": {
      "text/html": [
       "<div>\n",
       "<style scoped>\n",
       "    .dataframe tbody tr th:only-of-type {\n",
       "        vertical-align: middle;\n",
       "    }\n",
       "\n",
       "    .dataframe tbody tr th {\n",
       "        vertical-align: top;\n",
       "    }\n",
       "\n",
       "    .dataframe thead th {\n",
       "        text-align: right;\n",
       "    }\n",
       "</style>\n",
       "<table border=\"1\" class=\"dataframe\">\n",
       "  <thead>\n",
       "    <tr style=\"text-align: right;\">\n",
       "      <th></th>\n",
       "      <th>RMSE</th>\n",
       "    </tr>\n",
       "  </thead>\n",
       "  <tbody>\n",
       "    <tr>\n",
       "      <td>LR</td>\n",
       "      <td>45.173700</td>\n",
       "    </tr>\n",
       "    <tr>\n",
       "      <td>cat</td>\n",
       "      <td>40.912636</td>\n",
       "    </tr>\n",
       "    <tr>\n",
       "      <td>RF</td>\n",
       "      <td>43.893101</td>\n",
       "    </tr>\n",
       "    <tr>\n",
       "      <td>median</td>\n",
       "      <td>87.152776</td>\n",
       "    </tr>\n",
       "  </tbody>\n",
       "</table>\n",
       "</div>"
      ],
      "text/plain": [
       "             RMSE\n",
       "LR      45.173700\n",
       "cat     40.912636\n",
       "RF      43.893101\n",
       "median  87.152776"
      ]
     },
     "execution_count": 22,
     "metadata": {},
     "output_type": "execute_result"
    }
   ],
   "source": [
    "data = [[RMSE_LR],\n",
    "        [RMSE_cat],\n",
    "        [RMSE_RF],\n",
    "        [RMSE_med]]\n",
    "model = [\"LR\", \"cat\", \"RF\",\"median\"]\n",
    "pd.DataFrame(data=data, index=model, columns=[\"RMSE\"])"
   ]
  }
 ],
 "metadata": {
  "ExecuteTimeLog": [
   {
    "duration": 521,
    "start_time": "2021-07-17T11:32:40.637Z"
   },
   {
    "duration": 44,
    "start_time": "2021-07-17T11:33:19.393Z"
   },
   {
    "duration": 304,
    "start_time": "2021-07-17T11:35:03.287Z"
   },
   {
    "duration": 36,
    "start_time": "2021-07-17T11:35:32.408Z"
   },
   {
    "duration": 247,
    "start_time": "2021-07-17T11:36:37.349Z"
   },
   {
    "duration": 37,
    "start_time": "2021-07-17T11:36:43.042Z"
   },
   {
    "duration": 40,
    "start_time": "2021-07-17T11:37:14.466Z"
   },
   {
    "duration": 248,
    "start_time": "2021-07-17T11:40:47.698Z"
   },
   {
    "duration": 268,
    "start_time": "2021-07-17T11:41:21.776Z"
   },
   {
    "duration": 235,
    "start_time": "2021-07-17T11:41:53.810Z"
   },
   {
    "duration": 41,
    "start_time": "2021-07-17T11:42:10.506Z"
   },
   {
    "duration": 247,
    "start_time": "2021-07-17T11:42:19.499Z"
   },
   {
    "duration": 261,
    "start_time": "2021-07-17T11:43:28.826Z"
   },
   {
    "duration": 256,
    "start_time": "2021-07-17T11:43:43.495Z"
   },
   {
    "duration": 42,
    "start_time": "2021-07-17T11:43:50.936Z"
   },
   {
    "duration": 255,
    "start_time": "2021-07-17T11:44:41.147Z"
   },
   {
    "duration": 253,
    "start_time": "2021-07-17T11:45:00.672Z"
   },
   {
    "duration": 42,
    "start_time": "2021-07-17T11:45:30.746Z"
   },
   {
    "duration": 44,
    "start_time": "2021-07-17T11:45:46.068Z"
   },
   {
    "duration": 48,
    "start_time": "2021-07-17T11:48:54.942Z"
   },
   {
    "duration": 45,
    "start_time": "2021-07-17T11:48:58.248Z"
   },
   {
    "duration": 240,
    "start_time": "2021-07-17T11:49:08.635Z"
   },
   {
    "duration": 42,
    "start_time": "2021-07-17T11:49:22.873Z"
   },
   {
    "duration": 249,
    "start_time": "2021-07-17T11:49:28.500Z"
   },
   {
    "duration": 44,
    "start_time": "2021-07-17T11:49:47.491Z"
   },
   {
    "duration": 51,
    "start_time": "2021-07-17T11:49:53.998Z"
   },
   {
    "duration": 47,
    "start_time": "2021-07-17T11:50:09.231Z"
   },
   {
    "duration": 48,
    "start_time": "2021-07-17T11:51:51.028Z"
   },
   {
    "duration": 49,
    "start_time": "2021-07-17T11:52:01.705Z"
   },
   {
    "duration": 248,
    "start_time": "2021-07-17T11:52:09.491Z"
   },
   {
    "duration": 253,
    "start_time": "2021-07-17T11:54:08.995Z"
   },
   {
    "duration": 43,
    "start_time": "2021-07-17T11:54:16.852Z"
   },
   {
    "duration": 336,
    "start_time": "2021-07-17T11:55:28.033Z"
   },
   {
    "duration": 2,
    "start_time": "2021-07-17T11:55:46.760Z"
   },
   {
    "duration": 388,
    "start_time": "2021-07-17T11:56:04.479Z"
   },
   {
    "duration": 527,
    "start_time": "2021-07-17T11:56:31.290Z"
   },
   {
    "duration": 493,
    "start_time": "2021-07-17T11:57:55.100Z"
   },
   {
    "duration": 274,
    "start_time": "2021-07-17T11:58:04.660Z"
   },
   {
    "duration": 218,
    "start_time": "2021-07-17T12:05:35.274Z"
   },
   {
    "duration": 8,
    "start_time": "2021-07-17T12:05:43.160Z"
   },
   {
    "duration": 13,
    "start_time": "2021-07-17T12:12:44.108Z"
   },
   {
    "duration": 269,
    "start_time": "2021-07-17T12:13:15.651Z"
   },
   {
    "duration": 239,
    "start_time": "2021-07-17T12:16:10.148Z"
   },
   {
    "duration": 312,
    "start_time": "2021-07-17T12:16:44.919Z"
   },
   {
    "duration": 268,
    "start_time": "2021-07-17T12:16:56.646Z"
   },
   {
    "duration": 240,
    "start_time": "2021-07-17T12:17:07.304Z"
   },
   {
    "duration": 2,
    "start_time": "2021-07-17T12:18:29.305Z"
   },
   {
    "duration": 44,
    "start_time": "2021-07-17T12:18:29.551Z"
   },
   {
    "duration": 369,
    "start_time": "2021-07-17T14:22:48.739Z"
   },
   {
    "duration": 831,
    "start_time": "2021-07-17T14:22:51.515Z"
   },
   {
    "duration": 64,
    "start_time": "2021-07-17T14:22:52.348Z"
   },
   {
    "duration": 474,
    "start_time": "2021-07-17T14:22:52.415Z"
   },
   {
    "duration": 401,
    "start_time": "2021-07-17T14:27:43.949Z"
   },
   {
    "duration": 11,
    "start_time": "2021-07-17T14:28:00.635Z"
   },
   {
    "duration": 540,
    "start_time": "2021-07-17T14:28:10.259Z"
   },
   {
    "duration": 384,
    "start_time": "2021-07-17T15:07:46.395Z"
   },
   {
    "duration": 454,
    "start_time": "2021-07-17T15:07:50.651Z"
   },
   {
    "duration": 435,
    "start_time": "2021-07-17T15:07:54.137Z"
   },
   {
    "duration": 373,
    "start_time": "2021-07-17T15:08:50.401Z"
   },
   {
    "duration": 5,
    "start_time": "2021-07-17T15:09:47.752Z"
   },
   {
    "duration": 58,
    "start_time": "2021-07-17T15:09:48.101Z"
   },
   {
    "duration": 423,
    "start_time": "2021-07-17T15:09:48.899Z"
   },
   {
    "duration": 9,
    "start_time": "2021-07-17T15:09:55.642Z"
   },
   {
    "duration": 627,
    "start_time": "2021-07-17T15:10:07.303Z"
   },
   {
    "duration": 337,
    "start_time": "2021-07-17T15:10:08.513Z"
   },
   {
    "duration": 10,
    "start_time": "2021-07-17T15:13:06.753Z"
   },
   {
    "duration": 1345,
    "start_time": "2021-07-17T15:18:01.902Z"
   },
   {
    "duration": 66,
    "start_time": "2021-07-17T15:18:03.250Z"
   },
   {
    "duration": 441,
    "start_time": "2021-07-17T15:18:03.319Z"
   },
   {
    "duration": 1288,
    "start_time": "2021-07-17T15:18:03.762Z"
   },
   {
    "duration": 878,
    "start_time": "2021-07-17T15:18:15.435Z"
   },
   {
    "duration": 861,
    "start_time": "2021-07-17T15:18:25.821Z"
   },
   {
    "duration": 1102,
    "start_time": "2021-07-18T06:00:18.930Z"
   },
   {
    "duration": 54,
    "start_time": "2021-07-18T06:00:20.034Z"
   },
   {
    "duration": 4,
    "start_time": "2021-07-18T06:00:51.268Z"
   },
   {
    "duration": 55,
    "start_time": "2021-07-18T06:02:20.339Z"
   },
   {
    "duration": 5,
    "start_time": "2021-07-18T06:03:58.946Z"
   },
   {
    "duration": 6,
    "start_time": "2021-07-18T06:06:54.232Z"
   },
   {
    "duration": 3,
    "start_time": "2021-07-18T06:13:05.092Z"
   },
   {
    "duration": 3,
    "start_time": "2021-07-18T06:13:09.048Z"
   },
   {
    "duration": 861,
    "start_time": "2021-07-18T06:13:37.284Z"
   },
   {
    "duration": 3,
    "start_time": "2021-07-18T06:13:54.266Z"
   },
   {
    "duration": 590,
    "start_time": "2021-07-18T06:14:00.800Z"
   },
   {
    "duration": 5,
    "start_time": "2021-07-18T06:14:33.819Z"
   },
   {
    "duration": 193,
    "start_time": "2021-07-18T06:14:58.683Z"
   },
   {
    "duration": 526,
    "start_time": "2021-07-18T06:15:49.748Z"
   },
   {
    "duration": 6,
    "start_time": "2021-07-18T06:16:07.311Z"
   },
   {
    "duration": 5,
    "start_time": "2021-07-18T06:16:19.717Z"
   },
   {
    "duration": 1510,
    "start_time": "2021-07-18T15:05:15.848Z"
   },
   {
    "duration": 70,
    "start_time": "2021-07-18T15:05:17.361Z"
   },
   {
    "duration": 4,
    "start_time": "2021-07-18T15:05:17.433Z"
   },
   {
    "duration": 467,
    "start_time": "2021-07-18T15:05:17.440Z"
   },
   {
    "duration": 877,
    "start_time": "2021-07-18T15:05:17.910Z"
   },
   {
    "duration": 521,
    "start_time": "2021-07-18T15:05:18.789Z"
   },
   {
    "duration": 4,
    "start_time": "2021-07-18T15:05:19.313Z"
   },
   {
    "duration": 20,
    "start_time": "2021-07-18T15:05:19.320Z"
   },
   {
    "duration": 12,
    "start_time": "2021-07-18T15:05:19.343Z"
   },
   {
    "duration": 102,
    "start_time": "2021-07-18T15:12:56.473Z"
   },
   {
    "duration": 417,
    "start_time": "2021-07-18T15:13:02.202Z"
   },
   {
    "duration": 274,
    "start_time": "2021-07-18T15:13:24.139Z"
   },
   {
    "duration": 469,
    "start_time": "2021-07-18T15:13:38.712Z"
   },
   {
    "duration": 9,
    "start_time": "2021-07-18T15:14:29.654Z"
   },
   {
    "duration": 10,
    "start_time": "2021-07-18T15:16:52.878Z"
   },
   {
    "duration": 4,
    "start_time": "2021-07-18T15:16:56.132Z"
   },
   {
    "duration": 63,
    "start_time": "2021-07-18T15:16:56.303Z"
   },
   {
    "duration": 3,
    "start_time": "2021-07-18T15:16:56.432Z"
   },
   {
    "duration": 437,
    "start_time": "2021-07-18T15:16:56.588Z"
   },
   {
    "duration": 893,
    "start_time": "2021-07-18T15:16:57.028Z"
   },
   {
    "duration": 520,
    "start_time": "2021-07-18T15:16:57.924Z"
   },
   {
    "duration": 4,
    "start_time": "2021-07-18T15:16:58.447Z"
   },
   {
    "duration": 12,
    "start_time": "2021-07-18T15:16:58.454Z"
   },
   {
    "duration": 34,
    "start_time": "2021-07-18T15:16:58.468Z"
   },
   {
    "duration": 9,
    "start_time": "2021-07-18T15:16:58.505Z"
   },
   {
    "duration": 295,
    "start_time": "2021-07-18T15:16:58.517Z"
   },
   {
    "duration": 6,
    "start_time": "2021-07-18T15:20:07.136Z"
   },
   {
    "duration": 8,
    "start_time": "2021-07-18T15:20:32.578Z"
   },
   {
    "duration": 5,
    "start_time": "2021-07-18T15:20:53.197Z"
   },
   {
    "duration": 65,
    "start_time": "2021-07-18T15:20:53.359Z"
   },
   {
    "duration": 3,
    "start_time": "2021-07-18T15:20:53.522Z"
   },
   {
    "duration": 448,
    "start_time": "2021-07-18T15:20:53.681Z"
   },
   {
    "duration": 996,
    "start_time": "2021-07-18T15:20:54.132Z"
   },
   {
    "duration": 502,
    "start_time": "2021-07-18T15:20:55.131Z"
   },
   {
    "duration": 4,
    "start_time": "2021-07-18T15:20:55.636Z"
   },
   {
    "duration": 14,
    "start_time": "2021-07-18T15:20:55.642Z"
   },
   {
    "duration": 15,
    "start_time": "2021-07-18T15:20:55.659Z"
   },
   {
    "duration": 11,
    "start_time": "2021-07-18T15:20:55.693Z"
   },
   {
    "duration": 309,
    "start_time": "2021-07-18T15:20:56.081Z"
   },
   {
    "duration": 13,
    "start_time": "2021-07-18T15:22:33.761Z"
   },
   {
    "duration": 16,
    "start_time": "2021-07-18T15:22:46.658Z"
   },
   {
    "duration": 17,
    "start_time": "2021-07-18T15:23:04.518Z"
   },
   {
    "duration": 280,
    "start_time": "2021-07-18T15:23:51.292Z"
   },
   {
    "duration": 13,
    "start_time": "2021-07-18T15:23:56.044Z"
   },
   {
    "duration": 11,
    "start_time": "2021-07-18T15:24:02.352Z"
   },
   {
    "duration": 11,
    "start_time": "2021-07-18T15:24:23.284Z"
   },
   {
    "duration": 59,
    "start_time": "2021-07-18T15:26:33.213Z"
   },
   {
    "duration": 61,
    "start_time": "2021-07-18T15:27:03.334Z"
   },
   {
    "duration": 59,
    "start_time": "2021-07-18T15:27:13.275Z"
   },
   {
    "duration": 517,
    "start_time": "2021-07-18T15:27:29.285Z"
   },
   {
    "duration": 62,
    "start_time": "2021-07-18T15:27:39.787Z"
   },
   {
    "duration": 285,
    "start_time": "2021-07-18T15:29:00.216Z"
   },
   {
    "duration": 5,
    "start_time": "2021-07-18T15:29:12.857Z"
   },
   {
    "duration": 63,
    "start_time": "2021-07-18T15:29:13.027Z"
   },
   {
    "duration": 3,
    "start_time": "2021-07-18T15:29:13.204Z"
   },
   {
    "duration": 446,
    "start_time": "2021-07-18T15:29:13.357Z"
   },
   {
    "duration": 903,
    "start_time": "2021-07-18T15:29:13.805Z"
   },
   {
    "duration": 631,
    "start_time": "2021-07-18T15:29:14.710Z"
   },
   {
    "duration": 4,
    "start_time": "2021-07-18T15:29:15.344Z"
   },
   {
    "duration": 14,
    "start_time": "2021-07-18T15:29:15.351Z"
   },
   {
    "duration": 36,
    "start_time": "2021-07-18T15:29:15.368Z"
   },
   {
    "duration": 11,
    "start_time": "2021-07-18T15:29:15.407Z"
   },
   {
    "duration": 288,
    "start_time": "2021-07-18T15:29:40.714Z"
   },
   {
    "duration": 6,
    "start_time": "2021-07-18T15:35:38.903Z"
   },
   {
    "duration": 40,
    "start_time": "2021-07-18T15:36:03.148Z"
   },
   {
    "duration": 4,
    "start_time": "2021-07-18T15:36:43.744Z"
   },
   {
    "duration": 59,
    "start_time": "2021-07-18T15:36:43.879Z"
   },
   {
    "duration": 3,
    "start_time": "2021-07-18T15:36:44.062Z"
   },
   {
    "duration": 442,
    "start_time": "2021-07-18T15:36:44.208Z"
   },
   {
    "duration": 886,
    "start_time": "2021-07-18T15:36:44.652Z"
   },
   {
    "duration": 536,
    "start_time": "2021-07-18T15:36:45.541Z"
   },
   {
    "duration": 4,
    "start_time": "2021-07-18T15:36:46.080Z"
   },
   {
    "duration": 25,
    "start_time": "2021-07-18T15:36:46.086Z"
   },
   {
    "duration": 6,
    "start_time": "2021-07-18T15:36:46.958Z"
   },
   {
    "duration": 43,
    "start_time": "2021-07-18T15:36:46.966Z"
   },
   {
    "duration": 14,
    "start_time": "2021-07-18T15:36:47.012Z"
   },
   {
    "duration": 8,
    "start_time": "2021-07-18T15:36:47.029Z"
   },
   {
    "duration": 747,
    "start_time": "2021-07-18T15:36:47.040Z"
   },
   {
    "duration": 18,
    "start_time": "2021-07-18T15:37:10.437Z"
   },
   {
    "duration": 8,
    "start_time": "2021-07-18T15:37:11.334Z"
   },
   {
    "duration": 33064,
    "start_time": "2021-07-18T15:37:12.651Z"
   },
   {
    "duration": 173,
    "start_time": "2021-07-18T15:40:16.904Z"
   },
   {
    "duration": 281,
    "start_time": "2021-07-18T15:40:21.083Z"
   },
   {
    "duration": 260,
    "start_time": "2021-07-18T15:40:33.911Z"
   },
   {
    "duration": 1057599,
    "start_time": "2021-07-18T15:40:38.038Z"
   },
   {
    "duration": 313,
    "start_time": "2021-07-18T16:00:06.089Z"
   },
   {
    "duration": 22717,
    "start_time": "2021-07-18T16:00:16.510Z"
   },
   {
    "duration": 188,
    "start_time": "2021-07-18T16:01:54.229Z"
   },
   {
    "duration": 30,
    "start_time": "2021-07-18T16:02:01.892Z"
   },
   {
    "duration": 32,
    "start_time": "2021-07-18T16:02:35.076Z"
   },
   {
    "duration": 5,
    "start_time": "2021-07-18T16:07:45.452Z"
   },
   {
    "duration": 4,
    "start_time": "2021-07-18T16:08:17.358Z"
   },
   {
    "duration": 19,
    "start_time": "2021-07-18T16:08:23.018Z"
   },
   {
    "duration": 1872,
    "start_time": "2021-07-18T16:08:59.997Z"
   },
   {
    "duration": 4,
    "start_time": "2021-07-18T16:09:01.873Z"
   },
   {
    "duration": 117,
    "start_time": "2021-07-18T16:09:01.882Z"
   },
   {
    "duration": 4,
    "start_time": "2021-07-18T16:09:02.002Z"
   },
   {
    "duration": 575,
    "start_time": "2021-07-18T16:09:02.009Z"
   },
   {
    "duration": 940,
    "start_time": "2021-07-18T16:09:02.586Z"
   },
   {
    "duration": 620,
    "start_time": "2021-07-18T16:09:03.529Z"
   },
   {
    "duration": 4,
    "start_time": "2021-07-18T16:09:04.152Z"
   },
   {
    "duration": 10,
    "start_time": "2021-07-18T16:09:04.158Z"
   },
   {
    "duration": 5,
    "start_time": "2021-07-18T16:09:04.171Z"
   },
   {
    "duration": 41,
    "start_time": "2021-07-18T16:09:04.201Z"
   },
   {
    "duration": 18,
    "start_time": "2021-07-18T16:09:04.245Z"
   },
   {
    "duration": 34,
    "start_time": "2021-07-18T16:09:04.266Z"
   },
   {
    "duration": 33473,
    "start_time": "2021-07-18T16:09:04.304Z"
   },
   {
    "duration": 1054535,
    "start_time": "2021-07-18T16:09:37.779Z"
   },
   {
    "duration": 33155,
    "start_time": "2021-07-18T16:27:12.319Z"
   },
   {
    "duration": 38,
    "start_time": "2021-07-18T16:27:45.477Z"
   },
   {
    "duration": 1345,
    "start_time": "2021-07-18T16:35:02.992Z"
   },
   {
    "duration": 4,
    "start_time": "2021-07-18T16:35:17.980Z"
   },
   {
    "duration": 394,
    "start_time": "2021-07-18T16:35:21.240Z"
   },
   {
    "duration": 17,
    "start_time": "2021-07-18T16:35:29.328Z"
   },
   {
    "duration": 321,
    "start_time": "2021-07-18T16:37:43.598Z"
   },
   {
    "duration": 17,
    "start_time": "2021-07-18T16:37:48.584Z"
   },
   {
    "duration": 11,
    "start_time": "2021-07-18T16:37:52.183Z"
   },
   {
    "duration": 273,
    "start_time": "2021-07-18T16:38:15.409Z"
   },
   {
    "duration": 24,
    "start_time": "2021-07-18T16:38:23.580Z"
   },
   {
    "duration": 9,
    "start_time": "2021-07-18T16:38:25.267Z"
   },
   {
    "duration": 10,
    "start_time": "2021-07-18T16:39:18.435Z"
   },
   {
    "duration": 13,
    "start_time": "2021-07-18T16:41:25.692Z"
   },
   {
    "duration": 1587,
    "start_time": "2021-07-19T05:06:24.762Z"
   },
   {
    "duration": 5,
    "start_time": "2021-07-19T05:06:26.351Z"
   },
   {
    "duration": 77,
    "start_time": "2021-07-19T05:06:26.359Z"
   },
   {
    "duration": 3,
    "start_time": "2021-07-19T05:06:26.438Z"
   },
   {
    "duration": 452,
    "start_time": "2021-07-19T05:06:26.443Z"
   },
   {
    "duration": 949,
    "start_time": "2021-07-19T05:06:26.897Z"
   },
   {
    "duration": 565,
    "start_time": "2021-07-19T05:06:27.856Z"
   },
   {
    "duration": 4,
    "start_time": "2021-07-19T05:06:28.424Z"
   },
   {
    "duration": 25,
    "start_time": "2021-07-19T05:06:28.430Z"
   },
   {
    "duration": 1636,
    "start_time": "2021-07-19T07:01:23.131Z"
   },
   {
    "duration": 91,
    "start_time": "2021-07-19T07:01:33.149Z"
   },
   {
    "duration": 432,
    "start_time": "2021-07-19T07:04:31.215Z"
   },
   {
    "duration": 5,
    "start_time": "2021-07-19T07:04:45.391Z"
   },
   {
    "duration": 3,
    "start_time": "2021-07-19T07:04:45.546Z"
   },
   {
    "duration": 74,
    "start_time": "2021-07-19T07:04:45.742Z"
   },
   {
    "duration": 3,
    "start_time": "2021-07-19T07:04:46.121Z"
   },
   {
    "duration": 454,
    "start_time": "2021-07-19T07:04:46.283Z"
   },
   {
    "duration": 863,
    "start_time": "2021-07-19T07:04:47.099Z"
   },
   {
    "duration": 577,
    "start_time": "2021-07-19T07:04:48.622Z"
   },
   {
    "duration": 2400,
    "start_time": "2021-07-19T07:04:53.456Z"
   },
   {
    "duration": 91,
    "start_time": "2021-07-19T07:14:19.555Z"
   },
   {
    "duration": 423,
    "start_time": "2021-07-19T07:14:24.425Z"
   },
   {
    "duration": 6,
    "start_time": "2021-07-19T07:14:31.158Z"
   },
   {
    "duration": 4,
    "start_time": "2021-07-19T07:14:31.329Z"
   },
   {
    "duration": 67,
    "start_time": "2021-07-19T07:14:31.502Z"
   },
   {
    "duration": 3,
    "start_time": "2021-07-19T07:14:31.814Z"
   },
   {
    "duration": 450,
    "start_time": "2021-07-19T07:14:31.960Z"
   },
   {
    "duration": 913,
    "start_time": "2021-07-19T07:14:32.620Z"
   },
   {
    "duration": 541,
    "start_time": "2021-07-19T07:14:33.536Z"
   },
   {
    "duration": 322,
    "start_time": "2021-07-19T07:14:34.080Z"
   },
   {
    "duration": 5,
    "start_time": "2021-07-19T07:20:20.060Z"
   },
   {
    "duration": 725,
    "start_time": "2021-07-19T07:22:21.349Z"
   },
   {
    "duration": 6,
    "start_time": "2021-07-19T07:22:23.654Z"
   },
   {
    "duration": 90,
    "start_time": "2021-07-19T07:22:24.149Z"
   },
   {
    "duration": 17,
    "start_time": "2021-07-19T07:23:16.930Z"
   },
   {
    "duration": 281,
    "start_time": "2021-07-19T07:23:21.208Z"
   },
   {
    "duration": 4,
    "start_time": "2021-07-19T07:23:26.109Z"
   },
   {
    "duration": 8,
    "start_time": "2021-07-19T07:23:28.498Z"
   },
   {
    "duration": 34879,
    "start_time": "2021-07-19T07:23:30.220Z"
   },
   {
    "duration": 5,
    "start_time": "2021-07-19T07:35:24.348Z"
   },
   {
    "duration": 303,
    "start_time": "2021-07-19T07:38:33.812Z"
   },
   {
    "duration": 482,
    "start_time": "2021-07-19T07:39:00.742Z"
   },
   {
    "duration": 285,
    "start_time": "2021-07-19T07:39:16.215Z"
   },
   {
    "duration": 6,
    "start_time": "2021-07-19T07:39:32.980Z"
   },
   {
    "duration": 5,
    "start_time": "2021-07-19T07:39:40.167Z"
   },
   {
    "duration": 307,
    "start_time": "2021-07-19T07:44:52.723Z"
   },
   {
    "duration": 348,
    "start_time": "2021-07-19T07:45:31.582Z"
   },
   {
    "duration": 29725,
    "start_time": "2021-07-19T07:46:21.316Z"
   },
   {
    "duration": 1148962,
    "start_time": "2021-07-19T07:50:34.993Z"
   },
   {
    "duration": 29672,
    "start_time": "2021-07-19T08:35:04.879Z"
   },
   {
    "duration": 27,
    "start_time": "2021-07-19T08:35:34.553Z"
   },
   {
    "duration": 32,
    "start_time": "2021-07-19T08:35:38.927Z"
   },
   {
    "duration": 16,
    "start_time": "2021-07-19T08:35:40.193Z"
   },
   {
    "duration": 8,
    "start_time": "2021-07-19T08:35:43.169Z"
   },
   {
    "duration": 300,
    "start_time": "2021-07-19T08:37:40.998Z"
   },
   {
    "duration": 15,
    "start_time": "2021-07-19T08:37:47.023Z"
   },
   {
    "duration": 12,
    "start_time": "2021-07-19T08:37:48.054Z"
   },
   {
    "duration": 32,
    "start_time": "2021-07-19T08:37:48.867Z"
   },
   {
    "duration": 89,
    "start_time": "2021-07-19T08:37:55.536Z"
   },
   {
    "duration": 8,
    "start_time": "2021-07-19T08:38:06.447Z"
   },
   {
    "duration": 11,
    "start_time": "2021-07-19T08:38:10.298Z"
   },
   {
    "duration": 1575,
    "start_time": "2021-07-19T08:38:22.959Z"
   },
   {
    "duration": 3,
    "start_time": "2021-07-19T08:38:24.536Z"
   },
   {
    "duration": 83,
    "start_time": "2021-07-19T08:38:24.542Z"
   },
   {
    "duration": 3,
    "start_time": "2021-07-19T08:38:24.675Z"
   },
   {
    "duration": 454,
    "start_time": "2021-07-19T08:38:25.186Z"
   },
   {
    "duration": 898,
    "start_time": "2021-07-19T08:38:29.653Z"
   },
   {
    "duration": 1341,
    "start_time": "2021-07-19T08:38:56.918Z"
   },
   {
    "duration": 706,
    "start_time": "2021-07-19T08:39:01.922Z"
   },
   {
    "duration": 14,
    "start_time": "2021-07-19T08:39:02.640Z"
   },
   {
    "duration": 2443,
    "start_time": "2021-07-19T08:39:13.714Z"
   },
   {
    "duration": 4,
    "start_time": "2021-07-19T08:39:24.870Z"
   },
   {
    "duration": 6,
    "start_time": "2021-07-19T08:39:26.007Z"
   },
   {
    "duration": 62,
    "start_time": "2021-07-19T08:39:27.267Z"
   },
   {
    "duration": 19,
    "start_time": "2021-07-19T08:39:31.279Z"
   },
   {
    "duration": 8,
    "start_time": "2021-07-19T08:39:32.056Z"
   },
   {
    "duration": 28504,
    "start_time": "2021-07-19T08:39:33.410Z"
   },
   {
    "duration": 8905,
    "start_time": "2021-10-02T16:30:15.565Z"
   },
   {
    "duration": 86,
    "start_time": "2021-10-02T16:30:24.474Z"
   },
   {
    "duration": 407,
    "start_time": "2021-10-02T16:30:24.565Z"
   },
   {
    "duration": 5,
    "start_time": "2021-10-02T16:30:25.059Z"
   },
   {
    "duration": 4003,
    "start_time": "2021-10-02T16:30:25.068Z"
   },
   {
    "duration": 8200,
    "start_time": "2021-10-02T16:30:29.160Z"
   },
   {
    "duration": 4698,
    "start_time": "2021-10-02T16:30:37.363Z"
   },
   {
    "duration": 7,
    "start_time": "2021-10-02T16:30:42.064Z"
   },
   {
    "duration": 4685,
    "start_time": "2021-10-02T16:30:42.078Z"
   },
   {
    "duration": 92,
    "start_time": "2021-10-02T16:30:46.767Z"
   },
   {
    "duration": 98,
    "start_time": "2021-10-02T16:30:46.862Z"
   },
   {
    "duration": 500,
    "start_time": "2021-10-02T16:30:46.963Z"
   },
   {
    "duration": 197,
    "start_time": "2021-10-02T16:30:47.466Z"
   },
   {
    "duration": 93,
    "start_time": "2021-10-02T16:30:47.666Z"
   },
   {
    "duration": 211697,
    "start_time": "2021-10-02T16:30:47.762Z"
   },
   {
    "duration": 2863086,
    "start_time": "2021-10-02T16:34:19.462Z"
   },
   {
    "duration": 35262,
    "start_time": "2021-10-02T17:22:02.550Z"
   },
   {
    "duration": 56,
    "start_time": "2021-10-02T17:22:37.814Z"
   },
   {
    "duration": 111,
    "start_time": "2021-10-02T17:22:37.874Z"
   },
   {
    "duration": 19,
    "start_time": "2021-10-02T17:22:37.988Z"
   },
   {
    "duration": 51,
    "start_time": "2021-10-02T17:22:38.010Z"
   },
   {
    "duration": 99,
    "start_time": "2021-10-02T17:22:38.069Z"
   }
  ],
  "kernelspec": {
   "display_name": "Python 3",
   "language": "python",
   "name": "python3"
  },
  "language_info": {
   "codemirror_mode": {
    "name": "ipython",
    "version": 3
   },
   "file_extension": ".py",
   "mimetype": "text/x-python",
   "name": "python",
   "nbconvert_exporter": "python",
   "pygments_lexer": "ipython3",
   "version": "3.7.8"
  },
  "toc": {
   "base_numbering": 1,
   "nav_menu": {},
   "number_sections": true,
   "sideBar": true,
   "skip_h1_title": true,
   "title_cell": "Содержание",
   "title_sidebar": "Contents",
   "toc_cell": true,
   "toc_position": {},
   "toc_section_display": true,
   "toc_window_display": false
  }
 },
 "nbformat": 4,
 "nbformat_minor": 2
}
